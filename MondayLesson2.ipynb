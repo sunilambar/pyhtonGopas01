{
 "cells": [
  {
   "cell_type": "markdown",
   "metadata": {},
   "source": [
    "#Cities.txt\n",
    "#print in ascending order by contry code,  cities names in ascending by city code"
   ]
  },
  {
   "cell_type": "code",
   "execution_count": 12,
   "metadata": {},
   "outputs": [
    {
     "name": "stdout",
     "output_type": "stream",
     "text": [
      "<class '_io.TextIOWrapper'>\n"
     ]
    },
    {
     "ename": "TypeError",
     "evalue": "list.append() takes exactly one argument (2 given)",
     "output_type": "error",
     "traceback": [
      "\u001b[1;31m---------------------------------------------------------------------------\u001b[0m",
      "\u001b[1;31mTypeError\u001b[0m                                 Traceback (most recent call last)",
      "Cell \u001b[1;32mIn[12], line 7\u001b[0m\n\u001b[0;32m      5\u001b[0m \u001b[38;5;28;01mfor\u001b[39;00m city \u001b[38;5;129;01min\u001b[39;00m cities:\n\u001b[0;32m      6\u001b[0m     country, city,  pincode\u001b[38;5;241m=\u001b[39m city\u001b[38;5;241m.\u001b[39msplit(\u001b[38;5;124m'\u001b[39m\u001b[38;5;124m,\u001b[39m\u001b[38;5;124m'\u001b[39m)\n\u001b[1;32m----> 7\u001b[0m     \u001b[43mcountries\u001b[49m\u001b[38;5;241;43m.\u001b[39;49m\u001b[43msetdefault\u001b[49m\u001b[43m(\u001b[49m\u001b[43mcountry\u001b[49m\u001b[43m,\u001b[49m\u001b[43m[\u001b[49m\u001b[43m]\u001b[49m\u001b[43m)\u001b[49m\u001b[38;5;241;43m.\u001b[39;49m\u001b[43mappend\u001b[49m\u001b[43m(\u001b[49m\u001b[43mcity\u001b[49m\u001b[43m,\u001b[49m\u001b[43mpincode\u001b[49m\u001b[43m)\u001b[49m\n",
      "\u001b[1;31mTypeError\u001b[0m: list.append() takes exactly one argument (2 given)"
     ]
    }
   ],
   "source": [
    "\n",
    "cities= open(\"cities.txt\", \"r\")\n",
    "# print(cities.read())\n",
    "countries=dict()\n",
    "print(type(cities))\n",
    "for city in cities:\n",
    "    country, city,  pincode= city.split(',')\n",
    "    countries.setdefault(country,[]).append(city,pincode)\n",
    "\n",
    "\n",
    "\n",
    "\n",
    " "
   ]
  },
  {
   "cell_type": "code",
   "execution_count": 52,
   "metadata": {},
   "outputs": [
    {
     "name": "stdout",
     "output_type": "stream",
     "text": [
      "{'CZ': [('Brno', 395000), ('Praha', 1100000), ('Ceske Budejovice', 160000), ('Ostrava', 280000), ('Hradec Kralove', 97000)], 'SK': [('Kosice', 190000), ('Bratislava', 400000), ('Zilina', 71000)], 'AT': [('Linz', 80000), ('Graz', 90000)], 'DE': [('Berlin', 6500000)]}\n",
      "AT :  Linz,Graz\n",
      "CZ :  Hradec Kralove,Ceske Budejovice,Ostrava,Brno,Praha\n",
      "DE :  Berlin\n",
      "SK :  Zilina,Kosice,Bratislava\n"
     ]
    }
   ],
   "source": [
    "def first_element(x):\n",
    "    return x[0]\n",
    "try:\n",
    "  file=open(r'cities.txt') #open file with data in READ TEXT mode\n",
    "except Exception as ex:\n",
    "  print('some error occured',ex, type(ex)) \n",
    "else: #no exception\n",
    "  cities=dict()\n",
    "  for line in file:\n",
    "    code,city,population=line.strip().split(',')\n",
    "    if code not in cities:\n",
    "        cities[code]=[]\n",
    "    cities[code].append((city,int(population)))\n",
    "  print(cities)\n",
    "  for country in sorted(cities): #iterate over sorted list of keys = country codes\n",
    "    #print(country,': ',','.join(map(lambda x:x[0],sorted(cities[country],key=lambda x:x[1]))),sep='')\n",
    "    print(country,': ',','.join([x[0] for x in sorted(cities[country],key=lambda x:x[1])]) )# list comprehension\n",
    "\n",
    "\n"
   ]
  },
  {
   "cell_type": "code",
   "execution_count": 87,
   "metadata": {},
   "outputs": [
    {
     "name": "stdout",
     "output_type": "stream",
     "text": [
      "{'CZ': {'JM': [('Brno', 395000), ('Breclav', 25000), ('Hodonin', 20000)], 'PHA': [('Praha', 1100000)], 'JC': [('Ceske Budejovice', 160000)], 'SM': [('Ostrava', 280000), ('Opava', 45000), ('Trinec', 67000)], 'KH': [('Hradec Kralove', 97000), ('Jaromer', 31000), ('Nachod', 22000)]}, 'SK': {'VS': [('Kosice', 190000)], 'BRA': [('Bratislava', 400000)], 'SZ': [('Zilina', 71000)]}, 'AT': {'ZR': [('Linz', 80000)], 'DR': [('Graz', 90000)]}}\n",
      "AT : \n",
      "\tDR: Graz\n",
      "\tZR: Linz\n",
      "CZ : \n",
      "\tJC: Ceske Budejovice\n",
      "\tJM: Brno,Breclav,Hodonin\n",
      "\tKH: Hradec Kralove,Jaromer,Nachod\n",
      "\tPHA: Praha\n",
      "\tSM: Ostrava,Trinec,Opava\n",
      "SK : \n",
      "\tBRA: Bratislava\n",
      "\tSZ: Zilina\n",
      "\tVS: Kosice\n"
     ]
    }
   ],
   "source": [
    "def first_element(x):\n",
    "    return x[0]\n",
    "try:\n",
    "  file=open(r'cities2.txt') #open file with data in READ TEXT mode\n",
    "except Exception as ex:\n",
    "  print('some error occured',ex, type(ex)) \n",
    "else: #no exception\n",
    "  cities=dict()\n",
    "  for line in file:\n",
    "    code,region,city,population=line.strip().split(',')\n",
    "    if code not in cities:\n",
    "      cities[code]=dict()\n",
    "    if region not in cities[code]:\n",
    "      cities[code][region]=[]\n",
    "    cities[code][region].append((city, int(population))  )  \n",
    "  print(cities)\n",
    "\n",
    "\n",
    "for country in sorted(cities): #iterate over sorted list of keys = country codes\n",
    "    print(country,': ')\n",
    "    for region in sorted(cities[country]):\n",
    "       print(\"\\t\",region,': ',','.join(map(lambda x:x[0],reversed(sorted(cities[country][region],key=lambda x:x[1])))),sep='')\n",
    "\n"
   ]
  },
  {
   "cell_type": "code",
   "execution_count": null,
   "metadata": {},
   "outputs": [],
   "source": []
  }
 ],
 "metadata": {
  "kernelspec": {
   "display_name": "Python 3",
   "language": "python",
   "name": "python3"
  },
  "language_info": {
   "codemirror_mode": {
    "name": "ipython",
    "version": 3
   },
   "file_extension": ".py",
   "mimetype": "text/x-python",
   "name": "python",
   "nbconvert_exporter": "python",
   "pygments_lexer": "ipython3",
   "version": "3.12.2"
  }
 },
 "nbformat": 4,
 "nbformat_minor": 2
}
