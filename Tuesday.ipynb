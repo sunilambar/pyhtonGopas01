{
 "cells": [
  {
   "cell_type": "code",
   "execution_count": 1,
   "metadata": {},
   "outputs": [
    {
     "name": "stdout",
     "output_type": "stream",
     "text": [
      "a is greater than 100\n"
     ]
    }
   ],
   "source": [
    "#conditional execution\n",
    "#one statement without KEYword is assignment statement!\n",
    "#simple one\n",
    "a=123\n",
    "if a > 100:\n",
    "    print('a is greater than 100')"
   ]
  },
  {
   "cell_type": "code",
   "execution_count": 2,
   "metadata": {},
   "outputs": [],
   "source": [
    "if a > 1000:\n",
    "    print('a is greater than 100')"
   ]
  },
  {
   "cell_type": "code",
   "execution_count": 3,
   "metadata": {},
   "outputs": [
    {
     "name": "stdout",
     "output_type": "stream",
     "text": [
      "else was executed\n"
     ]
    }
   ],
   "source": [
    "if a > 1000:\n",
    "    print('a is greater than 100')\n",
    "else:\n",
    "    print('else was executed')    "
   ]
  },
  {
   "cell_type": "code",
   "execution_count": 4,
   "metadata": {},
   "outputs": [
    {
     "name": "stdout",
     "output_type": "stream",
     "text": [
      "You are the teenager\n"
     ]
    }
   ],
   "source": [
    "age=16\n",
    "if age < 20:\n",
    "    print('You are the teenager')\n",
    "elif age < 30:\n",
    "    print('You are in twentees')\n",
    "elif age < 40:\n",
    "    print('You are in foutees')\n",
    "elif age < 50:\n",
    "    print('You are in fiftees')\n",
    "else :\n",
    "    print('Young forever')      "
   ]
  },
  {
   "cell_type": "code",
   "execution_count": 12,
   "metadata": {},
   "outputs": [
    {
     "name": "stdout",
     "output_type": "stream",
     "text": [
      "True\n",
      "True\n",
      "False\n",
      "False\n",
      "False\n"
     ]
    }
   ],
   "source": [
    "print(bool(123))\n",
    "print(bool({1:2}))\n",
    "print(bool(0.00))\n",
    "print(bool([]))\n",
    "print(bool({}))"
   ]
  },
  {
   "cell_type": "code",
   "execution_count": 14,
   "metadata": {},
   "outputs": [],
   "source": [
    "numbers=[12,55,77,78,9,8]\n",
    "if 55 in numbers:\n",
    "    numbers.remove(55)\n",
    "else:\n",
    "    print(\"55 not found\")    "
   ]
  },
  {
   "cell_type": "code",
   "execution_count": 15,
   "metadata": {},
   "outputs": [
    {
     "name": "stdout",
     "output_type": "stream",
     "text": [
      "56 not found\n"
     ]
    }
   ],
   "source": [
    "numbers=[12,55,77,78,9,8]\n",
    "if 56 in numbers:\n",
    "    numbers.remove(55)\n",
    "else:\n",
    "    print(\"56 not found\")    "
   ]
  },
  {
   "cell_type": "code",
   "execution_count": 20,
   "metadata": {},
   "outputs": [
    {
     "name": "stdout",
     "output_type": "stream",
     "text": [
      "²\n",
      "True False True\n"
     ]
    }
   ],
   "source": [
    "x='\\N{superscript two}'\n",
    "print(x)\n",
    "print(x.isdigit(), x.isdecimal(), x.isnumeric())"
   ]
  },
  {
   "cell_type": "code",
   "execution_count": 22,
   "metadata": {},
   "outputs": [
    {
     "name": "stdout",
     "output_type": "stream",
     "text": [
      "You entered non integer\n"
     ]
    }
   ],
   "source": [
    "i=input(\"enter radius(Positive integer):\")\n",
    "if i.isdecimal():\n",
    "    print(int(i))\n",
    "else:\n",
    "    print(\"You entered non integer\")    "
   ]
  },
  {
   "cell_type": "code",
   "execution_count": 25,
   "metadata": {},
   "outputs": [
    {
     "name": "stdout",
     "output_type": "stream",
     "text": [
      "hello\n",
      "hello\n",
      "None\n"
     ]
    }
   ],
   "source": [
    "#fi statement performs short-circuite evaluation\n",
    "print('hello')\n",
    "print(print('hello'))"
   ]
  },
  {
   "cell_type": "code",
   "execution_count": 26,
   "metadata": {},
   "outputs": [
    {
     "name": "stdout",
     "output_type": "stream",
     "text": [
      "I can  see this messag\n"
     ]
    },
    {
     "data": {
      "text/plain": [
       "False"
      ]
     },
     "execution_count": 26,
     "metadata": {},
     "output_type": "execute_result"
    }
   ],
   "source": [
    "10 > 5 and print('I can  see this messag')\n",
    "10 > 50 and print('I can\\'t  see this messag')"
   ]
  },
  {
   "cell_type": "code",
   "execution_count": 27,
   "metadata": {},
   "outputs": [
    {
     "name": "stdout",
     "output_type": "stream",
     "text": [
      "123\n",
      "You will see the message\n"
     ]
    }
   ],
   "source": [
    "if 10 > 5 and print(123):\n",
    "    print('This will be not printed')\n",
    "else:\n",
    "    print(\"You will see the message\")    "
   ]
  },
  {
   "cell_type": "code",
   "execution_count": 29,
   "metadata": {},
   "outputs": [],
   "source": [
    "i=input('enter int:')\n",
    "if i.isdigit() and int(i)>100:\n",
    "    print('i is greater than 100')"
   ]
  },
  {
   "cell_type": "code",
   "execution_count": 30,
   "metadata": {},
   "outputs": [
    {
     "name": "stdout",
     "output_type": "stream",
     "text": [
      "1\n",
      "2\n",
      "3\n",
      "4\n",
      "5\n"
     ]
    }
   ],
   "source": [
    "counter=1\n",
    "while counter<=5:\n",
    "    print(counter)\n",
    "    counter+=1"
   ]
  },
  {
   "cell_type": "code",
   "execution_count": 31,
   "metadata": {},
   "outputs": [
    {
     "name": "stdout",
     "output_type": "stream",
     "text": [
      "66\n",
      "77\n",
      "87\n",
      "54\n"
     ]
    }
   ],
   "source": [
    "numbers=[66,77,87,54]\n",
    "index=0\n",
    "while index<len(numbers):\n",
    "    print(numbers[index])\n",
    "    index+=1"
   ]
  },
  {
   "cell_type": "code",
   "execution_count": 32,
   "metadata": {},
   "outputs": [
    {
     "name": "stdout",
     "output_type": "stream",
     "text": [
      "66\n",
      "77\n",
      "87\n",
      "54\n",
      "76\n"
     ]
    }
   ],
   "source": [
    "#for loops\n",
    "numbers=[66,77,87,54,76]\n",
    "for number in numbers:\n",
    "    print(number)"
   ]
  },
  {
   "cell_type": "code",
   "execution_count": 34,
   "metadata": {},
   "outputs": [
    {
     "name": "stdout",
     "output_type": "stream",
     "text": [
      "0\n",
      "1\n",
      "2\n",
      "3\n"
     ]
    }
   ],
   "source": [
    "for i in range(4):\n",
    "    print(i)"
   ]
  },
  {
   "cell_type": "code",
   "execution_count": 35,
   "metadata": {},
   "outputs": [
    {
     "name": "stdout",
     "output_type": "stream",
     "text": [
      "10\n",
      "15\n",
      "20\n",
      "25\n",
      "30\n",
      "35\n"
     ]
    }
   ],
   "source": [
    "for i in range(10,40,5):\n",
    "    print(i)"
   ]
  },
  {
   "cell_type": "code",
   "execution_count": 36,
   "metadata": {},
   "outputs": [
    {
     "name": "stdout",
     "output_type": "stream",
     "text": [
      "bila\n",
      "cerna\n"
     ]
    }
   ],
   "source": [
    "colors={'bila':'white','cerna':'black'}\n",
    "for color in colors:\n",
    "    print(color)"
   ]
  },
  {
   "cell_type": "code",
   "execution_count": 37,
   "metadata": {},
   "outputs": [
    {
     "ename": "AttributeError",
     "evalue": "'str' object has no attribute 'value'",
     "output_type": "error",
     "traceback": [
      "\u001b[1;31m---------------------------------------------------------------------------\u001b[0m",
      "\u001b[1;31mAttributeError\u001b[0m                            Traceback (most recent call last)",
      "Cell \u001b[1;32mIn[37], line 3\u001b[0m\n\u001b[0;32m      1\u001b[0m colors\u001b[38;5;241m=\u001b[39m{\u001b[38;5;124m'\u001b[39m\u001b[38;5;124mbila\u001b[39m\u001b[38;5;124m'\u001b[39m:\u001b[38;5;124m'\u001b[39m\u001b[38;5;124mwhite\u001b[39m\u001b[38;5;124m'\u001b[39m,\u001b[38;5;124m'\u001b[39m\u001b[38;5;124mcerna\u001b[39m\u001b[38;5;124m'\u001b[39m:\u001b[38;5;124m'\u001b[39m\u001b[38;5;124mblack\u001b[39m\u001b[38;5;124m'\u001b[39m}\n\u001b[0;32m      2\u001b[0m \u001b[38;5;28;01mfor\u001b[39;00m color \u001b[38;5;129;01min\u001b[39;00m colors:\n\u001b[1;32m----> 3\u001b[0m     \u001b[38;5;28mprint\u001b[39m(\u001b[43mcolor\u001b[49m\u001b[38;5;241;43m.\u001b[39;49m\u001b[43mvalue\u001b[49m)\n",
      "\u001b[1;31mAttributeError\u001b[0m: 'str' object has no attribute 'value'"
     ]
    }
   ],
   "source": [
    "colors={'bila':'white','cerna':'black'}\n",
    "for color in colors:\n",
    "    print(color)"
   ]
  },
  {
   "cell_type": "code",
   "execution_count": 41,
   "metadata": {},
   "outputs": [
    {
     "name": "stdout",
     "output_type": "stream",
     "text": [
      "bila white\n",
      "cerna black\n"
     ]
    }
   ],
   "source": [
    "colors={'bila':'white','cerna':'black'}\n",
    "for color in colors:\n",
    "    print(color, colors[color])"
   ]
  },
  {
   "cell_type": "code",
   "execution_count": 50,
   "metadata": {},
   "outputs": [
    {
     "name": "stdout",
     "output_type": "stream",
     "text": [
      "123\n",
      "99\n",
      "16 17 [18, 19, 20]\n"
     ]
    },
    {
     "ename": "SyntaxError",
     "evalue": "multiple starred expressions in assignment (3633558038.py, line 7)",
     "output_type": "error",
     "traceback": [
      "\u001b[1;36m  Cell \u001b[1;32mIn[50], line 7\u001b[1;36m\u001b[0m\n\u001b[1;33m    a,*b,*c=[16,17,18,19,20]\u001b[0m\n\u001b[1;37m    ^\u001b[0m\n\u001b[1;31mSyntaxError\u001b[0m\u001b[1;31m:\u001b[0m multiple starred expressions in assignment\n"
     ]
    }
   ],
   "source": [
    "a=123\n",
    "print(a)\n",
    "x=y=z=99\n",
    "print(y)\n",
    "a,b,*c=[16,17,18,19,20]\n",
    "print(a,b,c)\n",
    "a,*b,*c=[16,17,18,19,20]# error with multiple *"
   ]
  },
  {
   "cell_type": "code",
   "execution_count": 43,
   "metadata": {},
   "outputs": [
    {
     "name": "stdout",
     "output_type": "stream",
     "text": [
      "bila white\n",
      "cerna black\n"
     ]
    }
   ],
   "source": [
    "colors={'bila':'white','cerna':'black'}\n",
    "for czech,english in colors.items():\n",
    "    print(czech, english)"
   ]
  },
  {
   "cell_type": "code",
   "execution_count": 51,
   "metadata": {},
   "outputs": [
    {
     "name": "stdout",
     "output_type": "stream",
     "text": [
      "1\n",
      "3\n",
      "5\n",
      "7\n",
      "9\n",
      "11\n"
     ]
    }
   ],
   "source": [
    "#ex: print(odd numbers from 1 to 13)\n",
    "for i in range(1,13):\n",
    "    if i % 2 == 1:\n",
    "      print(i)\n",
    " "
   ]
  },
  {
   "cell_type": "code",
   "execution_count": 54,
   "metadata": {},
   "outputs": [
    {
     "name": "stdout",
     "output_type": "stream",
     "text": [
      "1\n",
      "3\n",
      "5\n",
      "7\n",
      "9\n",
      "11\n",
      "13\n"
     ]
    }
   ],
   "source": [
    "for number in list(range(1,13+1,2)):\n",
    "    print(number)"
   ]
  },
  {
   "cell_type": "code",
   "execution_count": 55,
   "metadata": {},
   "outputs": [],
   "source": [
    "#prime numbers from 2 to 100\n",
    "primenumbers= [2, 3, 5, 7, 11, 13, 17, 19, 23, 29, 31, 37, 41, 43, 47, 53, 59, 61, 67, 71, 73, 79, 83, 89, 97]"
   ]
  },
  {
   "cell_type": "code",
   "execution_count": 71,
   "metadata": {},
   "outputs": [
    {
     "name": "stdout",
     "output_type": "stream",
     "text": [
      "2,3,5,7,11,13,17,19,23,29,31,37,41,43,47,53,59,61,67,71,73,79,83,89,97,"
     ]
    }
   ],
   "source": [
    "primenumbers= [2, 3, 5, 7, 11, 13, 17, 19, 23, 29, 31, 37, 41, 43, 47, 53, 59, 61, 67, 71, 73, 79, 83, 89, 97]\n",
    "for number in list(range(2,101)):\n",
    "    for prime in primenumbers:\n",
    "      if prime == number:\n",
    "        print(number, sep=',',end=',')"
   ]
  },
  {
   "cell_type": "code",
   "execution_count": 85,
   "metadata": {},
   "outputs": [
    {
     "name": "stdout",
     "output_type": "stream",
     "text": [
      "2 3 5 7 11 13 17 19 23 29 31 37 41 43 47 53 59 61 67 71 73 79 83 89 97 "
     ]
    }
   ],
   "source": [
    "for i in list(range(2,101)):\n",
    "    is_prime=True\n",
    "    for y in range(2,i):\n",
    "        if not i%y: #i%y==0\n",
    "          is_prime = False\n",
    "          #break\n",
    "    if is_prime:\n",
    "           print(i, end=' ')  "
   ]
  },
  {
   "cell_type": "code",
   "execution_count": 86,
   "metadata": {},
   "outputs": [
    {
     "name": "stdout",
     "output_type": "stream",
     "text": [
      "list of prime is: [2, 3, 5, 7, 11, 13, 17, 19, 23, 29, 31, 37, 41, 43, 47, 53, 59, 61, 67, 71, 73, 79, 83, 89, 97]\n"
     ]
    }
   ],
   "source": [
    "primes=[]\n",
    "for i in list(range(2,101)):\n",
    "    is_prime=True\n",
    "    for y in range(2,i):\n",
    "        if not i%y: #i%y==0\n",
    "          is_prime = False\n",
    "          #break\n",
    "    if is_prime:\n",
    "           primes.append(i) \n",
    "print('list of prime is:',primes)           "
   ]
  },
  {
   "cell_type": "code",
   "execution_count": 89,
   "metadata": {},
   "outputs": [
    {
     "name": "stdout",
     "output_type": "stream",
     "text": [
      "list of prime is: [2, 3, 5, 7, 11, 13, 17, 19, 23, 29, 31, 37, 41, 43, 47, 53, 59, 61, 67, 71, 73, 79, 83, 89, 97]\n"
     ]
    }
   ],
   "source": [
    "primes=[]\n",
    "for i in list(range(2,101)):\n",
    "    is_prime=True\n",
    "    for y in range(2,i):\n",
    "        if not i%y: #i%y==0\n",
    "          is_prime = False\n",
    "          break\n",
    "   \n",
    "    else: primes.append(i) \n",
    "print('list of prime is:',primes)           "
   ]
  },
  {
   "cell_type": "code",
   "execution_count": 122,
   "metadata": {},
   "outputs": [
    {
     "name": "stdout",
     "output_type": "stream",
     "text": [
      "processing Jan\n",
      "processing Adam\n",
      "processing Tomas\n",
      "processing Fantise\n",
      "processing Vladimir\n",
      "processing Eva\n",
      "processing Dan\n",
      "('Adam', 'Dan', 'Eva', 'Jan', 'Tomas')"
     ]
    }
   ],
   "source": [
    "names=['Jan', 'Adam', 'Tomas','Fantise','Vladimir','Eva','Dan']\n",
    "# print names in ascending order only for names with max 5 characters\n",
    "# sort method of list\n",
    "# sorted function\n",
    "short_names=[]\n",
    "for name in names:\n",
    "    print(f'processing {name}')\n",
    "    if len(name) <=5:\n",
    "      short_names.append(name)\n",
    "\n",
    "#hort_names.remove('Jan')\n",
    "short_names=sorted(short_names)\n",
    "print(tuple(short_names),end='')\n"
   ]
  },
  {
   "cell_type": "code",
   "execution_count": 205,
   "metadata": {},
   "outputs": [
    {
     "name": "stdout",
     "output_type": "stream",
     "text": [
      "CZ,Brno\n",
      "CZ,Praha\n",
      "SK,Kosice\n",
      "AT,Linz\n",
      "DE,Berlin\n",
      "CZ,Hradec Kralove\n",
      "SK,Bratislava\n",
      "SK,Zilina\n",
      "CZ,Ostrava\n",
      "CZ,Kolin\n",
      "AT,Graz\n",
      "Brno\n",
      "Praha\n",
      "Kosice\n",
      "Linz\n",
      "Berlin\n",
      "Hradec Kralove\n",
      "Bratislava\n",
      "Zilina\n",
      "Ostrava\n",
      "Kolin\n",
      "Graz\n"
     ]
    }
   ],
   "source": [
    "lines=['CZ,Brno', 'CZ,Praha','SK,Kosice','AT,Linz','DE,Berlin','CZ,Hradec Kralove','SK,Bratislava','SK,Zilina','CZ,Ostrava','CZ,Kolin','AT,Graz']\n",
    "#ex: print in ascending order of country codes, names of corresponding country cities in order from list\"line\"\n",
    "#seperated in output by; (comma followed by space), no leading hash sign\n",
    "#Linz, Graz\n",
    "#CZ: Brno, \n",
    "cities=dict()\n",
    "for i in lines:\n",
    "    print(i)\n",
    "    #cities.update({(i.split(',')[-1].strip(\"'\")):c})\n",
    "    cities[i.split(',')[-1].strip(\"'\")]=i.split(',')[0].strip(\"'\")\n",
    "\n",
    "for i in cities:\n",
    "    print(i)\n"
   ]
  },
  {
   "cell_type": "code",
   "execution_count": 193,
   "metadata": {},
   "outputs": [
    {
     "name": "stdout",
     "output_type": "stream",
     "text": [
      "{'CZ': 'Brno, Praha, Hradec Kralove, Ostrava, Kolin', 'SK': 'Kosice, Bratislava, Zilina', 'AT': 'Linz, Graz', 'DE': 'Berlin'}\n",
      "AT: Linz, Graz\n",
      "CZ: Brno, Praha, Hradec Kralove, Ostrava, Kolin\n",
      "DE: Berlin\n",
      "SK: Kosice, Bratislava, Zilina\n"
     ]
    }
   ],
   "source": [
    "lines=['CZ,Brno', 'CZ,Praha','SK,Kosice','AT,Linz','DE,Berlin','CZ,Hradec Kralove','SK,Bratislava','SK,Zilina','CZ,Ostrava','CZ,Kolin','AT,Graz']\n",
    "countries=dict()\n",
    "for line in lines:\n",
    " code,city=line.split(',')\n",
    " if code not in countries:\n",
    "  countries[code]=city\n",
    " else:\n",
    "  countries[code]+=f\", {city}\"\n",
    "\n",
    "print(countries)\n",
    "\n",
    "\n",
    "for country in sorted(countries):\n",
    " print(country,': ',countries[country],sep='')"
   ]
  },
  {
   "cell_type": "code",
   "execution_count": 200,
   "metadata": {},
   "outputs": [
    {
     "name": "stdout",
     "output_type": "stream",
     "text": [
      "{'CZ': ['Brno', 'Praha', 'Hradec Kralove', 'Ostrava', 'Kolin'], 'SK': ['Kosice', 'Bratislava', 'Zilina'], 'AT': ['Linz', 'Graz'], 'DE': ['Berlin']}\n",
      "AT: ['Linz', 'Graz']\n",
      "CZ: ['Brno', 'Praha', 'Hradec Kralove', 'Ostrava', 'Kolin']\n",
      "DE: ['Berlin']\n",
      "SK: ['Kosice', 'Bratislava', 'Zilina']\n",
      "########################sorrted###################\n",
      "AT: Graz,Linz\n",
      "CZ: Brno,Hradec Kralove,Kolin,Ostrava,Praha\n",
      "DE: Berlin\n",
      "SK: Bratislava,Kosice,Zilina\n"
     ]
    }
   ],
   "source": [
    "lines=['CZ,Brno', 'CZ,Praha','SK,Kosice','AT,Linz','DE,Berlin','CZ,Hradec Kralove','SK,Bratislava','SK,Zilina','CZ,Ostrava','CZ,Kolin','AT,Graz']\n",
    "countries=dict()\n",
    "for line in lines:\n",
    " code,city=line.split(',')\n",
    " if code not in countries:\n",
    "  countries[code]=[]\n",
    " countries[code].append(city)\n",
    "\n",
    "print(countries)\n",
    "\n",
    "\n",
    "for country in sorted(countries):\n",
    " print(country,': ',countries[country],sep='')\n",
    "print(\"########################sorrted###################\")\n",
    "for country in sorted(countries):\n",
    " print(country,': ',','.join(sorted(countries[country])),sep='')"
   ]
  },
  {
   "cell_type": "code",
   "execution_count": 204,
   "metadata": {},
   "outputs": [
    {
     "name": "stdout",
     "output_type": "stream",
     "text": [
      "{'CZ': ['Brno', 'Praha', 'Hradec Kralove', 'Ostrava', 'Kolin'], 'SK': ['Kosice', 'Bratislava', 'Zilina'], 'AT': ['Linz', 'Graz'], 'DE': ['Berlin']}\n",
      "AT: Graz,Linz\n",
      "CZ: Brno,Hradec Kralove,Kolin,Ostrava,Praha\n",
      "DE: Berlin\n",
      "SK: Bratislava,Kosice,Zilina\n"
     ]
    }
   ],
   "source": [
    "lines=['CZ,Brno', 'CZ,Praha','SK,Kosice','AT,Linz','DE,Berlin','CZ,Hradec Kralove','SK,Bratislava','SK,Zilina','CZ,Ostrava','CZ,Kolin','AT,Graz']\n",
    "countries=dict()\n",
    "for line in lines:\n",
    " code,city=line.split(',')\n",
    " countries.setdefault(code,[]).append(city)\n",
    "\n",
    "print(countries)\n",
    "\n",
    "\n",
    "for country in sorted(countries):\n",
    " print(country,': ',','.join(sorted(countries[country])),sep='')"
   ]
  },
  {
   "cell_type": "code",
   "execution_count": 207,
   "metadata": {},
   "outputs": [
    {
     "name": "stdout",
     "output_type": "stream",
     "text": [
      "Jan-+SEPARATOR+-Adam-+SEPARATOR+-Eva\n"
     ]
    }
   ],
   "source": [
    "names=['Jan','Adam','Eva']\n",
    "print('-+SEPARATOR+-'.join(names))"
   ]
  },
  {
   "cell_type": "code",
   "execution_count": 208,
   "metadata": {},
   "outputs": [
    {
     "data": {
      "text/plain": [
       "123"
      ]
     },
     "execution_count": 208,
     "metadata": {},
     "output_type": "execute_result"
    }
   ],
   "source": [
    "#functions\n",
    "abs(-123)"
   ]
  },
  {
   "cell_type": "code",
   "execution_count": 209,
   "metadata": {},
   "outputs": [
    {
     "name": "stdout",
     "output_type": "stream",
     "text": [
      "\n"
     ]
    }
   ],
   "source": [
    "#procidure is the function doesn't return the value\n",
    "abs(-123)\n",
    "print()"
   ]
  },
  {
   "cell_type": "code",
   "execution_count": 212,
   "metadata": {},
   "outputs": [
    {
     "name": "stdout",
     "output_type": "stream",
     "text": [
      "hello my function\n",
      "hello my function\n",
      "Returned nothng to x: None\n"
     ]
    }
   ],
   "source": [
    "def greeting():\n",
    "    \"\"\"prints greetings\n",
    "    this is my first function/procedure without paramters\"\"\"\n",
    "    print(\"hello my function\")\n",
    "\n",
    "greeting()\n",
    "x=greeting()\n",
    "print(f\"Returned nothng to x: {x}\")"
   ]
  },
  {
   "cell_type": "code",
   "execution_count": 222,
   "metadata": {},
   "outputs": [
    {
     "name": "stdout",
     "output_type": "stream",
     "text": [
      "Here is the contect of A and B parameter:sunil Aniket\n"
     ]
    }
   ],
   "source": [
    "def greeting(a,b):\n",
    "    \"\"\"prints greetings\n",
    "    this is my first function/procedure without paramters\"\"\"\n",
    "    print(f\"Here is the contect of A and B parameter:{a} {b}\")\n",
    "\n",
    "greeting(\"sunil\", \"Aniket\")    "
   ]
  },
  {
   "cell_type": "code",
   "execution_count": 225,
   "metadata": {},
   "outputs": [
    {
     "name": "stdout",
     "output_type": "stream",
     "text": [
      "Here is the contect of A and B parameter:sunil Aniket\n"
     ]
    }
   ],
   "source": [
    "#default paramter value in function\n",
    "def greeting(a,b='Aniket'):\n",
    "    \"\"\"prints greetings\n",
    "    this is my first function/procedure without paramters\"\"\"\n",
    "    print(f\"Here is the contect of A and B parameter:{a} {b}\")\n",
    "\n",
    "greeting(\"sunil\")  "
   ]
  },
  {
   "cell_type": "code",
   "execution_count": 226,
   "metadata": {},
   "outputs": [
    {
     "name": "stdout",
     "output_type": "stream",
     "text": [
      "Here is the contect of A and B parameter:sunil Aniket[18, 19, 20]\n"
     ]
    }
   ],
   "source": [
    "#default paramter value in function\n",
    "def greeting(a,b='Aniket'):\n",
    "    \"\"\"prints greetings\n",
    "    this is my first function/procedure without paramters\"\"\"\n",
    "    print(f\"Here is the contect of A and B parameter:{a} {b}{c}\")\n",
    "\n",
    "greeting(\"sunil\")  "
   ]
  },
  {
   "cell_type": "code",
   "execution_count": 233,
   "metadata": {},
   "outputs": [
    {
     "name": "stdout",
     "output_type": "stream",
     "text": [
      "Here is the contect of A and B parameter:(1, 3, 4)\n",
      "<class 'tuple'>\n",
      "4\n"
     ]
    }
   ],
   "source": [
    "#multiple /maximum value in the arguments\n",
    "def greeting(*numbers):\n",
    "    \"\"\"prints greetings\n",
    "    this is my first function/procedure without paramters\"\"\"\n",
    "    print(f\"Here is the contect of A and B parameter:{numbers}\")\n",
    "    print(type(numbers))\n",
    "    print(numbers[2])\n",
    "\n",
    "greeting(1,3,4)  \n"
   ]
  },
  {
   "cell_type": "code",
   "execution_count": 234,
   "metadata": {},
   "outputs": [
    {
     "name": "stdout",
     "output_type": "stream",
     "text": [
      "Here is the contect of A and B parameter:(1, 3, 4)\n",
      "<class 'tuple'>\n",
      "<class 'dict'>\n",
      "4\n"
     ]
    }
   ],
   "source": [
    "#*tuple and **dictionary in the arguments\n",
    "def greeting(*numbers, **dicnumber):\n",
    "    \"\"\"prints greetings\n",
    "    this is my first function/procedure without paramters\"\"\"\n",
    "    print(f\"Here is the contect of A and B parameter:{numbers}\")\n",
    "    print(type(numbers))\n",
    "    print(type(dicnumber))\n",
    "    print(numbers[2])\n",
    "\n",
    "greeting(1,3,4, test=1)  "
   ]
  },
  {
   "cell_type": "code",
   "execution_count": 237,
   "metadata": {},
   "outputs": [
    {
     "name": "stdout",
     "output_type": "stream",
     "text": [
      "Here is the contect of A and B parameter:(1, 2, 3, 5, 67, 45, 66)\n",
      "<class 'tuple'>\n",
      "3\n",
      "None\n"
     ]
    }
   ],
   "source": [
    "#Python unpack list and passes item of that list ad individual paramters\n",
    "def greeting(*numbers):\n",
    "    \"\"\"prints greetings\n",
    "    this is my first function/procedure without paramters\"\"\"\n",
    "    print(f\"Here is the contect of A and B parameter:{numbers}\")\n",
    "    print(type(numbers))\n",
    "    print(numbers[2])\n",
    "\n",
    "numbers=[1,2,3,5,67,45,66]\n",
    "print(greeting(*numbers)) "
   ]
  },
  {
   "cell_type": "code",
   "execution_count": 239,
   "metadata": {},
   "outputs": [
    {
     "name": "stdout",
     "output_type": "stream",
     "text": [
      "{'CZ': ['Brno', 'Praha', 'Hradec Kralove', 'Ostrava', 'Kolin'], 'SK': ['Kosice', 'Bratislava', 'Zilina'], 'AT': ['Linz', 'Graz'], 'DE': ['Berlin']}\n",
      "AT: Graz, Linz\n",
      "CZ: Brno, Hradec Kralove, Kolin, Ostrava, Praha\n",
      "DE: Berlin\n",
      "SK: Bratislava, Kosice, Zilina\n"
     ]
    }
   ],
   "source": [
    "lines=['CZ,Brno', 'CZ,Praha','SK,Kosice','AT,Linz','DE,Berlin','CZ,Hradec Kralove','SK,Bratislava','SK,Zilina','CZ,Ostrava','CZ,Kolin','AT,Graz']\n",
    "countries=dict()\n",
    "for line in lines:\n",
    " code,city=line.split(',')\n",
    " countries.setdefault(code,[]).append(city)\n",
    "\n",
    "print(countries)\n",
    "\n",
    "\n",
    "for country in sorted(countries):\n",
    " print(country,': ', end='',sep='')\n",
    " print(*sorted(countries[country]),sep=', ')"
   ]
  },
  {
   "cell_type": "code",
   "execution_count": 5,
   "metadata": {},
   "outputs": [
    {
     "name": "stdout",
     "output_type": "stream",
     "text": [
      "AT: Linz,Graz\n",
      "CZ: Hradec Kralove,Brno,Praha,Kolin,Ostrava\n",
      "DE: Berlin\n",
      "SK: Bratislava,Zilina,Kosice\n"
     ]
    }
   ],
   "source": [
    "#Append multiple value as Tuple :Population on City\n",
    "lines=['CZ,Brno,10000', 'CZ,Praha,20000','SK,Kosice,70000','AT,Linz,30000','DE,Berlin,1000000','CZ,Hradec Kralove,7000','SK,Bratislava,8000','SK,Zilina,9000','CZ,Ostrava,600000','CZ,Kolin,89999','AT,Graz,30000']\n",
    "countries=dict()\n",
    "for line in lines:\n",
    " code,city,population=line.split(',')\n",
    " countries.setdefault(code,[]).append((city,int(population)))\n",
    "\n",
    "#print(countries)\n",
    "\"\"\"Look at this used while calling sorted\"\"\"\n",
    "def second_element(x):\n",
    "  return x[1] #second index from the object\n",
    "\n",
    "#print(second_element(countries[country]))\n",
    "\n",
    "def byAccending(**countries):\n",
    " for country in sorted(countries):\n",
    "    cities=[]\n",
    "    for city,pop in sorted(countries[country],key=second_element): # second index assinged to pop variable\n",
    "      cities.append(city)\n",
    "    print(country,\": \",','.join(cities),sep='')\n",
    "  \n",
    "\n",
    "byAccending(**countries)\n",
    " \n",
    "\n"
   ]
  },
  {
   "cell_type": "code",
   "execution_count": 36,
   "metadata": {},
   "outputs": [
    {
     "name": "stdout",
     "output_type": "stream",
     "text": [
      "356\n",
      "Second way result\n",
      "[10, 11, 12, 77, 81, 87, 78]\n",
      "None\n",
      "(10, 11, 12, 77, 81, 87, 78) []\n"
     ]
    }
   ],
   "source": [
    "#map and fiter\n",
    "#functional programming\n",
    "#help(map)\n",
    "L1=[10,11,12,77,'81',87,'78']\n",
    "#print(sum(L1)) #TypeError: unsupported operand type(s) for +: 'int' and 'str'\n",
    "L2=[]\n",
    "for item in L1:\n",
    "    L2.append(int(item))\n",
    "print(sum(L2))    \n",
    "\n",
    "#Another way\n",
    "print(\"Second way result\")\n",
    "L3=map(int,L1)\n",
    "#you can list the same only in same iteration\n",
    "L4=print(list(map(int,L1)))\n",
    "#you can't list twice , That is called generator \n",
    "print(L4)\n",
    "#You can also create tupple\n",
    "L4=print(tuple(map(int,L1)),list())\n",
    "\n",
    "\n"
   ]
  },
  {
   "cell_type": "code",
   "execution_count": 45,
   "metadata": {},
   "outputs": [
    {
     "ename": "TypeError",
     "evalue": "'function' object is not iterable",
     "output_type": "error",
     "traceback": [
      "\u001b[1;31m---------------------------------------------------------------------------\u001b[0m",
      "\u001b[1;31mTypeError\u001b[0m                                 Traceback (most recent call last)",
      "Cell \u001b[1;32mIn[45], line 25\u001b[0m\n\u001b[0;32m     21\u001b[0m     cities\u001b[38;5;241m.\u001b[39mappend(city)\n\u001b[0;32m     22\u001b[0m     \u001b[38;5;28mprint\u001b[39m(country,\u001b[38;5;124m\"\u001b[39m\u001b[38;5;124m: \u001b[39m\u001b[38;5;124m\"\u001b[39m,\u001b[38;5;124m'\u001b[39m\u001b[38;5;124m,\u001b[39m\u001b[38;5;124m'\u001b[39m\u001b[38;5;241m.\u001b[39mjoin(cities),sep\u001b[38;5;241m=\u001b[39m\u001b[38;5;124m'\u001b[39m\u001b[38;5;124m'\u001b[39m)\n\u001b[1;32m---> 25\u001b[0m \u001b[43mbyAccending\u001b[49m\u001b[43m(\u001b[49m\u001b[38;5;241;43m*\u001b[39;49m\u001b[38;5;241;43m*\u001b[39;49m\u001b[43mcountries\u001b[49m\u001b[43m)\u001b[49m\n",
      "Cell \u001b[1;32mIn[45], line 19\u001b[0m, in \u001b[0;36mbyAccending\u001b[1;34m(**countries)\u001b[0m\n\u001b[0;32m     17\u001b[0m \u001b[38;5;28;01mfor\u001b[39;00m country \u001b[38;5;129;01min\u001b[39;00m \u001b[38;5;28msorted\u001b[39m(countries):\n\u001b[0;32m     18\u001b[0m    cities\u001b[38;5;241m=\u001b[39m[]\n\u001b[1;32m---> 19\u001b[0m    \u001b[38;5;28;43mmap\u001b[39;49m\u001b[43m(\u001b[49m\u001b[43mcity\u001b[49m\u001b[43m,\u001b[49m\u001b[43m \u001b[49m\u001b[43mcountries\u001b[49m\u001b[43m[\u001b[49m\u001b[43mcountry\u001b[49m\u001b[43m]\u001b[49m\u001b[43m,\u001b[49m\u001b[43msecond_element\u001b[49m\u001b[43m,\u001b[49m\u001b[43m \u001b[49m\u001b[43mcountries\u001b[49m\u001b[43m[\u001b[49m\u001b[43mcountry\u001b[49m\u001b[43m]\u001b[49m\u001b[43m)\u001b[49m \u001b[38;5;66;03m# second index assinged to pop variable\u001b[39;00m\n\u001b[0;32m     20\u001b[0m    \u001b[38;5;28mprint\u001b[39m(city)\n\u001b[0;32m     21\u001b[0m    cities\u001b[38;5;241m.\u001b[39mappend(city)\n",
      "\u001b[1;31mTypeError\u001b[0m: 'function' object is not iterable"
     ]
    }
   ],
   "source": [
    "#Use map in the solution\n",
    "#Append multiple value as Tuple :Population on City\n",
    "lines=['CZ,Brno,10000', 'CZ,Praha,20000','SK,Kosice,70000','AT,Linz,30000','DE,Berlin,1000000','CZ,Hradec Kralove,7000','SK,Bratislava,8000','SK,Zilina,9000','CZ,Ostrava,600000','CZ,Kolin,89999','AT,Graz,30000']\n",
    "countries=dict()\n",
    "for line in lines:\n",
    " code,city,population=line.split(',')\n",
    " countries.setdefault(code,[]).append((city,int(population)))\n",
    "\n",
    "#print(countries)\n",
    "\"\"\"Look at this used while calling sorted\"\"\"\n",
    "def second_element(x):\n",
    "  return x[1] #second index from the object\n",
    "def first_element(x):\n",
    "  return x[0]\n",
    "\n",
    "#print(second_element(countries[country]))\n",
    "\n",
    "def byAccending(**countries):\n",
    " \n",
    "  \n",
    "\n",
    "byAccending(**countries)"
   ]
  },
  {
   "cell_type": "code",
   "execution_count": 53,
   "metadata": {},
   "outputs": [
    {
     "name": "stdout",
     "output_type": "stream",
     "text": [
      "range(0, 5)\n",
      "[0, 1, 2, 3, 4]\n",
      "0 1 2 3 4\n",
      "<map object at 0x000001E35B984430>\n"
     ]
    }
   ],
   "source": [
    "print(range(5))\n",
    "print(list(range(5)))\n",
    "print(*list(range(5)))\n",
    "def x(p):\n",
    "    print(p)\n",
    "map(x, range(5))\n",
    "print(map(x, range(5)))"
   ]
  },
  {
   "cell_type": "code",
   "execution_count": 54,
   "metadata": {},
   "outputs": [
    {
     "name": "stdout",
     "output_type": "stream",
     "text": [
      "[2, 4, 6]\n"
     ]
    }
   ],
   "source": [
    "def add(a, b):\n",
    "    return (a+b)\n",
    "first=[1,2,3]\n",
    "second=[1,2,3,4]\n",
    "print(list(map(add, first, second)))"
   ]
  },
  {
   "cell_type": "code",
   "execution_count": 56,
   "metadata": {},
   "outputs": [
    {
     "name": "stdout",
     "output_type": "stream",
     "text": [
      "<filter object at 0x000001E35B989E10>\n",
      "[4, 67, 56, 9]\n"
     ]
    }
   ],
   "source": [
    "numbers=[4,67,-3,56,-2,9]\n",
    "#I want only positive integers from numbers\n",
    "def g0(x):\n",
    "    return x>0\n",
    "print(filter(g0,numbers))\n",
    "print(list(filter(g0,numbers))) #filter\n"
   ]
  },
  {
   "cell_type": "code",
   "execution_count": 62,
   "metadata": {},
   "outputs": [
    {
     "name": "stdout",
     "output_type": "stream",
     "text": [
      "AT :  Linz,Graz\n",
      "CZ :  Kolin,Ostrava\n",
      "DE :  Berlin\n",
      "SK :  Kosice\n"
     ]
    }
   ],
   "source": [
    "#filter cities less than 30000\n",
    "lines=['CZ,Brno,10000', 'CZ,Praha,20000','SK,Kosice,70000','AT,Linz,30000','DE,Berlin,1000000','CZ,Hradec Kralove,7000','SK,Bratislava,8000','SK,Zilina,9000','CZ,Ostrava,600000','CZ,Kolin,89999','AT,Graz,30000']\n",
    "countries=dict()\n",
    "for line in lines:\n",
    " code,city,population=line.split(',')\n",
    " countries.setdefault(code,[]).append((city,int(population)))\n",
    "\n",
    "def first_element(x):\n",
    "  return x[0]\n",
    "def second_element(x):\n",
    "  return x[1] #second index from the object\n",
    "def greater_than_30000(x):\n",
    "  return x[1] >=30000\n",
    "for country in sorted(countries):\n",
    "  print(country,': ',','.join(map(first_element,sorted(filter(greater_than_30000,countries[country]),key=second_element)))) #Alway fileter before the sort like the example"
   ]
  },
  {
   "cell_type": "code",
   "execution_count": null,
   "metadata": {},
   "outputs": [],
   "source": []
  }
 ],
 "metadata": {
  "kernelspec": {
   "display_name": "Python 3",
   "language": "python",
   "name": "python3"
  },
  "language_info": {
   "codemirror_mode": {
    "name": "ipython",
    "version": 3
   },
   "file_extension": ".py",
   "mimetype": "text/x-python",
   "name": "python",
   "nbconvert_exporter": "python",
   "pygments_lexer": "ipython3",
   "version": "3.12.2"
  }
 },
 "nbformat": 4,
 "nbformat_minor": 2
}
