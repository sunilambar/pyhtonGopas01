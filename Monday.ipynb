{
 "cells": [
  {
   "cell_type": "code",
   "execution_count": 2,
   "id": "2002e8fd-5eee-4cef-8420-22ab8a978104",
   "metadata": {},
   "outputs": [
    {
     "name": "stdout",
     "output_type": "stream",
     "text": [
      "Hello world\n"
     ]
    }
   ],
   "source": [
    "#monday\n",
    "#introduction to Python\n",
    "print(\"Hello world\")\n"
   ]
  },
  {
   "cell_type": "code",
   "execution_count": 2,
   "id": "5db56788-5f4b-4b7d-bda8-525fd7eff104",
   "metadata": {},
   "outputs": [
    {
     "data": {
      "text/plain": [
       "['s', 'u', 'n', 'i', 'l']"
      ]
     },
     "execution_count": 2,
     "metadata": {},
     "output_type": "execute_result"
    }
   ],
   "source": [
    "list(\"sunil\")\n"
   ]
  },
  {
   "cell_type": "code",
   "execution_count": 2,
   "id": "dd4fe7ec-9adf-45fa-91eb-81ba4a2d1ed9",
   "metadata": {},
   "outputs": [
    {
     "name": "stdout",
     "output_type": "stream",
     "text": [
      "123 2024\n"
     ]
    }
   ],
   "source": [
    "#builtin types\n",
    "#numeric types\n",
    "#assignment statement,  assign value to variable\n",
    "salary = 123\n",
    "year=2024\n",
    "print(salary,year)"
   ]
  },
  {
   "cell_type": "code",
   "execution_count": 3,
   "id": "f3d169cf-d059-41a5-ab79-fa342616c648",
   "metadata": {},
   "outputs": [
    {
     "name": "stdout",
     "output_type": "stream",
     "text": [
      "123.2024\n"
     ]
    }
   ],
   "source": [
    "print(salary,year,sep='.')"
   ]
  },
  {
   "cell_type": "code",
   "execution_count": 5,
   "id": "df4defa9-25b8-43a0-9723-84bda98acc22",
   "metadata": {},
   "outputs": [
    {
     "ename": "NameError",
     "evalue": "name 'Salary' is not defined",
     "output_type": "error",
     "traceback": [
      "\u001b[1;31m---------------------------------------------------------------------------\u001b[0m",
      "\u001b[1;31mNameError\u001b[0m                                 Traceback (most recent call last)",
      "Cell \u001b[1;32mIn[5], line 1\u001b[0m\n\u001b[1;32m----> 1\u001b[0m \u001b[38;5;28mprint\u001b[39m(Salary)\n",
      "\u001b[1;31mNameError\u001b[0m: name 'Salary' is not defined"
     ]
    }
   ],
   "source": [
    "print(Salary) #NameError: name 'Salary' is not defined"
   ]
  },
  {
   "cell_type": "code",
   "execution_count": 11,
   "id": "6abfe21e-b4b1-4394-be64-f265269d5219",
   "metadata": {},
   "outputs": [
    {
     "name": "stdout",
     "output_type": "stream",
     "text": [
      "12345 <class 'int'>\n",
      "10000000\n",
      "99250068772098856700831462057469632637295940819886900519816298881382867104749399077921128661426144638055424236936271872492800352741649902118143819672601569998100120790496759517636465445895625741609866209900500198407153244604778968016963028050310261417615914468729918240685487878617645976939063464357986165711730976399478507649228686341466967167910126653342134942744851463899927487092486610977146112763567101672645953132196481439339873017088140414661271198500333255713096142335151414630651683065518784081203678487703002802082091236603519026256880624499681781387227574035484831271515683123742149095569260463609655977700938844580611931246495166208695540313698140011638027322566252689780838136351828795314272162111222231170901715612355701347552371530013693855379834865667060014643302459100429783653966913783002290784283455628283355470529932956051484477129333881159930212758687602795088579230431661696010232187390436601614145603241902386663442520160735566561\n"
     ]
    }
   ],
   "source": [
    "salary=12345\n",
    "print(salary, type(salary))\n",
    "salary=100_000_00 #starting 3.6 we can use underscore in numeric literal between digita\n",
    "print(salary)\n",
    "#imtegers can be large (unlimite on scale)\n",
    "x=123**456\n",
    "print(x)"
   ]
  },
  {
   "cell_type": "code",
   "execution_count": 15,
   "id": "a20a3eed-9d3d-431d-b265-5bf34bc75046",
   "metadata": {},
   "outputs": [
    {
     "name": "stdout",
     "output_type": "stream",
     "text": [
      "14\n",
      "15\n",
      "16\n"
     ]
    }
   ],
   "source": [
    "count=14\n",
    "print(count)\n",
    "count=count+1\n",
    "print(count)\n",
    "count+=1\n",
    "print(count)\n",
    "#count++ will not work in integer"
   ]
  },
  {
   "cell_type": "code",
   "execution_count": 16,
   "id": "285ddca0-4132-4a87-8892-6022e0af865f",
   "metadata": {},
   "outputs": [
    {
     "name": "stdout",
     "output_type": "stream",
     "text": [
      "(12+5j) <class 'complex'>\n"
     ]
    }
   ],
   "source": [
    "gopas=12+5j\n",
    "print(gopas, type(gopas))"
   ]
  },
  {
   "cell_type": "code",
   "execution_count": 17,
   "id": "b532fc7d-8089-4ab0-801c-06d3c168a05c",
   "metadata": {},
   "outputs": [
    {
     "name": "stdout",
     "output_type": "stream",
     "text": [
      "3.3333333333333335 3.33\n"
     ]
    }
   ],
   "source": [
    "#builts math functions abs, round\n",
    "gopas=10/3\n",
    "print(gopas,round(gopas,2))"
   ]
  },
  {
   "cell_type": "code",
   "execution_count": 20,
   "id": "a739b7ab-b30a-432f-8277-ba5666c06ee2",
   "metadata": {},
   "outputs": [
    {
     "name": "stdout",
     "output_type": "stream",
     "text": [
      "1.2246467991473532e-16\n",
      "3.0\n"
     ]
    }
   ],
   "source": [
    "import math\n",
    "print(math.sin(math.pi))\n",
    "print(math.sqrt(9))\n"
   ]
  },
  {
   "cell_type": "code",
   "execution_count": 24,
   "id": "a8906ebd-6977-4cab-814c-254df6fef1ba",
   "metadata": {},
   "outputs": [
    {
     "name": "stdout",
     "output_type": "stream",
     "text": [
      "True 1 46\n",
      "False 0 45\n"
     ]
    }
   ],
   "source": [
    "#boolean\n",
    "truth=True #literal for true\n",
    "print(truth, truth+0, truth+45)\n",
    "no=False #literal for false\n",
    "print(no, no+0, no+45)"
   ]
  },
  {
   "cell_type": "code",
   "execution_count": 30,
   "id": "5fe17bf3-5653-4158-bc05-6e0fc8fcf59d",
   "metadata": {},
   "outputs": [
    {
     "name": "stdout",
     "output_type": "stream",
     "text": [
      "8\n",
      "13\n",
      "5\n",
      "-13\n"
     ]
    }
   ],
   "source": [
    "print(12&9) #1100 & 1011 result 1000\n",
    "print(12|9)\n",
    "print(12^9)\n",
    "print(~12)\n"
   ]
  },
  {
   "cell_type": "code",
   "execution_count": 33,
   "id": "48840c63-8b2c-4825-9182-9e00db1433da",
   "metadata": {},
   "outputs": [
    {
     "name": "stdout",
     "output_type": "stream",
     "text": [
      "False\n",
      "True\n"
     ]
    }
   ],
   "source": [
    "a = 1\n",
    "b = 2\n",
    "print(a == b)\n",
    "print(a < b)"
   ]
  },
  {
   "cell_type": "code",
   "execution_count": 39,
   "id": "0465b2e2-1eb9-458b-bfe7-fcacb99577a5",
   "metadata": {},
   "outputs": [
    {
     "name": "stdout",
     "output_type": "stream",
     "text": [
      "47529.1553\n"
     ]
    }
   ],
   "source": [
    "#compute and print for some radius AREA and CIRCUMFERENCE for that radius\n",
    "radius=123\n",
    "import math\n",
    "print(round(math.pi*radius**2,4)) #area"
   ]
  },
  {
   "cell_type": "code",
   "execution_count": 48,
   "id": "266d67c1-c263-4f2f-a151-7c666aafcd11",
   "metadata": {},
   "outputs": [
    {
     "name": "stdout",
     "output_type": "stream",
     "text": [
      "Hello\n",
      "Hello  from\n",
      "Gopas <class 'str'> 17\n"
     ]
    }
   ],
   "source": [
    "#retezce\n",
    "greeting='Hello'\n",
    "print(greeting)\n",
    "#multi line string\n",
    "var=\"\"\"Hello  from\n",
    "Gopas\"\"\"\n",
    "print(var, type(var), len(var))\n"
   ]
  },
  {
   "cell_type": "code",
   "execution_count": 50,
   "id": "9196fe6a-fe10-4b62-8be0-c4dbbc24d8c5",
   "metadata": {},
   "outputs": [
    {
     "name": "stdout",
     "output_type": "stream",
     "text": [
      "brno\tPraha\n",
      "monday\n",
      "brno\\tPraha\\nmonday\n",
      "GopasBrno BrnoBrnoBrnoBrno\n"
     ]
    }
   ],
   "source": [
    "#raw string\n",
    "print('brno\\tPraha\\nmonday')\n",
    "print(r'brno\\tPraha\\nmonday')\n",
    "print('Gopas'+'Brno', 4*'Brno')"
   ]
  },
  {
   "cell_type": "code",
   "execution_count": 55,
   "id": "fa2ae957-8d8c-40ff-9e9a-081cfb167413",
   "metadata": {},
   "outputs": [
    {
     "name": "stdout",
     "output_type": "stream",
     "text": [
      "žýčďá\n",
      "lion 🦁 🍺 🐘\n"
     ]
    }
   ],
   "source": [
    "#All strings are unicode strings\n",
    "message='žýčďá'\n",
    "print(message)\n",
    "print('lion \\N{lion face} \\N{beer mug} \\N{elephant}') \n",
    "import unicodedta\n",
    "print(unicodedata.normalize(x)"
   ]
  },
  {
   "cell_type": "code",
   "execution_count": 56,
   "id": "bb9f1335-5cbe-4fd0-9c7a-09e2ea1d4c99",
   "metadata": {},
   "outputs": [
    {
     "name": "stdout",
     "output_type": "stream",
     "text": [
      "Prompt string:enter your name: Sunil\n"
     ]
    },
    {
     "name": "stdout",
     "output_type": "stream",
     "text": [
      "Your name in upppercase is SUNIL\n"
     ]
    }
   ],
   "source": [
    "#input prompt\n",
    "text=input('Prompt string:enter your name:')\n",
    "print('Your name in upppercase is', text.upper()) #method string datatype, called get uppercase string"
   ]
  },
  {
   "cell_type": "code",
   "execution_count": 57,
   "id": "dc522cf2-172f-4419-8459-a80977947ef7",
   "metadata": {},
   "outputs": [
    {
     "name": "stdout",
     "output_type": "stream",
     "text": [
      "246\n"
     ]
    }
   ],
   "source": [
    "#covert to int from str\n",
    "a='123'\n",
    "b=123\n",
    "print(int(a)+b)\n"
   ]
  },
  {
   "cell_type": "code",
   "execution_count": 59,
   "id": "8dc0e3f3-0abc-457f-922e-b51013664de7",
   "metadata": {},
   "outputs": [
    {
     "name": "stdout",
     "output_type": "stream",
     "text": [
      "Put the input for the radius: 123\n"
     ]
    },
    {
     "name": "stdout",
     "output_type": "stream",
     "text": [
      "47529.1553\n"
     ]
    }
   ],
   "source": [
    "#compute and print for some radius AREA and CIRCUMFERENCE for that radius\n",
    "radius=input(\"Put the input for the radius:\")\n",
    "import math\n",
    "print(round(math.pi*int(radius)**2,4)) #area"
   ]
  },
  {
   "cell_type": "code",
   "execution_count": 60,
   "id": "dccef878-d72e-4329-879c-748ac8a094b7",
   "metadata": {},
   "outputs": [
    {
     "name": "stdout",
     "output_type": "stream",
     "text": [
      "Help on class str in module builtins:\n",
      "\n",
      "class str(object)\n",
      " |  str(object='') -> str\n",
      " |  str(bytes_or_buffer[, encoding[, errors]]) -> str\n",
      " |  \n",
      " |  Create a new string object from the given object. If encoding or\n",
      " |  errors is specified, then the object must expose a data buffer\n",
      " |  that will be decoded using the given encoding and error handler.\n",
      " |  Otherwise, returns the result of object.__str__() (if defined)\n",
      " |  or repr(object).\n",
      " |  encoding defaults to sys.getdefaultencoding().\n",
      " |  errors defaults to 'strict'.\n",
      " |  \n",
      " |  Methods defined here:\n",
      " |  \n",
      " |  __add__(self, value, /)\n",
      " |      Return self+value.\n",
      " |  \n",
      " |  __contains__(self, key, /)\n",
      " |      Return key in self.\n",
      " |  \n",
      " |  __eq__(self, value, /)\n",
      " |      Return self==value.\n",
      " |  \n",
      " |  __format__(self, format_spec, /)\n",
      " |      Return a formatted version of the string as described by format_spec.\n",
      " |  \n",
      " |  __ge__(self, value, /)\n",
      " |      Return self>=value.\n",
      " |  \n",
      " |  __getattribute__(self, name, /)\n",
      " |      Return getattr(self, name).\n",
      " |  \n",
      " |  __getitem__(self, key, /)\n",
      " |      Return self[key].\n",
      " |  \n",
      " |  __getnewargs__(...)\n",
      " |  \n",
      " |  __gt__(self, value, /)\n",
      " |      Return self>value.\n",
      " |  \n",
      " |  __hash__(self, /)\n",
      " |      Return hash(self).\n",
      " |  \n",
      " |  __iter__(self, /)\n",
      " |      Implement iter(self).\n",
      " |  \n",
      " |  __le__(self, value, /)\n",
      " |      Return self<=value.\n",
      " |  \n",
      " |  __len__(self, /)\n",
      " |      Return len(self).\n",
      " |  \n",
      " |  __lt__(self, value, /)\n",
      " |      Return self<value.\n",
      " |  \n",
      " |  __mod__(self, value, /)\n",
      " |      Return self%value.\n",
      " |  \n",
      " |  __mul__(self, value, /)\n",
      " |      Return self*value.\n",
      " |  \n",
      " |  __ne__(self, value, /)\n",
      " |      Return self!=value.\n",
      " |  \n",
      " |  __repr__(self, /)\n",
      " |      Return repr(self).\n",
      " |  \n",
      " |  __rmod__(self, value, /)\n",
      " |      Return value%self.\n",
      " |  \n",
      " |  __rmul__(self, value, /)\n",
      " |      Return value*self.\n",
      " |  \n",
      " |  __sizeof__(self, /)\n",
      " |      Return the size of the string in memory, in bytes.\n",
      " |  \n",
      " |  __str__(self, /)\n",
      " |      Return str(self).\n",
      " |  \n",
      " |  capitalize(self, /)\n",
      " |      Return a capitalized version of the string.\n",
      " |      \n",
      " |      More specifically, make the first character have upper case and the rest lower\n",
      " |      case.\n",
      " |  \n",
      " |  casefold(self, /)\n",
      " |      Return a version of the string suitable for caseless comparisons.\n",
      " |  \n",
      " |  center(self, width, fillchar=' ', /)\n",
      " |      Return a centered string of length width.\n",
      " |      \n",
      " |      Padding is done using the specified fill character (default is a space).\n",
      " |  \n",
      " |  count(...)\n",
      " |      S.count(sub[, start[, end]]) -> int\n",
      " |      \n",
      " |      Return the number of non-overlapping occurrences of substring sub in\n",
      " |      string S[start:end].  Optional arguments start and end are\n",
      " |      interpreted as in slice notation.\n",
      " |  \n",
      " |  encode(self, /, encoding='utf-8', errors='strict')\n",
      " |      Encode the string using the codec registered for encoding.\n",
      " |      \n",
      " |      encoding\n",
      " |        The encoding in which to encode the string.\n",
      " |      errors\n",
      " |        The error handling scheme to use for encoding errors.\n",
      " |        The default is 'strict' meaning that encoding errors raise a\n",
      " |        UnicodeEncodeError.  Other possible values are 'ignore', 'replace' and\n",
      " |        'xmlcharrefreplace' as well as any other name registered with\n",
      " |        codecs.register_error that can handle UnicodeEncodeErrors.\n",
      " |  \n",
      " |  endswith(...)\n",
      " |      S.endswith(suffix[, start[, end]]) -> bool\n",
      " |      \n",
      " |      Return True if S ends with the specified suffix, False otherwise.\n",
      " |      With optional start, test S beginning at that position.\n",
      " |      With optional end, stop comparing S at that position.\n",
      " |      suffix can also be a tuple of strings to try.\n",
      " |  \n",
      " |  expandtabs(self, /, tabsize=8)\n",
      " |      Return a copy where all tab characters are expanded using spaces.\n",
      " |      \n",
      " |      If tabsize is not given, a tab size of 8 characters is assumed.\n",
      " |  \n",
      " |  find(...)\n",
      " |      S.find(sub[, start[, end]]) -> int\n",
      " |      \n",
      " |      Return the lowest index in S where substring sub is found,\n",
      " |      such that sub is contained within S[start:end].  Optional\n",
      " |      arguments start and end are interpreted as in slice notation.\n",
      " |      \n",
      " |      Return -1 on failure.\n",
      " |  \n",
      " |  format(...)\n",
      " |      S.format(*args, **kwargs) -> str\n",
      " |      \n",
      " |      Return a formatted version of S, using substitutions from args and kwargs.\n",
      " |      The substitutions are identified by braces ('{' and '}').\n",
      " |  \n",
      " |  format_map(...)\n",
      " |      S.format_map(mapping) -> str\n",
      " |      \n",
      " |      Return a formatted version of S, using substitutions from mapping.\n",
      " |      The substitutions are identified by braces ('{' and '}').\n",
      " |  \n",
      " |  index(...)\n",
      " |      S.index(sub[, start[, end]]) -> int\n",
      " |      \n",
      " |      Return the lowest index in S where substring sub is found,\n",
      " |      such that sub is contained within S[start:end].  Optional\n",
      " |      arguments start and end are interpreted as in slice notation.\n",
      " |      \n",
      " |      Raises ValueError when the substring is not found.\n",
      " |  \n",
      " |  isalnum(self, /)\n",
      " |      Return True if the string is an alpha-numeric string, False otherwise.\n",
      " |      \n",
      " |      A string is alpha-numeric if all characters in the string are alpha-numeric and\n",
      " |      there is at least one character in the string.\n",
      " |  \n",
      " |  isalpha(self, /)\n",
      " |      Return True if the string is an alphabetic string, False otherwise.\n",
      " |      \n",
      " |      A string is alphabetic if all characters in the string are alphabetic and there\n",
      " |      is at least one character in the string.\n",
      " |  \n",
      " |  isascii(self, /)\n",
      " |      Return True if all characters in the string are ASCII, False otherwise.\n",
      " |      \n",
      " |      ASCII characters have code points in the range U+0000-U+007F.\n",
      " |      Empty string is ASCII too.\n",
      " |  \n",
      " |  isdecimal(self, /)\n",
      " |      Return True if the string is a decimal string, False otherwise.\n",
      " |      \n",
      " |      A string is a decimal string if all characters in the string are decimal and\n",
      " |      there is at least one character in the string.\n",
      " |  \n",
      " |  isdigit(self, /)\n",
      " |      Return True if the string is a digit string, False otherwise.\n",
      " |      \n",
      " |      A string is a digit string if all characters in the string are digits and there\n",
      " |      is at least one character in the string.\n",
      " |  \n",
      " |  isidentifier(self, /)\n",
      " |      Return True if the string is a valid Python identifier, False otherwise.\n",
      " |      \n",
      " |      Call keyword.iskeyword(s) to test whether string s is a reserved identifier,\n",
      " |      such as \"def\" or \"class\".\n",
      " |  \n",
      " |  islower(self, /)\n",
      " |      Return True if the string is a lowercase string, False otherwise.\n",
      " |      \n",
      " |      A string is lowercase if all cased characters in the string are lowercase and\n",
      " |      there is at least one cased character in the string.\n",
      " |  \n",
      " |  isnumeric(self, /)\n",
      " |      Return True if the string is a numeric string, False otherwise.\n",
      " |      \n",
      " |      A string is numeric if all characters in the string are numeric and there is at\n",
      " |      least one character in the string.\n",
      " |  \n",
      " |  isprintable(self, /)\n",
      " |      Return True if the string is printable, False otherwise.\n",
      " |      \n",
      " |      A string is printable if all of its characters are considered printable in\n",
      " |      repr() or if it is empty.\n",
      " |  \n",
      " |  isspace(self, /)\n",
      " |      Return True if the string is a whitespace string, False otherwise.\n",
      " |      \n",
      " |      A string is whitespace if all characters in the string are whitespace and there\n",
      " |      is at least one character in the string.\n",
      " |  \n",
      " |  istitle(self, /)\n",
      " |      Return True if the string is a title-cased string, False otherwise.\n",
      " |      \n",
      " |      In a title-cased string, upper- and title-case characters may only\n",
      " |      follow uncased characters and lowercase characters only cased ones.\n",
      " |  \n",
      " |  isupper(self, /)\n",
      " |      Return True if the string is an uppercase string, False otherwise.\n",
      " |      \n",
      " |      A string is uppercase if all cased characters in the string are uppercase and\n",
      " |      there is at least one cased character in the string.\n",
      " |  \n",
      " |  join(self, iterable, /)\n",
      " |      Concatenate any number of strings.\n",
      " |      \n",
      " |      The string whose method is called is inserted in between each given string.\n",
      " |      The result is returned as a new string.\n",
      " |      \n",
      " |      Example: '.'.join(['ab', 'pq', 'rs']) -> 'ab.pq.rs'\n",
      " |  \n",
      " |  ljust(self, width, fillchar=' ', /)\n",
      " |      Return a left-justified string of length width.\n",
      " |      \n",
      " |      Padding is done using the specified fill character (default is a space).\n",
      " |  \n",
      " |  lower(self, /)\n",
      " |      Return a copy of the string converted to lowercase.\n",
      " |  \n",
      " |  lstrip(self, chars=None, /)\n",
      " |      Return a copy of the string with leading whitespace removed.\n",
      " |      \n",
      " |      If chars is given and not None, remove characters in chars instead.\n",
      " |  \n",
      " |  partition(self, sep, /)\n",
      " |      Partition the string into three parts using the given separator.\n",
      " |      \n",
      " |      This will search for the separator in the string.  If the separator is found,\n",
      " |      returns a 3-tuple containing the part before the separator, the separator\n",
      " |      itself, and the part after it.\n",
      " |      \n",
      " |      If the separator is not found, returns a 3-tuple containing the original string\n",
      " |      and two empty strings.\n",
      " |  \n",
      " |  removeprefix(self, prefix, /)\n",
      " |      Return a str with the given prefix string removed if present.\n",
      " |      \n",
      " |      If the string starts with the prefix string, return string[len(prefix):].\n",
      " |      Otherwise, return a copy of the original string.\n",
      " |  \n",
      " |  removesuffix(self, suffix, /)\n",
      " |      Return a str with the given suffix string removed if present.\n",
      " |      \n",
      " |      If the string ends with the suffix string and that suffix is not empty,\n",
      " |      return string[:-len(suffix)]. Otherwise, return a copy of the original\n",
      " |      string.\n",
      " |  \n",
      " |  replace(self, old, new, count=-1, /)\n",
      " |      Return a copy with all occurrences of substring old replaced by new.\n",
      " |      \n",
      " |        count\n",
      " |          Maximum number of occurrences to replace.\n",
      " |          -1 (the default value) means replace all occurrences.\n",
      " |      \n",
      " |      If the optional argument count is given, only the first count occurrences are\n",
      " |      replaced.\n",
      " |  \n",
      " |  rfind(...)\n",
      " |      S.rfind(sub[, start[, end]]) -> int\n",
      " |      \n",
      " |      Return the highest index in S where substring sub is found,\n",
      " |      such that sub is contained within S[start:end].  Optional\n",
      " |      arguments start and end are interpreted as in slice notation.\n",
      " |      \n",
      " |      Return -1 on failure.\n",
      " |  \n",
      " |  rindex(...)\n",
      " |      S.rindex(sub[, start[, end]]) -> int\n",
      " |      \n",
      " |      Return the highest index in S where substring sub is found,\n",
      " |      such that sub is contained within S[start:end].  Optional\n",
      " |      arguments start and end are interpreted as in slice notation.\n",
      " |      \n",
      " |      Raises ValueError when the substring is not found.\n",
      " |  \n",
      " |  rjust(self, width, fillchar=' ', /)\n",
      " |      Return a right-justified string of length width.\n",
      " |      \n",
      " |      Padding is done using the specified fill character (default is a space).\n",
      " |  \n",
      " |  rpartition(self, sep, /)\n",
      " |      Partition the string into three parts using the given separator.\n",
      " |      \n",
      " |      This will search for the separator in the string, starting at the end. If\n",
      " |      the separator is found, returns a 3-tuple containing the part before the\n",
      " |      separator, the separator itself, and the part after it.\n",
      " |      \n",
      " |      If the separator is not found, returns a 3-tuple containing two empty strings\n",
      " |      and the original string.\n",
      " |  \n",
      " |  rsplit(self, /, sep=None, maxsplit=-1)\n",
      " |      Return a list of the substrings in the string, using sep as the separator string.\n",
      " |      \n",
      " |        sep\n",
      " |          The separator used to split the string.\n",
      " |      \n",
      " |          When set to None (the default value), will split on any whitespace\n",
      " |          character (including \\n \\r \\t \\f and spaces) and will discard\n",
      " |          empty strings from the result.\n",
      " |        maxsplit\n",
      " |          Maximum number of splits (starting from the left).\n",
      " |          -1 (the default value) means no limit.\n",
      " |      \n",
      " |      Splitting starts at the end of the string and works to the front.\n",
      " |  \n",
      " |  rstrip(self, chars=None, /)\n",
      " |      Return a copy of the string with trailing whitespace removed.\n",
      " |      \n",
      " |      If chars is given and not None, remove characters in chars instead.\n",
      " |  \n",
      " |  split(self, /, sep=None, maxsplit=-1)\n",
      " |      Return a list of the substrings in the string, using sep as the separator string.\n",
      " |      \n",
      " |        sep\n",
      " |          The separator used to split the string.\n",
      " |      \n",
      " |          When set to None (the default value), will split on any whitespace\n",
      " |          character (including \\n \\r \\t \\f and spaces) and will discard\n",
      " |          empty strings from the result.\n",
      " |        maxsplit\n",
      " |          Maximum number of splits (starting from the left).\n",
      " |          -1 (the default value) means no limit.\n",
      " |      \n",
      " |      Note, str.split() is mainly useful for data that has been intentionally\n",
      " |      delimited.  With natural text that includes punctuation, consider using\n",
      " |      the regular expression module.\n",
      " |  \n",
      " |  splitlines(self, /, keepends=False)\n",
      " |      Return a list of the lines in the string, breaking at line boundaries.\n",
      " |      \n",
      " |      Line breaks are not included in the resulting list unless keepends is given and\n",
      " |      true.\n",
      " |  \n",
      " |  startswith(...)\n",
      " |      S.startswith(prefix[, start[, end]]) -> bool\n",
      " |      \n",
      " |      Return True if S starts with the specified prefix, False otherwise.\n",
      " |      With optional start, test S beginning at that position.\n",
      " |      With optional end, stop comparing S at that position.\n",
      " |      prefix can also be a tuple of strings to try.\n",
      " |  \n",
      " |  strip(self, chars=None, /)\n",
      " |      Return a copy of the string with leading and trailing whitespace removed.\n",
      " |      \n",
      " |      If chars is given and not None, remove characters in chars instead.\n",
      " |  \n",
      " |  swapcase(self, /)\n",
      " |      Convert uppercase characters to lowercase and lowercase characters to uppercase.\n",
      " |  \n",
      " |  title(self, /)\n",
      " |      Return a version of the string where each word is titlecased.\n",
      " |      \n",
      " |      More specifically, words start with uppercased characters and all remaining\n",
      " |      cased characters have lower case.\n",
      " |  \n",
      " |  translate(self, table, /)\n",
      " |      Replace each character in the string using the given translation table.\n",
      " |      \n",
      " |        table\n",
      " |          Translation table, which must be a mapping of Unicode ordinals to\n",
      " |          Unicode ordinals, strings, or None.\n",
      " |      \n",
      " |      The table must implement lookup/indexing via __getitem__, for instance a\n",
      " |      dictionary or list.  If this operation raises LookupError, the character is\n",
      " |      left untouched.  Characters mapped to None are deleted.\n",
      " |  \n",
      " |  upper(self, /)\n",
      " |      Return a copy of the string converted to uppercase.\n",
      " |  \n",
      " |  zfill(self, width, /)\n",
      " |      Pad a numeric string with zeros on the left, to fill a field of the given width.\n",
      " |      \n",
      " |      The string is never truncated.\n",
      " |  \n",
      " |  ----------------------------------------------------------------------\n",
      " |  Static methods defined here:\n",
      " |  \n",
      " |  __new__(*args, **kwargs) from builtins.type\n",
      " |      Create and return a new object.  See help(type) for accurate signature.\n",
      " |  \n",
      " |  maketrans(...)\n",
      " |      Return a translation table usable for str.translate().\n",
      " |      \n",
      " |      If there is only one argument, it must be a dictionary mapping Unicode\n",
      " |      ordinals (integers) or characters to Unicode ordinals, strings or None.\n",
      " |      Character keys will be then converted to ordinals.\n",
      " |      If there are two arguments, they must be strings of equal length, and\n",
      " |      in the resulting dictionary, each character in x will be mapped to the\n",
      " |      character at the same position in y. If there is a third argument, it\n",
      " |      must be a string, whose characters will be mapped to None in the result.\n",
      "\n"
     ]
    }
   ],
   "source": [
    "help(str)\n"
   ]
  },
  {
   "cell_type": "code",
   "execution_count": 62,
   "id": "554be649-ce4b-4244-94f4-59baa1a0f6e4",
   "metadata": {},
   "outputs": [
    {
     "name": "stdout",
     "output_type": "stream",
     "text": [
      "Brno brno BRNO\n",
      "Brno Brno    Brno\n"
     ]
    }
   ],
   "source": [
    "print('BRNo'.capitalize(), 'Brno'.lower(), 'brno'.upper())\n",
    "x='   Brno'\n",
    "print(x.strip(),x.lstrip(),x.rstrip())"
   ]
  },
  {
   "cell_type": "code",
   "execution_count": 66,
   "id": "2ff6728a-ee1b-46ee-8ae3-ea167402d087",
   "metadata": {},
   "outputs": [
    {
     "name": "stdout",
     "output_type": "stream",
     "text": [
      "tra\n",
      "avartso\n",
      "aato\n"
     ]
    }
   ],
   "source": [
    "city='ostrava'\n",
    "print(city[2:5])\n",
    "print(city[::-1])#last character\n",
    "print(city[::-2])#one before last character"
   ]
  },
  {
   "cell_type": "code",
   "execution_count": 80,
   "id": "a9472a78-e49b-45d1-b8f6-38857b200125",
   "metadata": {},
   "outputs": [
    {
     "name": "stdout",
     "output_type": "stream",
     "text": [
      "Variable has value 10\n",
      "Myname is Peter and I'm 30 year old.\n",
      "Myname is Peter and I'm 30 year old.\n",
      "Myname is Peter and I'm 30 year old.\n",
      "Myname is Peter           and I'm         30 year old.\n",
      "Myname is      Peter      and I'm         30 year old.\n"
     ]
    }
   ],
   "source": [
    "#string formationg \n",
    "#https://pyformat.info/\n",
    "#python 2 old style formating\n",
    "a=10\n",
    "print(\"Variable has value %d\" %a)\n",
    "name='Peter'\n",
    "age=30\n",
    "print('Myname is %s and I\\'m %d year old.' % (name,age))\n",
    "#new style\n",
    "print('Myname is {0} and I\\'m {1} year old.'.format(name,age))\n",
    "print('Myname is {} and I\\'m {} year old.'.format(name,age))\n",
    "print('Myname is {:<15} and I\\'m {:>10} year old.'.format(name,age))\n",
    "print('Myname is {0:^15} and I\\'m {1:>10} year old.'.format(name,age))"
   ]
  },
  {
   "cell_type": "code",
   "execution_count": 81,
   "id": "1391ea2d-795b-4927-9c8d-384021355d37",
   "metadata": {},
   "outputs": [
    {
     "name": "stdout",
     "output_type": "stream",
     "text": [
      "Myname is George and I'm 29 year old.\n",
      "Myname is George and I'm 29 year old.\n",
      "Myname is George          and I'm         29 year old.\n",
      "Myname is     George      and I'm         29 year old.\n"
     ]
    }
   ],
   "source": [
    "#starting 3.6\n",
    "#f-string\n",
    "age=29\n",
    "name='George'\n",
    "\n",
    "print(f'Myname is {name} and I\\'m {age} year old.'.format(name,age))\n",
    "print(f'Myname is {name} and I\\'m {age} year old.'.format(name,age))\n",
    "print(f'Myname is {name:<15} and I\\'m {age:>10} year old.'.format(name,age))\n",
    "print(f'Myname is {name:^15} and I\\'m {age:>10} year old.'.format(name,age))\n"
   ]
  },
  {
   "cell_type": "code",
   "execution_count": 90,
   "id": "ad414bed-8415-4c2a-bab9-bc13248c2649",
   "metadata": {},
   "outputs": [
    {
     "name": "stdout",
     "output_type": "stream",
     "text": [
      "['g', 'o', 'p', 'a', 's'] <class 'list'> 5\n",
      "[34, 6, 88, 12] 4\n",
      "[34, 6, 88, 12, 22] 5\n"
     ]
    }
   ],
   "source": [
    "letters=list('gopas')\n",
    "print(letters, type(letters), len(letters))\n",
    "#list are mutable\n",
    "numbers=[34,6,88,12]\n",
    "print(numbers, len(numbers))\n",
    "numbers.append(22)\n",
    "print(numbers, len(numbers))"
   ]
  },
  {
   "cell_type": "code",
   "execution_count": 92,
   "id": "b493fda5-be7e-4206-a3ec-57a4a63e9060",
   "metadata": {},
   "outputs": [
    {
     "name": "stdout",
     "output_type": "stream",
     "text": [
      "['Hello', 'world', 'from', 'Gopas'] <class 'list'> 4\n"
     ]
    }
   ],
   "source": [
    "text='Hello world from Gopas'\n",
    "x=text.split()\n",
    "print(x, type(x), len(x))"
   ]
  },
  {
   "cell_type": "code",
   "execution_count": 94,
   "id": "8a6ee8d4-0235-4118-a7a8-c2d3a2d4ed41",
   "metadata": {},
   "outputs": [
    {
     "name": "stdout",
     "output_type": "stream",
     "text": [
      "['Jan', ' Novak', ' 34', '56200']\n"
     ]
    }
   ],
   "source": [
    "data='Jan, Novak, 34,56200'\n",
    "print(data.split(','))"
   ]
  },
  {
   "cell_type": "code",
   "execution_count": 104,
   "id": "2252161f-5006-4869-8db4-b9f7f5864536",
   "metadata": {},
   "outputs": [
    {
     "name": "stdout",
     "output_type": "stream",
     "text": [
      "True\n",
      "False\n",
      "True\n",
      "False\n",
      "False\n",
      "True\n",
      "[-66, 6, 12, 34, 88]\n",
      "-66 88 74\n"
     ]
    }
   ],
   "source": [
    "print('o' in 'Gopas')\n",
    "print('I' in 'Gopas')\n",
    "x=[34, 6, 88, 12, -66]\n",
    "print(6 in x)\n",
    "print(66 in x)\n",
    "print(6 not in x)\n",
    "print(66 not in x)\n",
    "x.sort()\n",
    "print(x)\n",
    "print(min(x), max(x), sum(x))"
   ]
  },
  {
   "cell_type": "code",
   "execution_count": 120,
   "id": "71092677-fd11-41aa-97a7-d8ce93e7f8e4",
   "metadata": {},
   "outputs": [
    {
     "name": "stdout",
     "output_type": "stream",
     "text": [
      "[34, 6, 88, 12, -66]\n",
      "0\n"
     ]
    }
   ],
   "source": [
    "#index\n",
    "x=[34,6,88,12,-66]\n",
    "print(x)\n",
    "print((x.index(34)))"
   ]
  },
  {
   "cell_type": "code",
   "execution_count": 119,
   "id": "8e4f5eb6-cb11-49cf-80ee-ddadb8329903",
   "metadata": {},
   "outputs": [
    {
     "name": "stdout",
     "output_type": "stream",
     "text": [
      "() <class 'tuple'> 0\n",
      "('Peter', 'Gabriel', 74, 8000000) <class 'tuple'> 4\n",
      "Gabriel\n",
      "('Gabriel', 74, 8000000)\n",
      "1\n",
      "0\n",
      "2\n"
     ]
    }
   ],
   "source": [
    "#tuples\n",
    "x=()\n",
    "print(x, type(x),  len(x))\n",
    "peter=('Peter',  'Gabriel', 74, 8_000_000)\n",
    "print(peter, type(peter),  len(peter))\n",
    "print(peter[1])\n",
    "print(peter[1:])\n",
    "print(peter.count(74))\n",
    "print(peter.count(9999))\n",
    "print(peter.index(74))"
   ]
  },
  {
   "cell_type": "code",
   "execution_count": 124,
   "id": "6d89f6aa-42f7-4228-9711-ff6f36b7185f",
   "metadata": {},
   "outputs": [
    {
     "name": "stdout",
     "output_type": "stream",
     "text": [
      "[(1, 'Jan', 34000), (2, 'Peter', 24000), (3, 'Adam', 56000)]\n"
     ]
    }
   ],
   "source": [
    "import sqlite3\n",
    "conn=sqlite3.connect(r'C:\\Users\\Student\\pyhtonGopas01\\db.sqlite')\n",
    "rows=conn.cursor().execute('select * from employees').fetchall()\n",
    "print(rows)\n",
    "prin"
   ]
  },
  {
   "cell_type": "code",
   "execution_count": 127,
   "id": "798ae3d3-683b-4117-9b45-8a6fed17a4a6",
   "metadata": {},
   "outputs": [
    {
     "name": "stdout",
     "output_type": "stream",
     "text": [
      "[34, 7.77, 87, 26, 77]\n",
      "[34, 7.77, 77, 87, 26]\n"
     ]
    }
   ],
   "source": [
    "L1=[34,7.77,87,26,77]\n",
    "print(L1)\n",
    "L1=list(set(L1)) #Set usefull to remove duplicate \n",
    "print(L1)"
   ]
  },
  {
   "cell_type": "code",
   "execution_count": 137,
   "id": "ae0717be-9c4b-45dc-b51c-de113dc5033e",
   "metadata": {},
   "outputs": [
    {
     "name": "stdout",
     "output_type": "stream",
     "text": [
      "{} <class 'dict'> 0\n",
      "49\n",
      "100\n",
      "81\n"
     ]
    },
    {
     "ename": "KeyError",
     "evalue": "9",
     "output_type": "error",
     "traceback": [
      "\u001b[1;31m---------------------------------------------------------------------------\u001b[0m",
      "\u001b[1;31mKeyError\u001b[0m                                  Traceback (most recent call last)",
      "Cell \u001b[1;32mIn[137], line 10\u001b[0m\n\u001b[0;32m      8\u001b[0m \u001b[38;5;28mprint\u001b[39m(power[\u001b[38;5;241m9\u001b[39m])\n\u001b[0;32m      9\u001b[0m \u001b[38;5;28;01mdel\u001b[39;00m power[\u001b[38;5;241m9\u001b[39m]\n\u001b[1;32m---> 10\u001b[0m \u001b[38;5;28mprint\u001b[39m(power[\u001b[38;5;241m9\u001b[39m])\n",
      "\u001b[1;31mKeyError\u001b[0m: 9"
     ]
    }
   ],
   "source": [
    "#dictionaries\n",
    "empty={}\n",
    "print(empty, type(empty),len(empty))\n",
    "power={7:49, 9:81, 2:4}\n",
    "print(power[7])\n",
    "power[7]=100\n",
    "print(power[7])\n",
    "print(power[9])\n",
    "del power[9]\n",
    "print(power[9])"
   ]
  },
  {
   "cell_type": "code",
   "execution_count": null,
   "id": "274893f8-4b26-4274-919e-a3e0862240d6",
   "metadata": {},
   "outputs": [],
   "source": [
    "https://docs.python.org/3/tutorial/inputoutput.html"
   ]
  }
 ],
 "metadata": {
  "kernelspec": {
   "display_name": "Python 3 (ipykernel)",
   "language": "python",
   "name": "python3"
  },
  "language_info": {
   "codemirror_mode": {
    "name": "ipython",
    "version": 3
   },
   "file_extension": ".py",
   "mimetype": "text/x-python",
   "name": "python",
   "nbconvert_exporter": "python",
   "pygments_lexer": "ipython3",
   "version": "3.12.2"
  }
 },
 "nbformat": 4,
 "nbformat_minor": 5
}
