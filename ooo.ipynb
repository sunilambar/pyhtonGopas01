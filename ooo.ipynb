{
 "cells": [
  {
   "cell_type": "code",
   "execution_count": 1,
   "metadata": {},
   "outputs": [
    {
     "name": "stdout",
     "output_type": "stream",
     "text": [
      "Help on class str in module builtins:\n",
      "\n",
      "class str(object)\n",
      " |  str(object='') -> str\n",
      " |  str(bytes_or_buffer[, encoding[, errors]]) -> str\n",
      " |\n",
      " |  Create a new string object from the given object. If encoding or\n",
      " |  errors is specified, then the object must expose a data buffer\n",
      " |  that will be decoded using the given encoding and error handler.\n",
      " |  Otherwise, returns the result of object.__str__() (if defined)\n",
      " |  or repr(object).\n",
      " |  encoding defaults to sys.getdefaultencoding().\n",
      " |  errors defaults to 'strict'.\n",
      " |\n",
      " |  Methods defined here:\n",
      " |\n",
      " |  __add__(self, value, /)\n",
      " |      Return self+value.\n",
      " |\n",
      " |  __contains__(self, key, /)\n",
      " |      Return bool(key in self).\n",
      " |\n",
      " |  __eq__(self, value, /)\n",
      " |      Return self==value.\n",
      " |\n",
      " |  __format__(self, format_spec, /)\n",
      " |      Return a formatted version of the string as described by format_spec.\n",
      " |\n",
      " |  __ge__(self, value, /)\n",
      " |      Return self>=value.\n",
      " |\n",
      " |  __getattribute__(self, name, /)\n",
      " |      Return getattr(self, name).\n",
      " |\n",
      " |  __getitem__(self, key, /)\n",
      " |      Return self[key].\n",
      " |\n",
      " |  __getnewargs__(...)\n",
      " |\n",
      " |  __gt__(self, value, /)\n",
      " |      Return self>value.\n",
      " |\n",
      " |  __hash__(self, /)\n",
      " |      Return hash(self).\n",
      " |\n",
      " |  __iter__(self, /)\n",
      " |      Implement iter(self).\n",
      " |\n",
      " |  __le__(self, value, /)\n",
      " |      Return self<=value.\n",
      " |\n",
      " |  __len__(self, /)\n",
      " |      Return len(self).\n",
      " |\n",
      " |  __lt__(self, value, /)\n",
      " |      Return self<value.\n",
      " |\n",
      " |  __mod__(self, value, /)\n",
      " |      Return self%value.\n",
      " |\n",
      " |  __mul__(self, value, /)\n",
      " |      Return self*value.\n",
      " |\n",
      " |  __ne__(self, value, /)\n",
      " |      Return self!=value.\n",
      " |\n",
      " |  __repr__(self, /)\n",
      " |      Return repr(self).\n",
      " |\n",
      " |  __rmod__(self, value, /)\n",
      " |      Return value%self.\n",
      " |\n",
      " |  __rmul__(self, value, /)\n",
      " |      Return value*self.\n",
      " |\n",
      " |  __sizeof__(self, /)\n",
      " |      Return the size of the string in memory, in bytes.\n",
      " |\n",
      " |  __str__(self, /)\n",
      " |      Return str(self).\n",
      " |\n",
      " |  capitalize(self, /)\n",
      " |      Return a capitalized version of the string.\n",
      " |\n",
      " |      More specifically, make the first character have upper case and the rest lower\n",
      " |      case.\n",
      " |\n",
      " |  casefold(self, /)\n",
      " |      Return a version of the string suitable for caseless comparisons.\n",
      " |\n",
      " |  center(self, width, fillchar=' ', /)\n",
      " |      Return a centered string of length width.\n",
      " |\n",
      " |      Padding is done using the specified fill character (default is a space).\n",
      " |\n",
      " |  count(...)\n",
      " |      S.count(sub[, start[, end]]) -> int\n",
      " |\n",
      " |      Return the number of non-overlapping occurrences of substring sub in\n",
      " |      string S[start:end].  Optional arguments start and end are\n",
      " |      interpreted as in slice notation.\n",
      " |\n",
      " |  encode(self, /, encoding='utf-8', errors='strict')\n",
      " |      Encode the string using the codec registered for encoding.\n",
      " |\n",
      " |      encoding\n",
      " |        The encoding in which to encode the string.\n",
      " |      errors\n",
      " |        The error handling scheme to use for encoding errors.\n",
      " |        The default is 'strict' meaning that encoding errors raise a\n",
      " |        UnicodeEncodeError.  Other possible values are 'ignore', 'replace' and\n",
      " |        'xmlcharrefreplace' as well as any other name registered with\n",
      " |        codecs.register_error that can handle UnicodeEncodeErrors.\n",
      " |\n",
      " |  endswith(...)\n",
      " |      S.endswith(suffix[, start[, end]]) -> bool\n",
      " |\n",
      " |      Return True if S ends with the specified suffix, False otherwise.\n",
      " |      With optional start, test S beginning at that position.\n",
      " |      With optional end, stop comparing S at that position.\n",
      " |      suffix can also be a tuple of strings to try.\n",
      " |\n",
      " |  expandtabs(self, /, tabsize=8)\n",
      " |      Return a copy where all tab characters are expanded using spaces.\n",
      " |\n",
      " |      If tabsize is not given, a tab size of 8 characters is assumed.\n",
      " |\n",
      " |  find(...)\n",
      " |      S.find(sub[, start[, end]]) -> int\n",
      " |\n",
      " |      Return the lowest index in S where substring sub is found,\n",
      " |      such that sub is contained within S[start:end].  Optional\n",
      " |      arguments start and end are interpreted as in slice notation.\n",
      " |\n",
      " |      Return -1 on failure.\n",
      " |\n",
      " |  format(...)\n",
      " |      S.format(*args, **kwargs) -> str\n",
      " |\n",
      " |      Return a formatted version of S, using substitutions from args and kwargs.\n",
      " |      The substitutions are identified by braces ('{' and '}').\n",
      " |\n",
      " |  format_map(...)\n",
      " |      S.format_map(mapping) -> str\n",
      " |\n",
      " |      Return a formatted version of S, using substitutions from mapping.\n",
      " |      The substitutions are identified by braces ('{' and '}').\n",
      " |\n",
      " |  index(...)\n",
      " |      S.index(sub[, start[, end]]) -> int\n",
      " |\n",
      " |      Return the lowest index in S where substring sub is found,\n",
      " |      such that sub is contained within S[start:end].  Optional\n",
      " |      arguments start and end are interpreted as in slice notation.\n",
      " |\n",
      " |      Raises ValueError when the substring is not found.\n",
      " |\n",
      " |  isalnum(self, /)\n",
      " |      Return True if the string is an alpha-numeric string, False otherwise.\n",
      " |\n",
      " |      A string is alpha-numeric if all characters in the string are alpha-numeric and\n",
      " |      there is at least one character in the string.\n",
      " |\n",
      " |  isalpha(self, /)\n",
      " |      Return True if the string is an alphabetic string, False otherwise.\n",
      " |\n",
      " |      A string is alphabetic if all characters in the string are alphabetic and there\n",
      " |      is at least one character in the string.\n",
      " |\n",
      " |  isascii(self, /)\n",
      " |      Return True if all characters in the string are ASCII, False otherwise.\n",
      " |\n",
      " |      ASCII characters have code points in the range U+0000-U+007F.\n",
      " |      Empty string is ASCII too.\n",
      " |\n",
      " |  isdecimal(self, /)\n",
      " |      Return True if the string is a decimal string, False otherwise.\n",
      " |\n",
      " |      A string is a decimal string if all characters in the string are decimal and\n",
      " |      there is at least one character in the string.\n",
      " |\n",
      " |  isdigit(self, /)\n",
      " |      Return True if the string is a digit string, False otherwise.\n",
      " |\n",
      " |      A string is a digit string if all characters in the string are digits and there\n",
      " |      is at least one character in the string.\n",
      " |\n",
      " |  isidentifier(self, /)\n",
      " |      Return True if the string is a valid Python identifier, False otherwise.\n",
      " |\n",
      " |      Call keyword.iskeyword(s) to test whether string s is a reserved identifier,\n",
      " |      such as \"def\" or \"class\".\n",
      " |\n",
      " |  islower(self, /)\n",
      " |      Return True if the string is a lowercase string, False otherwise.\n",
      " |\n",
      " |      A string is lowercase if all cased characters in the string are lowercase and\n",
      " |      there is at least one cased character in the string.\n",
      " |\n",
      " |  isnumeric(self, /)\n",
      " |      Return True if the string is a numeric string, False otherwise.\n",
      " |\n",
      " |      A string is numeric if all characters in the string are numeric and there is at\n",
      " |      least one character in the string.\n",
      " |\n",
      " |  isprintable(self, /)\n",
      " |      Return True if the string is printable, False otherwise.\n",
      " |\n",
      " |      A string is printable if all of its characters are considered printable in\n",
      " |      repr() or if it is empty.\n",
      " |\n",
      " |  isspace(self, /)\n",
      " |      Return True if the string is a whitespace string, False otherwise.\n",
      " |\n",
      " |      A string is whitespace if all characters in the string are whitespace and there\n",
      " |      is at least one character in the string.\n",
      " |\n",
      " |  istitle(self, /)\n",
      " |      Return True if the string is a title-cased string, False otherwise.\n",
      " |\n",
      " |      In a title-cased string, upper- and title-case characters may only\n",
      " |      follow uncased characters and lowercase characters only cased ones.\n",
      " |\n",
      " |  isupper(self, /)\n",
      " |      Return True if the string is an uppercase string, False otherwise.\n",
      " |\n",
      " |      A string is uppercase if all cased characters in the string are uppercase and\n",
      " |      there is at least one cased character in the string.\n",
      " |\n",
      " |  join(self, iterable, /)\n",
      " |      Concatenate any number of strings.\n",
      " |\n",
      " |      The string whose method is called is inserted in between each given string.\n",
      " |      The result is returned as a new string.\n",
      " |\n",
      " |      Example: '.'.join(['ab', 'pq', 'rs']) -> 'ab.pq.rs'\n",
      " |\n",
      " |  ljust(self, width, fillchar=' ', /)\n",
      " |      Return a left-justified string of length width.\n",
      " |\n",
      " |      Padding is done using the specified fill character (default is a space).\n",
      " |\n",
      " |  lower(self, /)\n",
      " |      Return a copy of the string converted to lowercase.\n",
      " |\n",
      " |  lstrip(self, chars=None, /)\n",
      " |      Return a copy of the string with leading whitespace removed.\n",
      " |\n",
      " |      If chars is given and not None, remove characters in chars instead.\n",
      " |\n",
      " |  partition(self, sep, /)\n",
      " |      Partition the string into three parts using the given separator.\n",
      " |\n",
      " |      This will search for the separator in the string.  If the separator is found,\n",
      " |      returns a 3-tuple containing the part before the separator, the separator\n",
      " |      itself, and the part after it.\n",
      " |\n",
      " |      If the separator is not found, returns a 3-tuple containing the original string\n",
      " |      and two empty strings.\n",
      " |\n",
      " |  removeprefix(self, prefix, /)\n",
      " |      Return a str with the given prefix string removed if present.\n",
      " |\n",
      " |      If the string starts with the prefix string, return string[len(prefix):].\n",
      " |      Otherwise, return a copy of the original string.\n",
      " |\n",
      " |  removesuffix(self, suffix, /)\n",
      " |      Return a str with the given suffix string removed if present.\n",
      " |\n",
      " |      If the string ends with the suffix string and that suffix is not empty,\n",
      " |      return string[:-len(suffix)]. Otherwise, return a copy of the original\n",
      " |      string.\n",
      " |\n",
      " |  replace(self, old, new, count=-1, /)\n",
      " |      Return a copy with all occurrences of substring old replaced by new.\n",
      " |\n",
      " |        count\n",
      " |          Maximum number of occurrences to replace.\n",
      " |          -1 (the default value) means replace all occurrences.\n",
      " |\n",
      " |      If the optional argument count is given, only the first count occurrences are\n",
      " |      replaced.\n",
      " |\n",
      " |  rfind(...)\n",
      " |      S.rfind(sub[, start[, end]]) -> int\n",
      " |\n",
      " |      Return the highest index in S where substring sub is found,\n",
      " |      such that sub is contained within S[start:end].  Optional\n",
      " |      arguments start and end are interpreted as in slice notation.\n",
      " |\n",
      " |      Return -1 on failure.\n",
      " |\n",
      " |  rindex(...)\n",
      " |      S.rindex(sub[, start[, end]]) -> int\n",
      " |\n",
      " |      Return the highest index in S where substring sub is found,\n",
      " |      such that sub is contained within S[start:end].  Optional\n",
      " |      arguments start and end are interpreted as in slice notation.\n",
      " |\n",
      " |      Raises ValueError when the substring is not found.\n",
      " |\n",
      " |  rjust(self, width, fillchar=' ', /)\n",
      " |      Return a right-justified string of length width.\n",
      " |\n",
      " |      Padding is done using the specified fill character (default is a space).\n",
      " |\n",
      " |  rpartition(self, sep, /)\n",
      " |      Partition the string into three parts using the given separator.\n",
      " |\n",
      " |      This will search for the separator in the string, starting at the end. If\n",
      " |      the separator is found, returns a 3-tuple containing the part before the\n",
      " |      separator, the separator itself, and the part after it.\n",
      " |\n",
      " |      If the separator is not found, returns a 3-tuple containing two empty strings\n",
      " |      and the original string.\n",
      " |\n",
      " |  rsplit(self, /, sep=None, maxsplit=-1)\n",
      " |      Return a list of the substrings in the string, using sep as the separator string.\n",
      " |\n",
      " |        sep\n",
      " |          The separator used to split the string.\n",
      " |\n",
      " |          When set to None (the default value), will split on any whitespace\n",
      " |          character (including \\n \\r \\t \\f and spaces) and will discard\n",
      " |          empty strings from the result.\n",
      " |        maxsplit\n",
      " |          Maximum number of splits.\n",
      " |          -1 (the default value) means no limit.\n",
      " |\n",
      " |      Splitting starts at the end of the string and works to the front.\n",
      " |\n",
      " |  rstrip(self, chars=None, /)\n",
      " |      Return a copy of the string with trailing whitespace removed.\n",
      " |\n",
      " |      If chars is given and not None, remove characters in chars instead.\n",
      " |\n",
      " |  split(self, /, sep=None, maxsplit=-1)\n",
      " |      Return a list of the substrings in the string, using sep as the separator string.\n",
      " |\n",
      " |        sep\n",
      " |          The separator used to split the string.\n",
      " |\n",
      " |          When set to None (the default value), will split on any whitespace\n",
      " |          character (including \\n \\r \\t \\f and spaces) and will discard\n",
      " |          empty strings from the result.\n",
      " |        maxsplit\n",
      " |          Maximum number of splits.\n",
      " |          -1 (the default value) means no limit.\n",
      " |\n",
      " |      Splitting starts at the front of the string and works to the end.\n",
      " |\n",
      " |      Note, str.split() is mainly useful for data that has been intentionally\n",
      " |      delimited.  With natural text that includes punctuation, consider using\n",
      " |      the regular expression module.\n",
      " |\n",
      " |  splitlines(self, /, keepends=False)\n",
      " |      Return a list of the lines in the string, breaking at line boundaries.\n",
      " |\n",
      " |      Line breaks are not included in the resulting list unless keepends is given and\n",
      " |      true.\n",
      " |\n",
      " |  startswith(...)\n",
      " |      S.startswith(prefix[, start[, end]]) -> bool\n",
      " |\n",
      " |      Return True if S starts with the specified prefix, False otherwise.\n",
      " |      With optional start, test S beginning at that position.\n",
      " |      With optional end, stop comparing S at that position.\n",
      " |      prefix can also be a tuple of strings to try.\n",
      " |\n",
      " |  strip(self, chars=None, /)\n",
      " |      Return a copy of the string with leading and trailing whitespace removed.\n",
      " |\n",
      " |      If chars is given and not None, remove characters in chars instead.\n",
      " |\n",
      " |  swapcase(self, /)\n",
      " |      Convert uppercase characters to lowercase and lowercase characters to uppercase.\n",
      " |\n",
      " |  title(self, /)\n",
      " |      Return a version of the string where each word is titlecased.\n",
      " |\n",
      " |      More specifically, words start with uppercased characters and all remaining\n",
      " |      cased characters have lower case.\n",
      " |\n",
      " |  translate(self, table, /)\n",
      " |      Replace each character in the string using the given translation table.\n",
      " |\n",
      " |        table\n",
      " |          Translation table, which must be a mapping of Unicode ordinals to\n",
      " |          Unicode ordinals, strings, or None.\n",
      " |\n",
      " |      The table must implement lookup/indexing via __getitem__, for instance a\n",
      " |      dictionary or list.  If this operation raises LookupError, the character is\n",
      " |      left untouched.  Characters mapped to None are deleted.\n",
      " |\n",
      " |  upper(self, /)\n",
      " |      Return a copy of the string converted to uppercase.\n",
      " |\n",
      " |  zfill(self, width, /)\n",
      " |      Pad a numeric string with zeros on the left, to fill a field of the given width.\n",
      " |\n",
      " |      The string is never truncated.\n",
      " |\n",
      " |  ----------------------------------------------------------------------\n",
      " |  Static methods defined here:\n",
      " |\n",
      " |  __new__(*args, **kwargs) from builtins.type\n",
      " |      Create and return a new object.  See help(type) for accurate signature.\n",
      " |\n",
      " |  maketrans(...)\n",
      " |      Return a translation table usable for str.translate().\n",
      " |\n",
      " |      If there is only one argument, it must be a dictionary mapping Unicode\n",
      " |      ordinals (integers) or characters to Unicode ordinals, strings or None.\n",
      " |      Character keys will be then converted to ordinals.\n",
      " |      If there are two arguments, they must be strings of equal length, and\n",
      " |      in the resulting dictionary, each character in x will be mapped to the\n",
      " |      character at the same position in y. If there is a third argument, it\n",
      " |      must be a string, whose characters will be mapped to None in the result.\n",
      "\n"
     ]
    }
   ],
   "source": [
    "help(str)"
   ]
  },
  {
   "cell_type": "markdown",
   "metadata": {},
   "source": [
    "print(upper('test')) ##This is not buil in function - name error\n",
    "\n",
    "dir(\\__builtin__)\n",
    "\n"
   ]
  },
  {
   "cell_type": "code",
   "execution_count": 7,
   "metadata": {},
   "outputs": [
    {
     "name": "stdout",
     "output_type": "stream",
     "text": [
      "<class 'str'>\n",
      "AHOJ\n",
      "<class 'type'>\n",
      "AHOJ\n",
      "AHOJ\n"
     ]
    }
   ],
   "source": [
    "s='ahoj'\n",
    "print(type(s))\n",
    "print(s.upper())#bound call !!! bound call recieves implicit first argument as identity of object on which call is involved,  S is instance of str\n",
    "print(type(str))\n",
    "print(str.upper(s)) #unbound call !!! no first parameter passed by python, I have to pass it explicitly\n",
    "print(type(s).upper(s))\n"
   ]
  },
  {
   "cell_type": "markdown",
   "metadata": {},
   "source": [
    "Class and instances of class is object\n",
    "\n",
    "str is class\n",
    "\n",
    "a='ahoj' #instance of class str (object)\n",
    "\n",
    "c='cau' #instance of class str (object)\n"
   ]
  },
  {
   "cell_type": "code",
   "execution_count": 9,
   "metadata": {},
   "outputs": [
    {
     "ename": "AttributeError",
     "evalue": "'NoneType' object has no attribute 'error'",
     "output_type": "error",
     "traceback": [
      "\u001b[1;31m---------------------------------------------------------------------------\u001b[0m",
      "\u001b[1;31mAttributeError\u001b[0m                            Traceback (most recent call last)",
      "Cell \u001b[1;32mIn[9], line 2\u001b[0m\n\u001b[0;32m      1\u001b[0m \u001b[38;5;66;03m#error \u001b[39;00m\n\u001b[1;32m----> 2\u001b[0m \u001b[38;5;28;43;01mNone\u001b[39;49;00m\u001b[38;5;241;43m.\u001b[39;49m\u001b[43merror\u001b[49m \u001b[38;5;66;03m#Attribute error - Attribute .error not exist\u001b[39;00m\n",
      "\u001b[1;31mAttributeError\u001b[0m: 'NoneType' object has no attribute 'error'"
     ]
    }
   ],
   "source": [
    "#error \n",
    "None.error #Attribute error - Attribute .error not exist"
   ]
  },
  {
   "cell_type": "markdown",
   "metadata": {},
   "source": []
  },
  {
   "cell_type": "code",
   "execution_count": 10,
   "metadata": {},
   "outputs": [
    {
     "name": "stdout",
     "output_type": "stream",
     "text": [
      "['__add__', '__class__', '__contains__', '__delattr__', '__dir__', '__doc__', '__eq__', '__format__', '__ge__', '__getattribute__', '__getitem__', '__getnewargs__', '__getstate__', '__gt__', '__hash__', '__init__', '__init_subclass__', '__iter__', '__le__', '__len__', '__lt__', '__mod__', '__mul__', '__ne__', '__new__', '__reduce__', '__reduce_ex__', '__repr__', '__rmod__', '__rmul__', '__setattr__', '__sizeof__', '__str__', '__subclasshook__', 'capitalize', 'casefold', 'center', 'count', 'encode', 'endswith', 'expandtabs', 'find', 'format', 'format_map', 'index', 'isalnum', 'isalpha', 'isascii', 'isdecimal', 'isdigit', 'isidentifier', 'islower', 'isnumeric', 'isprintable', 'isspace', 'istitle', 'isupper', 'join', 'ljust', 'lower', 'lstrip', 'maketrans', 'partition', 'removeprefix', 'removesuffix', 'replace', 'rfind', 'rindex', 'rjust', 'rpartition', 'rsplit', 'rstrip', 'split', 'splitlines', 'startswith', 'strip', 'swapcase', 'title', 'translate', 'upper', 'zfill']\n"
     ]
    }
   ],
   "source": [
    "s='shhehh'\n",
    "print(dir(s))"
   ]
  },
  {
   "cell_type": "markdown",
   "metadata": {},
   "source": [
    "Create class\n"
   ]
  },
  {
   "cell_type": "code",
   "execution_count": 17,
   "metadata": {},
   "outputs": [
    {
     "name": "stdout",
     "output_type": "stream",
     "text": [
      "<class 'type'>\n",
      "<class '__main__.Foo'>\n",
      "<__main__.Foo object at 0x00000205864E5DC0> 2222751374784 0x205864e5dc0\n",
      "Help on class Foo in module __main__:\n",
      "\n",
      "class Foo(builtins.object)\n",
      " |  ##This is part of documentaion##\n",
      " |\n",
      " |  Data descriptors defined here:\n",
      " |\n",
      " |  __dict__\n",
      " |      dictionary for instance variables\n",
      " |\n",
      " |  __weakref__\n",
      " |      list of weak references to the object\n",
      "\n"
     ]
    }
   ],
   "source": [
    "class Foo:\n",
    "    \"\"\"##This is part of documentaion##\"\"\"\n",
    "    pass\n",
    "\n",
    "print(type(Foo))\n",
    "bar=Foo()\n",
    "print(type(bar))\n",
    "print(bar, id(bar), hex(id(bar)))\n",
    "\n",
    "help(Foo)\n"
   ]
  },
  {
   "cell_type": "markdown",
   "metadata": {},
   "source": []
  },
  {
   "cell_type": "code",
   "execution_count": 18,
   "metadata": {},
   "outputs": [
    {
     "name": "stdout",
     "output_type": "stream",
     "text": [
      "Hello\n"
     ]
    }
   ],
   "source": [
    "class Person:\n",
    "    def greetings(self): #instance method, self eansbound call where Python automatically passes itself as ID of object on which methos id called\n",
    "        print('Hello')\n",
    "\n",
    "peter=Person() # create new instance of person class.\n",
    "peter.greetings()\n"
   ]
  },
  {
   "cell_type": "code",
   "execution_count": 3,
   "metadata": {},
   "outputs": [
    {
     "name": "stdout",
     "output_type": "stream",
     "text": [
      "Hello my name is Peter\n"
     ]
    }
   ],
   "source": [
    "class Person:\n",
    "    def greetings(self):\n",
    "        print('Hello my name is',self.name)\n",
    "\n",
    "peter=Person()\n",
    "peter.name='Peter'\n",
    "peter.greetings()"
   ]
  },
  {
   "cell_type": "markdown",
   "metadata": {},
   "source": [
    "Add class attributes in other language\n",
    "\n"
   ]
  },
  {
   "cell_type": "code",
   "execution_count": 22,
   "metadata": {},
   "outputs": [
    {
     "name": "stdout",
     "output_type": "stream",
     "text": [
      "Hello my name is Peter\n"
     ]
    }
   ],
   "source": [
    "class Person:\n",
    "    name='Gopas'\n",
    "    age=0\n",
    "    def greetings(self):\n",
    "        print('Hello my name is',self.name)\n",
    "\n",
    "peter=Person()\n",
    "peter.name='Peter'\n",
    "peter.greetings()"
   ]
  },
  {
   "cell_type": "markdown",
   "metadata": {},
   "source": [
    "Add class attributes in Python def __init__\n"
   ]
  },
  {
   "cell_type": "markdown",
   "metadata": {},
   "source": []
  },
  {
   "cell_type": "code",
   "execution_count": 16,
   "metadata": {},
   "outputs": [
    {
     "name": "stdout",
     "output_type": "stream",
     "text": [
      "Hello my name is Peter\n",
      "Hello my name is Peter1\n",
      "21\n",
      "False\n",
      "Person('Peter, 10') Person('Peter1, 11')\n"
     ]
    }
   ],
   "source": [
    "class Person:\n",
    "    def greetings(self):\n",
    "        print('Hello my name is',self.name)\n",
    "\n",
    "    def __init__(self, p_name, p_age=0):\n",
    "        self.name=p_name\n",
    "        self.age=p_age\n",
    "    def __add__(self,other):\n",
    "      return self.age+other.age     \n",
    "    \n",
    "    def __gt__(self,other):\n",
    "      return self.age>other.age     \n",
    "    def __repr__(self) -> str:\n",
    "       return f\"Person('{self.name}, {self.age}')\"\n",
    "\n",
    "peter=Person('Peter')\n",
    "peter.greetings()\n",
    "peter.age=10\n",
    "\n",
    "peter1=Person('Peter1')\n",
    "peter1.greetings()\n",
    "peter1.age=11\n",
    "\n",
    "print(peter+peter1)\n",
    "print(peter>peter1)\n",
    "print(peter,peter1)\n",
    "#peter.__add__(peter)"
   ]
  },
  {
   "cell_type": "code",
   "execution_count": 30,
   "metadata": {},
   "outputs": [
    {
     "name": "stdout",
     "output_type": "stream",
     "text": [
      "object of id 2565916126208 will be deleted\n",
      "True\n",
      "Brno\n",
      "object of id 2565913875312 will be deleted\n"
     ]
    },
    {
     "ename": "NameError",
     "evalue": "name 'brno' is not defined",
     "output_type": "error",
     "traceback": [
      "\u001b[1;31m---------------------------------------------------------------------------\u001b[0m",
      "\u001b[1;31mNameError\u001b[0m                                 Traceback (most recent call last)",
      "Cell \u001b[1;32mIn[30], line 29\u001b[0m\n\u001b[0;32m     26\u001b[0m brno\u001b[38;5;241m.\u001b[39mgetname()\n\u001b[0;32m     27\u001b[0m \u001b[38;5;28;01mdel\u001b[39;00m brno\n\u001b[1;32m---> 29\u001b[0m \u001b[38;5;28mprint\u001b[39m(\u001b[43mbrno\u001b[49m)\n",
      "\u001b[1;31mNameError\u001b[0m: name 'brno' is not defined"
     ]
    }
   ],
   "source": [
    "class city:\n",
    "    def getname(self):\n",
    "        print(self.name)\n",
    "    \n",
    "    def __iter__(self):\n",
    "        return self\n",
    "    \n",
    "    def __init__(self, c_name, c_state, c_population): # initailized variable of instance /encapsulations\n",
    "        self.name=c_name #encapulations\n",
    "        self.state=c_state\n",
    "        self.population=c_population\n",
    "\n",
    "    def __del__(self):\n",
    "      print(f'object of id {id(self)} will be deleted')\n",
    "\n",
    "    def __gt__(self,other):\n",
    "      return self.population>other.population\n",
    "\n",
    "    def __str__(self) -> str:\n",
    "       return self.name     \n",
    "\n",
    "\n",
    "brno=city('Brno', 1000, 100000)\n",
    "ostrava=city('Ostrava', 700, 10000)\n",
    "\n",
    "hasattr(brno, '__contains__')\n",
    "print(brno>ostrava)\n",
    "\n",
    "brno.getname()\n",
    "del brno\n",
    "\n",
    "print(brno)\n"
   ]
  },
  {
   "cell_type": "code",
   "execution_count": 54,
   "metadata": {},
   "outputs": [
    {
     "name": "stdout",
     "output_type": "stream",
     "text": [
      "{'CZ': <__main__.Country object at 0x000002556C8043E0>, 'SK': <__main__.Country object at 0x000002556C601AC0>, 'AT': <__main__.Country object at 0x000002556C688290>, 'DE': <__main__.Country object at 0x000002556C68BA40>}\n",
      "AT :  Linz,Graz\n",
      "CZ :  Praha,Ceske Budejovice,Ostrava,Brno,Hradec Kralove\n",
      "DE :  Berlin\n",
      "SK :  Kosice,Bratislava,Zilina\n"
     ]
    }
   ],
   "source": [
    "class City:    \n",
    "    def __init__(self, city_name, c_population): # initailized variable of instance /encapsulations\n",
    "        self.name=city_name #encapulations\n",
    "        self.population=c_population\n",
    "\n",
    "    def __gt__(self,other):\n",
    "      return self.population>other.population\n",
    "\n",
    "    def __str__(self) -> str:\n",
    "       return self.name\n",
    "    \n",
    "\n",
    "class Country:\n",
    "   def __init__(self, c_code):\n",
    "      self.code=c_code\n",
    "      self.country_cities=[]\n",
    "   def append(self, city):  \n",
    "      self.country_cities.append(city)\n",
    "   def get_cities(self):\n",
    "      return self.country_cities\n",
    "\n",
    "\n",
    "file = open(r'cities.txt','rt')      \n",
    "cities=dict()\n",
    "#countries=dict()  \n",
    "for line in file:\n",
    "   code, city_name, population=line.strip().split(',')\n",
    "   if code not in cities:\n",
    "      cities[code]=Country(code)\n",
    "   cities[code].append(City(city_name,population))\n",
    "\n",
    "print(cities)\n",
    "\n",
    "for country in sorted(cities): #iterate over sorted list of keys = country codes\n",
    "    #print(country,': ',','.join(map(lambda x:x[0],sorted(cities[country],key=lambda x:x[1]))),sep='')\n",
    "    print(country,': ',','.join([x.name for x in sorted(cities[country].get_cities())]) )   \n"
   ]
  },
  {
   "cell_type": "code",
   "execution_count": null,
   "metadata": {},
   "outputs": [],
   "source": [
    "#type(self) or __class__ usage to call self class"
   ]
  },
  {
   "cell_type": "markdown",
   "metadata": {},
   "source": [
    "Decorator"
   ]
  },
  {
   "cell_type": "code",
   "execution_count": 59,
   "metadata": {},
   "outputs": [
    {
     "name": "stdout",
     "output_type": "stream",
     "text": [
      "Name : Bob, age : 20, id : 1\n",
      "Name : Alice, age : 19, id : 2\n"
     ]
    }
   ],
   "source": [
    "class Person:\n",
    "  Person_id=1\n",
    "  def __init__(self,name,age):\n",
    "    self.name=name\n",
    "    self.age=age\n",
    "    self.cid=Person.Person_id\n",
    "    Person.Person_id+=1\n",
    "  \n",
    "  def printall(self):\n",
    "    print (\"Name : %s, age : %d, id : %d\" % (self.name,self.age,self.cid))\n",
    "\n",
    "bob=Person(\"Bob\",20)\n",
    "alice=Person(\"Alice\",19)\n",
    "bob.printall()\n",
    "alice.printall()\n"
   ]
  },
  {
   "cell_type": "code",
   "execution_count": 2,
   "metadata": {},
   "outputs": [
    {
     "name": "stdout",
     "output_type": "stream",
     "text": [
      "Name : Bob, age : 20, id : 0\n",
      "Name : Alice, age : 19, id : 1\n",
      "Name : nano, age : 19, id : 4\n",
      "Name : Bob, age : 20, id : 0\n",
      "Name : Alice, age : 19, id : 1\n",
      "Name : nano, age : 19, id : 4\n",
      "Name : Niro, age : 19, id : 5\n"
     ]
    }
   ],
   "source": [
    "class Person:\n",
    "  Person_id=0\n",
    "  def __init__(self,name,age):\n",
    "    self.name=name\n",
    "    self.age=age\n",
    "    self.id=self.get_newID() #get class variable value\n",
    "    #type(self).Person_id+=1\n",
    "  \n",
    "  def printall(self):\n",
    "    print (\"Name : %s, age : %d, id : %d\" % (self.name,self.age,self.id))\n",
    "\n",
    "  @classmethod\n",
    "  def resetID(cls):#class method called with cls paramter\n",
    "    cls.Person_id=4\n",
    "\n",
    "  @staticmethod\n",
    "  def plus(a,b): #this will avoid calling self object\n",
    "    return a + b    \n",
    "  \n",
    "  @classmethod\n",
    "  def get_newID(cls):\n",
    "    result=cls.Person_id\n",
    "    cls.Person_id+=1\n",
    "    return result\n",
    "\n",
    "\n",
    "bob=Person(\"Bob\",20)\n",
    "alice=Person(\"Alice\",19)\n",
    "bob.printall()\n",
    "alice.printall()\n",
    "Person.resetID()\n",
    "nano=Person(\"nano\",19)\n",
    "Niro=Person(\"Niro\",19)\n",
    "nano.printall()\n",
    "bob.printall()\n",
    "alice.printall()\n",
    "nano.printall()\n",
    "Niro.printall()\n",
    "\n"
   ]
  },
  {
   "cell_type": "markdown",
   "metadata": {},
   "source": []
  },
  {
   "cell_type": "code",
   "execution_count": 7,
   "metadata": {},
   "outputs": [
    {
     "name": "stdout",
     "output_type": "stream",
     "text": [
      "Name : Bob, age: 20\n"
     ]
    }
   ],
   "source": [
    "class Person:\n",
    "    def __init__(self, name, age):\n",
    "        self.age=age\n",
    "        self.name=name\n",
    "    def printall(self):\n",
    "        print(f'Name : {self.name}, age: {self.age}')\n",
    "\n",
    "bob=Person(\"Bob\",20)\n",
    "alice=Person(\"Alice\", 19)\n",
    "bob.printall()"
   ]
  },
  {
   "cell_type": "markdown",
   "metadata": {},
   "source": [
    "Name mangling "
   ]
  },
  {
   "cell_type": "markdown",
   "metadata": {},
   "source": []
  },
  {
   "cell_type": "code",
   "execution_count": 15,
   "metadata": {},
   "outputs": [
    {
     "name": "stdout",
     "output_type": "stream",
     "text": [
      "Name : Bob, age: 20\n"
     ]
    },
    {
     "data": {
      "text/plain": [
       "'BobNew'"
      ]
     },
     "execution_count": 15,
     "metadata": {},
     "output_type": "execute_result"
    }
   ],
   "source": [
    "class Person:\n",
    "    def __init__(self, name, age):\n",
    "        self.age=age\n",
    "        self.__name=name #name mangling,  Similar like private or protected \n",
    "    def printall(self):\n",
    "        print(f'Name : {self.__name}, age: {self.age}')\n",
    "   \n",
    "    def getName(self): #Getter , To get value of hidden attribute\n",
    "        return self.__name \n",
    "\n",
    "    def setName(self,new):\n",
    "        if type(new) is not str:\n",
    "            raise ValueError('Name of the person must be string !') \n",
    "        if not new: # if empty\n",
    "            raise ValueError('Name must be non empty !')\n",
    "        self.__name=new\n",
    "\n",
    "bob=Person(\"Bob\",20)\n",
    "alice=Person(\"Alice\", 19)\n",
    "bob.printall()\n",
    "bob.getName()\n",
    "bob.setName(\"BobNew\")\n",
    "bob.getName()"
   ]
  },
  {
   "cell_type": "markdown",
   "metadata": {},
   "source": []
  },
  {
   "cell_type": "code",
   "execution_count": 43,
   "metadata": {},
   "outputs": [
    {
     "name": "stdout",
     "output_type": "stream",
     "text": [
      "Name : Bob, age: 20\n",
      "Name : Bob, age: 20\n",
      "21\n",
      "1\n"
     ]
    }
   ],
   "source": [
    "class Person:\n",
    "    def __init__(self, name, age):\n",
    "        self.__age=age\n",
    "        self.__name=name #name mangling,  Similar like private or protected \n",
    "    def printall(self):\n",
    "        print(f'Name : {self.__name}, age: {self.__age}')\n",
    "   \n",
    "    def getName(self): #Getter , To get value of hidden attribute\n",
    "        return self.__name \n",
    "\n",
    "    def setName(self,new):\n",
    "        if type(new) is not str:\n",
    "            raise ValueError('Name of the person must be string !') \n",
    "        if not new: # if empty\n",
    "            raise ValueError('Name must be non empty !')\n",
    "        self.__name=new\n",
    "    @property #this decorator defne getter for attibute age\n",
    "    def age(self):\n",
    "        return self.__age+1\n",
    "    @age.setter #this decorator define setter for attribute age\n",
    "    def age(self,new):\n",
    "        if type(new) is not int:\n",
    "            raise TypeError('Wrong type of agre')\n",
    "        if new <= 0  or new<self.age:\n",
    "            raise ValueError('Negative or younger age not possible')\n",
    "        self.__age=new\n",
    "    @age.deleter\n",
    "    def age(self):\n",
    "        self.__age=0    \n",
    "\n",
    "bob=Person(\"Bob\",20)\n",
    "alice=Person(\"Alice\", 19)\n",
    "bob.printall()\n",
    "#bob.age=-5\n",
    "bob.printall()\n",
    "print(bob.age) ## getter provide property +1\n",
    "del bob.age\n",
    "print(bob.age)\n",
    "bob.setName(\"tet\")\n"
   ]
  },
  {
   "cell_type": "markdown",
   "metadata": {},
   "source": [
    "On city create property setter and getter for population\n",
    "#\n",
    "use protected names"
   ]
  },
  {
   "cell_type": "code",
   "execution_count": 77,
   "metadata": {},
   "outputs": [
    {
     "name": "stdout",
     "output_type": "stream",
     "text": [
      "{'CZ': <__main__.Country object at 0x000001AAA6EF2CF0>, 'SK': <__main__.Country object at 0x000001AAA6F6E240>, 'AT': <__main__.Country object at 0x000001AAA701C200>, 'DE': <__main__.Country object at 0x000001AAA701DC10>}\n",
      "<class 'dict'> <class 'str'>\n",
      "AT :  Linz,Graz\n",
      "<class 'dict'> <class 'str'>\n",
      "CZ :  Hradec Kralove,Ceske Budejovice,Ostrava,Brno,Praha\n",
      "<class 'dict'> <class 'str'>\n",
      "DE :  Berlin\n",
      "<class 'dict'> <class 'str'>\n",
      "SK :  Zilina,Kosice,Bratislava\n"
     ]
    }
   ],
   "source": [
    "class City:    \n",
    "    def __init__(self, city_name, c_population): # initailized variable of instance /encapsulations\n",
    "        self.__name=city_name #encapulations\n",
    "        self.__population=c_population\n",
    "\n",
    "    def __gt__(self,other):\n",
    "      return self.__population>other.population\n",
    "\n",
    "    def __str__(self) -> str:\n",
    "       return self.name\n",
    "    \n",
    "    def getName(self): #Getter , To get value of hidden attribute\n",
    "        return self.__name \n",
    "\n",
    "    def setName(self,new):\n",
    "        if type(new) is not str:\n",
    "            raise ValueError('Name of the person must be string !') \n",
    "        if not new: # if empty\n",
    "            raise ValueError('Name must be non empty !')\n",
    "        self.__name=new\n",
    "    \n",
    "    @property\n",
    "    def population(self):\n",
    "       return self.__population    \n",
    "    \n",
    "    @population.setter\n",
    "    def population(self,new):\n",
    "       if type(new) is not int:\n",
    "            raise TypeError('Wrong type of inpt')\n",
    "       if new <= 0  or new< self.__population:\n",
    "            raise ValueError('Negative or younger age not possible')\n",
    "       self.__population=new\n",
    "    \n",
    "\n",
    "class Country:\n",
    "   def __init__(self, c_code):\n",
    "      self.code=c_code\n",
    "      self.country_cities=[]\n",
    "   def append(self, city):  \n",
    "      self.country_cities.append(city)\n",
    "   def get_cities(self):\n",
    "      return self.country_cities\n",
    "\n",
    "\n",
    "file = open(r'cities.txt','rt')      \n",
    "cities=dict()\n",
    "#countries=dict()  \n",
    "for line in file:\n",
    "   code, city_name, population=line.strip().split(',')\n",
    "   if code not in cities:\n",
    "      cities[code]=Country(code)  \n",
    "   cities[code].append(City(city_name,int(population)))\n",
    "print(cities)\n",
    "#City.getName(cities)\n",
    "\n",
    "for country in sorted(cities): #iterate over sorted list of keys = country codes\n",
    "    #print(country,': ',','.join(map(lambda x:x[0],sorted(cities[country],key=lambda x:x[1]))),sep='')\n",
    "    print(type(cities), type(country))\n",
    "    print(country,': ',','.join([x.getName() for x in sorted(cities[country].get_cities())]) )   "
   ]
  },
  {
   "cell_type": "markdown",
   "metadata": {},
   "source": []
  },
  {
   "cell_type": "code",
   "execution_count": 88,
   "metadata": {},
   "outputs": [
    {
     "name": "stdout",
     "output_type": "stream",
     "text": [
      "Name: Bob age: 20\n",
      "<class '__main__.Person'> 1832457291824\n",
      "I am emplyeee, my name is  Bob and age 20\n",
      "<class '__main__.Employee'> 1832458005888\n"
     ]
    }
   ],
   "source": [
    "#inheritence\n",
    "class Person:\n",
    "    def __init__(self, p_name, p_age):\n",
    "        self.name=p_name\n",
    "        self.age=p_age\n",
    "\n",
    "    def print(self):\n",
    "        print(f'Name: {self.name} age: {self.age}')\n",
    "\n",
    "bob=Person(\"Bob\",20)     \n",
    "bob.print()\n",
    "print(type(bob),id(bob))\n",
    "\n",
    "class Employee(Person):\n",
    "    def work(self,what,how_long):\n",
    "        print(f'I am doing {what} for {how_long} time')\n",
    "    def print(self):\n",
    "        print(f\"I am emplyeee, my name is  {self.name} and age {self.age}\")\n",
    "\n",
    "bob=Employee(\"Bob\",20)     \n",
    "bob.print()\n",
    "print(type(bob),id(bob))\n"
   ]
  },
  {
   "cell_type": "code",
   "execution_count": 109,
   "metadata": {},
   "outputs": [
    {
     "name": "stdout",
     "output_type": "stream",
     "text": [
      "123\n",
      "12\n"
     ]
    }
   ],
   "source": [
    "class A:\n",
    "    def __init__(self, p):\n",
    "        self.__age=p\n",
    "    def print(self):\n",
    "        print(self.__age)\n",
    "\n",
    "a=A(123)\n",
    "a.print()            \n",
    "\n",
    "class B(A):\n",
    "    def __init__(self, p, k):\n",
    "      super().__init__(p)\n",
    "      self.__age=k #The result will be 124 if mangling(__age) is not used\n",
    "a=B(12,124)\n",
    "a.print()             "
   ]
  },
  {
   "cell_type": "code",
   "execution_count": 110,
   "metadata": {},
   "outputs": [
    {
     "name": "stdout",
     "output_type": "stream",
     "text": [
      "(<class 'str'>, <class 'object'>)\n"
     ]
    }
   ],
   "source": [
    "print(str.__mro__)"
   ]
  },
  {
   "cell_type": "code",
   "execution_count": 114,
   "metadata": {},
   "outputs": [
    {
     "name": "stdout",
     "output_type": "stream",
     "text": [
      "11\n"
     ]
    }
   ],
   "source": [
    "class MyInt(int):\n",
    "    def __add__(self, other):\n",
    "        if type(other) is str:\n",
    "            return int(self) + int(other)\n",
    "        return int(self)+other\n",
    "    \n",
    "print(MyInt(10)+1) "
   ]
  },
  {
   "cell_type": "markdown",
   "metadata": {},
   "source": [
    "Iterate the country class\n"
   ]
  },
  {
   "cell_type": "code",
   "execution_count": 151,
   "metadata": {},
   "outputs": [
    {
     "name": "stdout",
     "output_type": "stream",
     "text": [
      "{'CZ': <__main__.Country object at 0x000001AAA700DFD0>, 'SK': <__main__.Country object at 0x000001AAA6F247A0>, 'AT': <__main__.Country object at 0x000001AAA6D8E330>, 'DE': <__main__.Country object at 0x000001AAA7033FB0>}\n",
      "AT :  Linz,Graz\n",
      "CZ :  Hradec Kralove,Ceske Budejovice,Ostrava,Brno,Praha\n",
      "DE :  Berlin\n",
      "SK :  Zilina,Kosice,Bratislava\n"
     ]
    }
   ],
   "source": [
    "class City:    \n",
    "    def __init__(self, city_name, c_population): # initailized variable of instance /encapsulations\n",
    "        self.__name=city_name #encapulations\n",
    "        self.__population=c_population    \n",
    "\n",
    "    def __gt__(self,other):\n",
    "      return self.__population>other.population\n",
    "\n",
    "    def __str__(self) -> str:\n",
    "       return self.name\n",
    "    \n",
    "    def getName(self): #Getter , To get value of hidden attribute\n",
    "        return self.__name \n",
    "\n",
    "    def setName(self,new):\n",
    "        if type(new) is not str:\n",
    "            raise ValueError('Name of the person must be string !') \n",
    "        if not new: # if empty\n",
    "            raise ValueError('Name must be non empty !')\n",
    "        self.__name=new\n",
    "    \n",
    "    @property\n",
    "    def population(self):\n",
    "       return self.__population    \n",
    "    \n",
    "    @population.setter\n",
    "    def population(self,new):\n",
    "       if type(new) is not int:\n",
    "            raise TypeError('Wrong type of inpt')\n",
    "       if new <= 0  or new< self.__population:\n",
    "            raise ValueError('Negative or younger age not possible')\n",
    "       self.__population=new\n",
    "    \n",
    "\n",
    "class Country:\n",
    "   def __init__(self, c_code):\n",
    "      self.code=c_code\n",
    "      self.country_cities=[]\n",
    "   def __iter__(self):\n",
    "       self.__position = 0\n",
    "       return self\n",
    "   def __next__(self):\n",
    "       if self.__position < len(self.country_cities):\n",
    "         current, self.__position=self.__position, self.__position+1\n",
    "         return self.country_cities[current]\n",
    "       raise StopIteration\n",
    "          \n",
    "   def append(self, city):  \n",
    "      self.country_cities.append(city)  \n",
    "#    def get_cities(self):\n",
    "#       return self.country_cities\n",
    "\n",
    "\n",
    "file = open(r'cities.txt','rt')      \n",
    "cities=dict()\n",
    "#countries=dict()  \n",
    "for line in file:\n",
    "   code, city_name, population=line.strip().split(',')\n",
    "   if code not in cities:\n",
    "      cities[code]=Country(code)  \n",
    "   cities[code].append(City(city_name,int(population)))\n",
    "#print(cities)\n",
    "#City.getName(cities)\n",
    "print(cities)\n",
    "\n",
    "for country in sorted(cities): #iterate over sorted list of keys = country codes\n",
    "    #print(country,': ',','.join(map(lambda x:x[0],sorted(cities[country],key=lambda x:x[1]))),sep='')\n",
    "    #print(type(cities), type(country))\n",
    "   print(country,': ',','.join([x.getName() for x in sorted(cities[country])]) )   "
   ]
  },
  {
   "cell_type": "code",
   "execution_count": 21,
   "metadata": {},
   "outputs": [
    {
     "name": "stdout",
     "output_type": "stream",
     "text": [
      "{'CZ': <__main__.Country object at 0x00000277DF8F7620>, 'SK': <__main__.Country object at 0x00000277DF9002C0>, 'AT': <__main__.Country object at 0x00000277DF74DE80>, 'DE': <__main__.Country object at 0x00000277DF8CDD30>}\n",
      "Brno,Praha,Ceske Budejovice,Ostrava,Hradec Kralove\n",
      "AT :  Linz,Graz\n",
      "CZ :  Hradec Kralove,Ceske Budejovice,Ostrava,Brno,Praha\n",
      "DE :  Berlin\n",
      "SK :  Zilina,Kosice,Bratislava\n"
     ]
    }
   ],
   "source": [
    "class City:    \n",
    "    def __init__(self, city_name, c_population): # initailized variable of instance /encapsulations\n",
    "        self.__name=city_name #encapulations\n",
    "        self.__population=c_population    \n",
    "\n",
    "    def __gt__(self,other):\n",
    "      return self.__population>other.population\n",
    "\n",
    "    def __str__(self) -> str:\n",
    "       return self.__name\n",
    "    \n",
    "    def getName(self): #Getter , To get value of hidden attribute\n",
    "        return self.__name \n",
    "\n",
    "    def setName(self,new):\n",
    "        if type(new) is not str:\n",
    "            raise ValueError('Name of the person must be string !') \n",
    "        if not new: # if empty\n",
    "            raise ValueError('Name must be non empty !')\n",
    "        self.__name=new\n",
    "    \n",
    "    @property\n",
    "    def population(self):\n",
    "       return self.__population    \n",
    "    \n",
    "    @population.setter\n",
    "    def population(self,new):\n",
    "       if type(new) is not int:\n",
    "            raise TypeError('Wrong type of inpt')\n",
    "       if new <= 0  or new< self.__population:\n",
    "            raise ValueError('Negative or younger age not possible')\n",
    "       self.__population=new\n",
    "    \n",
    "\n",
    "class Country:\n",
    "   def __init__(self, c_code):\n",
    "      self.code=c_code\n",
    "      self.country_cities=[]\n",
    "   def __iter__(self):\n",
    "       return iter(self.country_cities)\n",
    "   def __getitem__(self,key):\n",
    "       return self.country_cities[key]\n",
    "          \n",
    "   def append(self, city):  \n",
    "      self.country_cities.append(city)  \n",
    "#    def get_cities(self):\n",
    "#       return self.country_cities\n",
    "\n",
    "\n",
    "file = open(r'cities.txt','rt')      \n",
    "cities=dict()\n",
    "#countries=dict()  \n",
    "for line in file:\n",
    "   code, city_name, population=line.strip().split(',')\n",
    "   if code not in cities:\n",
    "      cities[code]=Country(code)  \n",
    "   cities[code].append(City(city_name,int(population)))\n",
    "#print(cities)\n",
    "#City.getName(cities)\n",
    "print(cities)\n",
    "print(*cities['CZ'],sep=',')\n",
    "\n",
    "\n",
    "for country in sorted(cities): #iterate over sorted list of keys = country codes\n",
    "    #print(country,': ',','.join(map(lambda x:x[0],sorted(cities[country],key=lambda x:x[1]))),sep='')\n",
    "    #print(type(cities), type(country))\n",
    "   print(country,': ',','.join([x.getName() for x in sorted(cities[country])]) )   \n"
   ]
  },
  {
   "cell_type": "code",
   "execution_count": null,
   "metadata": {},
   "outputs": [],
   "source": [
    "class City:    \n",
    "    def __init__(self, city_name, c_population): # initailized variable of instance /encapsulations\n",
    "        self.__name=city_name #encapulations\n",
    "        self.__population=c_population    \n",
    "\n",
    "    def __gt__(self,other):\n",
    "      return self.__population>other.population\n",
    "\n",
    "    def __str__(self) -> str:\n",
    "       return self.name\n",
    "    \n",
    "    def getName(self): #Getter , To get value of hidden attribute\n",
    "        return self.__name \n",
    "\n",
    "    def setName(self,new):\n",
    "        if type(new) is not str:\n",
    "            raise ValueError('Name of the person must be string !') \n",
    "        if not new: # if empty\n",
    "            raise ValueError('Name must be non empty !')\n",
    "        self.__name=new\n",
    "    \n",
    "    @property\n",
    "    def population(self):\n",
    "       return self.__population    \n",
    "    \n",
    "    @population.setter\n",
    "    def population(self,new):\n",
    "       if type(new) is not int:\n",
    "            raise TypeError('Wrong type of inpt')\n",
    "       if new <= 0  or new< self.__population:\n",
    "            raise ValueError('Negative or younger age not possible')\n",
    "       self.__population=new\n",
    "    \n",
    "\n",
    "class Country:\n",
    "   def __init__(self, c_code):\n",
    "      self.code=c_code\n",
    "      self.country_cities=[]\n",
    "   def __iter__(self):\n",
    "       self.__position = 0\n",
    "       return self\n",
    "   def __next__(self):\n",
    "       if self.__position < len(self.country_cities):\n",
    "         current, self.__position=self.__position, self.__position+1\n",
    "         return self.country_cities[current]\n",
    "       raise StopIteration\n",
    "          \n",
    "   def append(self, city):  \n",
    "      self.country_cities.append(city)  \n",
    "#    def get_cities(self):\n",
    "#       return self.country_cities\n",
    "\n",
    "\n",
    "file = open(r'cities.txt','rt')      \n",
    "cities=dict()\n",
    "#countries=dict()  \n",
    "for line in file:\n",
    "   code, city_name, population=line.strip().split(',')\n",
    "   if code not in cities:\n",
    "      cities[code]=Country(code)  \n",
    "   cities[code].append(City(city_name,int(population)))\n",
    "#print(cities)\n",
    "#City.getName(cities)\n",
    "print(cities)\n",
    "\n",
    "for country in sorted(cities): #iterate over sorted list of keys = country codes\n",
    "    #print(country,': ',','.join(map(lambda x:x[0],sorted(cities[country],key=lambda x:x[1]))),sep='')\n",
    "    #print(type(cities), type(country))\n",
    "   print(country,': ',','.join([x.getName() for x in sorted(cities[country])]) )   "
   ]
  },
  {
   "cell_type": "markdown",
   "metadata": {},
   "source": [
    "Another way to create the class\n"
   ]
  },
  {
   "cell_type": "code",
   "execution_count": 155,
   "metadata": {},
   "outputs": [
    {
     "name": "stdout",
     "output_type": "stream",
     "text": [
      "<class '__main__.Y'> <class 'type'>\n",
      "<class '__main__.Person'> <class 'type'>\n"
     ]
    }
   ],
   "source": [
    "Y=type('Y',(), {'Person_ID':1})\n",
    "print(Y,type(Y))\n",
    "print(Person, type(Person))"
   ]
  },
  {
   "cell_type": "code",
   "execution_count": 157,
   "metadata": {},
   "outputs": [
    {
     "ename": "AssertionError",
     "evalue": "",
     "output_type": "error",
     "traceback": [
      "\u001b[1;31m---------------------------------------------------------------------------\u001b[0m",
      "\u001b[1;31mAssertionError\u001b[0m                            Traceback (most recent call last)",
      "Cell \u001b[1;32mIn[157], line 1\u001b[0m\n\u001b[1;32m----> 1\u001b[0m \u001b[38;5;28;01massert\u001b[39;00m \u001b[38;5;241m10\u001b[39m\u001b[38;5;241m>\u001b[39m\u001b[38;5;241m100\u001b[39m\n",
      "\u001b[1;31mAssertionError\u001b[0m: "
     ]
    }
   ],
   "source": [
    "assert 10>100"
   ]
  },
  {
   "cell_type": "code",
   "execution_count": 8,
   "metadata": {},
   "outputs": [
    {
     "name": "stdout",
     "output_type": "stream",
     "text": [
      "Hello from Gopas x\n",
      "Hello Brno Y\n",
      "Hello Brno Y\n"
     ]
    }
   ],
   "source": [
    "#class LoadableSaveable(type):#this is meta class (Inherit from the type) and will check that new class has save and load method\n",
    "#do we have abstarct class /methos in Python\n",
    "#No we do not have ,...................BUT!!!\n",
    "#???\\\n",
    "# import abc\n",
    "# class Gopas(metaclass=abc.ABCMeta):\n",
    "#     def x(self):\n",
    "#         print(x)\n",
    "#     @abc.abstractmethod    \n",
    "#     def y(self):\n",
    "#         pass\n",
    "# g=Gopas()       \n",
    "import abc\n",
    "class Gopas(metaclass=abc.ABCMeta):\n",
    "    def x(self):\n",
    "        print(\"Hello from Gopas x\")\n",
    "    @abc.abstractmethod    \n",
    "    def y(self):\n",
    "        print(\"Hello from Gopas Y\")\n",
    "\n",
    "class Brno(Gopas):\n",
    "    def y(self):\n",
    "     print(\"Hello Brno Y\")    \n",
    "b=Brno()\n",
    "b.x()\n",
    "b.y()  \n",
    "class Brno(Gopas):\n",
    "  def y(self):\n",
    "     print(\"Hello Brno Y\")    \n",
    "g=Brno()\n",
    "g.y() "
   ]
  },
  {
   "cell_type": "markdown",
   "metadata": {},
   "source": [
    "Functions are first class citizens. Means Finction can pass it as parameter in another fuction and one function can take return from other function\n"
   ]
  },
  {
   "cell_type": "code",
   "execution_count": 43,
   "metadata": {},
   "outputs": [
    {
     "name": "stdout",
     "output_type": "stream",
     "text": [
      "<class 'function'> 2713882735648 ['__annotations__', '__builtins__', '__call__', '__class__', '__closure__', '__code__', '__defaults__', '__delattr__', '__dict__', '__dir__', '__doc__', '__eq__', '__format__', '__ge__', '__get__', '__getattribute__', '__getstate__', '__globals__', '__gt__', '__hash__', '__init__', '__init_subclass__', '__kwdefaults__', '__le__', '__lt__', '__module__', '__name__', '__ne__', '__new__', '__qualname__', '__reduce__', '__reduce_ex__', '__repr__', '__setattr__', '__sizeof__', '__str__', '__subclasshook__', '__type_params__']\n",
      "1\n",
      "2\n",
      "3\n"
     ]
    }
   ],
   "source": [
    "def f1(x):\n",
    "    return x\n",
    "def f2(x):\n",
    "    return x+1\n",
    "def f3(x):\n",
    "    return x+2\n",
    "\n",
    "function={1:f1,2:f2,3:f3}\n",
    "\n",
    "print(type(f1), id(f1), dir(f1))\n",
    "a=function[1]\n",
    "print(a(1))\n",
    "a=function[2]\n",
    "print(a(1))\n",
    "a=function[3]\n",
    "print(a(1))"
   ]
  },
  {
   "cell_type": "code",
   "execution_count": 36,
   "metadata": {},
   "outputs": [
    {
     "name": "stdout",
     "output_type": "stream",
     "text": [
      "4\n"
     ]
    }
   ],
   "source": [
    "def F():\n",
    " def Brno(a,b):\n",
    "  return a + b\n",
    " return Brno\n",
    "\n",
    "s=F()\n",
    "print(s(1,3))"
   ]
  },
  {
   "cell_type": "code",
   "execution_count": null,
   "metadata": {},
   "outputs": [],
   "source": [
    "import functools\n",
    "\n",
    "@function.cache\n",
    "def Add(a, b):\n",
    "    print(f'Adding {a} and {b}')\n",
    "    return a + b\n"
   ]
  },
  {
   "cell_type": "code",
   "execution_count": 50,
   "metadata": {},
   "outputs": [
    {
     "name": "stdout",
     "output_type": "stream",
     "text": [
      "Hello JARDA\n",
      "<b>Hello HELLO</b>\n"
     ]
    },
    {
     "data": {
      "text/plain": [
       "'<b>Hello RADIM</b>'"
      ]
     },
     "execution_count": 50,
     "metadata": {},
     "output_type": "execute_result"
    }
   ],
   "source": [
    "def greet(name):\n",
    "    return f'Hello {name.upper()}'\n",
    "    \n",
    "\n",
    "print(greet('Jarda'))\n",
    "\n",
    "def decorator_of_greet_function(p_function): #decorator\n",
    "    def wrapper(p_name):\n",
    "        return f'<b>{p_function(p_name)}</b>'\n",
    "    return wrapper\n",
    "\n",
    "makebold=decorator_of_greet_function(greet)\n",
    "print(makebold('hello'))\n",
    "\n",
    "#same with decorator\n",
    "@decorator_of_greet_function\n",
    "def greet(name):\n",
    "    return f'Hello {name.upper()}'\n",
    "\n",
    "greet('Radim')\n"
   ]
  },
  {
   "cell_type": "code",
   "execution_count": 56,
   "metadata": {},
   "outputs": [
    {
     "name": "stdout",
     "output_type": "stream",
     "text": [
      "Hello ('JARDA', 'Jarda1')\n",
      "<b>Hello ('HELLO', 'hello')</b>\n"
     ]
    },
    {
     "data": {
      "text/plain": [
       "\"<b>Hello ('RADIM', 'Aniket')</b>\""
      ]
     },
     "execution_count": 56,
     "metadata": {},
     "output_type": "execute_result"
    }
   ],
   "source": [
    "def greet(name,name1):\n",
    "    return f'Hello {name.upper(), name1}'\n",
    "    \n",
    "\n",
    "print(greet('Jarda',\"Jarda1\"))\n",
    "\n",
    "def decorator_of_greet_function(p_function): #decorator\n",
    "    def wrapper(p_name, q_name):\n",
    "        return f'<b>{p_function(p_name,q_name)}</b>'\n",
    "    return wrapper\n",
    "\n",
    "makebold=decorator_of_greet_function(greet)\n",
    "print(makebold('hello','hello'))\n",
    "\n",
    "#same with decorator\n",
    "@decorator_of_greet_function\n",
    "def greet(name, name1):\n",
    "    return f'Hello {name.upper(),name1}'\n",
    "\n",
    "greet('Radim', 'Aniket')\n"
   ]
  },
  {
   "cell_type": "markdown",
   "metadata": {},
   "source": [
    "Make wrapper to get more parameter\n"
   ]
  },
  {
   "cell_type": "code",
   "execution_count": 60,
   "metadata": {},
   "outputs": [
    {
     "data": {
      "text/plain": [
       "\"<b>Hello ('RADIM', 'Aniket')</b>\""
      ]
     },
     "execution_count": 60,
     "metadata": {},
     "output_type": "execute_result"
    }
   ],
   "source": [
    "def decorator_of_greet_function(p_function): #decorator\n",
    "    def wrapper(*args, **kwargs): #args is tuples and kwargs dictionary\n",
    "        return f'<b>{p_function(*args,**kwargs)}</b>'\n",
    "    return wrapper\n",
    "\n",
    "#same with decorator\n",
    "@decorator_of_greet_function\n",
    "def greet(name, name1):\n",
    "    return f'Hello {name.upper(),name1}'\n",
    "\n",
    "greet('Radim', 'Aniket')"
   ]
  },
  {
   "cell_type": "code",
   "execution_count": 68,
   "metadata": {},
   "outputs": [
    {
     "name": "stdout",
     "output_type": "stream",
     "text": [
      "<b><i>Hello ('RADIM', 'Aniket')</i></b>\n",
      "<u><i>Hello ('RADIM', 'Aniket')</i></u>\n"
     ]
    }
   ],
   "source": [
    "def bold(p_function): #decorator\n",
    "    def wrapper(*args, **kwargs): #args is tuples and kwargs dictionary\n",
    "        return f'<b>{p_function(*args,**kwargs)}</b>'\n",
    "    return wrapper\n",
    "\n",
    "def italic(p_function): #decorator\n",
    "    def wrapper(*args, **kwargs): #args is tuples and kwargs dictionary\n",
    "        return f'<i>{p_function(*args,**kwargs)}</i>'\n",
    "    return wrapper\n",
    "\n",
    "def underscore(p_function): #decorator\n",
    "    def wrapper(*args, **kwargs): #args is tuples and kwargs dictionary\n",
    "        return f'<u>{p_function(*args,**kwargs)}</u>'\n",
    "    return wrapper\n",
    "\n",
    "#same with decorator\n",
    "@bold\n",
    "@italic\n",
    "def greet(name, name1):\n",
    "    return f'Hello {name.upper(),name1}'\n",
    "\n",
    "print(greet('Radim', 'Aniket'))\n",
    "\n",
    "@underscore\n",
    "@italic\n",
    "def greet(name, name1):\n",
    "    return f'Hello {name.upper(),name1}'\n",
    "\n",
    "print(greet('Radim', 'Aniket'))"
   ]
  },
  {
   "cell_type": "code",
   "execution_count": 71,
   "metadata": {},
   "outputs": [
    {
     "name": "stdout",
     "output_type": "stream",
     "text": [
      "<u><i>Hello ('RADIM', 'Aniket')</i></u>\n",
      "<i><b>Hello ('RADIM', 'Aniket')</b></i>\n"
     ]
    }
   ],
   "source": [
    "def html_tag(tag): #decorator\n",
    "    def initiatlized_decorator(p_function):\n",
    "         def wrapper(*args, **kwargs): #args is tuples and kwargs dictionary\n",
    "           return f'<{tag}>{p_function(*args,**kwargs)}</{tag}>'\n",
    "         return wrapper\n",
    "    return initiatlized_decorator\n",
    "\n",
    "\n",
    "#same with decorator\n",
    "@html_tag('u')\n",
    "@html_tag('i')\n",
    "def greet(name, name1):\n",
    "    return f'Hello {name.upper(),name1}'\n",
    "\n",
    "print(greet('Radim', 'Aniket'))\n",
    "\n",
    "@html_tag('i')\n",
    "@html_tag('b')\n",
    "def greet(name, name1):\n",
    "    return f'Hello {name.upper(),name1}'\n",
    "\n",
    "print(greet('Radim', 'Aniket'))"
   ]
  },
  {
   "cell_type": "code",
   "execution_count": 144,
   "metadata": {},
   "outputs": [
    {
     "name": "stdout",
     "output_type": "stream",
     "text": [
      "<function f2 at 0x00000277DF803420>\n",
      "499999500000\n",
      "Result: 499999500000 Time taken: 0.02 seconds\n"
     ]
    }
   ],
   "source": [
    "#create a decortor called timethat\n",
    "import time\n",
    "\n",
    "L= list(range(10_000_00))\n",
    "\n",
    "\n",
    "def timethat(p_function):\n",
    "    print(p_function)\n",
    "    def wrapper(*args,**kwargs):\n",
    "        start = time.perf_counter()\n",
    "        result = p_function(*args,**kwargs)\n",
    "        end = time.perf_counter()\n",
    "        elapsed = end - start\n",
    "        output=(f'Result: {result} Time taken: {elapsed:.2f} seconds')\n",
    "        return output\n",
    "    return wrapper\n",
    "\n",
    "\n",
    "def f1(p_list):\n",
    "    return sum(p_list)\n",
    "\n",
    "@timethat\n",
    "def f2(p_list):\n",
    "    suma=0\n",
    "    for number in p_list:\n",
    "        suma=suma+number\n",
    "    return suma\n",
    "\n",
    "\n",
    "\n",
    "print(f1(L))\n",
    "print(f2(L))\n",
    "\n",
    "\n"
   ]
  },
  {
   "cell_type": "code",
   "execution_count": null,
   "metadata": {},
   "outputs": [],
   "source": []
  },
  {
   "cell_type": "code",
   "execution_count": null,
   "metadata": {},
   "outputs": [],
   "source": []
  }
 ],
 "metadata": {
  "kernelspec": {
   "display_name": "Python 3",
   "language": "python",
   "name": "python3"
  },
  "language_info": {
   "codemirror_mode": {
    "name": "ipython",
    "version": 3
   },
   "file_extension": ".py",
   "mimetype": "text/x-python",
   "name": "python",
   "nbconvert_exporter": "python",
   "pygments_lexer": "ipython3",
   "version": "3.12.2"
  }
 },
 "nbformat": 4,
 "nbformat_minor": 2
}
