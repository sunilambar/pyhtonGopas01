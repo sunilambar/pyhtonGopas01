{
 "cells": [
  {
   "cell_type": "code",
   "execution_count": 1,
   "metadata": {},
   "outputs": [
    {
     "name": "stdout",
     "output_type": "stream",
     "text": [
      "There was an erro <class 'ZeroDivisionError'> division by zero\n"
     ]
    }
   ],
   "source": [
    "a=10\n",
    "b=0\n",
    "try:\n",
    "    c=a/b\n",
    "except ZeroDivisionError as ex:\n",
    "    print('There was an erro',type(ex),ex)    "
   ]
  },
  {
   "cell_type": "code",
   "execution_count": 2,
   "metadata": {},
   "outputs": [
    {
     "name": "stdout",
     "output_type": "stream",
     "text": [
      "{'CZ': ['Brno', 'Praha', 'Hradec Kralove', 'Ostrava', 'Kolin'], 'SK': ['Kosice', 'Bratislava', 'Zilina'], 'AT': ['Linz', 'Graz'], 'DE': ['Berlin']}\n",
      "AT: Graz, Linz\n",
      "CZ: Brno, Hradec Kralove, Kolin, Ostrava, Praha\n",
      "DE: Berlin\n",
      "SK: Bratislava, Kosice, Zilina\n"
     ]
    }
   ],
   "source": [
    "lines=['CZ,Brno','CZ,Praha','SK,Kosice','AT,Linz','DE,Berlin','CZ,Hradec Kralove','SK,Bratislava',\n",
    "      'SK,Zilina','CZ,Ostrava','CZ,Kolin','AT,Graz']\n",
    "countries=dict()  #{} prefer function call for empty containers\n",
    "for line in lines:\n",
    "    code,city=line.split(',')\n",
    "    try:\n",
    "        countries[code].append(city)\n",
    "    except KeyError:\n",
    "        countries[code]=[city]\n",
    "print(countries)\n",
    "for country in sorted(countries):\n",
    "    print(country,': ',', '.join(sorted(countries[country])),sep='')"
   ]
  },
  {
   "cell_type": "code",
   "execution_count": 3,
   "metadata": {},
   "outputs": [
    {
     "name": "stdout",
     "output_type": "stream",
     "text": [
      "No exception\n",
      "Finishing\n"
     ]
    }
   ],
   "source": [
    "try:\n",
    "    #raise KeyError\n",
    "    i=10/1\n",
    "    \n",
    "except KeyError:\n",
    "    pass\n",
    "except IndexError:\n",
    "    print('index error')\n",
    "except Exception as ex:\n",
    "    print('Catched exception',ex,type(ex))\n",
    "else:\n",
    "    print('No exception')\n",
    "finally:\n",
    "    print('Finishing')"
   ]
  },
  {
   "cell_type": "code",
   "execution_count": 6,
   "metadata": {},
   "outputs": [
    {
     "name": "stdout",
     "output_type": "stream",
     "text": [
      "Unable to open\n",
      "CZ,Brno,395000\n",
      "CZ,Praha,1100000\n",
      "SK,Kosice,185000\n",
      "AT,Linz,78000\n",
      "DE,Berlin,6300000\n",
      "CZ,Hradec Kralove,97000\n",
      "SK,Bratislava,403000\n",
      "SK,Zilina,65000\n",
      "CZ,Ostrava,280000\n",
      "CZ,Kolin,57000\n",
      "AT,Graz,91000\n",
      "12,Hodonin,12345\n",
      "\n",
      "CZ,12345,67888\n",
      "SK,Trnava,ahoj\n",
      "CZ;Plzen,897\n",
      "AB,Abc,2345,986\n",
      "CZ,Ceske Budejovice,174000\n",
      "CZ,As,7600\n"
     ]
    }
   ],
   "source": [
    "#work with files\n",
    "try:\n",
    "    file=open('cities30.txt','rt')\n",
    "except FileNotFoundError:\n",
    "    print('Unable to open')\n",
    "#s=open(r'e:\\Logins.txt')\n",
    "file=open('cities3.txt','rt')\n",
    "for line in file:\n",
    "    print(line.rstrip())"
   ]
  },
  {
   "cell_type": "code",
   "execution_count": null,
   "metadata": {},
   "outputs": [],
   "source": [
    "def validate_city_line(line,delimiter=','):\n",
    "    x=line.split(delimiter)\n",
    "    if len(x)!=3:\n",
    "        raise ValueError(f'Bad number of elements, expected 3, got {len(x)}')\n",
    "    if not ( x[0].isascii() and x[0].isupper() and len(x[0])==2):\n",
    "        raise ValueError('Bad country code')\n",
    "    try:\n",
    "        p=int(x[2])\n",
    "    except:\n",
    "        raise ValueError('Bad population, must be positive integer')\n",
    "    if not( len(x[1])>1 and x[1][0].isupper() and x[1][1].islower() ):\n",
    "        raise ValueError('Bad city name')\n",
    "    return x"
   ]
  }
 ],
 "metadata": {
  "kernelspec": {
   "display_name": "Python 3",
   "language": "python",
   "name": "python3"
  },
  "language_info": {
   "codemirror_mode": {
    "name": "ipython",
    "version": 3
   },
   "file_extension": ".py",
   "mimetype": "text/x-python",
   "name": "python",
   "nbconvert_exporter": "python",
   "pygments_lexer": "ipython3",
   "version": "3.12.2"
  }
 },
 "nbformat": 4,
 "nbformat_minor": 2
}
