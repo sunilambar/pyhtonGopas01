{
 "cells": [
  {
   "cell_type": "code",
   "execution_count": 1,
   "metadata": {},
   "outputs": [
    {
     "name": "stdout",
     "output_type": "stream",
     "text": [
      "There was an erro <class 'ZeroDivisionError'> division by zero\n"
     ]
    }
   ],
   "source": [
    "a=10\n",
    "b=0\n",
    "try:\n",
    "    c=a/b\n",
    "except ZeroDivisionError as ex:\n",
    "    print('There was an erro',type(ex),ex)    "
   ]
  },
  {
   "cell_type": "code",
   "execution_count": 2,
   "metadata": {},
   "outputs": [
    {
     "name": "stdout",
     "output_type": "stream",
     "text": [
      "{'CZ': ['Brno', 'Praha', 'Hradec Kralove', 'Ostrava', 'Kolin'], 'SK': ['Kosice', 'Bratislava', 'Zilina'], 'AT': ['Linz', 'Graz'], 'DE': ['Berlin']}\n",
      "AT: Graz, Linz\n",
      "CZ: Brno, Hradec Kralove, Kolin, Ostrava, Praha\n",
      "DE: Berlin\n",
      "SK: Bratislava, Kosice, Zilina\n"
     ]
    }
   ],
   "source": [
    "lines=['CZ,Brno','CZ,Praha','SK,Kosice','AT,Linz','DE,Berlin','CZ,Hradec Kralove','SK,Bratislava',\n",
    "      'SK,Zilina','CZ,Ostrava','CZ,Kolin','AT,Graz']\n",
    "countries=dict()  #{} prefer function call for empty containers\n",
    "for line in lines:\n",
    "    code,city=line.split(',')\n",
    "    try:\n",
    "        countries[code].append(city)\n",
    "    except KeyError:\n",
    "        countries[code]=[city]\n",
    "print(countries)\n",
    "for country in sorted(countries):\n",
    "    print(country,': ',', '.join(sorted(countries[country])),sep='')"
   ]
  },
  {
   "cell_type": "code",
   "execution_count": 3,
   "metadata": {},
   "outputs": [
    {
     "name": "stdout",
     "output_type": "stream",
     "text": [
      "No exception\n",
      "Finishing\n"
     ]
    }
   ],
   "source": [
    "try:\n",
    "    #raise KeyError\n",
    "    i=10/1\n",
    "    \n",
    "except KeyError:\n",
    "    pass\n",
    "except IndexError:\n",
    "    print('index error')\n",
    "except Exception as ex:\n",
    "    print('Catched exception',ex,type(ex))\n",
    "else:\n",
    "    print('No exception')\n",
    "finally:\n",
    "    print('Finishing')"
   ]
  },
  {
   "cell_type": "code",
   "execution_count": 6,
   "metadata": {},
   "outputs": [
    {
     "name": "stdout",
     "output_type": "stream",
     "text": [
      "Unable to open\n",
      "CZ,Brno,395000\n",
      "CZ,Praha,1100000\n",
      "SK,Kosice,185000\n",
      "AT,Linz,78000\n",
      "DE,Berlin,6300000\n",
      "CZ,Hradec Kralove,97000\n",
      "SK,Bratislava,403000\n",
      "SK,Zilina,65000\n",
      "CZ,Ostrava,280000\n",
      "CZ,Kolin,57000\n",
      "AT,Graz,91000\n",
      "12,Hodonin,12345\n",
      "\n",
      "CZ,12345,67888\n",
      "SK,Trnava,ahoj\n",
      "CZ;Plzen,897\n",
      "AB,Abc,2345,986\n",
      "CZ,Ceske Budejovice,174000\n",
      "CZ,As,7600\n"
     ]
    }
   ],
   "source": [
    "#work with files\n",
    "try:\n",
    "    file=open('cities30.txt','rt')\n",
    "except FileNotFoundError:\n",
    "    print('Unable to open')\n",
    "#s=open(r'e:\\Logins.txt')\n",
    "file=open('cities3.txt','rt')\n",
    "for line in file:\n",
    "    print(line.rstrip())"
   ]
  },
  {
   "cell_type": "code",
   "execution_count": null,
   "metadata": {},
   "outputs": [],
   "source": [
    "def validate_city_line(line,delimiter=','):\n",
    "    x=line.split(delimiter)\n",
    "    if len(x)!=3:\n",
    "        raise ValueError(f'Bad number of elements, expected 3, got {len(x)}')\n",
    "    if not ( x[0].isascii() and x[0].isupper() and len(x[0])==2):\n",
    "        raise ValueError('Bad country code')\n",
    "    try:\n",
    "        p=int(x[2])\n",
    "    except:\n",
    "        raise ValueError('Bad population, must be positive integer')\n",
    "    if not( len(x[1])>1 and x[1][0].isupper() and x[1][1].islower() ):\n",
    "        raise ValueError('Bad city name')\n",
    "    return x"
   ]
  },
  {
   "cell_type": "code",
   "execution_count": 2,
   "metadata": {},
   "outputs": [
    {
     "name": "stdout",
     "output_type": "stream",
     "text": [
      "100 address in use\n",
      "101 address not available\n",
      "102 address family not supported\n",
      "103 connection already in progress\n",
      "104 bad message\n",
      "105 operation canceled\n",
      "106 connection aborted\n",
      "107 connection refused\n",
      "108 connection reset\n",
      "109 destination address required\n"
     ]
    }
   ],
   "source": [
    "import os\n",
    "for i in range(100,110):\n",
    "    print(i, os.strerror(i))"
   ]
  },
  {
   "cell_type": "markdown",
   "metadata": {},
   "source": [
    "unix .py please use first line to set the pyhon path\n",
    "\n",
    "#!/usr/bin/env pyhon3"
   ]
  },
  {
   "cell_type": "code",
   "execution_count": 3,
   "metadata": {},
   "outputs": [
    {
     "name": "stdout",
     "output_type": "stream",
     "text": [
      "['C:\\\\Users\\\\Student\\\\AppData\\\\Roaming\\\\Python\\\\Python312\\\\site-packages\\\\ipykernel_launcher.py', '--f=c:\\\\Users\\\\Student\\\\AppData\\\\Roaming\\\\jupyter\\\\runtime\\\\kernel-v2-8068bOlOgjU71FBM.json']\n"
     ]
    }
   ],
   "source": [
    "import sys\n",
    "#get the filename from the program parameter\n",
    "print(sys.argv)\n",
    "filename=sys.argv[1]\n"
   ]
  },
  {
   "cell_type": "code",
   "execution_count": 22,
   "metadata": {},
   "outputs": [
    {
     "name": "stdout",
     "output_type": "stream",
     "text": [
      "CZ,Brno,395000\n",
      "CZ,Praha,1100000\n",
      "SK,Kosice,185000\n",
      "AT,Linz,78000\n",
      "DE,Berlin,6300000\n",
      "CZ,Hradec Kralove,97000\n",
      "SK,Bratislava,403000\n",
      "SK,Zilina,65000\n",
      "CZ,Ostrava,280000\n",
      "CZ,Kolin,57000\n",
      "AT,Graz,91000\n",
      "12,Hodonin,12345\n",
      "\n",
      "CZ,12345,67888\n",
      "SK,Trnava,ahoj\n",
      "CZ;Plzen,897\n",
      "AB,Abc,2345,986\n",
      "CZ,Ceske Budejovice,174000\n",
      "CZ,As,7600\n"
     ]
    }
   ],
   "source": [
    "#files\n",
    "f=open(r'C:\\users\\student\\pyhtongopas01\\cities3.txt','rt')\n",
    "#print(f.readlines())\n",
    "#print(f)\n",
    "for line in f:\n",
    "    print(line.rstrip())"
   ]
  },
  {
   "cell_type": "markdown",
   "metadata": {},
   "source": [
    "How to write\n"
   ]
  },
  {
   "cell_type": "code",
   "execution_count": 24,
   "metadata": {},
   "outputs": [],
   "source": [
    "#writting to file\n",
    "f=open(r'C:\\users\\student\\pyhtongopas01\\cities3.txt','wt')\n",
    "f.write('First line\\n')\n",
    "for i in range(5):\n",
    "    f.write(f'line {1}\\n')\n",
    "f.writelines(['gopas\\n','brno\\n'])\n",
    "f.close()    \n"
   ]
  },
  {
   "cell_type": "code",
   "execution_count": 35,
   "metadata": {},
   "outputs": [
    {
     "name": "stdout",
     "output_type": "stream",
     "text": [
      "line 1\n",
      "line 1\n",
      "line 1\n",
      "line 1\n",
      "line 1\n",
      "Done with writting to new filename cities4.txt \n"
     ]
    }
   ],
   "source": [
    "#writting to file\n",
    "f=open(r'C:\\users\\student\\pyhtongopas01\\cities4.txt','wt')\n",
    "print('First line',file=f)\n",
    "for i in range(5):\n",
    "    print(f'line {1}')#,file=f)\n",
    "print(['gopas','brno',\"60101\"],file=f)\n",
    "f.close\n",
    "print(\"Done with writting to new filename cities4.txt \") \n"
   ]
  },
  {
   "cell_type": "code",
   "execution_count": 57,
   "metadata": {},
   "outputs": [],
   "source": [
    "#files\n",
    "f=open(r'C:\\users\\student\\pyhtongopas01\\cities1.txt','rt')\n",
    "g=open(r'C:\\users\\student\\pyhtongopas01\\cities5.txt','wt')\n",
    "#print(f.readlines())\n",
    "#print(f)\n",
    "for line in f:\n",
    "    print(f' {line.rstrip()}', file=g)"
   ]
  },
  {
   "cell_type": "code",
   "execution_count": 66,
   "metadata": {},
   "outputs": [
    {
     "name": "stdout",
     "output_type": "stream",
     "text": [
      "AT: Graz, Linz\n",
      "CZ: Brno, Hradec Kralove, Kolin, Ostrava, Praha\n",
      "DE: Berlin\n",
      "SK: Bratislava, Kosice, Zilina\n"
     ]
    },
    {
     "data": {
      "text/plain": [
       "<function TextIOWrapper.close()>"
      ]
     },
     "execution_count": 66,
     "metadata": {},
     "output_type": "execute_result"
    }
   ],
   "source": [
    "lines=['CZ,Brno','CZ,Praha','SK,Kosice','AT,Linz','DE,Berlin','CZ,Hradec Kralove','SK,Bratislava',\n",
    "      'SK,Zilina','CZ,Ostrava','CZ,Kolin','AT,Graz']\n",
    "countries=dict()  #{} prefer function call for empty containers\n",
    "for line in lines:\n",
    "    code,city=line.split(',')\n",
    "    try:\n",
    "        countries[code].append(city)\n",
    "    except KeyError:\n",
    "        countries[code]=[city]\n",
    "g=open(r'C:\\users\\student\\pyhtongopas01\\cities5.txt','wt')        \n",
    "for country in sorted(countries):\n",
    "    print(country,': ',', '.join(sorted(countries[country])),sep='')\n",
    "g.close"
   ]
  },
  {
   "cell_type": "markdown",
   "metadata": {},
   "source": [
    "Python Memory management"
   ]
  },
  {
   "cell_type": "code",
   "execution_count": 72,
   "metadata": {},
   "outputs": [
    {
     "name": "stdout",
     "output_type": "stream",
     "text": [
      "[1, 10, 30]\n",
      "[1, 10, 30, 5]\n",
      "[1, 10, 30]\n",
      "[1, 10, 30]\n"
     ]
    }
   ],
   "source": [
    "def f(x):\n",
    "    print(x)\n",
    "    x.append(5)\n",
    "\n",
    "number=[1,10,30]\n",
    "f(number)\n",
    "print(number)\n",
    "del number\n",
    "number=[1,10,30]\n",
    "f(number[:]) #This is copy of the list ,  Not updated the number list\n",
    "print(number)"
   ]
  },
  {
   "cell_type": "markdown",
   "metadata": {},
   "source": []
  }
 ],
 "metadata": {
  "kernelspec": {
   "display_name": "Python 3",
   "language": "python",
   "name": "python3"
  },
  "language_info": {
   "codemirror_mode": {
    "name": "ipython",
    "version": 3
   },
   "file_extension": ".py",
   "mimetype": "text/x-python",
   "name": "python",
   "nbconvert_exporter": "python",
   "pygments_lexer": "ipython3",
   "version": "3.12.2"
  }
 },
 "nbformat": 4,
 "nbformat_minor": 2
}
