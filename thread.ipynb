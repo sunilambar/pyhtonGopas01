{
 "cells": [
  {
   "cell_type": "code",
   "execution_count": 7,
   "metadata": {},
   "outputs": [
    {
     "name": "stdout",
     "output_type": "stream",
     "text": [
      "Thread-1: Thu Apr 11 09:32:53 2024\n",
      "Thread-2: Thu Apr 11 09:32:55 2024\n",
      "Thread-1: Thu Apr 11 09:32:55 2024\n",
      "Thread-1: Thu Apr 11 09:32:57 2024\n"
     ]
    },
    {
     "name": "stdout",
     "output_type": "stream",
     "text": [
      "Thread-2: Thu Apr 11 09:32:59 2024\n",
      "Thread-1: Thu Apr 11 09:32:59 2024\n",
      "Thread-1: Thu Apr 11 09:33:01 2024\n",
      "Thread-2: Thu Apr 11 09:33:03 2024\n",
      "Thread-2: Thu Apr 11 09:33:07 2024\n",
      "Thread-2: Thu Apr 11 09:33:11 2024\n"
     ]
    }
   ],
   "source": [
    "import _thread\n",
    "import time\n",
    "# Define a function for the thread\n",
    "def print_time(threadName, delay):\n",
    "  count = 0\n",
    "  while count < 5:\n",
    "    time.sleep(delay)\n",
    "    count += 1\n",
    "    print(\"%s: %s\" % (threadName, time.ctime(time.time())))\n",
    "\n",
    "# Create two threads as follows\n",
    "try:\n",
    "  _thread.start_new_thread(print_time, (\"Thread-1\", 2,))\n",
    "  _thread.start_new_thread(print_time, (\"Thread-2\", 4,))\n",
    "except Exception as ex:\n",
    "  print(\"Error: unable to start thread\")\n",
    "  print(ex)\n",
    "#while 1:\n",
    "#  pass\n",
    "x=input()\n"
   ]
  },
  {
   "cell_type": "code",
   "execution_count": 13,
   "metadata": {},
   "outputs": [
    {
     "name": "stdout",
     "output_type": "stream",
     "text": [
      "Thread-1: Thu Apr 11 09:42:29 2024\n",
      "Thread-1: Thu Apr 11 09:42:30 2024\n",
      "Thread-2: Thu Apr 11 09:42:30 2024\n",
      "Thread-1: Thu Apr 11 09:42:31 2024\n",
      "Thread-1: Thu Apr 11 09:42:33 2024\n",
      "Thread-2: Thu Apr 11 09:42:33 2024\n",
      "Thread-1: Thu Apr 11 09:42:34 2024\n",
      "Thread-2: Thu Apr 11 09:42:35 2024\n",
      "Thread-2: Thu Apr 11 09:42:36 2024\n",
      "Thread-2: Thu Apr 11 09:42:37 2024\n",
      "300000001\n"
     ]
    }
   ],
   "source": [
    "import _thread\n",
    "import time\n",
    "# Define a function for the thread\n",
    "a=1\n",
    "def print_time(threadName, delay):\n",
    "  global a\n",
    "  count = 0\n",
    "  while count < 5:\n",
    "    for i in range(delay*10_000_000):\n",
    "      a+=1\n",
    "    #time.sleep(delay)\n",
    "    count += 1\n",
    "    print(\"%s: %s\" % (threadName, time.ctime(time.time())))\n",
    "\n",
    "# Create two threads as follows\n",
    "try:\n",
    "  _thread.start_new_thread(print_time, (\"Thread-1\", 2,))\n",
    "  _thread.start_new_thread(print_time, (\"Thread-2\", 4,))\n",
    "except Exception as ex:\n",
    "  print(\"Error: unable to start thread\")\n",
    "  print(ex)\n",
    "#while 1:\n",
    "#  pass\n",
    "x=input()\n",
    "print(a)\n"
   ]
  },
  {
   "cell_type": "code",
   "execution_count": 16,
   "metadata": {},
   "outputs": [
    {
     "name": "stdout",
     "output_type": "stream",
     "text": [
      "Thread-1: Thu Apr 11 09:45:06 2024\n",
      "Thread-1: Thu Apr 11 09:45:07 2024\n",
      "48257796\n"
     ]
    },
    {
     "name": "stdout",
     "output_type": "stream",
     "text": [
      "Thread-1: Thu Apr 11 09:45:08 2024\n",
      "Thread-1: Thu Apr 11 09:45:08 2024\n",
      "Thread-1: Thu Apr 11 09:45:09 2024\n"
     ]
    }
   ],
   "source": [
    "import _thread\n",
    "import time\n",
    "# Define a function for the thread\n",
    "a=1\n",
    "def print_time(threadName, delay):\n",
    "  global a\n",
    "  count = 0\n",
    "  while count < 5:\n",
    "    for i in range(delay*10_000_000):\n",
    "      a+=1\n",
    "    #time.sleep(delay)\n",
    "    count += 1\n",
    "    print(\"%s: %s\" % (threadName, time.ctime(time.time())))\n",
    "\n",
    "# Create two threads as follows\n",
    "try:\n",
    "  _thread.start_new_thread(print_time, (\"Thread-1\", 2,))\n",
    "#  _thread.start_new_thread(print_time, (\"Thread-2\", 4,))\n",
    "except Exception as ex:\n",
    "  print(\"Error: unable to start thread\")\n",
    "  print(ex)\n",
    "#while 1:\n",
    "#  pass\n",
    "x=input()\n",
    "print(a)\n"
   ]
  },
  {
   "cell_type": "code",
   "execution_count": 22,
   "metadata": {},
   "outputs": [
    {
     "name": "stdout",
     "output_type": "stream",
     "text": [
      "Starting Thread-1\n",
      "Starting Thread-2\n",
      "Exiting Main Thread\n"
     ]
    },
    {
     "name": "stdout",
     "output_type": "stream",
     "text": [
      "Thread-1: Thu Apr 11 09:51:08 2024\n",
      "Thread-1: Thu Apr 11 09:51:10 2024\n",
      "Thread-2: Thu Apr 11 09:51:12 2024\n",
      "Thread-1: Thu Apr 11 09:51:12 2024\n",
      "Thread-1: Thu Apr 11 09:51:14 2024\n",
      "Thread-1: Thu Apr 11 09:51:16 2024\n",
      "Exiting Thread-1\n",
      "Thread-2: Thu Apr 11 09:51:18 2024\n",
      "Thread-2: Thu Apr 11 09:51:24 2024\n",
      "Thread-2: Thu Apr 11 09:51:30 2024\n",
      "Thread-2: Thu Apr 11 09:51:36 2024\n",
      "Exiting Thread-2\n"
     ]
    }
   ],
   "source": [
    "import threading\n",
    "import time\n",
    "exitFlag = 0\n",
    "class myThread (threading.Thread):\n",
    "  def __init__(self, threadID, name, counter):\n",
    "    threading.Thread.__init__(self)\n",
    "    self.threadID = threadID\n",
    "    self.name = name\n",
    "    self.counter = counter\n",
    "  def run(self):\n",
    "    print(\"Starting \" + self.name)\n",
    "    print_time(self.name, self.counter, 5)\n",
    "    print(\"Exiting \" + self.name)\n",
    "\n",
    "def print_time(threadName, delay, counter):\n",
    "  while counter:\n",
    "    if exitFlag:\n",
    "      threadName.exit()\n",
    "    time.sleep(delay)\n",
    "    print(\"%s: %s\" % (threadName, time.ctime(time.time())))\n",
    "    counter -= 1\n",
    "\n",
    "# Create new threads\n",
    "thread1 = myThread(1, \"Thread-1\", 2)\n",
    "thread2 = myThread(2, \"Thread-2\", 6)\n",
    "# Start new Threads\n",
    "thread1.start()\n",
    "thread2.start()\n",
    "print(\"Exiting Main Thread\")\n"
   ]
  },
  {
   "cell_type": "code",
   "execution_count": 1,
   "metadata": {},
   "outputs": [
    {
     "name": "stdout",
     "output_type": "stream",
     "text": [
      "> main line\n",
      "module name: __main__\n",
      "parent process: 8476\n",
      "process id: 5104\n",
      "\n",
      "End >main line\n"
     ]
    }
   ],
   "source": [
    "import os\n",
    "from multiprocessing import Process\n",
    "import time\n",
    "i=123\n",
    "def info(title):\n",
    "  print(title)\n",
    "  print('module name: '+ __name__)\n",
    "  print('parent process: '+ str(os.getppid()))\n",
    "  print('process id: '+ str(os.getpid()))\n",
    "  print('')\n",
    "def f(name):\n",
    "  global i\n",
    "  info('> function f')\n",
    "  time.sleep(len(name))\n",
    "  i+=1\n",
    "  print('hello', name)\n",
    "  print(i)\n",
    "\n",
    "if __name__ == '__main__':\n",
    "  info('> main line')\n",
    "  p1 = Process(target=f, args=('bob',))\n",
    "  p1.start()\n",
    "  p2 = Process(target=f, args=('alice',))\n",
    "  p2.start()\n",
    "  #p.join()\n",
    "  print(\"End >main line\")\n"
   ]
  },
  {
   "cell_type": "code",
   "execution_count": 13,
   "metadata": {},
   "outputs": [
    {
     "name": "stdout",
     "output_type": "stream",
     "text": [
      "main\n"
     ]
    },
    {
     "name": "stderr",
     "output_type": "stream",
     "text": [
      "C:\\Users\\Student\\AppData\\Roaming\\Python\\Python312\\site-packages\\pygments\\regexopt.py:78: RuntimeWarning: coroutine 'print_sum' was never awaited\n",
      "  for group in groupby(strings, lambda s: s[0] == first[0])) \\\n",
      "RuntimeWarning: Enable tracemalloc to get the object allocation traceback\n"
     ]
    },
    {
     "ename": "RuntimeError",
     "evalue": "This event loop is already running",
     "output_type": "error",
     "traceback": [
      "\u001b[1;31m---------------------------------------------------------------------------\u001b[0m",
      "\u001b[1;31mRuntimeError\u001b[0m                              Traceback (most recent call last)",
      "Cell \u001b[1;32mIn[13], line 15\u001b[0m\n\u001b[0;32m     13\u001b[0m \u001b[38;5;28mprint\u001b[39m(\u001b[38;5;124m\"\u001b[39m\u001b[38;5;124mmain\u001b[39m\u001b[38;5;124m\"\u001b[39m)\n\u001b[0;32m     14\u001b[0m loop \u001b[38;5;241m=\u001b[39m asyncio\u001b[38;5;241m.\u001b[39mget_event_loop()\n\u001b[1;32m---> 15\u001b[0m \u001b[43mloop\u001b[49m\u001b[38;5;241;43m.\u001b[39;49m\u001b[43mrun_until_complete\u001b[49m\u001b[43m(\u001b[49m\u001b[43mprint_sum\u001b[49m\u001b[43m(\u001b[49m\u001b[38;5;241;43m1\u001b[39;49m\u001b[43m,\u001b[49m\u001b[43m \u001b[49m\u001b[38;5;241;43m2\u001b[39;49m\u001b[43m)\u001b[49m\u001b[43m)\u001b[49m\n\u001b[0;32m     16\u001b[0m \u001b[38;5;66;03m#loop.close()\u001b[39;00m\n",
      "File \u001b[1;32mc:\\Users\\Student\\AppData\\Local\\Programs\\Python\\Python312\\Lib\\asyncio\\base_events.py:661\u001b[0m, in \u001b[0;36mBaseEventLoop.run_until_complete\u001b[1;34m(self, future)\u001b[0m\n\u001b[0;32m    650\u001b[0m \u001b[38;5;250m\u001b[39m\u001b[38;5;124;03m\"\"\"Run until the Future is done.\u001b[39;00m\n\u001b[0;32m    651\u001b[0m \n\u001b[0;32m    652\u001b[0m \u001b[38;5;124;03mIf the argument is a coroutine, it is wrapped in a Task.\u001b[39;00m\n\u001b[1;32m   (...)\u001b[0m\n\u001b[0;32m    658\u001b[0m \u001b[38;5;124;03mReturn the Future's result, or raise its exception.\u001b[39;00m\n\u001b[0;32m    659\u001b[0m \u001b[38;5;124;03m\"\"\"\u001b[39;00m\n\u001b[0;32m    660\u001b[0m \u001b[38;5;28mself\u001b[39m\u001b[38;5;241m.\u001b[39m_check_closed()\n\u001b[1;32m--> 661\u001b[0m \u001b[38;5;28;43mself\u001b[39;49m\u001b[38;5;241;43m.\u001b[39;49m\u001b[43m_check_running\u001b[49m\u001b[43m(\u001b[49m\u001b[43m)\u001b[49m\n\u001b[0;32m    663\u001b[0m new_task \u001b[38;5;241m=\u001b[39m \u001b[38;5;129;01mnot\u001b[39;00m futures\u001b[38;5;241m.\u001b[39misfuture(future)\n\u001b[0;32m    664\u001b[0m future \u001b[38;5;241m=\u001b[39m tasks\u001b[38;5;241m.\u001b[39mensure_future(future, loop\u001b[38;5;241m=\u001b[39m\u001b[38;5;28mself\u001b[39m)\n",
      "File \u001b[1;32mc:\\Users\\Student\\AppData\\Local\\Programs\\Python\\Python312\\Lib\\asyncio\\base_events.py:620\u001b[0m, in \u001b[0;36mBaseEventLoop._check_running\u001b[1;34m(self)\u001b[0m\n\u001b[0;32m    618\u001b[0m \u001b[38;5;28;01mdef\u001b[39;00m \u001b[38;5;21m_check_running\u001b[39m(\u001b[38;5;28mself\u001b[39m):\n\u001b[0;32m    619\u001b[0m     \u001b[38;5;28;01mif\u001b[39;00m \u001b[38;5;28mself\u001b[39m\u001b[38;5;241m.\u001b[39mis_running():\n\u001b[1;32m--> 620\u001b[0m         \u001b[38;5;28;01mraise\u001b[39;00m \u001b[38;5;167;01mRuntimeError\u001b[39;00m(\u001b[38;5;124m'\u001b[39m\u001b[38;5;124mThis event loop is already running\u001b[39m\u001b[38;5;124m'\u001b[39m)\n\u001b[0;32m    621\u001b[0m     \u001b[38;5;28;01mif\u001b[39;00m events\u001b[38;5;241m.\u001b[39m_get_running_loop() \u001b[38;5;129;01mis\u001b[39;00m \u001b[38;5;129;01mnot\u001b[39;00m \u001b[38;5;28;01mNone\u001b[39;00m:\n\u001b[0;32m    622\u001b[0m         \u001b[38;5;28;01mraise\u001b[39;00m \u001b[38;5;167;01mRuntimeError\u001b[39;00m(\n\u001b[0;32m    623\u001b[0m             \u001b[38;5;124m'\u001b[39m\u001b[38;5;124mCannot run the event loop while another loop is running\u001b[39m\u001b[38;5;124m'\u001b[39m)\n",
      "\u001b[1;31mRuntimeError\u001b[0m: This event loop is already running"
     ]
    }
   ],
   "source": [
    "import asyncio\n",
    "\n",
    "#@asyncio.coroutine\n",
    "async def compute(x, y):\n",
    "    print(\"Compute %s + %s ...\" % (x, y))\n",
    "    i= await asyncio.sleep(3.0)\n",
    "    return x + y\n",
    "\n",
    "#@asyncio.coroutine\n",
    "async def print_sum(x, y):\n",
    "    result = await compute(x, y)\n",
    "    print(\"%s + %s = %s\" % (x, y, result))\n",
    "print(\"main\")\n",
    "loop = asyncio.get_event_loop()\n",
    "loop.run_until_complete(print_sum(1, 2))\n",
    "#loop.close()\n",
    "\n"
   ]
  },
  {
   "cell_type": "code",
   "execution_count": null,
   "metadata": {},
   "outputs": [],
   "source": []
  }
 ],
 "metadata": {
  "kernelspec": {
   "display_name": "Python 3",
   "language": "python",
   "name": "python3"
  },
  "language_info": {
   "codemirror_mode": {
    "name": "ipython",
    "version": 3
   },
   "file_extension": ".py",
   "mimetype": "text/x-python",
   "name": "python",
   "nbconvert_exporter": "python",
   "pygments_lexer": "ipython3",
   "version": "3.12.2"
  }
 },
 "nbformat": 4,
 "nbformat_minor": 2
}
