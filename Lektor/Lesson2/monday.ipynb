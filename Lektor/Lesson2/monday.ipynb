{
 "cells": [
  {
   "cell_type": "code",
   "execution_count": null,
   "id": "67eb3526-ac20-43f8-a734-f0b4116a7c15",
   "metadata": {},
   "outputs": [],
   "source": [
    "#monday"
   ]
  },
  {
   "cell_type": "code",
   "execution_count": null,
   "id": "88eba72f-6eb8-4493-bb73-4e50679fe18f",
   "metadata": {},
   "outputs": [],
   "source": [
    "#cities1.txt\n",
    "#print in ascending order by country code, cities names in ascending order by population\n",
    "AT: Linz, Graz\n",
    "CZ: Hradec Kralove, Ceske Budejovice, Ostrava, Brno, Praha\n",
    "DE: Berlin\n",
    "SK: ..."
   ]
  },
  {
   "cell_type": "code",
   "execution_count": 13,
   "id": "65eecd86-4827-4fa6-8ddd-4333feb2ab30",
   "metadata": {},
   "outputs": [
    {
     "name": "stdout",
     "output_type": "stream",
     "text": [
      "{'CZ': [('Brno', 395000), ('Praha', 1100000), ('Ceske Budejovice', 160000), ('Ostrava', 280000), ('Hradec Kralove', 97000)], 'SK': [('Kosice', 190000), ('Bratislava', 400000), ('Zilina', 71000)], 'AT': [('Linz', 80000), ('Graz', 90000)], 'DE': [('Berlin', 6500000)]}\n",
      "AT: Linz, Graz\n",
      "CZ: Hradec Kralove, Ceske Budejovice, Ostrava, Brno, Praha\n",
      "DE: Berlin\n",
      "SK: Zilina, Kosice, Bratislava\n"
     ]
    }
   ],
   "source": [
    "try:\n",
    "    file = open(r'c:\\users\\student\\documents\\cities1.txt','rt') #open file with data in READ TEXT mode\n",
    "except Exception as ex:\n",
    "    print('Some error occured',ex,type(ex))\n",
    "else: #no exception\n",
    "    cities=dict()\n",
    "    for line in file:\n",
    "        code,city,population=line.strip().split(',')\n",
    "        if code not in cities:\n",
    "            cities[code]=[]\n",
    "        cities[code].append((city,int(population)))\n",
    "    print(cities)\n",
    "    for country in sorted(cities): #iterate over sorted list of keys = country codes\n",
    "        #print(country,': ',', '.join(map(lambda x:x[0],sorted(cities[country],key=lambda x:x[1]))), sep='')\n",
    "        print(country,\": \", ', '.join( [x[0] for x in sorted(cities[country],key=lambda x:x[1])] ), sep='')"
   ]
  },
  {
   "cell_type": "code",
   "execution_count": 15,
   "id": "fe16cf1f-5f7f-4bcb-b0bf-81b30b9f40f5",
   "metadata": {},
   "outputs": [
    {
     "name": "stdout",
     "output_type": "stream",
     "text": [
      "{'CZ': [('Brno', 395000), ('Breclav', 25000), ('Hodonin', 20000), ('Praha', 1100000), ('Ceske Budejovice', 160000), ('Ostrava', 280000), ('Opava', 45000), ('Trinec', 67000), ('Hradec Kralove', 97000), ('Jaromer', 31000), ('Nachod', 22000)], 'SK': [('Kosice', 190000), ('Humenne', 31000), ('Bratislava', 400000), ('Zilina', 71000), ('Cadca', 11500)], 'AT': [('Linz', 80000), ('Graz', 90000)]}\n",
      "AT: Linz, Graz\n",
      "CZ: Hodonin, Nachod, Breclav, Jaromer, Opava, Trinec, Hradec Kralove, Ceske Budejovice, Ostrava, Brno, Praha\n",
      "SK: Cadca, Humenne, Zilina, Kosice, Bratislava\n"
     ]
    }
   ],
   "source": [
    "try:\n",
    "    file = open(r'c:\\users\\student\\documents\\cities2.txt','rt') #open file with data in READ TEXT mode\n",
    "except Exception as ex:\n",
    "    print('Some error occured',ex,type(ex))\n",
    "else: #no exception\n",
    "    cities=dict()\n",
    "    for line in file:\n",
    "        code,region,city,population=line.strip().split(',')\n",
    "        if code not in cities:\n",
    "            cities[code]=[]\n",
    "        cities[code].append((city,int(population)))\n",
    "    print(cities)\n",
    "    for country in sorted(cities): #iterate over sorted list of keys = country codes\n",
    "        #print(country,': ',', '.join(map(lambda x:x[0],sorted(cities[country],key=lambda x:x[1]))), sep='')\n",
    "        print(country,\": \", ', '.join( [x[0] for x in sorted(cities[country],key=lambda x:x[1])] ), sep='')"
   ]
  },
  {
   "cell_type": "code",
   "execution_count": 17,
   "id": "f5dd29a0-9bf8-487a-953b-0bef42ee98d0",
   "metadata": {},
   "outputs": [
    {
     "name": "stdout",
     "output_type": "stream",
     "text": [
      "{'CZ': {'JM': [('Brno', 395000), ('Breclav', 25000), ('Hodonin', 20000)], 'PHA': [('Praha', 1100000)], 'JC': [('Ceske Budejovice', 160000)], 'SM': [('Ostrava', 280000), ('Opava', 45000), ('Trinec', 67000)], 'KH': [('Hradec Kralove', 97000), ('Jaromer', 31000), ('Nachod', 22000)]}, 'SK': {'VS': [('Kosice', 190000), ('Humenne', 31000)], 'BRA': [('Bratislava', 400000)], 'SZ': [('Zilina', 71000), ('Cadca', 11500)]}, 'AT': {'ZR': [('Linz', 80000)], 'DR': [('Graz', 90000)]}}\n"
     ]
    }
   ],
   "source": [
    "try:\n",
    "    file = open(r'c:\\users\\student\\documents\\cities2.txt','rt') #open file with data in READ TEXT mode\n",
    "except Exception as ex:\n",
    "    print('Some error occured',ex,type(ex))\n",
    "else: #no exception\n",
    "    cities=dict()\n",
    "    for line in file:\n",
    "        code,region,city,population=line.strip().split(',')\n",
    "        if code not in cities:\n",
    "            cities[code]=dict()\n",
    "        if region not in cities[code]:\n",
    "            cities[code][region]=[]\n",
    "        cities[code][region].append((city,int(population)))\n",
    "    print(cities)\n",
    "#    for country in sorted(cities): #iterate over sorted list of keys = country codes\n",
    "        #print(country,': ',', '.join(map(lambda x:x[0],sorted(cities[country],key=lambda x:x[1]))), sep='')\n",
    "#        print(country,\": \", ', '.join( [x[0] for x in sorted(cities[country],key=lambda x:x[1])] ), sep='')"
   ]
  },
  {
   "cell_type": "code",
   "execution_count": 20,
   "id": "974e52ac-13e1-4aca-912b-465aa65736fc",
   "metadata": {},
   "outputs": [
    {
     "name": "stdout",
     "output_type": "stream",
     "text": [
      "{'CZ': {'JM': [('Brno', 395000), ('Breclav', 25000), ('Hodonin', 20000)], 'PHA': [('Praha', 1100000)], 'JC': [('Ceske Budejovice', 160000)], 'SM': [('Ostrava', 280000), ('Opava', 45000), ('Trinec', 67000)], 'KH': [('Hradec Kralove', 97000), ('Jaromer', 31000), ('Nachod', 22000)]}, 'SK': {'VS': [('Kosice', 190000), ('Humenne', 31000)], 'BRA': [('Bratislava', 400000)], 'SZ': [('Zilina', 71000), ('Cadca', 11500)]}, 'AT': {'ZR': [('Linz', 80000)], 'DR': [('Graz', 90000)]}}\n",
      "AT:\n",
      "\tDR: Graz\n",
      "\tZR: Linz\n",
      "CZ:\n",
      "\tJC: Ceske Budejovice\n",
      "\tJM: Hodonin, Breclav, Brno\n",
      "\tKH: Nachod, Jaromer, Hradec Kralove\n",
      "\tPHA: Praha\n",
      "\tSM: Opava, Trinec, Ostrava\n",
      "SK:\n",
      "\tBRA: Bratislava\n",
      "\tSZ: Cadca, Zilina\n",
      "\tVS: Humenne, Kosice\n"
     ]
    }
   ],
   "source": [
    "try:\n",
    "    file = open(r'c:\\users\\student\\documents\\cities2.txt','rt') #open file with data in READ TEXT mode\n",
    "except Exception as ex:\n",
    "    print('Some error occured',ex,type(ex))\n",
    "else: #no exception\n",
    "    cities=dict()\n",
    "    for line in file:\n",
    "        #regular expression for testing correct input format\n",
    "        #\"^([A-Z]{2}),([A-Z]{2,3}),([A-Z][a-z]+(?: [A-Za-z][a-z]*)*),([0-9]+)$\"\n",
    "        code,region,city,population=line.strip().split(',')\n",
    "        if code not in cities:\n",
    "            cities[code]=dict()\n",
    "        if region not in cities[code]:\n",
    "            cities[code][region]=[]\n",
    "        cities[code][region].append((city,int(population)))\n",
    "    print(cities)\n",
    "    for country in sorted(cities): #iterate over sorted list of keys = country codes\n",
    "        print(f\"{country}:\")\n",
    "        for region in sorted(cities[country]): #iterate over sorted list of regions for individual country\n",
    "            print(\"\\t\",region,': ',', '.join(map(lambda x:x[0],sorted(cities[country][region],key=lambda x:x[1]))), sep='')\n",
    "#        print(country,\": \", ', '.join( [x[0] for x in sorted(cities[country],key=lambda x:x[1])] ), sep='')"
   ]
  },
  {
   "cell_type": "code",
   "execution_count": 24,
   "id": "42e47de3-80ab-4fec-8d3c-935006fc2de1",
   "metadata": {},
   "outputs": [
    {
     "name": "stdout",
     "output_type": "stream",
     "text": [
      "{'CZ': {'JM': [('Brno', 395000), ('Breclav', 25000), ('Hodonin', 20000)], 'PHA': [('Praha', 1100000)], 'JC': [('Ceske Budejovice', 160000)], 'SM': [('Ostrava', 280000), ('Opava', 45000), ('Trinec', 67000)], 'KH': [('Hradec Kralove', 97000), ('Jaromer', 31000), ('Nachod', 22000)]}, 'SK': {'VS': [('Kosice', 190000), ('Humenne', 31000)], 'BRA': [('Bratislava', 400000)], 'SZ': [('Zilina', 71000), ('Cadca', 11500)]}, 'AT': {'ZR': [('Linz', 80000)], 'DR': [('Graz', 90000)]}}\n",
      "AT:\n",
      "\tDR: Graz\n",
      "\tZR: Linz\n",
      "CZ:\n",
      "\tJC: Ceske Budejovice\n",
      "\tJM: Hodonin, Breclav, Brno\n",
      "\tKH: Nachod, Jaromer, Hradec Kralove\n",
      "\tPHA: Praha\n",
      "\tSM: Opava, Trinec, Ostrava\n",
      "SK:\n",
      "\tBRA: Bratislava\n",
      "\tSZ: Cadca, Zilina\n",
      "\tVS: Humenne, Kosice\n"
     ]
    }
   ],
   "source": [
    "import re\n",
    "try:\n",
    "    file = open(r'c:\\users\\student\\documents\\cities2.txt','rt') #open file with data in READ TEXT mode\n",
    "except Exception as ex:\n",
    "    print('Some error occured',ex,type(ex))\n",
    "else: #no exception\n",
    "    cities=dict()\n",
    "    for line in file:\n",
    "        #regular expression for testing correct input format\n",
    "        if not re.search(r\"^([A-Z]{2}),([A-Z]{2,3}),([A-Z][a-z]+(?: [A-Za-z][a-z]*)*),([0-9]+)$\",line):\n",
    "            continue\n",
    "        code,region,city,population=line.strip().split(',')\n",
    "        if code not in cities:\n",
    "            cities[code]=dict()\n",
    "        if region not in cities[code]:\n",
    "            cities[code][region]=[]\n",
    "        cities[code][region].append((city,int(population)))\n",
    "    print(cities)\n",
    "    for country in sorted(cities): #iterate over sorted list of keys = country codes\n",
    "        print(f\"{country}:\")\n",
    "        for region in sorted(cities[country]): #iterate over sorted list of regions for individual country\n",
    "            print(\"\\t\",region,': ',', '.join(map(lambda x:x[0],sorted(cities[country][region],key=lambda x:x[1]))), sep='')\n",
    "#        print(country,\": \", ', '.join( [x[0] for x in sorted(cities[country],key=lambda x:x[1])] ), sep='')"
   ]
  },
  {
   "cell_type": "code",
   "execution_count": null,
   "id": "53aa3cfb-112b-4585-a060-06577b42b4f0",
   "metadata": {},
   "outputs": [],
   "source": [
    "#OOP"
   ]
  },
  {
   "cell_type": "code",
   "execution_count": 28,
   "id": "ad00abe0-7e7f-4ef5-9b24-76bc95a6efd8",
   "metadata": {},
   "outputs": [
    {
     "name": "stdout",
     "output_type": "stream",
     "text": [
      "123 <class 'int'> ['__abs__', '__add__', '__and__', '__bool__', '__ceil__', '__class__', '__delattr__', '__dir__', '__divmod__', '__doc__', '__eq__', '__float__', '__floor__', '__floordiv__', '__format__', '__ge__', '__getattribute__', '__getnewargs__', '__getstate__', '__gt__', '__hash__', '__index__', '__init__', '__init_subclass__', '__int__', '__invert__', '__le__', '__lshift__', '__lt__', '__mod__', '__mul__', '__ne__', '__neg__', '__new__', '__or__', '__pos__', '__pow__', '__radd__', '__rand__', '__rdivmod__', '__reduce__', '__reduce_ex__', '__repr__', '__rfloordiv__', '__rlshift__', '__rmod__', '__rmul__', '__ror__', '__round__', '__rpow__', '__rrshift__', '__rshift__', '__rsub__', '__rtruediv__', '__rxor__', '__setattr__', '__sizeof__', '__str__', '__sub__', '__subclasshook__', '__truediv__', '__trunc__', '__xor__', 'as_integer_ratio', 'bit_count', 'bit_length', 'conjugate', 'denominator', 'from_bytes', 'imag', 'numerator', 'real', 'to_bytes']\n",
      "7 0b1111011\n"
     ]
    }
   ],
   "source": [
    "#everything in Python is object,\n",
    "#it's datatype is some sort of class\n",
    "i=123\n",
    "print(i,type(i),dir(int))\n",
    "print(i.bit_length(),bin(i))"
   ]
  },
  {
   "cell_type": "code",
   "execution_count": 33,
   "id": "5b6bdccf-d3b1-4a26-b972-a673a177cf57",
   "metadata": {},
   "outputs": [
    {
     "name": "stdout",
     "output_type": "stream",
     "text": [
      "HELLO\n",
      "<class 'str'>\n",
      "<class 'type'>\n",
      "HELLO\n",
      "HELLO\n"
     ]
    }
   ],
   "source": [
    "greeting='Hello'\n",
    "print(greeting.upper()) #bound call, greeting is instance of class str\n",
    "print(type(greeting))\n",
    "print(type(str))\n",
    "print(str.upper(greeting)) #unbound call, str is instance of class type, which means its class not instance of class str\n",
    "print(type(greeting).upper(greeting)) #thats how Python calls method over some object"
   ]
  },
  {
   "cell_type": "code",
   "execution_count": 36,
   "id": "b03ae122-2062-4547-b5ef-49f93e6632bd",
   "metadata": {},
   "outputs": [
    {
     "name": "stdout",
     "output_type": "stream",
     "text": [
      "['__class__', '__delattr__', '__dict__', '__dir__', '__doc__', '__eq__', '__format__', '__ge__', '__getattribute__', '__getstate__', '__gt__', '__hash__', '__init__', '__init_subclass__', '__le__', '__lt__', '__module__', '__ne__', '__new__', '__reduce__', '__reduce_ex__', '__repr__', '__setattr__', '__sizeof__', '__str__', '__subclasshook__', '__weakref__']\n",
      "Help on class Person in module __main__:\n",
      "\n",
      "class Person(builtins.object)\n",
      " |  This is my first class\n",
      " |  which is empty (inherist only from \"object\" class)\n",
      " |  \n",
      " |  Data descriptors defined here:\n",
      " |  \n",
      " |  __dict__\n",
      " |      dictionary for instance variables\n",
      " |  \n",
      " |  __weakref__\n",
      " |      list of weak references to the object\n",
      "\n"
     ]
    }
   ],
   "source": [
    "class Person:\n",
    "    \"\"\"This is my first class\n",
    "    which is empty (inherist only from \"object\" class)\"\"\"\n",
    "    pass\n",
    "print(dir(Person))\n",
    "help(Person)"
   ]
  },
  {
   "cell_type": "code",
   "execution_count": 37,
   "id": "06ff8860-bdec-4154-a59e-cb869a22ac98",
   "metadata": {},
   "outputs": [
    {
     "name": "stdout",
     "output_type": "stream",
     "text": [
      "Hello\n"
     ]
    }
   ],
   "source": [
    "class Person:\n",
    "    def greet(self): #instance method, self means bound call where Python automatically passes self as ID of object on which method is called\n",
    "        print('Hello')\n",
    "alice=Person() #create new instance of class Person and assign this to variable alice\n",
    "alice.greet()\n",
    "        "
   ]
  },
  {
   "cell_type": "code",
   "execution_count": 39,
   "id": "3b0e71cc-d9aa-4c10-b063-a4823f466f20",
   "metadata": {},
   "outputs": [
    {
     "name": "stdout",
     "output_type": "stream",
     "text": [
      "Hello, my name is Alice\n",
      "I'm 20 years old.\n",
      "Hello, my name is Robert\n",
      "I'm 30 years old.\n"
     ]
    }
   ],
   "source": [
    "class Person:\n",
    "    def greet(self):\n",
    "        print('Hello, my name is',self.name)\n",
    "        print(\"I'm\",self.age,\"years old.\")\n",
    "    def __init__(self,p_name,p_age=0): #special method __init__ initialized instance variables of instance\n",
    "        self.name=p_name #instance variable, encapsulation\n",
    "        self.age=p_age\n",
    "alice=Person('Alice',20)\n",
    "bob=Person('Robert',30)\n",
    "alice.greet()\n",
    "bob.greet()"
   ]
  },
  {
   "cell_type": "code",
   "execution_count": 41,
   "id": "19deb314-3ea1-46ab-abf2-8f06171c4158",
   "metadata": {},
   "outputs": [
    {
     "name": "stdout",
     "output_type": "stream",
     "text": [
      "Hello, my name is Alice\n",
      "I'm 20 years old.\n",
      "Hello, my name is Robert\n",
      "I'm 30 years old.\n",
      "Object of ID 2707249126416 is finishing, is going to be cleared from memory\n",
      "Object of ID 2707249128208 is finishing, is going to be cleared from memory\n"
     ]
    },
    {
     "ename": "NameError",
     "evalue": "name 'alice' is not defined",
     "output_type": "error",
     "traceback": [
      "\u001b[1;31m---------------------------------------------------------------------------\u001b[0m",
      "\u001b[1;31mNameError\u001b[0m                                 Traceback (most recent call last)",
      "Cell \u001b[1;32mIn[41], line 15\u001b[0m\n\u001b[0;32m     13\u001b[0m bob\u001b[38;5;241m.\u001b[39mgreet()\n\u001b[0;32m     14\u001b[0m \u001b[38;5;28;01mdel\u001b[39;00m alice,bob\n\u001b[1;32m---> 15\u001b[0m alice\u001b[38;5;241m.\u001b[39mgreet()\n",
      "\u001b[1;31mNameError\u001b[0m: name 'alice' is not defined"
     ]
    }
   ],
   "source": [
    "class Person:\n",
    "    def greet(self):\n",
    "        print('Hello, my name is',self.name)\n",
    "        print(\"I'm\",self.age,\"years old.\")\n",
    "    def __init__(self,p_name,p_age=0): #special method __init__ initialized instance variables of instance\n",
    "        self.name=p_name #instance variable, encapsulation\n",
    "        self.age=p_age\n",
    "    def __del__(self):\n",
    "        print(f'Object of ID {id(self)} is finishing, is going to be cleared from memory')\n",
    "alice=Person('Alice',20)\n",
    "bob=Person('Robert',30)\n",
    "alice.greet()\n",
    "bob.greet()\n",
    "del alice,bob\n",
    "alice.greet()"
   ]
  },
  {
   "cell_type": "code",
   "execution_count": 46,
   "id": "4d080334-6f53-4153-9bb1-f65cd1002ddc",
   "metadata": {},
   "outputs": [
    {
     "name": "stdout",
     "output_type": "stream",
     "text": [
      "Hello, my name is Alice\n",
      "I'm 20 years old.\n",
      "Hello, my name is Robert\n",
      "I'm 30 years old.\n",
      "50\n",
      "My name is ROBERT\n",
      "My name is ALICE\n"
     ]
    }
   ],
   "source": [
    "class Person:\n",
    "    def greet(self):\n",
    "        print('Hello, my name is',self.name)\n",
    "        print(\"I'm\",self.age,\"years old.\")\n",
    "    def __init__(self,p_name,p_age=0): #special method __init__ initialized instance variables of instance\n",
    "        self.name=p_name #instance variable, encapsulation\n",
    "        self.age=p_age\n",
    "    def __add__(self,other):\n",
    "        return self.age+other.age\n",
    "    def __str__(self):\n",
    "        return 'My name is '+self.name.upper()\n",
    "        \n",
    "alice=Person('Alice',20)\n",
    "bob=Person('Robert',30)\n",
    "alice.greet()\n",
    "bob.greet()\n",
    "print(alice+bob)\n",
    "print(bob)\n",
    "print(str(alice))"
   ]
  },
  {
   "cell_type": "code",
   "execution_count": 51,
   "id": "49d9c47c-8212-4960-8e5b-5a4fbff2d12d",
   "metadata": {},
   "outputs": [
    {
     "name": "stdout",
     "output_type": "stream",
     "text": [
      "Hello, my name is Alice\n",
      "I'm 20 years old.\n",
      "Hello, my name is Robert\n",
      "I'm 30 years old.\n",
      "50\n",
      "My name is ROBERT\n",
      "My name is ALICE\n",
      "True\n",
      "[Person('Alice',20), Person('Robert',30)]\n",
      "False\n"
     ]
    }
   ],
   "source": [
    "class Person:\n",
    "    def greet(self):\n",
    "        print('Hello, my name is',self.name)\n",
    "        print(\"I'm\",self.age,\"years old.\")\n",
    "    def __init__(self,p_name,p_age=0): #special method __init__ initialized instance variables of instance\n",
    "        self.name=p_name #instance variable, encapsulation\n",
    "        self.age=p_age\n",
    "    def __add__(self,other):\n",
    "        return self.age+other.age\n",
    "    def __str__(self):\n",
    "        return 'My name is '+self.name.upper()\n",
    "    def __gt__(self,other):\n",
    "        return self.age>other.age\n",
    "    def __repr__(self):\n",
    "        return f\"Person('{self.name}',{self.age})\"\n",
    "        \n",
    "alice=Person('Alice',20)\n",
    "bob=Person('Robert',30)\n",
    "alice.greet()\n",
    "bob.greet()\n",
    "print(alice+bob)\n",
    "print(bob)\n",
    "print(str(alice))\n",
    "print(bob>alice)\n",
    "print(sorted([bob,alice]))\n",
    "print(bob<alice)"
   ]
  },
  {
   "cell_type": "code",
   "execution_count": 52,
   "id": "b14ea0a1-cc25-4cbb-a1c4-aa1ea463a3d2",
   "metadata": {},
   "outputs": [
    {
     "name": "stdout",
     "output_type": "stream",
     "text": [
      "{'CZ': [('Brno', 395000), ('Praha', 1100000), ('Ceske Budejovice', 160000), ('Ostrava', 280000), ('Hradec Kralove', 97000)], 'SK': [('Kosice', 190000), ('Bratislava', 400000), ('Zilina', 71000)], 'AT': [('Linz', 80000), ('Graz', 90000)], 'DE': [('Berlin', 6500000)]}\n",
      "AT: Linz, Graz\n",
      "CZ: Hradec Kralove, Ceske Budejovice, Ostrava, Brno, Praha\n",
      "DE: Berlin\n",
      "SK: Zilina, Kosice, Bratislava\n"
     ]
    }
   ],
   "source": [
    "try:\n",
    "    file = open(r'c:\\users\\student\\documents\\cities1.txt','rt') #open file with data in READ TEXT mode\n",
    "except Exception as ex:\n",
    "    print('Some error occured',ex,type(ex))\n",
    "else: #no exception\n",
    "    cities=dict()\n",
    "    for line in file:\n",
    "        code,city,population=line.strip().split(',')\n",
    "        if code not in cities:\n",
    "            cities[code]=[]\n",
    "        cities[code].append((city,int(population)))\n",
    "    print(cities)\n",
    "    for country in sorted(cities): #iterate over sorted list of keys = country codes\n",
    "        #print(country,': ',', '.join(map(lambda x:x[0],sorted(cities[country],key=lambda x:x[1]))), sep='')\n",
    "        print(country,\": \", ', '.join( [x[0] for x in sorted(cities[country],key=lambda x:x[1])] ), sep='')"
   ]
  },
  {
   "cell_type": "code",
   "execution_count": null,
   "id": "fdc75e95-eb30-4b65-9938-694abe6f93a8",
   "metadata": {},
   "outputs": [],
   "source": [
    "#represent city as instance of City class (create class for City) and also represent State as class (collection of Cities)\n"
   ]
  },
  {
   "cell_type": "code",
   "execution_count": 54,
   "id": "d62d109d-e588-4414-b4e8-2f4a08f9b1d2",
   "metadata": {},
   "outputs": [
    {
     "name": "stdout",
     "output_type": "stream",
     "text": [
      "AT: Linz, Graz\n",
      "CZ: Hradec Kralove, Ceske Budejovice, Ostrava, Brno, Praha\n",
      "DE: Berlin\n",
      "SK: Zilina, Kosice, Bratislava\n"
     ]
    }
   ],
   "source": [
    "class City:\n",
    "    def __init__(self,city_name,population):\n",
    "        self.name=city_name\n",
    "        self.pop=int(population)\n",
    "    def __lt__(self,other):\n",
    "        return self.pop<other.pop\n",
    "    def __str__(self):\n",
    "        return self.name\n",
    "\n",
    "file = open(r'c:\\users\\student\\documents\\cities1.txt','rt') #open file with data in READ TEXT mode\n",
    "cities=dict()\n",
    "for line in file:\n",
    "    code,city,population=line.strip().split(',')\n",
    "    if code not in cities:\n",
    "        cities[code]=[]\n",
    "    cities[code].append(City(city,population))\n",
    "#print(cities)\n",
    "for country in sorted(cities): #iterate over sorted list of keys = country codes\n",
    "    #print(country,': ',', '.join(map(lambda x:x[0],sorted(cities[country],key=lambda x:x[1]))), sep='')\n",
    "    print(country,\": \", ', '.join( [x.name for x in sorted(cities[country])] ), sep='')"
   ]
  },
  {
   "cell_type": "code",
   "execution_count": 59,
   "id": "8d0cfa0a-f92a-4e44-a947-8273f64de7ed",
   "metadata": {},
   "outputs": [
    {
     "name": "stdout",
     "output_type": "stream",
     "text": [
      "{'CZ': <__main__.Country object at 0x0000027654A3EED0>, 'SK': <__main__.Country object at 0x00000276549F4DD0>, 'AT': <__main__.Country object at 0x0000027654A4CD10>, 'DE': <__main__.Country object at 0x0000027654999D50>}\n",
      "AT: Linz, Graz\n",
      "CZ: Hradec Kralove, Ceske Budejovice, Ostrava, Brno, Praha\n",
      "DE: Berlin\n",
      "SK: Zilina, Kosice, Bratislava\n"
     ]
    }
   ],
   "source": [
    "class City:\n",
    "    def __init__(self,city_name,population):\n",
    "        self.name=city_name\n",
    "        self.pop=int(population)\n",
    "    def __lt__(self,other):\n",
    "        return self.pop<other.pop\n",
    "    def __str__(self):\n",
    "        return self.name\n",
    "\n",
    "class Country:\n",
    "    def __init__(self,c_code):\n",
    "        self.code=c_code\n",
    "        self.country_cities=[]\n",
    "    def append(self,city):\n",
    "        self.country_cities.append(city)\n",
    "    def get_cities(self):\n",
    "        return self.country_cities\n",
    "        \n",
    "file = open(r'c:\\users\\student\\documents\\cities1.txt','rt') #open file with data in READ TEXT mode\n",
    "cities=dict()\n",
    "for line in file:\n",
    "    code,city,population=line.strip().split(',')\n",
    "    if code not in cities:\n",
    "        cities[code]=Country(code)\n",
    "    cities[code].append(City(city,population))\n",
    "print(cities)\n",
    "for country in sorted(cities): #iterate over sorted list of keys = country codes\n",
    "    #print(country,': ',', '.join(map(lambda x:x[0],sorted(cities[country],key=lambda x:x[1]))), sep='')\n",
    "    print(country,\": \", ', '.join( [str(x) for x in sorted(cities[country].get_cities())] ), sep='')"
   ]
  },
  {
   "cell_type": "code",
   "execution_count": 68,
   "id": "b4d561fb-cbcb-4f0a-b2c8-0b5bb3babd48",
   "metadata": {},
   "outputs": [
    {
     "name": "stdout",
     "output_type": "stream",
     "text": [
      "{'PL': <__main__.Country object at 0x0000027654B01F50>}\n",
      "[]\n",
      "{'PL': <__main__.Country object at 0x0000027654B01F50>, 'IT': <__main__.Country object at 0x00000276549EE590>}\n",
      "[<__main__.City object at 0x0000027654A5F490>]\n",
      "[<__main__.City object at 0x0000027654A5F490>, <__main__.City object at 0x00000276549BB850>]\n"
     ]
    }
   ],
   "source": [
    "class City:\n",
    "    def __init__(self,city_name,population):\n",
    "        self.name=city_name\n",
    "        self.pop=int(population)\n",
    "    def __lt__(self,other):\n",
    "        return self.pop<other.pop\n",
    "    def __str__(self):\n",
    "        return self.name\n",
    "\n",
    "class Country:\n",
    "    def __init__(self,c_code):\n",
    "        self.code=c_code\n",
    "        self.country_cities=[]\n",
    "    def append(self,city):\n",
    "        self.country_cities.append(city)\n",
    "    def get_cities(self):\n",
    "        return self.country_cities\n",
    "    def __str__(self):\n",
    "        return str(self.country_cities)\n",
    "cities=dict()\n",
    "cities['PL']=Country('PL')\n",
    "print(cities)\n",
    "print(cities['PL'])\n",
    "cities['IT']=Country('IT')\n",
    "print(cities)\n",
    "cities['PL'].append(City('Varsava',1234567))\n",
    "print(cities['PL'])\n",
    "cities['PL'].append(City('Zakopane',450000))\n",
    "print(cities['PL'])\n"
   ]
  },
  {
   "cell_type": "code",
   "execution_count": null,
   "id": "156baad4-9257-4325-a565-105595eceb13",
   "metadata": {},
   "outputs": [],
   "source": [
    "#class variables (belong to class not as instance variables defined with __init__ )"
   ]
  },
  {
   "cell_type": "code",
   "execution_count": 70,
   "id": "d696be18-2676-4166-9fee-cbb1b8e32bb6",
   "metadata": {},
   "outputs": [
    {
     "name": "stdout",
     "output_type": "stream",
     "text": [
      "Name : Bob, age : 20, id : 1\n",
      "Name : Alice, age : 19, id : 2\n"
     ]
    }
   ],
   "source": [
    "class Person:\n",
    "    Person_id=1 #class variable\n",
    "    def __init__(self,name,age):\n",
    "        self.name=name\n",
    "        self.age=age\n",
    "        self.id=Person.Person_id  #get class variable value\n",
    "        Person.Person_id+=1 #increment class variable value\n",
    "    def printall(self):\n",
    "        print (\"Name : %s, age : %d, id : %d\" % (self.name,self.age,self.id))\n",
    "\n",
    "bob=Person(\"Bob\",20)\n",
    "alice=Person(\"Alice\",19)\n",
    "bob.printall()\n",
    "alice.printall()"
   ]
  },
  {
   "cell_type": "code",
   "execution_count": 72,
   "id": "78bd944f-d5c0-4b0c-a7e5-ca53cedff4ca",
   "metadata": {},
   "outputs": [
    {
     "name": "stdout",
     "output_type": "stream",
     "text": [
      "Name : Bob, age : 20, id : 1\n",
      "Name : Alice, age : 19, id : 1\n"
     ]
    }
   ],
   "source": [
    "class Person:\n",
    "    Person_id=1 #class variable\n",
    "    def __init__(self,name,age):\n",
    "        self.name=name\n",
    "        self.age=age\n",
    "        self.id=self.Person_id  #get class variable value\n",
    "        self.Person_id+=1 #increment class variable value, #cretaed new instance variable, Person_id\n",
    "    def printall(self):\n",
    "        print (\"Name : %s, age : %d, id : %d\" % (self.name,self.age,self.id))\n",
    "\n",
    "bob=Person(\"Bob\",20)\n",
    "alice=Person(\"Alice\",19)\n",
    "bob.printall()\n",
    "alice.printall()"
   ]
  },
  {
   "cell_type": "code",
   "execution_count": 4,
   "id": "89be5281-4288-4885-b489-12d4a04fdd85",
   "metadata": {},
   "outputs": [
    {
     "name": "stdout",
     "output_type": "stream",
     "text": [
      "Name : Bob, age : 20, id : 1\n",
      "Name : Alice, age : 19, id : 2\n"
     ]
    }
   ],
   "source": [
    "class Employee:\n",
    "    Person_id=1 #class variable\n",
    "    def __init__(self,name,age):\n",
    "        self.name=name\n",
    "        self.age=age\n",
    "        self.id=type(self).Person_id  #get class variable value\n",
    "        type(self).Person_id+=1 #increment class variable value\n",
    "    def printall(self):\n",
    "        print (\"Name : %s, age : %d, id : %d\" % (self.name,self.age,self.id))\n",
    "\n",
    "bob=Employee(\"Bob\",20)\n",
    "alice=Employee(\"Alice\",19)\n",
    "bob.printall()\n",
    "alice.printall()"
   ]
  },
  {
   "cell_type": "code",
   "execution_count": 5,
   "id": "87ecd5c7-68d7-4763-97e6-1bd927bf491f",
   "metadata": {},
   "outputs": [
    {
     "name": "stdout",
     "output_type": "stream",
     "text": [
      "Name : Bob, age : 20, id : 1\n",
      "Name : Alice, age : 19, id : 2\n"
     ]
    }
   ],
   "source": [
    "class Employee:\n",
    "    Person_id=1 #class variable\n",
    "    def __init__(self,name,age):\n",
    "        self.name=name\n",
    "        self.age=age\n",
    "        self.id=self.__class__.Person_id  #get class variable value\n",
    "        self.__class__.Person_id+=1 #increment class variable value\n",
    "    def printall(self):\n",
    "        print (\"Name : %s, age : %d, id : %d\" % (self.name,self.age,self.id))\n",
    "\n",
    "bob=Employee(\"Bob\",20)\n",
    "alice=Employee(\"Alice\",19)\n",
    "bob.printall()\n",
    "alice.printall()"
   ]
  },
  {
   "cell_type": "code",
   "execution_count": 9,
   "id": "7c8c3988-7d08-4871-b453-504e78bcdcd0",
   "metadata": {},
   "outputs": [
    {
     "name": "stdout",
     "output_type": "stream",
     "text": [
      "Name : Bob, age : 20, id : 1\n",
      "Name : Alice, age : 19, id : 2\n",
      "Name : Peter, age : 23, id : 1\n"
     ]
    }
   ],
   "source": [
    "class Employee:\n",
    "    Person_id=1 #class variable\n",
    "    def __init__(self,name,age):\n",
    "        self.name=name\n",
    "        self.age=age\n",
    "        self.id=type(self).Person_id  #get class variable value\n",
    "        type(self).Person_id+=1 #increment class variable value\n",
    "    def printall(self):\n",
    "        print (\"Name : %s, age : %d, id : %d\" % (self.name,self.age,self.id))\n",
    "    def resetID(self):\n",
    "        Employee.Person_id=1\n",
    "\n",
    "bob=Employee(\"Bob\",20)\n",
    "alice=Employee(\"Alice\",19)\n",
    "bob.resetID()\n",
    "peter=Employee('Peter',23)\n",
    "bob.printall()\n",
    "alice.printall()\n",
    "\n",
    "peter.printall()"
   ]
  },
  {
   "cell_type": "code",
   "execution_count": 12,
   "id": "f9a81d9e-31e7-4815-920f-bf6f7cc9b58f",
   "metadata": {},
   "outputs": [
    {
     "name": "stdout",
     "output_type": "stream",
     "text": [
      "Name : Bob, age : 20, id : 1\n",
      "Name : Alice, age : 19, id : 2\n",
      "Name : Peter, age : 23, id : 1\n"
     ]
    }
   ],
   "source": [
    "class Employee:\n",
    "    Person_id=1 #class variable\n",
    "    def __init__(self,name,age):\n",
    "        self.name=name\n",
    "        self.age=age\n",
    "        self.id=type(self).Person_id  #get class variable value\n",
    "        type(self).Person_id+=1 #increment class variable value\n",
    "    def printall(self):\n",
    "        print (\"Name : %s, age : %d, id : %d\" % (self.name,self.age,self.id))\n",
    "    def resetID(self):\n",
    "        type(self).Person_id=1\n",
    "\n",
    "bob=Employee(\"Bob\",20)\n",
    "alice=Employee(\"Alice\",19)\n",
    "Employee.resetID(bob)\n",
    "peter=Employee('Peter',23)\n",
    "bob.printall()\n",
    "alice.printall()\n",
    "\n",
    "peter.printall()"
   ]
  },
  {
   "cell_type": "code",
   "execution_count": 16,
   "id": "8d3db7df-e90b-488c-971f-bcd613185b9f",
   "metadata": {},
   "outputs": [
    {
     "name": "stdout",
     "output_type": "stream",
     "text": [
      "Name : Bob, age : 20, id : 1\n",
      "Name : Alice, age : 19, id : 2\n",
      "Name : Peter, age : 23, id : 1\n"
     ]
    }
   ],
   "source": [
    "class Employee:\n",
    "    Person_id=1 #class variable\n",
    "    def __init__(self,name,age):\n",
    "        self.name=name\n",
    "        self.age=age\n",
    "        self.id=type(self).Person_id  #get class variable value\n",
    "        type(self).Person_id+=1 #increment class variable value\n",
    "    def printall(self):\n",
    "        print (\"Name : %s, age : %d, id : %d\" % (self.name,self.age,self.id))\n",
    "    def resetID(cls):\n",
    "        cls.Person_id=1\n",
    "    resetID=classmethod(resetID)\n",
    "\n",
    "bob=Employee(\"Bob\",20)\n",
    "alice=Employee(\"Alice\",19)\n",
    "Employee.resetID() #this is not unbound call anymore, its bound call but it receives implicitly class, not instance\n",
    "bob.resetID()\n",
    "peter=Employee('Peter',23)\n",
    "bob.printall()\n",
    "alice.printall()\n",
    "\n",
    "peter.printall()"
   ]
  },
  {
   "cell_type": "code",
   "execution_count": 23,
   "id": "2b34b70b-a1b1-4352-adb9-b770ae790b29",
   "metadata": {},
   "outputs": [
    {
     "name": "stdout",
     "output_type": "stream",
     "text": [
      "Name : Bob, age : 20, id : 1\n",
      "Name : Alice, age : 19, id : 2\n",
      "Name : Peter, age : 23, id : 1\n"
     ]
    }
   ],
   "source": [
    "class Employee:\n",
    "    Person_id=1 #class variable\n",
    "    def __init__(self,name,age):\n",
    "        self.name=name\n",
    "        self.age=age\n",
    "        self.id=type(self).Person_id  #get class variable value\n",
    "        type(self).Person_id+=1 #increment class variable value\n",
    "    def printall(self):\n",
    "        print (\"Name : %s, age : %d, id : %d\" % (self.name,self.age,self.id))\n",
    "    @classmethod\n",
    "    def resetID(cls):\n",
    "        cls.Person_id=1\n",
    "\n",
    "bob=Employee(\"Bob\",20)\n",
    "alice=Employee(\"Alice\",19)\n",
    "Employee.resetID() #this is not unbound call anymore, its bound call but it receives implicitly class, not instance\n",
    "bob.resetID()\n",
    "peter=Employee('Peter',23)\n",
    "bob.printall()\n",
    "alice.printall()\n",
    "\n",
    "peter.printall()"
   ]
  },
  {
   "cell_type": "code",
   "execution_count": 28,
   "id": "0a48d559-40f8-48e2-9fac-b6f1e4bf3d09",
   "metadata": {},
   "outputs": [
    {
     "name": "stdout",
     "output_type": "stream",
     "text": [
      "Name : Bob, age : 20, id : 1\n",
      "Name : Alice, age : 19, id : 2\n",
      "Name : Peter, age : 23, id : 1\n",
      "143\n",
      "70\n",
      "Help on class Employee in module __main__:\n",
      "\n",
      "class Employee(builtins.object)\n",
      " |  Employee(name, age)\n",
      " |  \n",
      " |  Methods defined here:\n",
      " |  \n",
      " |  __init__(self, name, age)\n",
      " |      Initialize self.  See help(type(self)) for accurate signature.\n",
      " |  \n",
      " |  printall(self)\n",
      " |  \n",
      " |  ----------------------------------------------------------------------\n",
      " |  Class methods defined here:\n",
      " |  \n",
      " |  resetID() from builtins.type\n",
      " |  \n",
      " |  ----------------------------------------------------------------------\n",
      " |  Static methods defined here:\n",
      " |  \n",
      " |  plus(a, b)\n",
      " |  \n",
      " |  ----------------------------------------------------------------------\n",
      " |  Data descriptors defined here:\n",
      " |  \n",
      " |  __dict__\n",
      " |      dictionary for instance variables\n",
      " |  \n",
      " |  __weakref__\n",
      " |      list of weak references to the object\n",
      " |  \n",
      " |  ----------------------------------------------------------------------\n",
      " |  Data and other attributes defined here:\n",
      " |  \n",
      " |  Person_id = 2\n",
      "\n"
     ]
    }
   ],
   "source": [
    "class Employee:\n",
    "    Person_id=1 #class variable\n",
    "    def __init__(self,name,age):\n",
    "        self.name=name\n",
    "        self.age=age\n",
    "        self.id=type(self).Person_id  #get class variable value\n",
    "        type(self).Person_id+=1 #increment class variable value\n",
    "    def printall(self):\n",
    "        print (\"Name : %s, age : %d, id : %d\" % (self.name,self.age,self.id))\n",
    "    @classmethod\n",
    "    def resetID(cls):\n",
    "        cls.Person_id=1\n",
    "    @staticmethod\n",
    "    def plus(a,b):\n",
    "        return a+b\n",
    "\n",
    "bob=Employee(\"Bob\",20)\n",
    "alice=Employee(\"Alice\",19)\n",
    "Employee.resetID() #this is not unbound call anymore, its bound call but it receives implicitly class, not instance\n",
    "bob.resetID()\n",
    "peter=Employee('Peter',23)\n",
    "bob.printall()\n",
    "alice.printall()\n",
    "\n",
    "peter.printall()\n",
    "print(bob.plus(55,88))\n",
    "print(Employee.plus(30,40))\n",
    "help(Employee)"
   ]
  },
  {
   "cell_type": "code",
   "execution_count": 34,
   "id": "56b92aee-505f-45c3-ac0c-0eedd479b52b",
   "metadata": {},
   "outputs": [
    {
     "name": "stdout",
     "output_type": "stream",
     "text": [
      "Name : Bob, age : 20, id : 1\n",
      "Name : Alice, age : 19, id : 2\n",
      "Name : Peter, age : 23, id : 3\n",
      "143\n",
      "70\n"
     ]
    }
   ],
   "source": [
    "class Employee:\n",
    "    Person_id=1 #class variable\n",
    "    def __init__(self,name,age):\n",
    "        self.name=name\n",
    "        self.age=age\n",
    "        self.id=self.get_newID()\n",
    "    def printall(self):\n",
    "        print (\"Name : %s, age : %d, id : %d\" % (self.name,self.age,self.id))\n",
    "    @classmethod\n",
    "    def resetID(cls):\n",
    "        cls.Person_id=1\n",
    "    @staticmethod\n",
    "    def plus(a,b):\n",
    "        return a+b\n",
    "    @classmethod\n",
    "    def get_newID(cls):\n",
    "        result=cls.Person_id\n",
    "        cls.Person_id+=1\n",
    "        return result\n",
    "\n",
    "bob=Employee(\"Bob\",20)\n",
    "alice=Employee(\"Alice\",19)\n",
    "#Employee.resetID() #this is not unbound call anymore, its bound call but it receives implicitly class, not instance\n",
    "#bob.resetID()\n",
    "peter=Employee('Peter',23)\n",
    "bob.printall()\n",
    "alice.printall()\n",
    "\n",
    "peter.printall()\n",
    "print(bob.plus(55,88))\n",
    "print(Employee.plus(30,40))\n",
    "#help(Employee)"
   ]
  }
 ],
 "metadata": {
  "kernelspec": {
   "display_name": "Python 3 (ipykernel)",
   "language": "python",
   "name": "python3"
  },
  "language_info": {
   "codemirror_mode": {
    "name": "ipython",
    "version": 3
   },
   "file_extension": ".py",
   "mimetype": "text/x-python",
   "name": "python",
   "nbconvert_exporter": "python",
   "pygments_lexer": "ipython3",
   "version": "3.11.7"
  }
 },
 "nbformat": 4,
 "nbformat_minor": 5
}
