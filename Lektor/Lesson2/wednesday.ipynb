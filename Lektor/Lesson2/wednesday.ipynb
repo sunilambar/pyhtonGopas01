{
 "cells": [
  {
   "cell_type": "code",
   "execution_count": null,
   "id": "58104642-efa1-4976-807c-b13d28349ea1",
   "metadata": {},
   "outputs": [],
   "source": [
    "#wednesday"
   ]
  },
  {
   "cell_type": "code",
   "execution_count": 2,
   "id": "ed9763e3-3870-4a16-b1fa-eae36d8d176e",
   "metadata": {},
   "outputs": [],
   "source": [
    "#decorators"
   ]
  },
  {
   "cell_type": "code",
   "execution_count": 9,
   "id": "95eb6ba1-b0d4-41ec-ab3a-688059fbf6e5",
   "metadata": {},
   "outputs": [
    {
     "name": "stdout",
     "output_type": "stream",
     "text": [
      "<class 'function'> 2530084728608 ['__annotations__', '__builtins__', '__call__', '__class__', '__closure__', '__code__', '__defaults__', '__delattr__', '__dict__', '__dir__', '__doc__', '__eq__', '__format__', '__ge__', '__get__', '__getattribute__', '__getstate__', '__globals__', '__gt__', '__hash__', '__init__', '__init_subclass__', '__kwdefaults__', '__le__', '__lt__', '__module__', '__name__', '__ne__', '__new__', '__qualname__', '__reduce__', '__reduce_ex__', '__repr__', '__setattr__', '__sizeof__', '__str__', '__subclasshook__']\n",
      "{1: <function f1 at 0x0000024D14CD2F20>, 2: <function f2 at 0x0000024D14CD3380>, 3: <function f3 at 0x0000024D14CD2E80>} <class 'dict'>\n",
      "123\n",
      "125\n"
     ]
    }
   ],
   "source": [
    "#in Python functions are first class citizens (first class functions)\n",
    "\n",
    "# https://en.wikipedia.org/wiki/First-class_function\n",
    "def f1(x):\n",
    "    return x\n",
    "def f2(x):\n",
    "    return x+1\n",
    "def f3(x):\n",
    "    return x+2\n",
    "functions={1:f1, 2:f2, 3:f3}\n",
    "print(type(f1),id(f1),dir(f1))\n",
    "print(functions,type(functions))\n",
    "print(functions[1](123))\n",
    "print(functions[3](123))"
   ]
  },
  {
   "cell_type": "code",
   "execution_count": 13,
   "id": "73053af5-7d07-47c9-a54a-a5312032503f",
   "metadata": {},
   "outputs": [
    {
     "name": "stdout",
     "output_type": "stream",
     "text": [
      "<function f.<locals>.gopas at 0x0000024D14CD3A60> <class 'function'>\n",
      "18\n"
     ]
    }
   ],
   "source": [
    "def f():\n",
    "    def gopas(a,b):\n",
    "        return a+b\n",
    "    return gopas   \n",
    "brno=f()\n",
    "print(brno,type(brno))\n",
    "print(brno(12,6))"
   ]
  },
  {
   "cell_type": "code",
   "execution_count": 17,
   "id": "a6ed47e5-cfc6-4e90-952b-6431be3a1cf0",
   "metadata": {},
   "outputs": [
    {
     "name": "stdout",
     "output_type": "stream",
     "text": [
      "Adding two numbers: 23 + 6\n",
      "29\n",
      "Adding two numbers: 2 + 7\n",
      "9\n",
      "Adding two numbers: 12 + 11\n",
      "23\n",
      "Adding two numbers: 2 + 7\n",
      "9\n",
      "Adding two numbers: 1 + 9\n",
      "10\n",
      "Adding two numbers: 2 + 7\n",
      "9\n",
      "Adding two numbers: 23 + 6\n",
      "29\n"
     ]
    }
   ],
   "source": [
    "#decorators, next example\n",
    "\n",
    "def add(a,b):\n",
    "    print(f'Adding two numbers: {a} + {b}')\n",
    "    return a+b\n",
    "print(add(23,6))\n",
    "print(add(2,7))\n",
    "print(add(12,11))\n",
    "print(add(2,7))\n",
    "print(add(1,9))\n",
    "print(add(2,7))\n",
    "print(add(23,6))"
   ]
  },
  {
   "cell_type": "code",
   "execution_count": 20,
   "id": "b2392529-74df-4408-a8b1-2d975331dd75",
   "metadata": {},
   "outputs": [
    {
     "name": "stdout",
     "output_type": "stream",
     "text": [
      "Adding two numbers: 23 + 6\n",
      "29\n",
      "Adding two numbers: 2 + 7\n",
      "9\n",
      "Adding two numbers: 12 + 11\n",
      "23\n",
      "9\n",
      "Adding two numbers: 1 + 9\n",
      "10\n",
      "9\n",
      "29\n",
      "['__annotations__', '__call__', '__class__', '__copy__', '__deepcopy__', '__delattr__', '__dict__', '__dir__', '__doc__', '__eq__', '__format__', '__ge__', '__get__', '__getattribute__', '__getstate__', '__gt__', '__hash__', '__init__', '__init_subclass__', '__le__', '__lt__', '__module__', '__name__', '__ne__', '__new__', '__qualname__', '__reduce__', '__reduce_ex__', '__repr__', '__setattr__', '__sizeof__', '__str__', '__subclasshook__', '__wrapped__', 'cache_clear', 'cache_info', 'cache_parameters']\n"
     ]
    },
    {
     "data": {
      "text/plain": [
       "CacheInfo(hits=3, misses=4, maxsize=None, currsize=4)"
      ]
     },
     "execution_count": 20,
     "metadata": {},
     "output_type": "execute_result"
    }
   ],
   "source": [
    "#decorators, next example\n",
    "import functools\n",
    "\n",
    "@functools.cache\n",
    "def add(a,b):\n",
    "    print(f'Adding two numbers: {a} + {b}')\n",
    "    return a+b\n",
    "print(add(23,6))\n",
    "print(add(2,7))\n",
    "print(add(12,11))\n",
    "print(add(2,7))\n",
    "print(add(1,9))\n",
    "print(add(2,7))\n",
    "print(add(23,6))\n",
    "print(dir(add))\n",
    "add.cache_info()"
   ]
  },
  {
   "cell_type": "code",
   "execution_count": 54,
   "id": "d230879d-75c0-41eb-9cf1-7afea2d6fc14",
   "metadata": {},
   "outputs": [
    {
     "name": "stdout",
     "output_type": "stream",
     "text": [
      "Adding two numbers: 23 + 6\n",
      "29\n",
      "Adding two numbers: 2 + 7\n",
      "9\n",
      "Adding two numbers: 12 + 11\n",
      "23\n",
      "9\n",
      "Adding two numbers: 1 + 9\n",
      "10\n",
      "9\n",
      "29\n",
      "['__annotations__', '__call__', '__class__', '__copy__', '__deepcopy__', '__delattr__', '__dict__', '__dir__', '__doc__', '__eq__', '__format__', '__ge__', '__get__', '__getattribute__', '__getstate__', '__gt__', '__hash__', '__init__', '__init_subclass__', '__le__', '__lt__', '__module__', '__name__', '__ne__', '__new__', '__qualname__', '__reduce__', '__reduce_ex__', '__repr__', '__setattr__', '__sizeof__', '__str__', '__subclasshook__', '__wrapped__', 'cache_clear', 'cache_info', 'cache_parameters']\n"
     ]
    },
    {
     "data": {
      "text/plain": [
       "CacheInfo(hits=3, misses=4, maxsize=13, currsize=4)"
      ]
     },
     "execution_count": 54,
     "metadata": {},
     "output_type": "execute_result"
    }
   ],
   "source": [
    "#decorators, next example\n",
    "import functools\n",
    "\n",
    "@functools.lru_cache(13)\n",
    "def add(a,b):\n",
    "    print(f'Adding two numbers: {a} + {b}')\n",
    "    return a+b\n",
    "print(add(23,6))\n",
    "print(add(2,7))\n",
    "print(add(12,11))\n",
    "print(add(2,7))\n",
    "print(add(1,9))\n",
    "print(add(2,7))\n",
    "print(add(23,6))\n",
    "print(dir(add))\n",
    "add.cache_info()"
   ]
  },
  {
   "cell_type": "code",
   "execution_count": 31,
   "id": "12163af4-4a43-4932-a253-8e439d18d1dc",
   "metadata": {},
   "outputs": [
    {
     "name": "stdout",
     "output_type": "stream",
     "text": [
      "Hello JARDA\n",
      "Hello HONZA\n",
      "<class 'function'> 2530086154496\n",
      "<class 'function'> 2530086149056\n",
      "<class 'function'> 2530084728928\n",
      "<b>Hello JARDA</b>\n"
     ]
    }
   ],
   "source": [
    "def greet(name):\n",
    "    return f'Hello {name.upper()}'\n",
    "\n",
    "print(greet('Jarda'))\n",
    "print(greet('Honza'))\n",
    "\n",
    "print(type(greet),id(greet))\n",
    "\n",
    "def decorator_of_greet_fuction(p_function): #decorator\n",
    "    def wrapper(p_name):\n",
    "        return f'<b>{p_function(p_name)}</b>'\n",
    "    return wrapper\n",
    "print(type(decorator_of_greet_fuction),id(decorator_of_greet_fuction))\n",
    "\n",
    "decorated_greet=decorator_of_greet_fuction(greet)\n",
    "print(type(decorated_greet),id(decorated_greet))\n",
    "\n",
    "print(decorated_greet('Jarda'))"
   ]
  },
  {
   "cell_type": "code",
   "execution_count": 32,
   "id": "ad6fb869-3221-4a1a-99e9-a6b28633c63f",
   "metadata": {},
   "outputs": [
    {
     "name": "stdout",
     "output_type": "stream",
     "text": [
      "Hello JARDA\n",
      "Hello HONZA\n",
      "<class 'function'> 2530086152896\n",
      "<class 'function'> 2530086157216\n",
      "<class 'function'> 2530086149056\n",
      "<b>Hello JARDA</b>\n"
     ]
    }
   ],
   "source": [
    "def greet(name):\n",
    "    return f'Hello {name.upper()}'\n",
    "\n",
    "print(greet('Jarda'))\n",
    "print(greet('Honza'))\n",
    "\n",
    "print(type(greet),id(greet))\n",
    "\n",
    "def decorator_of_greet_fuction(p_function): #decorator\n",
    "    def wrapper(p_name):\n",
    "        return f'<b>{p_function(p_name)}</b>'\n",
    "    return wrapper\n",
    "print(type(decorator_of_greet_fuction),id(decorator_of_greet_fuction))\n",
    "\n",
    "greet=decorator_of_greet_fuction(greet)\n",
    "print(type(greet),id(greet))\n",
    "\n",
    "print(greet('Jarda'))"
   ]
  },
  {
   "cell_type": "code",
   "execution_count": 33,
   "id": "b3ed0d52-f23f-43a5-9854-a81bfa1210cb",
   "metadata": {},
   "outputs": [
    {
     "name": "stdout",
     "output_type": "stream",
     "text": [
      "<b>Hello JARDA</b>\n",
      "<b>Hello HONZA</b>\n"
     ]
    }
   ],
   "source": [
    "def decorator_of_greet_fuction(p_function): #decorator\n",
    "    def wrapper(p_name):\n",
    "        return f'<b>{p_function(p_name)}</b>'\n",
    "    return wrapper\n",
    "\n",
    "@decorator_of_greet_fuction  #same as greet=decorator_of_greet_fuction(greet)\n",
    "def greet(name):\n",
    "    return f'Hello {name.upper()}'\n",
    "\n",
    "print(greet('Jarda'))\n",
    "print(greet('Honza'))"
   ]
  },
  {
   "cell_type": "code",
   "execution_count": 34,
   "id": "41cec833-8366-42fa-be3f-e6e5e4cd377d",
   "metadata": {},
   "outputs": [
    {
     "name": "stdout",
     "output_type": "stream",
     "text": [
      "<b>Hello JARDA</b>\n",
      "<b>Hello HONZA</b>\n"
     ]
    }
   ],
   "source": [
    "def bold(p_function): #decorator\n",
    "    def wrapper(p_name):\n",
    "        return f'<b>{p_function(p_name)}</b>'\n",
    "    return wrapper\n",
    "\n",
    "@bold\n",
    "def greet(name):\n",
    "    return f'Hello {name.upper()}'\n",
    "\n",
    "print(greet('Jarda'))\n",
    "print(greet('Honza'))"
   ]
  },
  {
   "cell_type": "code",
   "execution_count": 35,
   "id": "28af08e2-3af2-43e8-9109-fb2fc124019e",
   "metadata": {},
   "outputs": [
    {
     "ename": "TypeError",
     "evalue": "bold.<locals>.wrapper() takes 1 positional argument but 2 were given",
     "output_type": "error",
     "traceback": [
      "\u001b[1;31m---------------------------------------------------------------------------\u001b[0m",
      "\u001b[1;31mTypeError\u001b[0m                                 Traceback (most recent call last)",
      "Cell \u001b[1;32mIn[35], line 9\u001b[0m\n\u001b[0;32m      6\u001b[0m \u001b[38;5;129m@bold\u001b[39m\n\u001b[0;32m      7\u001b[0m \u001b[38;5;28;01mdef\u001b[39;00m \u001b[38;5;21mgreet2\u001b[39m(name,surname):\n\u001b[0;32m      8\u001b[0m     \u001b[38;5;28;01mreturn\u001b[39;00m \u001b[38;5;124mf\u001b[39m\u001b[38;5;124m'\u001b[39m\u001b[38;5;124mHello \u001b[39m\u001b[38;5;132;01m{\u001b[39;00mname\u001b[38;5;241m.\u001b[39mlower()\u001b[38;5;132;01m}\u001b[39;00m\u001b[38;5;124m \u001b[39m\u001b[38;5;132;01m{\u001b[39;00msurname\u001b[38;5;241m.\u001b[39mupper()\u001b[38;5;132;01m}\u001b[39;00m\u001b[38;5;124m'\u001b[39m\n\u001b[1;32m----> 9\u001b[0m \u001b[38;5;28mprint\u001b[39m(greet2(\u001b[38;5;124m'\u001b[39m\u001b[38;5;124mJan\u001b[39m\u001b[38;5;124m'\u001b[39m,\u001b[38;5;124m'\u001b[39m\u001b[38;5;124mNovak\u001b[39m\u001b[38;5;124m'\u001b[39m))\n",
      "\u001b[1;31mTypeError\u001b[0m: bold.<locals>.wrapper() takes 1 positional argument but 2 were given"
     ]
    }
   ],
   "source": [
    "def bold(p_function): #decorator\n",
    "    def wrapper(p_name):\n",
    "        return f'<b>{p_function(p_name)}</b>'\n",
    "    return wrapper\n",
    "\n",
    "@bold\n",
    "def greet2(name,surname):\n",
    "    return f'Hello {name.lower()} {surname.upper()}'\n",
    "print(greet2('Jan','Novak'))"
   ]
  },
  {
   "cell_type": "code",
   "execution_count": 36,
   "id": "5a172089-7e9e-4bb9-a156-8e3ea39991f4",
   "metadata": {},
   "outputs": [
    {
     "name": "stdout",
     "output_type": "stream",
     "text": [
      "<b>Hello jan NOVAK</b>\n"
     ]
    }
   ],
   "source": [
    "def bold(p_function): #decorator\n",
    "    def wrapper(p_name):\n",
    "        return f'<b>{p_function(p_name)}</b>'\n",
    "    return wrapper\n",
    "\n",
    "def bold2(p_function): #decorator\n",
    "    def wrapper(p_name,p_second):\n",
    "        return f'<b>{p_function(p_name,p_second)}</b>'\n",
    "    return wrapper\n",
    "\n",
    "@bold2\n",
    "def greet2(name,surname):\n",
    "    return f'Hello {name.lower()} {surname.upper()}'\n",
    "print(greet2('Jan','Novak'))"
   ]
  },
  {
   "cell_type": "code",
   "execution_count": 42,
   "id": "3806ea2b-c342-4a8b-a6f5-0b81cdb97580",
   "metadata": {},
   "outputs": [
    {
     "name": "stdout",
     "output_type": "stream",
     "text": [
      "<b>Hello jan NOVAK</b>\n",
      "<b>Hello JARDA</b>\n",
      "<b>Hello HONZA</b>\n",
      "<b>Gopas in Brno</b>\n"
     ]
    }
   ],
   "source": [
    "def bold(p_function): #decorator\n",
    "    def wrapper(*args,**kwargs):\n",
    "        return f'<b>{p_function(*args, **kwargs)}</b>'\n",
    "    return wrapper\n",
    "\n",
    "@bold\n",
    "def greet2(name,surname):\n",
    "    return f'Hello {name.lower()} {surname.upper()}'\n",
    "print(greet2('Jan','Novak'))\n",
    "\n",
    "@bold\n",
    "def greet(name):\n",
    "    return f'Hello {name.upper()}'\n",
    "\n",
    "print(greet('Jarda'))\n",
    "print(greet('Honza'))\n",
    "\n",
    "@bold\n",
    "def const():\n",
    "    return 'Gopas in Brno'\n",
    "print(const())"
   ]
  },
  {
   "cell_type": "code",
   "execution_count": 45,
   "id": "caaaab1f-2be7-4c9a-8d1e-cd6aa063a99e",
   "metadata": {},
   "outputs": [
    {
     "ename": "SyntaxError",
     "evalue": "positional argument follows keyword argument (130185467.py, line 1)",
     "output_type": "error",
     "traceback": [
      "\u001b[1;36m  Cell \u001b[1;32mIn[45], line 1\u001b[1;36m\u001b[0m\n\u001b[1;33m    print(1,2,3,sep='___', end='\\n\\n\\n',4)\u001b[0m\n\u001b[1;37m                                         ^\u001b[0m\n\u001b[1;31mSyntaxError\u001b[0m\u001b[1;31m:\u001b[0m positional argument follows keyword argument\n"
     ]
    }
   ],
   "source": [
    "print(1,2,3,sep='___', end='\\n\\n\\n',4)"
   ]
  },
  {
   "cell_type": "code",
   "execution_count": 50,
   "id": "c0aa0326-a1b1-4b8e-aab6-ce0643e2a6f5",
   "metadata": {},
   "outputs": [
    {
     "name": "stdout",
     "output_type": "stream",
     "text": [
      "<b><u>Hello jan NOVAK</u></b>\n",
      "<i><b><u>Hello JARDA</u></b></i>\n",
      "<i><b><u>Hello HONZA</u></b></i>\n"
     ]
    }
   ],
   "source": [
    "def bold(p_function): #decorator\n",
    "    def wrapper(*args,**kwargs):\n",
    "        return f'<b>{p_function(*args, **kwargs)}</b>'\n",
    "    return wrapper\n",
    "\n",
    "def underline(p_function): #decorator\n",
    "    def wrapper(*args,**kwargs):\n",
    "        return f'<u>{p_function(*args, **kwargs)}</u>'\n",
    "    return wrapper\n",
    "\n",
    "def italic(p_function): #decorator\n",
    "    def wrapper(*args,**kwargs):\n",
    "        return f'<i>{p_function(*args, **kwargs)}</i>'\n",
    "    return wrapper\n",
    "\n",
    "\n",
    "@bold\n",
    "@underline\n",
    "def greet2(name,surname):\n",
    "    return f'Hello {name.lower()} {surname.upper()}'\n",
    "\n",
    "print(greet2('Jan','Novak'))\n",
    "\n",
    "@italic\n",
    "@bold\n",
    "@underline\n",
    "def greet(name):\n",
    "    return f'Hello {name.upper()}'\n",
    "\n",
    "print(greet('Jarda'))\n",
    "print(greet('Honza'))\n"
   ]
  },
  {
   "cell_type": "code",
   "execution_count": 55,
   "id": "1664a550-1a6d-4381-91a0-0d325c566d77",
   "metadata": {},
   "outputs": [
    {
     "name": "stdout",
     "output_type": "stream",
     "text": [
      "<u><b><i>Hello JARDA</i></b></u>\n",
      "<u><b><i>Hello HONZA</i></b></u>\n"
     ]
    }
   ],
   "source": [
    "#decorator with parameter (initializable decorator)\n",
    "\n",
    "def html_tag(tag): #decorator with parameter\n",
    "    def initialized_decorator(p_function):\n",
    "        def wrapper(*args,**kwargs):\n",
    "            return f'<{tag}>{p_function(*args, **kwargs)}</{tag}>'\n",
    "        return wrapper\n",
    "    return initialized_decorator\n",
    "\n",
    "@html_tag('u')\n",
    "@html_tag('b')\n",
    "@html_tag('i')\n",
    "def greet(name):\n",
    "    return f'Hello {name.upper()}'\n",
    "\n",
    "print(greet('Jarda'))\n",
    "print(greet('Honza'))\n"
   ]
  },
  {
   "cell_type": "code",
   "execution_count": 57,
   "id": "7d40c5ab-33ac-4f44-97b5-cd239711ee81",
   "metadata": {},
   "outputs": [
    {
     "name": "stdout",
     "output_type": "stream",
     "text": [
      "<i><u><b>Hello JARDA</b></u></i>\n",
      "<i><u><b>Hello HONZA</b></u></i>\n"
     ]
    }
   ],
   "source": [
    "#decorator with parameter (initializable decorator)\n",
    "\n",
    "def html_tag(tag): #decorator with parameter\n",
    "    def initialized_decorator(p_function):\n",
    "        def wrapper(*args,**kwargs):\n",
    "            return f'<{tag}>{p_function(*args, **kwargs)}</{tag}>'\n",
    "        return wrapper\n",
    "    return initialized_decorator\n",
    "\n",
    "under=html_tag('u')\n",
    "bold=html_tag('b')\n",
    "ita=html_tag('i')\n",
    "\n",
    "@ita\n",
    "@under\n",
    "@bold\n",
    "def greet(name):\n",
    "    return f'Hello {name.upper()}'\n",
    "\n",
    "print(greet('Jarda'))\n",
    "print(greet('Honza'))\n"
   ]
  },
  {
   "cell_type": "code",
   "execution_count": 64,
   "id": "69f2b6ea-90f6-4bd9-a5c1-561ea1108f90",
   "metadata": {},
   "outputs": [
    {
     "name": "stdout",
     "output_type": "stream",
     "text": [
      "49995000\n",
      "49995000\n",
      "183761613680500\n",
      "183761613697200\n"
     ]
    }
   ],
   "source": [
    "#create decorator called timethat\n",
    "\n",
    "L=list(range(10_000))\n",
    "#print(L)\n",
    "\n",
    "def f1(p_list):\n",
    "    return sum(p_list)\n",
    "\n",
    "print(f1(L))\n",
    "\n",
    "def f2(p_list):\n",
    "    suma=0\n",
    "    for number in p_list:\n",
    "        suma+=number\n",
    "    return suma\n",
    "\n",
    "print(f2(L))\n",
    "\n",
    "import time\n",
    "print(time.perf_counter_ns())\n",
    "print(time.perf_counter_ns())\n"
   ]
  },
  {
   "cell_type": "code",
   "execution_count": 5,
   "id": "c707f26e-f901-4f07-a685-8be6a2109cd0",
   "metadata": {},
   "outputs": [
    {
     "name": "stdout",
     "output_type": "stream",
     "text": [
      "Call took 1659817100 ns.\n",
      "4999999950000000\n",
      "Call took 2507698500 ns.\n",
      "4999999950000000\n"
     ]
    }
   ],
   "source": [
    "#create decorator called timethat\n",
    "import time\n",
    "\n",
    "def timethat(p_function): #decorator\n",
    "    def wrapper(*args,**kwargs):\n",
    "        start=time.perf_counter_ns()\n",
    "        result=p_function(*args, **kwargs)\n",
    "        stop=time.perf_counter_ns()\n",
    "        print('Call took',stop-start,'ns.')\n",
    "        return result\n",
    "    return wrapper\n",
    "L=list(range(100_000_000))\n",
    "#print(L)\n",
    "\n",
    "@timethat\n",
    "def f1(p_list):\n",
    "    return sum(p_list)\n",
    "\n",
    "print(f1(L))\n",
    "\n",
    "@timethat\n",
    "def f2(p_list):\n",
    "    suma=0\n",
    "    for number in p_list:\n",
    "        suma+=number\n",
    "    return suma\n",
    "\n",
    "print(f2(L))\n"
   ]
  },
  {
   "cell_type": "code",
   "execution_count": 41,
   "id": "9c250c95-5285-435e-b9c2-1939125e9d47",
   "metadata": {},
   "outputs": [
    {
     "name": "stdout",
     "output_type": "stream",
     "text": [
      "188146649121600\n",
      "188146484000000\n",
      "time.struct_time(tm_year=2024, tm_mon=4, tm_mday=10, tm_hour=9, tm_min=45, tm_sec=18, tm_wday=2, tm_yday=101, tm_isdst=0)\n",
      "Wed, 10 Apr 2024 09:45:18 +0000\n",
      "time.struct_time(tm_year=2024, tm_mon=4, tm_mday=10, tm_hour=11, tm_min=45, tm_sec=18, tm_wday=2, tm_yday=101, tm_isdst=1)\n",
      "Wed, 10 Apr 2024 11:45:18 +0000\n"
     ]
    }
   ],
   "source": [
    "import time\n",
    "print(time.perf_counter_ns())\n",
    "print(time.monotonic_ns())\n",
    "\n",
    "from time import gmtime, strftime\n",
    "print(gmtime())\n",
    "print(strftime(\"%a, %d %b %Y %H:%M:%S +0000\", gmtime())) #UTC\n",
    "print(time.localtime())\n",
    "print(strftime(\"%a, %d %b %Y %H:%M:%S +0000\", time.localtime())) #Prague/Europe\n"
   ]
  },
  {
   "cell_type": "code",
   "execution_count": 46,
   "id": "1fa067f9-a0a7-4e94-ab09-2fc31e4aeb8a",
   "metadata": {},
   "outputs": [
    {
     "name": "stdout",
     "output_type": "stream",
     "text": [
      "2010-09-10 06:51:25\n",
      "1970-08-06 22:12:10\n"
     ]
    }
   ],
   "source": [
    "from datetime import datetime\n",
    "ts = int('1284101485')\n",
    "\n",
    "# if you encounter a \"year is out of range\" error the timestamp\n",
    "# may be in milliseconds, try `ts /= 1000` in that case\n",
    "print(datetime.utcfromtimestamp(ts).strftime('%Y-%m-%d %H:%M:%S'))\n",
    "print(datetime.utcfromtimestamp(time.perf_counter_ns()/10e6).strftime('%Y-%m-%d %H:%M:%S'))\n"
   ]
  },
  {
   "cell_type": "code",
   "execution_count": 49,
   "id": "fe61c349-cbeb-4d2c-92c0-e730caa3f4d4",
   "metadata": {},
   "outputs": [
    {
     "name": "stdout",
     "output_type": "stream",
     "text": [
      "1712742681.696015\n",
      "188509.8645109\n",
      "188509864527600\n"
     ]
    }
   ],
   "source": [
    "import time\n",
    "print(time.time())\n",
    "print(time.perf_counter())\n",
    "print(time.perf_counter_ns())\n"
   ]
  },
  {
   "cell_type": "code",
   "execution_count": null,
   "id": "3cae78e2-9573-451d-a796-81a2e2d3283c",
   "metadata": {},
   "outputs": [],
   "source": [
    "#closures\n",
    "#closure functions"
   ]
  },
  {
   "cell_type": "code",
   "execution_count": null,
   "id": "83dc29de-5f23-45f9-b277-ce70c09ab52d",
   "metadata": {},
   "outputs": [],
   "source": [
    "#create function which prints how many times was called\n",
    "def f():\n",
    "    pass\n",
    "f() #function shuld print that was called for 1st time\n",
    "f() #print called for second time\n",
    "f() #third time ..."
   ]
  },
  {
   "cell_type": "code",
   "execution_count": 92,
   "id": "36fd7495",
   "metadata": {},
   "outputs": [
    {
     "name": "stdout",
     "output_type": "stream",
     "text": [
      "Function is called for 1ˢᵗ time.\n",
      "Function is called for 1ˢᵗ time.\n",
      "Function is called for 1ˢᵗ time.\n"
     ]
    }
   ],
   "source": [
    "#create function which prints how many times was called\n",
    "\n",
    "def f():\n",
    "    suffix={1:'\\N{modifier letter small s}\\N{modifier letter small t}',\n",
    "            2:'\\N{superscript latin small letter n}\\N{modifier letter small d}',\n",
    "            3:'\\N{modifier letter small r}\\N{modifier letter small d}'}\n",
    "    times=1\n",
    "    print('Function is called for ',times,suffix.get(times,'\\N{modifier letter small t}\\N{modifier letter small h}'),' time.',sep='')\n",
    "    times+=1\n",
    "f() #function shuld print that was called for 1st time\n",
    "f() #print called for second time\n",
    "f() #third time ..."
   ]
  },
  {
   "cell_type": "code",
   "execution_count": 91,
   "id": "2642d60c-ed8e-4791-8cfb-2e74433e81b2",
   "metadata": {},
   "outputs": [
    {
     "name": "stdout",
     "output_type": "stream",
     "text": [
      "Function is called for 1ˢᵗ time.\n",
      "Function is called for 2ⁿᵈ time.\n",
      "Function is called for 3ʳᵈ time.\n",
      "Function is called for 4ᵗʰ time.\n",
      "Function is called for 5ᵗʰ time.\n"
     ]
    }
   ],
   "source": [
    "#solution #1\n",
    "#global variable\n",
    "suffix={1:'\\N{modifier letter small s}\\N{modifier letter small t}',\n",
    "        2:'\\N{superscript latin small letter n}\\N{modifier letter small d}',\n",
    "        3:'\\N{modifier letter small r}\\N{modifier letter small d}'}\n",
    "\n",
    "times=1\n",
    "def f():\n",
    "    global times\n",
    "    print('Function is called for ',times,suffix.get(times,'\\N{modifier letter small t}\\N{modifier letter small h}'),' time.',sep='')\n",
    "    times+=1\n",
    "f()\n",
    "f()\n",
    "f()\n",
    "f()\n",
    "f()"
   ]
  },
  {
   "cell_type": "code",
   "execution_count": 93,
   "id": "3b62a278",
   "metadata": {},
   "outputs": [
    {
     "name": "stdout",
     "output_type": "stream",
     "text": [
      "Function is called for 6ᵗʰ time.\n",
      "Function is called for 7ᵗʰ time.\n",
      "Function is called for 8ᵗʰ time.\n",
      "Function is called for 9ᵗʰ time.\n",
      "Function is called for 10ᵗʰ time.\n"
     ]
    }
   ],
   "source": [
    "#solution #1\n",
    "#global variable\n",
    "suffix={1:'\\N{modifier letter small s}\\N{modifier letter small t}',\n",
    "        2:'\\N{superscript latin small letter n}\\N{modifier letter small d}',\n",
    "        3:'\\N{modifier letter small r}\\N{modifier letter small d}'}\n",
    "\n",
    "#times=1\n",
    "def f():\n",
    "    global times\n",
    "    print('Function is called for ',times,suffix.get(times,'\\N{modifier letter small t}\\N{modifier letter small h}'),' time.',sep='')\n",
    "    times+=1\n",
    "f()\n",
    "f()\n",
    "f()\n",
    "f()\n",
    "f()"
   ]
  },
  {
   "cell_type": "code",
   "execution_count": 6,
   "id": "89929601",
   "metadata": {},
   "outputs": [
    {
     "name": "stdout",
     "output_type": "stream",
     "text": [
      "['__annotations__', '__builtins__', '__call__', '__class__', '__closure__', '__code__', '__defaults__', '__delattr__', '__dict__', '__dir__', '__doc__', '__eq__', '__format__', '__ge__', '__get__', '__getattribute__', '__getstate__', '__globals__', '__gt__', '__hash__', '__init__', '__init_subclass__', '__kwdefaults__', '__le__', '__lt__', '__module__', '__name__', '__ne__', '__new__', '__qualname__', '__reduce__', '__reduce_ex__', '__repr__', '__setattr__', '__sizeof__', '__str__', '__subclasshook__']\n",
      "Function is called for 1ˢᵗ time.\n",
      "['__annotations__', '__builtins__', '__call__', '__class__', '__closure__', '__code__', '__defaults__', '__delattr__', '__dict__', '__dir__', '__doc__', '__eq__', '__format__', '__ge__', '__get__', '__getattribute__', '__getstate__', '__globals__', '__gt__', '__hash__', '__init__', '__init_subclass__', '__kwdefaults__', '__le__', '__lt__', '__module__', '__name__', '__ne__', '__new__', '__qualname__', '__reduce__', '__reduce_ex__', '__repr__', '__setattr__', '__sizeof__', '__str__', '__subclasshook__', 'times']\n",
      "Function is called for 2ⁿᵈ time.\n",
      "Function is called for 3ʳᵈ time.\n",
      "Function is called for 4ᵗʰ time.\n",
      "Function is called for 5ᵗʰ time.\n"
     ]
    }
   ],
   "source": [
    "#solution #2\n",
    "#function attribute\n",
    "\n",
    "suffix={1:'\\N{modifier letter small s}\\N{modifier letter small t}',\n",
    "        2:'\\N{superscript latin small letter n}\\N{modifier letter small d}',\n",
    "        3:'\\N{modifier letter small r}\\N{modifier letter small d}'}\n",
    "\n",
    "def f():\n",
    "    if not hasattr(f,'times'):\n",
    "        f.times=1\n",
    "    print('Function is called for ',f.times,suffix.setdefault(f.times,'\\N{modifier letter small t}\\N{modifier letter small h}'),' time.',sep='')\n",
    "    f.times+=1\n",
    "print(dir(f))\n",
    "f()\n",
    "print(dir(f))\n",
    "f()\n",
    "f()\n",
    "f()\n",
    "f()"
   ]
  },
  {
   "cell_type": "code",
   "execution_count": 11,
   "id": "e09cbc4d",
   "metadata": {},
   "outputs": [
    {
     "name": "stdout",
     "output_type": "stream",
     "text": [
      "Function is called for 1ˢᵗ time.\n",
      "Function is called for 2ⁿᵈ time.\n",
      "Function is called for 3ʳᵈ time.\n",
      "Function is called for 4ᵗʰ time.\n",
      "Function is called for 5ᵗʰ time.\n"
     ]
    }
   ],
   "source": [
    "#solution #3\n",
    "#function parameter with default value\n",
    "\n",
    "suffix={1:'\\N{modifier letter small s}\\N{modifier letter small t}',\n",
    "        2:'\\N{superscript latin small letter n}\\N{modifier letter small d}',\n",
    "        3:'\\N{modifier letter small r}\\N{modifier letter small d}'}\n",
    "\n",
    "def f(times=1):\n",
    "    print('Function is called for ',times,suffix.setdefault(times,'\\N{modifier letter small t}\\N{modifier letter small h}'),' time.',sep='')\n",
    "    #print(f.__defaults__)\n",
    "    f.__defaults__=(times+1,)\n",
    "f()\n",
    "f()\n",
    "f()\n",
    "f()\n",
    "f()"
   ]
  },
  {
   "cell_type": "code",
   "execution_count": 2,
   "id": "147c621d",
   "metadata": {},
   "outputs": [
    {
     "name": "stdout",
     "output_type": "stream",
     "text": [
      "Function is called for 1ˢᵗ time.\n",
      "Function is called for 2ⁿᵈ time.\n",
      "Function is called for 3ʳᵈ time.\n",
      "Function is called for 4ᵗʰ time.\n"
     ]
    }
   ],
   "source": [
    "#solution #4\n",
    "#closure function\n",
    "\n",
    "suffix={1:'\\N{modifier letter small s}\\N{modifier letter small t}',\n",
    "        2:'\\N{superscript latin small letter n}\\N{modifier letter small d}',\n",
    "        3:'\\N{modifier letter small r}\\N{modifier letter small d}'}\n",
    "\n",
    "def f():\n",
    "    times=1\n",
    "    def wrapper():\n",
    "        nonlocal times\n",
    "        print('Function is called for ',times,suffix.setdefault(times,'\\N{modifier letter small t}\\N{modifier letter small h}'),' time.',sep='')\n",
    "        times+=1\n",
    "    return wrapper\n",
    "f=f()\n",
    "f()\n",
    "f()\n",
    "f()\n",
    "f()"
   ]
  },
  {
   "cell_type": "code",
   "execution_count": 13,
   "id": "7aa0ec3d-43be-4dc6-9d38-98128b2a9506",
   "metadata": {},
   "outputs": [
    {
     "name": "stdout",
     "output_type": "stream",
     "text": [
      "24 40 18 405\n",
      "<class 'function'> 2113576686496\n",
      "(<cell at 0x000001EC1AE2FEB0: int object at 0x00007FFBEC12C368>,) <cell at 0x000001EC1AE2FEB0: int object at 0x00007FFBEC12C368> 3\n"
     ]
    }
   ],
   "source": [
    "def xtimes(x):\n",
    "    def inner(value):\n",
    "        return value*x\n",
    "    return inner\n",
    "\n",
    "times3=xtimes(3)\n",
    "times5=xtimes(5)\n",
    "times9=xtimes(9)\n",
    "print(times3(8),times5(8), times9(2), times5(times3(times9(3))))\n",
    "print(type(times3),id(times3))\n",
    "print(times3.__closure__,times3.__closure__[0],times3.__closure__[0].cell_contents)"
   ]
  },
  {
   "cell_type": "code",
   "execution_count": 19,
   "id": "e8446b21-a51b-4f6b-9d62-628899c3c618",
   "metadata": {},
   "outputs": [
    {
     "name": "stdout",
     "output_type": "stream",
     "text": [
      "<b>Hello JARDA</b>\n",
      "(<cell at 0x000001EC1B0303A0: function object at 0x000001EC1AFCE020>,) <cell at 0x000001EC1B0303A0: function object at 0x000001EC1AFCE020> <function greet at 0x000001EC1AFCE020>\n",
      "Hello HONZA\n"
     ]
    }
   ],
   "source": [
    "def bold(p_function): #decorator\n",
    "    def wrapper(*args,**kwargs):\n",
    "        return f'<b>{p_function(*args, **kwargs)}</b>'\n",
    "    return wrapper\n",
    "\n",
    "@bold\n",
    "def greet(name):\n",
    "    return f'Hello {name.upper()}'\n",
    "\n",
    "print(greet('Jarda'))\n",
    "print(greet.__closure__,greet.__closure__[0],greet.__closure__[0].cell_contents)\n",
    "print(greet.__closure__[0].cell_contents('Honza'))"
   ]
  },
  {
   "cell_type": "code",
   "execution_count": 20,
   "id": "23316ffd-30ac-4e19-8159-f7cd1c27a8e2",
   "metadata": {},
   "outputs": [
    {
     "ename": "TypeError",
     "evalue": "'function' object is not iterable",
     "output_type": "error",
     "traceback": [
      "\u001b[1;31m---------------------------------------------------------------------------\u001b[0m",
      "\u001b[1;31mTypeError\u001b[0m                                 Traceback (most recent call last)",
      "Cell \u001b[1;32mIn[20], line 15\u001b[0m\n\u001b[0;32m     11\u001b[0m     \u001b[38;5;28;01mreturn\u001b[39;00m countdown\n\u001b[0;32m     13\u001b[0m countdown_from_five \u001b[38;5;241m=\u001b[39m countdown_generator(\u001b[38;5;241m5\u001b[39m)\n\u001b[1;32m---> 15\u001b[0m \u001b[38;5;28;01mfor\u001b[39;00m num \u001b[38;5;129;01min\u001b[39;00m countdown_from_five:\n\u001b[0;32m     16\u001b[0m     \u001b[38;5;28mprint\u001b[39m(num)\n",
      "\u001b[1;31mTypeError\u001b[0m: 'function' object is not iterable"
     ]
    }
   ],
   "source": [
    "#https://dev.to/bshadmehr/understanding-closures-in-python-a-comprehensive-tutorial-11ld\n",
    "def countdown_generator(start):\n",
    "    current = start\n",
    "\n",
    "    def countdown():\n",
    "        nonlocal current\n",
    "        if current <= 0:\n",
    "            raise StopIteration\n",
    "        current -= 1\n",
    "        return current + 1\n",
    "\n",
    "    return countdown\n",
    "\n",
    "countdown_from_five = countdown_generator(5)\n",
    "\n",
    "for num in countdown_from_five:\n",
    "    print(num)"
   ]
  },
  {
   "cell_type": "code",
   "execution_count": 26,
   "id": "250fe13e-89e8-49a3-8108-0bde60cce16c",
   "metadata": {},
   "outputs": [
    {
     "name": "stdout",
     "output_type": "stream",
     "text": [
      "<class 'function'> 2113576691296\n",
      "['__annotations__', '__builtins__', '__call__', '__class__', '__closure__', '__code__', '__defaults__', '__delattr__', '__dict__', '__dir__', '__doc__', '__eq__', '__format__', '__ge__', '__get__', '__getattribute__', '__getstate__', '__globals__', '__gt__', '__hash__', '__init__', '__init_subclass__', '__kwdefaults__', '__le__', '__lt__', '__module__', '__name__', '__ne__', '__new__', '__qualname__', '__reduce__', '__reduce_ex__', '__repr__', '__setattr__', '__sizeof__', '__str__', '__subclasshook__']\n",
      "0\n",
      "0\n",
      "0\n"
     ]
    }
   ],
   "source": [
    "#generator functions   ->  generators\n",
    "def firstn(n):\n",
    "    num = 0\n",
    "    while num < n:\n",
    "        return num\n",
    "        num += 1\n",
    "print(type(firstn),id(firstn))\n",
    "print(dir(firstn))\n",
    "\n",
    "print(firstn(10))\n",
    "print(firstn(10))\n",
    "print(firstn(10))\n",
    "\n",
    "#sum_of_first_n = sum(firstn(100))\n",
    "#for x in firstn:\n",
    "#    pass"
   ]
  },
  {
   "cell_type": "code",
   "execution_count": 31,
   "id": "1ca6b471",
   "metadata": {},
   "outputs": [
    {
     "name": "stdout",
     "output_type": "stream",
     "text": [
      "<class 'function'> 2113576694816\n",
      "['__annotations__', '__builtins__', '__call__', '__class__', '__closure__', '__code__', '__defaults__', '__delattr__', '__dict__', '__dir__', '__doc__', '__eq__', '__format__', '__ge__', '__get__', '__getattribute__', '__getstate__', '__globals__', '__gt__', '__hash__', '__init__', '__init_subclass__', '__kwdefaults__', '__le__', '__lt__', '__module__', '__name__', '__ne__', '__new__', '__qualname__', '__reduce__', '__reduce_ex__', '__repr__', '__setattr__', '__sizeof__', '__str__', '__subclasshook__']\n",
      "<class 'generator'> 2113589858848 ['__class__', '__del__', '__delattr__', '__dir__', '__doc__', '__eq__', '__format__', '__ge__', '__getattribute__', '__getstate__', '__gt__', '__hash__', '__init__', '__init_subclass__', '__iter__', '__le__', '__lt__', '__name__', '__ne__', '__new__', '__next__', '__qualname__', '__reduce__', '__reduce_ex__', '__repr__', '__setattr__', '__sizeof__', '__str__', '__subclasshook__', 'close', 'gi_code', 'gi_frame', 'gi_running', 'gi_suspended', 'gi_yieldfrom', 'send', 'throw']\n",
      "0\n",
      "1\n",
      "2\n",
      "3\n",
      "4\n",
      "5\n",
      "6\n",
      "7\n",
      "8\n",
      "9\n"
     ]
    }
   ],
   "source": [
    "#generator functions   ->  generators\n",
    "def firstn(n):\n",
    "    num = 0\n",
    "    while num < n:\n",
    "        yield num\n",
    "        num += 1\n",
    "print(type(firstn),id(firstn))\n",
    "print(dir(firstn))\n",
    "\n",
    "f=firstn(10)\n",
    "print(type(f),id(f),dir(f))\n",
    "\n",
    "#print(firstn(10))\n",
    "#print(firstn(10))\n",
    "\n",
    "#sum_of_first_n = sum(firstn(100))\n",
    "for x in f:\n",
    "    print(x)"
   ]
  },
  {
   "cell_type": "code",
   "execution_count": 74,
   "id": "7b802480-8aab-4874-96ae-1888c84f5148",
   "metadata": {},
   "outputs": [
    {
     "name": "stdout",
     "output_type": "stream",
     "text": [
      "23\n",
      "22\n",
      "6\n",
      "\n",
      "45\n",
      "30\n",
      "7\n",
      "7\n",
      "8\n"
     ]
    }
   ],
   "source": [
    "#cretate generator whhich can produce some number of randoms\n",
    "import random\n",
    "print(random.randint(0,100))\n",
    "print(random.randint(0,100))\n",
    "print(random.randint(0,100))\n",
    "print()\n",
    "\n",
    "def get_rand(count, max_value):\n",
    "    for i in range(count):\n",
    "        yield random.randint(0,max_value)\n",
    "    \n",
    "\n",
    "for x in get_rand(5,66):\n",
    "    print(x)"
   ]
  },
  {
   "cell_type": "code",
   "execution_count": 77,
   "id": "940e6d23-ca96-444b-a8ee-366e1f7b7a2a",
   "metadata": {},
   "outputs": [
    {
     "name": "stdout",
     "output_type": "stream",
     "text": [
      "CZ Brno 395000\n",
      "CZ Praha 1100000\n",
      "SK Kosice 190000\n",
      "CZ Ceske Budejovice 160000\n",
      "AT Linz 80000\n",
      "DE Berlin 6500000\n",
      "SK Bratislava 400000\n",
      "CZ Ostrava 280000\n",
      "SK Zilina 71000\n",
      "AT Graz 90000\n",
      "CZ Hradec Kralove 97000\n"
     ]
    }
   ],
   "source": [
    "#in cities program create and use generator function \n",
    "#arg of this function is path to file and it yields tuples of contry_code,city_name and population\n",
    "#wrong rows are skipped (not yielded)\n",
    "import re\n",
    "def process_file(file):\n",
    "    for row in open(file,'rt'):\n",
    "        m=re.search(r'^([A-Z]{2}),([A-Z][a-z]+(?: [A-Za-z][a-z]*)*),([0-9]+)$',row)\n",
    "        if m:\n",
    "            yield m.groups()\n",
    "for code,city, population in process_file(r'c:\\users\\student\\documents\\cities3.txt'):\n",
    "    print(code,city,int(population))    "
   ]
  },
  {
   "cell_type": "code",
   "execution_count": 84,
   "id": "dedff83b-7626-4c96-a79a-46ba7474867b",
   "metadata": {},
   "outputs": [
    {
     "name": "stdout",
     "output_type": "stream",
     "text": [
      "120\n",
      "1220136825991110068701238785423046926253574342803192842192413588385845373153881997605496447502203281863013616477148203584163378722078177200480785205159329285477907571939330603772960859086270429174547882424912726344305670173270769461062802310452644218878789465754777149863494367781037644274033827365397471386477878495438489595537537990423241061271326984327745715546309977202781014561081188373709531016356324432987029563896628911658974769572087926928871281780070265174507768410719624390394322536422605234945850129918571501248706961568141625359056693423813008856249246891564126775654481886506593847951775360894005745238940335798476363944905313062323749066445048824665075946735862074637925184200459369692981022263971952597190945217823331756934581508552332820762820023402626907898342451712006207714640979456116127629145951237229913340169552363850942885592018727433795173014586357570828355780158735432768888680120399882384702151467605445407663535984174430480128938313896881639487469658817504506926365338175055478128640000000000000000000000000000000000000000000000000000000000000000000000000000000000000000000000000000000000000000000000000000\n",
      "3000\n"
     ]
    },
    {
     "ename": "RecursionError",
     "evalue": "maximum recursion depth exceeded",
     "output_type": "error",
     "traceback": [
      "\u001b[1;31m---------------------------------------------------------------------------\u001b[0m",
      "\u001b[1;31mRecursionError\u001b[0m                            Traceback (most recent call last)",
      "Cell \u001b[1;32mIn[84], line 15\u001b[0m\n\u001b[0;32m     13\u001b[0m \u001b[38;5;66;03m#print(dir(sys))\u001b[39;00m\n\u001b[0;32m     14\u001b[0m \u001b[38;5;28mprint\u001b[39m(sys\u001b[38;5;241m.\u001b[39mgetrecursionlimit())\n\u001b[1;32m---> 15\u001b[0m x\u001b[38;5;241m=\u001b[39mfactorial(\u001b[38;5;241m6000\u001b[39m)\n",
      "Cell \u001b[1;32mIn[84], line 7\u001b[0m, in \u001b[0;36mfactorial\u001b[1;34m(n)\u001b[0m\n\u001b[0;32m      5\u001b[0m \u001b[38;5;28;01mif\u001b[39;00m \u001b[38;5;129;01mnot\u001b[39;00m n:\n\u001b[0;32m      6\u001b[0m     \u001b[38;5;28;01mreturn\u001b[39;00m \u001b[38;5;241m1\u001b[39m\n\u001b[1;32m----> 7\u001b[0m \u001b[38;5;28;01mreturn\u001b[39;00m n\u001b[38;5;241m*\u001b[39mfactorial(n\u001b[38;5;241m-\u001b[39m\u001b[38;5;241m1\u001b[39m)\n",
      "Cell \u001b[1;32mIn[84], line 7\u001b[0m, in \u001b[0;36mfactorial\u001b[1;34m(n)\u001b[0m\n\u001b[0;32m      5\u001b[0m \u001b[38;5;28;01mif\u001b[39;00m \u001b[38;5;129;01mnot\u001b[39;00m n:\n\u001b[0;32m      6\u001b[0m     \u001b[38;5;28;01mreturn\u001b[39;00m \u001b[38;5;241m1\u001b[39m\n\u001b[1;32m----> 7\u001b[0m \u001b[38;5;28;01mreturn\u001b[39;00m n\u001b[38;5;241m*\u001b[39mfactorial(n\u001b[38;5;241m-\u001b[39m\u001b[38;5;241m1\u001b[39m)\n",
      "    \u001b[1;31m[... skipping similar frames: factorial at line 7 (2970 times)]\u001b[0m\n",
      "Cell \u001b[1;32mIn[84], line 7\u001b[0m, in \u001b[0;36mfactorial\u001b[1;34m(n)\u001b[0m\n\u001b[0;32m      5\u001b[0m \u001b[38;5;28;01mif\u001b[39;00m \u001b[38;5;129;01mnot\u001b[39;00m n:\n\u001b[0;32m      6\u001b[0m     \u001b[38;5;28;01mreturn\u001b[39;00m \u001b[38;5;241m1\u001b[39m\n\u001b[1;32m----> 7\u001b[0m \u001b[38;5;28;01mreturn\u001b[39;00m n\u001b[38;5;241m*\u001b[39mfactorial(n\u001b[38;5;241m-\u001b[39m\u001b[38;5;241m1\u001b[39m)\n",
      "\u001b[1;31mRecursionError\u001b[0m: maximum recursion depth exceeded"
     ]
    }
   ],
   "source": [
    "#recursion\n",
    "#recursion function calls itself, and must terminated in future !\n",
    "\n",
    "def factorial(n):\n",
    "    if not n:\n",
    "        return 1\n",
    "    return n*factorial(n-1)\n",
    "\n",
    "print(factorial(5))\n",
    "        \n",
    "print(factorial(500))\n",
    "import sys\n",
    "#print(dir(sys))\n",
    "print(sys.getrecursionlimit())\n",
    "x=factorial(6000)"
   ]
  },
  {
   "cell_type": "code",
   "execution_count": 87,
   "id": "a5ca1621-b8e6-49eb-9c37-52e11d785645",
   "metadata": {},
   "outputs": [
    {
     "name": "stdout",
     "output_type": "stream",
     "text": [
      "<_io.TextIOWrapper name='c:\\\\users\\\\student\\\\documents\\\\cities3.txt' mode='rt' encoding='cp1252'>\n",
      "CZ,Brno,395000\n",
      "CZ,Praha,1100000\n",
      "SK,Kosice,190000\n",
      "CZ,Ceske Budejovice,160000\n",
      "AT,Linz,80000\n",
      "DE,Berlin,6500000\n",
      "SK,Bratislava,400000\n",
      "CZ,Ostrava,280000\n",
      "SK,Zilina,71000\n",
      "AT,Graz,90000\n",
      "CZ,Hradec Kralove,97000\n",
      "12,34,ahoj\n",
      "ahoj\n",
      "CZ,Kladno,nevim\n",
      "SK,,12345\n",
      "False\n",
      "True\n"
     ]
    }
   ],
   "source": [
    "with open(r'c:\\users\\student\\documents\\cities3.txt','rt') as file:\n",
    "    print(file)\n",
    "    for row in file:\n",
    "        print(row.rstrip())\n",
    "    print(file.closed)\n",
    "print(file.closed)\n",
    "        "
   ]
  },
  {
   "cell_type": "code",
   "execution_count": 88,
   "id": "aeddd70d-8819-4201-b0a4-2a0351fe8ebc",
   "metadata": {},
   "outputs": [
    {
     "ename": "TypeError",
     "evalue": "'int' object does not support the context manager protocol",
     "output_type": "error",
     "traceback": [
      "\u001b[1;31m---------------------------------------------------------------------------\u001b[0m",
      "\u001b[1;31mTypeError\u001b[0m                                 Traceback (most recent call last)",
      "Cell \u001b[1;32mIn[88], line 1\u001b[0m\n\u001b[1;32m----> 1\u001b[0m \u001b[38;5;28;01mwith\u001b[39;00m \u001b[38;5;28mabs\u001b[39m(\u001b[38;5;241m123\u001b[39m) \u001b[38;5;28;01mas\u001b[39;00m variable:\n\u001b[0;32m      2\u001b[0m     \u001b[38;5;28;01mpass\u001b[39;00m\n",
      "\u001b[1;31mTypeError\u001b[0m: 'int' object does not support the context manager protocol"
     ]
    }
   ],
   "source": [
    "with abs(123) as variable:\n",
    "    pass"
   ]
  }
 ],
 "metadata": {
  "kernelspec": {
   "display_name": "Python 3 (ipykernel)",
   "language": "python",
   "name": "python3"
  },
  "language_info": {
   "codemirror_mode": {
    "name": "ipython",
    "version": 3
   },
   "file_extension": ".py",
   "mimetype": "text/x-python",
   "name": "python",
   "nbconvert_exporter": "python",
   "pygments_lexer": "ipython3",
   "version": "3.11.7"
  }
 },
 "nbformat": 4,
 "nbformat_minor": 5
}
