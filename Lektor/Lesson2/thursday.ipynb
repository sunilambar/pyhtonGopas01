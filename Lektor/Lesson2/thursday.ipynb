{
 "cells": [
  {
   "cell_type": "code",
   "execution_count": null,
   "id": "c11aae24-235c-42fd-b7f7-2f754c433dd2",
   "metadata": {},
   "outputs": [],
   "source": [
    "#thursday"
   ]
  },
  {
   "cell_type": "code",
   "execution_count": 2,
   "id": "d7fa4428-1b95-4148-87e5-f21cc18ca4e1",
   "metadata": {},
   "outputs": [
    {
     "name": "stdout",
     "output_type": "stream",
     "text": [
      "main\n",
      "['__class__', '__del__', '__delattr__', '__dict__', '__dir__', '__doc__', '__eq__', '__format__', '__ge__', '__getattribute__', '__getstate__', '__gt__', '__hash__', '__init__', '__init_subclass__', '__le__', '__lt__', '__module__', '__ne__', '__new__', '__reduce__', '__reduce_ex__', '__repr__', '__setattr__', '__sizeof__', '__str__', '__subclasshook__', '__weakref__', '_accept_futures', '_add_callback', '_add_callback_signalsafe', '_asyncgen_finalizer_hook', '_asyncgen_firstiter_hook', '_asyncgens', '_asyncgens_shutdown_called', '_call_soon', '_check_callback', '_check_closed', '_check_default_executor', '_check_running', '_check_sendfile_params', '_check_thread', '_clock_resolution', '_close_self_pipe', '_closed', '_connect_sock', '_coroutine_origin_tracking_enabled', '_coroutine_origin_tracking_saved_depth', '_create_connection_transport', '_create_server_getaddrinfo', '_csock', '_current_handle', '_debug', '_default_executor', '_do_shutdown', '_ensure_resolved', '_exception_handler', '_executor_shutdown_called', '_getaddrinfo_debug', '_internal_fds', '_log_subprocess', '_loop_self_reading', '_make_datagram_transport', '_make_duplex_pipe_transport', '_make_read_pipe_transport', '_make_self_pipe', '_make_socket_transport', '_make_ssl_transport', '_make_subprocess_transport', '_make_write_pipe_transport', '_proactor', '_process_events', '_ready', '_run_once', '_scheduled', '_selector', '_self_reading_future', '_sendfile_fallback', '_sendfile_native', '_set_coroutine_origin_tracking', '_sock_sendfile_fallback', '_sock_sendfile_native', '_ssock', '_start_serving', '_stop_accept_futures', '_stop_serving', '_stopping', '_task_factory', '_thread_id', '_timer_cancelled_count', '_timer_handle_cancelled', '_write_to_self', 'add_reader', 'add_signal_handler', 'add_writer', 'call_at', 'call_exception_handler', 'call_later', 'call_soon', 'call_soon_threadsafe', 'close', 'connect_accepted_socket', 'connect_read_pipe', 'connect_write_pipe', 'create_connection', 'create_datagram_endpoint', 'create_future', 'create_pipe_connection', 'create_server', 'create_task', 'create_unix_connection', 'create_unix_server', 'default_exception_handler', 'get_debug', 'get_exception_handler', 'get_task_factory', 'getaddrinfo', 'getnameinfo', 'is_closed', 'is_running', 'remove_reader', 'remove_signal_handler', 'remove_writer', 'run_forever', 'run_in_executor', 'run_until_complete', 'sendfile', 'set_debug', 'set_default_executor', 'set_exception_handler', 'set_task_factory', 'shutdown_asyncgens', 'shutdown_default_executor', 'slow_callback_duration', 'sock_accept', 'sock_connect', 'sock_recv', 'sock_recv_into', 'sock_recvfrom', 'sock_recvfrom_into', 'sock_sendall', 'sock_sendfile', 'sock_sendto', 'start_serving_pipe', 'start_tls', 'stop', 'subprocess_exec', 'subprocess_shell', 'time']\n"
     ]
    },
    {
     "ename": "RuntimeError",
     "evalue": "This event loop is already running",
     "output_type": "error",
     "traceback": [
      "\u001b[1;31m---------------------------------------------------------------------------\u001b[0m",
      "\u001b[1;31mRuntimeError\u001b[0m                              Traceback (most recent call last)",
      "Cell \u001b[1;32mIn[2], line 16\u001b[0m\n\u001b[0;32m     14\u001b[0m loop \u001b[38;5;241m=\u001b[39m asyncio\u001b[38;5;241m.\u001b[39mget_event_loop()\n\u001b[0;32m     15\u001b[0m \u001b[38;5;28mprint\u001b[39m(\u001b[38;5;28mdir\u001b[39m(loop))\n\u001b[1;32m---> 16\u001b[0m loop\u001b[38;5;241m.\u001b[39mrun_until_complete(print_sum(\u001b[38;5;241m1\u001b[39m, \u001b[38;5;241m2\u001b[39m))\n\u001b[0;32m     17\u001b[0m loop\u001b[38;5;241m.\u001b[39mclose()\n",
      "File \u001b[1;32m~\\anaconda3\\Lib\\asyncio\\base_events.py:629\u001b[0m, in \u001b[0;36mBaseEventLoop.run_until_complete\u001b[1;34m(self, future)\u001b[0m\n\u001b[0;32m    618\u001b[0m \u001b[38;5;250m\u001b[39m\u001b[38;5;124;03m\"\"\"Run until the Future is done.\u001b[39;00m\n\u001b[0;32m    619\u001b[0m \n\u001b[0;32m    620\u001b[0m \u001b[38;5;124;03mIf the argument is a coroutine, it is wrapped in a Task.\u001b[39;00m\n\u001b[1;32m   (...)\u001b[0m\n\u001b[0;32m    626\u001b[0m \u001b[38;5;124;03mReturn the Future's result, or raise its exception.\u001b[39;00m\n\u001b[0;32m    627\u001b[0m \u001b[38;5;124;03m\"\"\"\u001b[39;00m\n\u001b[0;32m    628\u001b[0m \u001b[38;5;28mself\u001b[39m\u001b[38;5;241m.\u001b[39m_check_closed()\n\u001b[1;32m--> 629\u001b[0m \u001b[38;5;28mself\u001b[39m\u001b[38;5;241m.\u001b[39m_check_running()\n\u001b[0;32m    631\u001b[0m new_task \u001b[38;5;241m=\u001b[39m \u001b[38;5;129;01mnot\u001b[39;00m futures\u001b[38;5;241m.\u001b[39misfuture(future)\n\u001b[0;32m    632\u001b[0m future \u001b[38;5;241m=\u001b[39m tasks\u001b[38;5;241m.\u001b[39mensure_future(future, loop\u001b[38;5;241m=\u001b[39m\u001b[38;5;28mself\u001b[39m)\n",
      "File \u001b[1;32m~\\anaconda3\\Lib\\asyncio\\base_events.py:588\u001b[0m, in \u001b[0;36mBaseEventLoop._check_running\u001b[1;34m(self)\u001b[0m\n\u001b[0;32m    586\u001b[0m \u001b[38;5;28;01mdef\u001b[39;00m \u001b[38;5;21m_check_running\u001b[39m(\u001b[38;5;28mself\u001b[39m):\n\u001b[0;32m    587\u001b[0m     \u001b[38;5;28;01mif\u001b[39;00m \u001b[38;5;28mself\u001b[39m\u001b[38;5;241m.\u001b[39mis_running():\n\u001b[1;32m--> 588\u001b[0m         \u001b[38;5;28;01mraise\u001b[39;00m \u001b[38;5;167;01mRuntimeError\u001b[39;00m(\u001b[38;5;124m'\u001b[39m\u001b[38;5;124mThis event loop is already running\u001b[39m\u001b[38;5;124m'\u001b[39m)\n\u001b[0;32m    589\u001b[0m     \u001b[38;5;28;01mif\u001b[39;00m events\u001b[38;5;241m.\u001b[39m_get_running_loop() \u001b[38;5;129;01mis\u001b[39;00m \u001b[38;5;129;01mnot\u001b[39;00m \u001b[38;5;28;01mNone\u001b[39;00m:\n\u001b[0;32m    590\u001b[0m         \u001b[38;5;28;01mraise\u001b[39;00m \u001b[38;5;167;01mRuntimeError\u001b[39;00m(\n\u001b[0;32m    591\u001b[0m             \u001b[38;5;124m'\u001b[39m\u001b[38;5;124mCannot run the event loop while another loop is running\u001b[39m\u001b[38;5;124m'\u001b[39m)\n",
      "\u001b[1;31mRuntimeError\u001b[0m: This event loop is already running"
     ]
    }
   ],
   "source": [
    "import asyncio\n",
    "\n",
    "#@asyncio.coroutine\n",
    "async def compute(x, y):\n",
    "    print(\"Compute %s + %s ...\" % (x, y))\n",
    "    i= await asyncio.sleep(3.0)\n",
    "    return x + y\n",
    "\n",
    "#@asyncio.coroutine\n",
    "async def print_sum(x, y):\n",
    "    result = await compute(x, y)\n",
    "    print(\"%s + %s = %s\" % (x, y, result))\n",
    "print(\"main\")\n",
    "loop = asyncio.get_event_loop()\n",
    "print(dir(loop))\n",
    "loop.run_until_complete(print_sum(1, 2))\n",
    "loop.close()"
   ]
  },
  {
   "cell_type": "code",
   "execution_count": 12,
   "id": "ef4ac510-e14c-4256-8d23-09b208f77396",
   "metadata": {},
   "outputs": [
    {
     "name": "stdin",
     "output_type": "stream",
     "text": [
      "What are you doing next?  a b\n"
     ]
    },
    {
     "name": "stdout",
     "output_type": "stream",
     "text": [
      "two words: a b\n"
     ]
    }
   ],
   "source": [
    "#match statement\n",
    "command = input(\"What are you doing next? \")\n",
    "# analyze the result of command.split()\n",
    "\n",
    "#action, obj = command.split()\n",
    "# interpret action, obj\n",
    "\n",
    "match command.split():\n",
    "    case [direction]:\n",
    "        ... # interpret single-verb action\n",
    "        print('simple word: go',direction)\n",
    "    case [action, direction]:\n",
    "        ... # interpret action, obj\n",
    "        print('two words:',action, direction)\n",
    "    case _:\n",
    "        print('ELSE, no previous match !')"
   ]
  },
  {
   "cell_type": "code",
   "execution_count": 16,
   "id": "73f9a6b2-668b-42f1-87b1-50f72d985f0e",
   "metadata": {},
   "outputs": [
    {
     "name": "stdin",
     "output_type": "stream",
     "text": [
      "What are you doing next?  go home\n"
     ]
    },
    {
     "name": "stdout",
     "output_type": "stream",
     "text": [
      "ELSE, no previous match !\n"
     ]
    }
   ],
   "source": [
    "#match statement\n",
    "command = input(\"What are you doing next? \")\n",
    "# analyze the result of command.split()\n",
    "\n",
    "#action, obj = command.split()\n",
    "# interpret action, obj\n",
    "\n",
    "match command.split():\n",
    "    case [direction]:\n",
    "        ... # interpret single-verb action\n",
    "        print('simple word: go',direction)\n",
    "    case [action, direction] if direction in ['east','west','north','south']:\n",
    "        ... # interpret action, obj\n",
    "        print('two words:',action, direction)\n",
    "    case _:\n",
    "        print('ELSE, no previous match !')"
   ]
  },
  {
   "cell_type": "code",
   "execution_count": 14,
   "id": "73466cfb-a4d6-4425-8e91-0f6c75938eb8",
   "metadata": {},
   "outputs": [
    {
     "name": "stdout",
     "output_type": "stream",
     "text": [
      "B\n"
     ]
    }
   ],
   "source": [
    "mark=2\n",
    "match mark:\n",
    "    case 1:\n",
    "        print('A')\n",
    "    case 2:\n",
    "        print('B')\n",
    "    case 3:\n",
    "        print('C')\n",
    "    case _:\n",
    "        print('unknown mark !')\n",
    "              "
   ]
  },
  {
   "cell_type": "code",
   "execution_count": 18,
   "id": "aefe1d49-9f7d-4dcb-8a59-f1b1481d6a17",
   "metadata": {},
   "outputs": [
    {
     "name": "stdout",
     "output_type": "stream",
     "text": [
      "<map object at 0x000002C94CAD76A0> <class 'map'>\n",
      "[9, 36, 6084, 529]\n"
     ]
    }
   ],
   "source": [
    "#functional programming\n",
    "n=[3,6,78,23]\n",
    "#create new \"list\" with from N with power of 2\n",
    "#map function\n",
    "x=map(lambda x:x**2, n)\n",
    "print(x,type(x))\n",
    "print(list(x))"
   ]
  },
  {
   "cell_type": "code",
   "execution_count": 21,
   "id": "ae3b018a-2bbc-4d64-8e0b-a34559c5ffe8",
   "metadata": {},
   "outputs": [
    {
     "name": "stdout",
     "output_type": "stream",
     "text": [
      "<map object at 0x000002C94CAD7A00> <class 'map'> ['__class__', '__delattr__', '__dir__', '__doc__', '__eq__', '__format__', '__ge__', '__getattribute__', '__getstate__', '__gt__', '__hash__', '__init__', '__init_subclass__', '__iter__', '__le__', '__lt__', '__ne__', '__new__', '__next__', '__reduce__', '__reduce_ex__', '__repr__', '__setattr__', '__sizeof__', '__str__', '__subclasshook__'] 3063598119424 3063598119424\n",
      "called power2 with argument 3\n",
      "called power2 with argument 6\n",
      "called power2 with argument 78\n",
      "called power2 with argument 23\n",
      "[9, 36, 6084, 529]\n"
     ]
    }
   ],
   "source": [
    "n=[3,6,78,23]\n",
    "#create new \"list\" with from N with power of 2\n",
    "#map function\n",
    "def power2(x):\n",
    "    print(f'called power2 with argument {x}')\n",
    "    return x**2\n",
    "    \n",
    "x=map(power2, n)\n",
    "print(x,type(x),dir(x),id(x),id(iter(x)))\n",
    "print(list(x))\n"
   ]
  },
  {
   "cell_type": "code",
   "execution_count": 24,
   "id": "86b4e352-9b76-4c57-bdca-d60276b81e41",
   "metadata": {},
   "outputs": [
    {
     "name": "stdout",
     "output_type": "stream",
     "text": [
      "[27, 216, 474552, 12167]\n",
      "<generator object <genexpr> at 0x000002C94CBA6260>\n",
      "27\n",
      "216\n",
      "474552\n",
      "12167\n"
     ]
    }
   ],
   "source": [
    "n=[3,6,78,23]\n",
    "print([x**3 for x in n]) #list comprehension creates physical list consuming memory\n",
    "print((x**3 for x in n)) #this looks like tuple comprehension but it's generator expression -> return generator object\n",
    "y=(x**3 for x in n)\n",
    "for i in y:\n",
    "    print(i)"
   ]
  },
  {
   "cell_type": "code",
   "execution_count": 25,
   "id": "73154fcd-76fc-424e-87b2-5f854f017416",
   "metadata": {},
   "outputs": [
    {
     "name": "stdout",
     "output_type": "stream",
     "text": [
      "{3: 9, 6: 36, 78: 6084, 23: 529} <class 'dict'> 3063598945152 4\n"
     ]
    }
   ],
   "source": [
    "n=[3,6,78,23]\n",
    "\n",
    "d={ x:x**2 for x in n } #dictionary comprehension\n",
    "print(d,type(d),id(d),len(d))"
   ]
  },
  {
   "cell_type": "code",
   "execution_count": 27,
   "id": "93ba5100-09e5-4356-a8eb-f07bf92cac63",
   "metadata": {},
   "outputs": [
    {
     "name": "stdout",
     "output_type": "stream",
     "text": [
      "{3: 9, 6: 36, 78: 6084, 23: 529} <class 'dict'> 3063598393984 4\n"
     ]
    }
   ],
   "source": [
    "n=[3,6,78,23]\n",
    "d={}\n",
    "for x in n:\n",
    "    d[x]=x**2\n",
    "print(d,type(d),id(d),len(d))"
   ]
  },
  {
   "cell_type": "code",
   "execution_count": 28,
   "id": "7c13cdf9-1d2b-45a8-9bb2-1824bd57a0bd",
   "metadata": {},
   "outputs": [
    {
     "name": "stdout",
     "output_type": "stream",
     "text": [
      "{9, 6084, 36, 529} <class 'set'> 3063611351424\n"
     ]
    }
   ],
   "source": [
    "#set comprehension\n",
    "d={3: 9, 6: 36, 78: 6084, 23: 529}\n",
    "s={ x for x in d.values() } \n",
    "print(s,type(s),id(s))"
   ]
  },
  {
   "cell_type": "code",
   "execution_count": 30,
   "id": "570e0a27-455a-4cd3-b7b5-fd95fe7f9345",
   "metadata": {},
   "outputs": [
    {
     "name": "stdout",
     "output_type": "stream",
     "text": [
      "110\n",
      "110\n"
     ]
    }
   ],
   "source": [
    "import functools\n",
    "n=[3,6,78,23]\n",
    "print(sum(n))\n",
    "print(functools.reduce(lambda x, y: x + y, n))"
   ]
  },
  {
   "cell_type": "code",
   "execution_count": 31,
   "id": "34437918-3599-48fb-b416-1f6961fd3b86",
   "metadata": {},
   "outputs": [
    {
     "name": "stdout",
     "output_type": "stream",
     "text": [
      "110\n",
      "110\n"
     ]
    }
   ],
   "source": [
    "import functools\n",
    "n=[3,6,78,23]\n",
    "print(sum(n))\n",
    "def add(a,b):\n",
    "    return a+b\n",
    "print(functools.reduce(add, n))"
   ]
  },
  {
   "cell_type": "code",
   "execution_count": 33,
   "id": "a8deb911-941f-4234-8f2d-be553a118bf3",
   "metadata": {},
   "outputs": [
    {
     "name": "stdout",
     "output_type": "stream",
     "text": [
      "110\n",
      "110\n"
     ]
    }
   ],
   "source": [
    "import functools\n",
    "import operator\n",
    "n=[3,6,78,23]\n",
    "print(sum(n))\n",
    "print(functools.reduce(operator.add, n))"
   ]
  },
  {
   "cell_type": "code",
   "execution_count": 41,
   "id": "b121841f-6c2b-4882-81f0-1dc4240c5ec7",
   "metadata": {},
   "outputs": [
    {
     "name": "stdout",
     "output_type": "stream",
     "text": [
      "Brno\n",
      "operator.itemgetter(1) <class 'operator.itemgetter'> ['__call__', '__class__', '__delattr__', '__dir__', '__doc__', '__eq__', '__format__', '__ge__', '__getattribute__', '__getstate__', '__gt__', '__hash__', '__init__', '__init_subclass__', '__le__', '__lt__', '__module__', '__ne__', '__new__', '__reduce__', '__reduce_ex__', '__repr__', '__setattr__', '__sizeof__', '__str__', '__subclasshook__', '__vectorcalloffset__']\n",
      "Brno\n",
      "['GenericAlias', 'RLock', 'WRAPPER_ASSIGNMENTS', 'WRAPPER_UPDATES', '_CacheInfo', '_HashedSeq', '_NOT_FOUND', '__all__', '__builtins__', '__cached__', '__doc__', '__file__', '__loader__', '__name__', '__package__', '__spec__', '_c3_merge', '_c3_mro', '_compose_mro', '_convert', '_find_impl', '_ge_from_gt', '_ge_from_le', '_ge_from_lt', '_gt_from_ge', '_gt_from_le', '_gt_from_lt', '_initial_missing', '_le_from_ge', '_le_from_gt', '_le_from_lt', '_lru_cache_wrapper', '_lt_from_ge', '_lt_from_gt', '_lt_from_le', '_make_key', '_unwrap_partial', 'cache', 'cached_property', 'cmp_to_key', 'get_cache_token', 'lru_cache', 'namedtuple', 'partial', 'partialmethod', 'recursive_repr', 'reduce', 'singledispatch', 'singledispatchmethod', 'total_ordering', 'update_wrapper', 'wraps']\n",
      "['__abs__', '__add__', '__all__', '__and__', '__builtins__', '__cached__', '__call__', '__concat__', '__contains__', '__delitem__', '__doc__', '__eq__', '__file__', '__floordiv__', '__ge__', '__getitem__', '__gt__', '__iadd__', '__iand__', '__iconcat__', '__ifloordiv__', '__ilshift__', '__imatmul__', '__imod__', '__imul__', '__index__', '__inv__', '__invert__', '__ior__', '__ipow__', '__irshift__', '__isub__', '__itruediv__', '__ixor__', '__le__', '__loader__', '__lshift__', '__lt__', '__matmul__', '__mod__', '__mul__', '__name__', '__ne__', '__neg__', '__not__', '__or__', '__package__', '__pos__', '__pow__', '__rshift__', '__setitem__', '__spec__', '__sub__', '__truediv__', '__xor__', '_abs', 'abs', 'add', 'and_', 'attrgetter', 'call', 'concat', 'contains', 'countOf', 'delitem', 'eq', 'floordiv', 'ge', 'getitem', 'gt', 'iadd', 'iand', 'iconcat', 'ifloordiv', 'ilshift', 'imatmul', 'imod', 'imul', 'index', 'indexOf', 'inv', 'invert', 'ior', 'ipow', 'irshift', 'is_', 'is_not', 'isub', 'itemgetter', 'itruediv', 'ixor', 'le', 'length_hint', 'lshift', 'lt', 'matmul', 'methodcaller', 'mod', 'mul', 'ne', 'neg', 'not_', 'or_', 'pos', 'pow', 'rshift', 'setitem', 'sub', 'truediv', 'truth', 'xor']\n"
     ]
    }
   ],
   "source": [
    "t=('CZ','Brno',390_000)\n",
    "def second_element(x):\n",
    "    return x[1]\n",
    "print(second_element(t))\n",
    "\n",
    "import operator\n",
    "f=operator.itemgetter(1)\n",
    "print(f,type(f),dir(f))\n",
    "print(f(t))\n",
    "print(dir(functools))\n",
    "print(dir(operator))\n"
   ]
  },
  {
   "cell_type": "code",
   "execution_count": 47,
   "id": "39529d59-ab42-459d-b004-75721bc0e76d",
   "metadata": {},
   "outputs": [
    {
     "name": "stdout",
     "output_type": "stream",
     "text": [
      "107\n",
      "107\n"
     ]
    }
   ],
   "source": [
    "data_list1=[4,5,7]\n",
    "data_list2=[5,67,11]\n",
    "data_list3=[8]\n",
    "import itertools\n",
    "total=0\n",
    "for value in itertools.chain(data_list1, data_list2, data_list3):\n",
    "    total += value\n",
    "print(total)\n",
    "print(sum(data_list1+data_list2+data_list3))\n"
   ]
  },
  {
   "cell_type": "code",
   "execution_count": 48,
   "id": "4a407a82-2ee0-4cd7-a1d6-48662fd610a6",
   "metadata": {},
   "outputs": [
    {
     "name": "stdout",
     "output_type": "stream",
     "text": [
      "\n",
      "s\n",
      "s\n"
     ]
    }
   ],
   "source": [
    "s = lambda x: \"\" if x == 1 else \"s\"\n",
    "print(s(1))\n",
    "print(s(2))\n",
    "print(s(0))\n"
   ]
  },
  {
   "cell_type": "code",
   "execution_count": 64,
   "id": "3e6b7575-2d05-40f3-a048-a6690626fec5",
   "metadata": {},
   "outputs": [
    {
     "name": "stdout",
     "output_type": "stream",
     "text": [
      "Úřednici dal čokoládu, skrývalo se v ní 50 tisíc. Popletl jsem si dárek, hájil se\n",
      "https://www.idnes.cz/zpravy/domaci/uplatek-urednice-cokolada-kromeriz-soud.A240410_183743_domaci_stad#utm_source=rss&utm_medium=feed&utm_campaign=zpravodaj&utm_content=main\n",
      "\n",
      "Senior na elektrokole vyvrátil závoru u nemocnice a ujel. Pátrá po něm policie\n",
      "https://www.idnes.cz/ceske-budejovice/zpravy/senior-elektrokolo-zavora-nemocnice-hledani-patrani.A240411_113235_budejovice-zpravy_pkr#utm_source=rss&utm_medium=feed&utm_campaign=zpravodaj&utm_content=main\n",
      "\n",
      "Byla to pračka špinavých peněz, řekl Babiš. Moje svědomí je čisté, opáčil Fiala\n",
      "https://www.idnes.cz/zpravy/domaci/mimoradna-schuze-snemovna-ano-premier-fiala-podnikatelskau-druzstevni-zalozna.A240411_055111_domaci_kop#utm_source=rss&utm_medium=feed&utm_campaign=zpravodaj&utm_content=main\n",
      "\n",
      "Hromadná nehoda uzavřela dálnici u Berouna, na Prahu se tvoří dlouhé kolony\n",
      "https://www.idnes.cz/praha/zpravy/beroun-dalnice-d5-hromadna-nehoda-nakladni-vuz-auto-izs.A240411_115821_praha-zpravy_vich#utm_source=rss&utm_medium=feed&utm_campaign=zpravodaj&utm_content=main\n",
      "\n",
      "Rusové zničili Ukrajině elektrárnu, Polsko kvůli útokům vyslalo stíhačky\n",
      "https://www.idnes.cz/zpravy/zahranicni/ukrajina-rusko-utok-energetika-polsko.A240411_080032_zahranicni_mul#utm_source=rss&utm_medium=feed&utm_campaign=zpravodaj&utm_content=main\n",
      "\n",
      "O prezidentově zdraví je nutné vědět, míní Stehlíková. Zeman se s ní dál soudí\n",
      "https://www.idnes.cz/zpravy/domaci/milos-zeman-dzamila-stehlikova-zaloba-zdravi-prezident-soud.A240410_112847_domaci_prch#utm_source=rss&utm_medium=feed&utm_campaign=zpravodaj&utm_content=main\n",
      "\n",
      "Soud po razii v Liberci posoudí vazbu pro obviněné, hejtmana vyslechla policie\n",
      "https://www.idnes.cz/liberec/zpravy/ncoz-razie-syner-primator-zamecnik-zidek-liberec-radnice-policie.A240411_083817_liberec-zpravy_lav#utm_source=rss&utm_medium=feed&utm_campaign=zpravodaj&utm_content=main\n",
      "\n",
      "Kriminalisté vyšetřují násilnou smrt na Mostecku, zadrželi podezřelého\n",
      "https://www.idnes.cz/usti/zpravy/most-zelenice-mrtvy-krimi-pitva-nasili-policie-zadrzeli.A240411_091510_usti-zpravy_pakr#utm_source=rss&utm_medium=feed&utm_campaign=zpravodaj&utm_content=main\n",
      "\n",
      "Muž na rozlučce se svobodou shodil turistu z hradeb, dostal 10,5 roku vězení\n",
      "https://www.idnes.cz/brno/zpravy/hradby-spilberk-shodil-turistu-pad-soud-rozsudek-trest.A240411_080703_brno-zpravy_mos1#utm_source=rss&utm_medium=feed&utm_campaign=zpravodaj&utm_content=main\n",
      "\n",
      "Prořízli střechu a ve sběrně sebrali stříbro za milion, pětice už je ve vazbě\n",
      "https://www.idnes.cz/karlovy-vary/zpravy/karlovarsky-kraj-sokolov-kradez-zlato-stribro-drahe-kovy-sberna.A240411_100927_vary-zpravy_prz#utm_source=rss&utm_medium=feed&utm_campaign=zpravodaj&utm_content=main\n",
      "\n",
      "Evropa si oťukává Trumpa. Jeho plán by zhoršil bezpečnost Česka, říká Lipavský\n",
      "https://www.idnes.cz/zpravy/zahranicni/lipavsky-trump-schuzka-nato-ukrajina.A240410_134042_zahranicni_ert#utm_source=rss&utm_medium=feed&utm_campaign=zpravodaj&utm_content=main\n",
      "\n",
      "Ukrajina má nový zákon o mobilizaci, návrat déle sloužících vojáků neumožní\n",
      "https://www.idnes.cz/zpravy/zahranicni/ukrajina-valka-rusko-mobilizace-zakon-parlament-schvaleni.A240411_104314_zahranicni_dtt#utm_source=rss&utm_medium=feed&utm_campaign=zpravodaj&utm_content=main\n",
      "\n",
      "Třináctileté dával drogy a prodával ji na sex. Chtěla to, hájí se její milenec\n",
      "https://www.idnes.cz/plzen/zpravy/soud-karlovarsko-skolacka-divka-sex-prostituce-obzaloba-milenec.A240411_084413_plzen-zpravy_vb#utm_source=rss&utm_medium=feed&utm_campaign=zpravodaj&utm_content=main\n",
      "\n",
      "Muž chtěl zahubit škodnou, zakázaným jedem otrávil chráněné živočichy\n",
      "https://www.idnes.cz/praha/zpravy/pribramsko-uhyn-zver-otrava-navnady-jed-policie-patrani.A240411_090142_praha-zpravy_vich#utm_source=rss&utm_medium=feed&utm_campaign=zpravodaj&utm_content=main\n",
      "\n",
      "Jihokorejský premiér po prohraných parlamentních volbách rezignoval\n",
      "https://www.idnes.cz/zpravy/zahranicni/jizni-korea-volby-premier.A240411_064117_zahranicni_mul#utm_source=rss&utm_medium=feed&utm_campaign=zpravodaj&utm_content=main\n",
      "\n",
      "Porsche z Německa dovezli do Čech v přívěsu, zloděje soud poslal do vazby\n",
      "https://www.idnes.cz/ceske-budejovice/zpravy/kradez-auta-porsche-prives-nemecko-cesko-sidliste-tabor-policie.A240409_110421_budejovice-zpravy_tok#utm_source=rss&utm_medium=feed&utm_campaign=zpravodaj&utm_content=main\n",
      "\n",
      "Nehoda dvou aut blokovala silnici z Neratovic do Prahy, zranili se čtyři lidé\n",
      "https://www.idnes.cz/praha/zpravy/dopravni-nehoda-auto-praha-vychod-izs-zachranari-policie.A240411_082728_praha-zpravy_vich#utm_source=rss&utm_medium=feed&utm_campaign=zpravodaj&utm_content=main\n",
      "\n",
      "Girkin z vězení žádá o vyslání na frontu, chce zase velet na Donbasu\n",
      "https://www.idnes.cz/zpravy/zahranicni/rusko-valka-ukrajina-propagandista-igor-girkin-donbas-vezen.A240411_093329_zahranicni_dtt#utm_source=rss&utm_medium=feed&utm_campaign=zpravodaj&utm_content=main\n",
      "\n",
      "Napětí navzdory. Na Slovensku společně jedná Ficova vláda s ukrajinskou\n",
      "https://www.idnes.cz/zpravy/zahranicni/slovensko-ukrajina-jednani-vlady-michalovce.A240411_093833_zahranicni_kha#utm_source=rss&utm_medium=feed&utm_campaign=zpravodaj&utm_content=main\n",
      "\n",
      "Jak poznáme ruské dezinfoweby? Vše vám vysvětlí v titulku, říká mluvčí BIS\n",
      "https://www.idnes.cz/zpravy/domaci/mluvci-bis-ladislav-sticha-elen-cerna-tajne-sluzby.A240410_113524_domaci_mase#utm_source=rss&utm_medium=feed&utm_campaign=zpravodaj&utm_content=main\n",
      "\n",
      "Tisíce malých Ukrajinců jsou bez výuky. České školy je mnohdy odmítají přijmout\n",
      "https://www.idnes.cz/zpravy/domaci/ukrajinci-ceska-republika-skolni-dochazka-kapacita-skol.A240409_192028_domaci_vals#utm_source=rss&utm_medium=feed&utm_campaign=zpravodaj&utm_content=main\n",
      "\n",
      "Zemřel Miroslav Krajíček, bývalému poslanci ODS bylo 77 let\n",
      "https://www.idnes.cz/zpravy/domaci/zemrel-poslanec-ods-miroslav-krajicek.A240411_094058_domaci_ijan#utm_source=rss&utm_medium=feed&utm_campaign=zpravodaj&utm_content=main\n",
      "\n",
      "Mohl by utéct nebo čin dokonat, obviněný z pokusu o vraždu je ve vazbě\n",
      "https://www.idnes.cz/zlin/zpravy/kosiky-utocnik-pobodani-stryc-soud-vazba-pokus-o-vrazdu.A240411_084028_zlin-zpravy_jfuk#utm_source=rss&utm_medium=feed&utm_campaign=zpravodaj&utm_content=main\n",
      "\n",
      "Na Kanárech zemřel český turista. Fotil rozbouřené moře, zřítil se do vln\n",
      "https://www.idnes.cz/zpravy/zahranicni/kanarske-ostrovy-zemrel-cesky-turista-puerto-de-la-cruz.A240411_091247_zahranicni_kha#utm_source=rss&utm_medium=feed&utm_campaign=zpravodaj&utm_content=main\n",
      "\n",
      "ANO žádá o schůzi k migračnímu paktu. Jde o jednu z největších chyb vlády, říká\n",
      "https://www.idnes.cz/zpravy/domaci/ano-zadost-o-mimoradnou-schuzi-migracni-pakt.A240411_091207_domaci_kop#utm_source=rss&utm_medium=feed&utm_campaign=zpravodaj&utm_content=main\n",
      "\n",
      "Dlabajová dostala nabídku z Itálie. Má do eurovoleb vést tamní liberální koalici\n",
      "https://www.idnes.cz/zpravy/domaci/martina-dlabajova-europoslankyne-italska-liberalni-koalice-evropska-unie.A240411_084223_domaci_ijan#utm_source=rss&utm_medium=feed&utm_campaign=zpravodaj&utm_content=main\n",
      "\n",
      "Kauza Diag Human pokračuje. Švýcarský Towit hrozí Česku miliardovou arbitráží\n",
      "https://www.idnes.cz/zpravy/domaci/towit-arbitraz-svycarsko-cesko.A240411_071130_domaci_mul#utm_source=rss&utm_medium=feed&utm_campaign=zpravodaj&utm_content=main\n",
      "\n",
      "Léky tajně v jídle či nedůstojná hygiena. Ombudsman kontroloval ústavy\n",
      "https://www.idnes.cz/zpravy/domaci/ombudsman-kontroly-v-domovech-pro-lidi-s-dusevnim-onemocnenim-nedostatek-personalu.A240410_145047_domaci_mls#utm_source=rss&utm_medium=feed&utm_campaign=zpravodaj&utm_content=main\n",
      "\n",
      "Konec týdne bude v Česku nadprůměrně teplý. V neděli přijde výrazné ochlazení\n",
      "https://www.idnes.cz/zpravy/domaci/pocasi-duben-konec-tydne.A240411_060034_domaci_mul#utm_source=rss&utm_medium=feed&utm_campaign=zpravodaj&utm_content=main\n",
      "\n",
      "Amerika přestává chodit do školy. Ale jak bude ekonomicky konkurovat Číně?\n",
      "https://www.idnes.cz/zpravy/zahranicni/usa-skola-dochazka-absence-psychika-ekonomika.A240410_194223_zahranicni_vals#utm_source=rss&utm_medium=feed&utm_campaign=zpravodaj&utm_content=main\n",
      "\n"
     ]
    }
   ],
   "source": [
    "#data formats\n",
    "#xml\n",
    "import urllib.request as urllib\n",
    "import xml.etree.ElementTree as ET\n",
    "url=r'https://servis.idnes.cz/rss.aspx?c=zpravodaj'\n",
    "res=urllib.urlopen(url)\n",
    "#print(dir(res))\n",
    "#for x in res:\n",
    "#    print(x)\n",
    "tree=ET.parse(res)\n",
    "root = tree.getroot()\n",
    "#print(dir(root))\n",
    "channel=root.find('channel')\n",
    "#print(dir(channel))\n",
    "for item in channel.findall('item'):\n",
    "    #print(dir(item))\n",
    "    title=item.find('title')\n",
    "    link=item.find('link')\n",
    "    #print(dir(title))\n",
    "    print(title.text)\n",
    "    print(link.text)\n",
    "    print()"
   ]
  },
  {
   "cell_type": "code",
   "execution_count": 65,
   "id": "e877b48b-0dcd-43e9-88ef-82c778ef9ba1",
   "metadata": {},
   "outputs": [
    {
     "name": "stdout",
     "output_type": "stream",
     "text": [
      "Datový typ Decimal v programovacím jazyku Python\n",
      "https://www.root.cz/clanky/datovy-typ-decimal-v-programovacim-jazyku-python/?utm_source=rss&utm_medium=text&utm_campaign=rss\n",
      "\n",
      "Struktura zdrojáku analogového záznamu v jazyce C\n",
      "https://www.root.cz/clanky/struktura-zdrojaku-analogoveho-zaznamu-v-jazyce-c/?utm_source=rss&utm_medium=text&utm_campaign=rss\n",
      "\n",
      "Postavte si vlastní lehké IDE z textového editoru a shellu\n",
      "https://www.root.cz/clanky/postavte-si-vlastni-lehke-ide-z-textoveho-editoru-a-shellu/?utm_source=rss&utm_medium=text&utm_campaign=rss\n",
      "\n",
      "Softwarová sklizeň (10. 4. 2024): najděte správný symbol emoji\n",
      "https://www.root.cz/clanky/softwarova-sklizen-10-4-2024-najdete-spravny-symbol-emoji/?utm_source=rss&utm_medium=text&utm_campaign=rss\n",
      "\n",
      "Kouzlo datových typů Decimal32, Decimal64 a Decimal128\n",
      "https://www.root.cz/clanky/kouzlo-datovych-typu-decimal32-decimal64-a-decimal128/?utm_source=rss&utm_medium=text&utm_campaign=rss\n",
      "\n",
      "CZ.NIC spouští aukce domén, běží veřejné testování\n",
      "https://www.root.cz/clanky/cz-nic-spousti-aukce-domen-bezi-verejne-testovani/?utm_source=rss&utm_medium=text&utm_campaign=rss\n",
      "\n",
      "Postřehy z bezpečnosti: když utíkají data místo vězňů\n",
      "https://www.root.cz/clanky/postrehy-z-bezpecnosti-kdyz-utikaji-data-misto-veznu/?utm_source=rss&utm_medium=text&utm_campaign=rss\n",
      "\n",
      "Ubuntu 24.04 beta odloženo, Linux Mint 22 s PipeWirem\n",
      "https://www.root.cz/clanky/ubuntu-24-04-beta-odlozeno-linux-mint-22-s-pipewirem/?utm_source=rss&utm_medium=text&utm_campaign=rss\n",
      "\n",
      "Segmentace MRI mozku – DeepLabV3 model\n",
      "https://www.root.cz/clanky/segmentace-mri-mozku-deeplabv3-model/?utm_source=rss&utm_medium=text&utm_campaign=rss\n",
      "\n",
      "Continuation Flood vystavuje implementace HTTP/2 útokům DoS\n",
      "https://www.root.cz/clanky/continuation-flood-vystavuje-implementace-http-2-utokum-dos/?utm_source=rss&utm_medium=text&utm_campaign=rss\n",
      "\n"
     ]
    }
   ],
   "source": [
    "#data formats\n",
    "#xml\n",
    "import urllib.request as urllib\n",
    "import xml.etree.ElementTree as ET\n",
    "url=r'https://www.root.cz/rss/clanky/'\n",
    "res=urllib.urlopen(url)\n",
    "#print(dir(res))\n",
    "#for x in res:\n",
    "#    print(x)\n",
    "tree=ET.parse(res)\n",
    "root = tree.getroot()\n",
    "#print(dir(root))\n",
    "channel=root.find('channel')\n",
    "#print(dir(channel))\n",
    "for item in channel.findall('item'):\n",
    "    #print(dir(item))\n",
    "    title=item.find('title')\n",
    "    link=item.find('link')\n",
    "    #print(dir(title))\n",
    "    print(title.text)\n",
    "    print(link.text)\n",
    "    print()"
   ]
  },
  {
   "cell_type": "code",
   "execution_count": 73,
   "id": "9a660dd8-e0f7-48ea-86f0-3b019aae22ee",
   "metadata": {},
   "outputs": [
    {
     "name": "stdout",
     "output_type": "stream",
     "text": [
      "<class 'str'>\n",
      "<class 'dict'>\n",
      "[{'name': 'Shyam', 'email': 'shyamjaiswal@gmail.com'}, {'name': 'Bob', 'email': 'bob32@gmail.com'}, {'name': 'Jai', 'email': 'jai87@gmail.com'}]\n",
      "{'name': 'Shyam', 'email': 'shyamjaiswal@gmail.com'}\n",
      "shyamjaiswal@gmail.com\n",
      "shyamjaiswal@gmail.com\n",
      "bob32@gmail.com\n",
      "jai87@gmail.com\n"
     ]
    }
   ],
   "source": [
    "#json ???\n",
    "import json\n",
    "\n",
    "data=\"\"\"\n",
    "{\"employees\":[  \n",
    "    {\"name\":\"Shyam\", \"email\":\"shyamjaiswal@gmail.com\"},  \n",
    "    {\"name\":\"Bob\", \"email\":\"bob32@gmail.com\"},  \n",
    "    {\"name\":\"Jai\", \"email\":\"jai87@gmail.com\"}  \n",
    "]}\n",
    "\"\"\"\n",
    "print(type(data))\n",
    "j=json.loads(data)\n",
    "print(type(j))\n",
    "print(j[\"employees\"])\n",
    "print(j[\"employees\"][0])\n",
    "print(j[\"employees\"][0]['email'])\n",
    "\n",
    "\n",
    "for row in j[\"employees\"]:\n",
    "    print(row['email'])"
   ]
  },
  {
   "cell_type": "code",
   "execution_count": 80,
   "id": "d1048993-d370-4ef1-aa0c-5ee0a0e62e46",
   "metadata": {},
   "outputs": [
    {
     "name": "stdout",
     "output_type": "stream",
     "text": [
      "Prague\n"
     ]
    }
   ],
   "source": [
    "#https://restcountries.com/v3.1/alpha/CZ\n",
    "import urllib.request as urllib\n",
    "import json\n",
    "data=urllib.urlopen('https://restcountries.com/v3.1/alpha/CZ')\n",
    "#print(dir(data))\n",
    "j=json.loads(data.read())\n",
    "print(j[0]['capital'][0])"
   ]
  },
  {
   "cell_type": "code",
   "execution_count": 81,
   "id": "da24b015-e334-4f71-bad1-4765ebefe725",
   "metadata": {},
   "outputs": [
    {
     "name": "stdout",
     "output_type": "stream",
     "text": [
      "Prague\n"
     ]
    }
   ],
   "source": [
    "import requests #non standart module, but recommended for http stuff\n",
    "print(requests.get('https://restcountries.com/v3.1/alpha/CZ').json()[0]['capital'][0])"
   ]
  },
  {
   "cell_type": "code",
   "execution_count": 84,
   "id": "0f6016cb-1e0d-409d-9f18-727e45c0d783",
   "metadata": {},
   "outputs": [],
   "source": [
    "#other data formats?\n",
    "#toml?\n",
    "import tomllib\n"
   ]
  },
  {
   "cell_type": "code",
   "execution_count": 89,
   "id": "6213c582-61cb-4aa6-b08c-4236e601471d",
   "metadata": {},
   "outputs": [],
   "source": [
    "# PEP-249 Python DB API v2.0\n",
    "import sqlite3\n",
    "conn = sqlite3.connect(r'e:\\database1.sqlite')\n",
    "cur=conn.cursor()\n",
    "cur.execute('create table phones (name varchar(20), phone_number varchar(20))')\n",
    "cur.execute(\"insert into phones values('Police','158')\")\n",
    "cur.execute(\"insert into phones values('Firefighters','150')\")\n",
    "conn.commit()\n",
    "conn.close()"
   ]
  },
  {
   "cell_type": "code",
   "execution_count": 99,
   "id": "588c2471-2afd-497b-a763-1853e6cb6e92",
   "metadata": {},
   "outputs": [
    {
     "name": "stdout",
     "output_type": "stream",
     "text": [
      "Police have phone number 158\n",
      "Firefighters have phone number 150\n",
      "We fetched 2 rows.\n"
     ]
    }
   ],
   "source": [
    "import sqlite3\n",
    "conn = sqlite3.connect(r'e:\\database1.sqlite')\n",
    "cur=conn.cursor()\n",
    "cur.execute('select * from phones')\n",
    "rows=cur.fetchall()\n",
    "for row in rows:\n",
    "    #print(row)\n",
    "    print(row[0],'have phone number',row[1])\n",
    "print('We fetched',len(rows),'rows.')\n",
    "conn.close()"
   ]
  },
  {
   "cell_type": "code",
   "execution_count": 100,
   "id": "390344dd-af14-48db-915e-1760f7b4d0bc",
   "metadata": {},
   "outputs": [
    {
     "name": "stdout",
     "output_type": "stream",
     "text": [
      "Police have phone number 158\n",
      "Firefighters have phone number 150\n",
      "We fetched 2 rows.\n"
     ]
    }
   ],
   "source": [
    "import sqlite3\n",
    "with sqlite3.connect(r'e:\\database1.sqlite') as conn:\n",
    "    cur=conn.cursor()\n",
    "    cur.execute('select * from phones')\n",
    "    rows=cur.fetchall()\n",
    "    for row in rows:\n",
    "        #print(row)\n",
    "        print(row[0],'have phone number',row[1])\n",
    "    print('We fetched',len(rows),'rows.')\n"
   ]
  }
 ],
 "metadata": {
  "kernelspec": {
   "display_name": "Python 3 (ipykernel)",
   "language": "python",
   "name": "python3"
  },
  "language_info": {
   "codemirror_mode": {
    "name": "ipython",
    "version": 3
   },
   "file_extension": ".py",
   "mimetype": "text/x-python",
   "name": "python",
   "nbconvert_exporter": "python",
   "pygments_lexer": "ipython3",
   "version": "3.11.7"
  }
 },
 "nbformat": 4,
 "nbformat_minor": 5
}
