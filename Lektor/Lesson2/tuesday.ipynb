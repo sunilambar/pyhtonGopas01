{
 "cells": [
  {
   "cell_type": "code",
   "execution_count": null,
   "id": "aebdbf3c-d375-454b-984e-171ed68fe995",
   "metadata": {},
   "outputs": [],
   "source": [
    "#tuesday"
   ]
  },
  {
   "cell_type": "code",
   "execution_count": null,
   "id": "33162d73-6d9b-4690-9508-ed93e17dbfc2",
   "metadata": {},
   "outputs": [],
   "source": [
    "#property decorator"
   ]
  },
  {
   "cell_type": "code",
   "execution_count": 11,
   "id": "4a8adce0-9d2e-466f-86f1-289a533ba1d2",
   "metadata": {},
   "outputs": [
    {
     "name": "stdout",
     "output_type": "stream",
     "text": [
      "My name : Bob, age : 20\n",
      "['__class__', '__delattr__', '__dict__', '__dir__', '__doc__', '__eq__', '__format__', '__ge__', '__getattribute__', '__getstate__', '__gt__', '__hash__', '__init__', '__init_subclass__', '__le__', '__lt__', '__module__', '__ne__', '__new__', '__reduce__', '__reduce_ex__', '__repr__', '__setattr__', '__sizeof__', '__str__', '__subclasshook__', '__weakref__', 'age', 'name', 'printall']\n",
      "['__class__', '__delattr__', '__dict__', '__dir__', '__doc__', '__eq__', '__format__', '__ge__', '__getattribute__', '__getstate__', '__gt__', '__hash__', '__init__', '__init_subclass__', '__le__', '__lt__', '__module__', '__ne__', '__new__', '__reduce__', '__reduce_ex__', '__repr__', '__setattr__', '__sizeof__', '__str__', '__subclasshook__', '__weakref__', 'age', 'height', 'name', 'printall']\n",
      "True\n"
     ]
    }
   ],
   "source": [
    "class Person:\n",
    "    def __init__(self,name,age):\n",
    "        self.name=name\n",
    "        self.age=age\n",
    "    def printall(self):\n",
    "        print (f\"My name : {self.name}, age : {self.age}\")\n",
    "\n",
    "bob=Person(\"Bob\",20)\n",
    "alice=Person(\"Alice\",19)\n",
    "#alice.height=175\n",
    "bob.printall()\n",
    "print(dir(bob))\n",
    "print(dir(alice))\n",
    "#bob.height\n",
    "print(type(alice) is type(bob))"
   ]
  },
  {
   "cell_type": "code",
   "execution_count": 18,
   "id": "1052a233-34cb-41eb-a679-555f36e89c5c",
   "metadata": {},
   "outputs": [
    {
     "name": "stdout",
     "output_type": "stream",
     "text": [
      "My name : Bob, age : 20\n",
      "My name : Alice, age : 19\n",
      "['_Person__name', '__class__', '__delattr__', '__dict__', '__dir__', '__doc__', '__eq__', '__format__', '__ge__', '__getattribute__', '__getstate__', '__gt__', '__hash__', '__init__', '__init_subclass__', '__le__', '__lt__', '__module__', '__ne__', '__new__', '__reduce__', '__reduce_ex__', '__repr__', '__setattr__', '__sizeof__', '__str__', '__subclasshook__', '__weakref__', 'age', 'printall']\n"
     ]
    }
   ],
   "source": [
    "class Person:\n",
    "    def __init__(self,name,age):\n",
    "        self.__name=name\n",
    "        self.age=age\n",
    "    def printall(self):\n",
    "        print (f\"My name : {self.__name}, age : {self.age}\")\n",
    "        \n",
    "bob=Person(\"Bob\",20)\n",
    "alice=Person(\"Alice\",19)\n",
    "#print(bob.name)\n",
    "bob.printall()\n",
    "alice.printall()\n",
    "print(dir(bob))\n",
    "#print(bob._Person__name) #name mangling\n"
   ]
  },
  {
   "cell_type": "code",
   "execution_count": 25,
   "id": "bf7c5186-44ca-4685-9031-35836fb16584",
   "metadata": {},
   "outputs": [
    {
     "name": "stdout",
     "output_type": "stream",
     "text": [
      "My name : Bob, age : 20\n",
      "['_Person__name', '__class__', '__delattr__', '__dict__', '__dir__', '__doc__', '__eq__', '__format__', '__ge__', '__getattribute__', '__getstate__', '__gt__', '__hash__', '__init__', '__init_subclass__', '__le__', '__lt__', '__module__', '__ne__', '__new__', '__reduce__', '__reduce_ex__', '__repr__', '__setattr__', '__sizeof__', '__str__', '__subclasshook__', '__weakref__', 'age', 'getName', 'printall']\n",
      "Bob\n",
      "Bob gopas\n",
      "My name : 456, age : 20\n"
     ]
    },
    {
     "ename": "TypeError",
     "evalue": "unsupported operand type(s) for +: 'int' and 'str'",
     "output_type": "error",
     "traceback": [
      "\u001b[1;31m---------------------------------------------------------------------------\u001b[0m",
      "\u001b[1;31mTypeError\u001b[0m                                 Traceback (most recent call last)",
      "Cell \u001b[1;32mIn[25], line 21\u001b[0m\n\u001b[0;32m     19\u001b[0m bob\u001b[38;5;241m.\u001b[39m_Person__name\u001b[38;5;241m=\u001b[39m\u001b[38;5;241m456\u001b[39m\n\u001b[0;32m     20\u001b[0m bob\u001b[38;5;241m.\u001b[39mprintall()\n\u001b[1;32m---> 21\u001b[0m \u001b[38;5;28mprint\u001b[39m(bob\u001b[38;5;241m.\u001b[39mgetName()\u001b[38;5;241m+\u001b[39m\u001b[38;5;124m'\u001b[39m\u001b[38;5;124m gopas\u001b[39m\u001b[38;5;124m'\u001b[39m)\n",
      "\u001b[1;31mTypeError\u001b[0m: unsupported operand type(s) for +: 'int' and 'str'"
     ]
    }
   ],
   "source": [
    "class Person:\n",
    "    def __init__(self,name,age):\n",
    "        self.__name=name\n",
    "        self.age=age\n",
    "    def printall(self):\n",
    "        print (f\"My name : {self.__name}, age : {self.age}\")\n",
    "    def getName(self): #getter to get value of some \"hidden/protected attribute\"\n",
    "        return self.__name\n",
    "\n",
    "\n",
    "bob=Person(\"Bob\",20)\n",
    "alice=Person(\"Alice\",19)\n",
    "#print(bob.name)\n",
    "bob.printall()\n",
    "print(dir(bob))\n",
    "print(bob.getName())\n",
    "print(bob.getName()+' gopas')\n",
    "\n",
    "bob._Person__name=456\n",
    "bob.printall()\n",
    "print(bob.getName()+' gopas')\n",
    "\n"
   ]
  },
  {
   "cell_type": "code",
   "execution_count": 33,
   "id": "62b2b5cd-863e-4c39-839b-4ca926a3de51",
   "metadata": {},
   "outputs": [
    {
     "name": "stdout",
     "output_type": "stream",
     "text": [
      "My name : Bob, age : 20\n",
      "['_Person__name', '__class__', '__delattr__', '__dict__', '__dir__', '__doc__', '__eq__', '__format__', '__ge__', '__getattribute__', '__getstate__', '__gt__', '__hash__', '__init__', '__init_subclass__', '__le__', '__lt__', '__module__', '__ne__', '__new__', '__reduce__', '__reduce_ex__', '__repr__', '__setattr__', '__sizeof__', '__str__', '__subclasshook__', '__weakref__', 'age', 'getName', 'printall', 'setName']\n",
      "Bob\n",
      "Bob gopas\n",
      "My name : Robert, age : 20\n",
      "Robert gopas\n"
     ]
    }
   ],
   "source": [
    "class Person:\n",
    "    def __init__(self,name,age):\n",
    "        self.__name=name\n",
    "        self.age=age\n",
    "    def printall(self):\n",
    "        print (f\"My name : {self.__name}, age : {self.age}\")\n",
    "    def getName(self): #getter to get value of some \"hidden/protected attribute\"\n",
    "        return self.__name\n",
    "    def setName(self,new):\n",
    "        if type(new) is not str:\n",
    "            raise TypeError('Name of person must be string !')\n",
    "        if not new:\n",
    "            raise ValueError('Name must be nonempty !')\n",
    "        self.__name=new\n",
    "            \n",
    "\n",
    "bob=Person(\"Bob\",20)\n",
    "alice=Person(\"Alice\",19)\n",
    "#print(bob.name)\n",
    "bob.printall()\n",
    "print(dir(bob))\n",
    "print(bob.getName())\n",
    "print(bob.getName()+' gopas')\n",
    "bob.setName('Robert')\n",
    "bob.printall()\n",
    "#bob.setName(456)\n",
    "print(bob.getName()+' gopas')\n",
    "\n"
   ]
  },
  {
   "cell_type": "code",
   "execution_count": 35,
   "id": "4945ed9c-e31f-45d5-ba3d-3f1aebe1ffc6",
   "metadata": {},
   "outputs": [
    {
     "name": "stdout",
     "output_type": "stream",
     "text": [
      "My name : Bob, age : 20\n",
      "Bob\n",
      "My name : Robert, age : 20\n",
      "My name : Robert, age : -9\n"
     ]
    }
   ],
   "source": [
    "class Person:\n",
    "    def __init__(self,name,age):\n",
    "        self.__name=name\n",
    "        self.age=age\n",
    "    def printall(self):\n",
    "        print (f\"My name : {self.__name}, age : {self.age}\")\n",
    "    def getName(self): #getter to get value of some \"hidden/protected attribute\"\n",
    "        return self.__name\n",
    "    def setName(self,new):\n",
    "        if type(new) is not str:\n",
    "            raise TypeError('Name of person must be string !')\n",
    "        if not new:\n",
    "            raise ValueError('Name must be nonempty !')\n",
    "        self.__name=new\n",
    "            \n",
    "\n",
    "bob=Person(\"Bob\",20)\n",
    "alice=Person(\"Alice\",19)\n",
    "#print(bob.name)\n",
    "bob.printall()\n",
    "print(bob.getName())\n",
    "bob.setName('Robert')\n",
    "bob.printall()\n",
    "bob.age=-9\n",
    "bob.printall()\n"
   ]
  },
  {
   "cell_type": "code",
   "execution_count": 38,
   "id": "281f9362-87f1-447a-a2b5-1f28e754a7a5",
   "metadata": {},
   "outputs": [
    {
     "name": "stdout",
     "output_type": "stream",
     "text": [
      "123\n"
     ]
    }
   ],
   "source": [
    "class X:\n",
    "    def __init__(self,value):\n",
    "        self.gopas=value\n",
    "    def print(self):\n",
    "        print(self.gopas)\n",
    "x=X(123)\n",
    "x.print()"
   ]
  },
  {
   "cell_type": "code",
   "execution_count": 43,
   "id": "db015f1e-4793-42d8-8da2-dbeb3f69d90c",
   "metadata": {},
   "outputs": [
    {
     "name": "stdout",
     "output_type": "stream",
     "text": [
      "in method gopas\n",
      "123\n"
     ]
    }
   ],
   "source": [
    "class X:\n",
    "    def __init__(self,value):\n",
    "        self.gopas=value\n",
    "    def print(self):\n",
    "        print(self.gopas)\n",
    "    def gopas(self):\n",
    "        print('in method gopas')\n",
    "x=X(123)\n",
    "#x.gopas()\n",
    "X.gopas(x)\n",
    "x.print()\n"
   ]
  },
  {
   "cell_type": "code",
   "execution_count": 49,
   "id": "b6de2e1e-cacc-430a-bc53-0a521803d629",
   "metadata": {},
   "outputs": [
    {
     "name": "stdout",
     "output_type": "stream",
     "text": [
      "My name : Bob, age : 20\n",
      "Bob\n",
      "My name : Robert, age : 20\n",
      "21\n",
      "Help on class Person in module __main__:\n",
      "\n",
      "class Person(builtins.object)\n",
      " |  Person(name, age)\n",
      " |  \n",
      " |  Methods defined here:\n",
      " |  \n",
      " |  __init__(self, name, age)\n",
      " |      Initialize self.  See help(type(self)) for accurate signature.\n",
      " |  \n",
      " |  getName(self)\n",
      " |  \n",
      " |  printall(self)\n",
      " |  \n",
      " |  setName(self, new)\n",
      " |  \n",
      " |  ----------------------------------------------------------------------\n",
      " |  Readonly properties defined here:\n",
      " |  \n",
      " |  age\n",
      " |  \n",
      " |  ----------------------------------------------------------------------\n",
      " |  Data descriptors defined here:\n",
      " |  \n",
      " |  __dict__\n",
      " |      dictionary for instance variables\n",
      " |  \n",
      " |  __weakref__\n",
      " |      list of weak references to the object\n",
      "\n"
     ]
    }
   ],
   "source": [
    "class Person:\n",
    "    def __init__(self,name,age):\n",
    "        self.__name=name\n",
    "        self.__age=age\n",
    "    def printall(self):\n",
    "        print (f\"My name : {self.__name}, age : {self.__age}\")\n",
    "    def getName(self): #getter to get value of some \"hidden/protected attribute\"\n",
    "        return self.__name\n",
    "    def setName(self,new):\n",
    "        if type(new) is not str:\n",
    "            raise TypeError('Name of person must be string !')\n",
    "        if not new:\n",
    "            raise ValueError('Name must be nonempty !')\n",
    "        self.__name=new\n",
    "    @property #this decorator defines getter for attribute age\n",
    "    def age(self):\n",
    "        return self.__age+1\n",
    "\n",
    "bob=Person(\"Bob\",20)\n",
    "alice=Person(\"Alice\",19)\n",
    "#print(bob.name)\n",
    "bob.printall()\n",
    "print(bob.getName())\n",
    "bob.setName('Robert')\n",
    "bob.printall()\n",
    "print(bob.age)\n",
    "help(Person)"
   ]
  },
  {
   "cell_type": "code",
   "execution_count": 63,
   "id": "b51ab6c0-f5fd-4cb2-8934-7cecc7344cd5",
   "metadata": {},
   "outputs": [
    {
     "name": "stdout",
     "output_type": "stream",
     "text": [
      "My name : Bob, age : 20\n",
      "Bob\n",
      "My name : Robert, age : 20\n",
      "21\n",
      "My name : Robert, age : 50\n",
      "My name : Robert, age : 0\n",
      "Help on class Person in module __main__:\n",
      "\n",
      "class Person(builtins.object)\n",
      " |  Person(name, age)\n",
      " |  \n",
      " |  Methods defined here:\n",
      " |  \n",
      " |  __init__(self, name, age)\n",
      " |      Initialize self.  See help(type(self)) for accurate signature.\n",
      " |  \n",
      " |  getName(self)\n",
      " |  \n",
      " |  printall(self)\n",
      " |  \n",
      " |  setName(self, new)\n",
      " |  \n",
      " |  ----------------------------------------------------------------------\n",
      " |  Data descriptors defined here:\n",
      " |  \n",
      " |  __dict__\n",
      " |      dictionary for instance variables\n",
      " |  \n",
      " |  __weakref__\n",
      " |      list of weak references to the object\n",
      " |  \n",
      " |  age\n",
      "\n"
     ]
    }
   ],
   "source": [
    "class Person:\n",
    "    def __init__(self,name,age):\n",
    "        self.__name=name\n",
    "        self.__age=age\n",
    "    def printall(self):\n",
    "        print (f\"My name : {self.__name}, age : {self.__age}\")\n",
    "    def getName(self): #getter to get value of some \"hidden/protected attribute\"\n",
    "        return self.__name\n",
    "    def setName(self,new):\n",
    "        if type(new) is not str:\n",
    "            raise TypeError('Name of person must be string !')\n",
    "        if not new:\n",
    "            raise ValueError('Name must be nonempty !')\n",
    "        self.__name=new\n",
    "    @property #this decorator defines getter for attribute age\n",
    "    def age(self):\n",
    "        return self.__age+1\n",
    "    @age.setter\n",
    "    def age(self,new):\n",
    "        if type(new) is not int:\n",
    "            raise TypeError('wrong type of age')\n",
    "        if new<=0 or new<self.__age:\n",
    "            raise ValueError('negative or younger age is not possible')\n",
    "        self.__age=new\n",
    "    @age.deleter\n",
    "    def age(self):\n",
    "        self.__age=0\n",
    "\n",
    "bob=Person(\"Bob\",20)\n",
    "alice=Person(\"Alice\",19)\n",
    "#print(bob.name)\n",
    "bob.printall()\n",
    "print(bob.getName())\n",
    "bob.setName('Robert')\n",
    "bob.printall()\n",
    "print(bob.age)\n",
    "bob.age=50\n",
    "bob.printall()\n",
    "del bob.age\n",
    "bob.printall()\n",
    "help(Person)"
   ]
  },
  {
   "cell_type": "code",
   "execution_count": 71,
   "id": "1025329e-c2b9-43da-bf73-a0ec8175b82f",
   "metadata": {},
   "outputs": [
    {
     "name": "stdout",
     "output_type": "stream",
     "text": [
      "My name : Bob, age : 21\n"
     ]
    },
    {
     "ename": "ValueError",
     "evalue": "negative or younger age is not possible",
     "output_type": "error",
     "traceback": [
      "\u001b[1;31m---------------------------------------------------------------------------\u001b[0m",
      "\u001b[1;31mValueError\u001b[0m                                Traceback (most recent call last)",
      "Cell \u001b[1;32mIn[71], line 31\u001b[0m\n\u001b[0;32m     29\u001b[0m bob\u001b[38;5;241m=\u001b[39mPerson(\u001b[38;5;124m\"\u001b[39m\u001b[38;5;124mBob\u001b[39m\u001b[38;5;124m\"\u001b[39m,\u001b[38;5;241m20\u001b[39m)\n\u001b[0;32m     30\u001b[0m bob\u001b[38;5;241m.\u001b[39mprintall()\n\u001b[1;32m---> 31\u001b[0m alice\u001b[38;5;241m=\u001b[39mPerson(\u001b[38;5;124m'\u001b[39m\u001b[38;5;124mAlice\u001b[39m\u001b[38;5;124m'\u001b[39m,\u001b[38;5;241m-\u001b[39m\u001b[38;5;241m12\u001b[39m)\n\u001b[0;32m     32\u001b[0m alice\u001b[38;5;241m.\u001b[39mprintall()\n",
      "Cell \u001b[1;32mIn[71], line 4\u001b[0m, in \u001b[0;36mPerson.__init__\u001b[1;34m(self, p_name, p_age)\u001b[0m\n\u001b[0;32m      2\u001b[0m \u001b[38;5;28;01mdef\u001b[39;00m \u001b[38;5;21m__init__\u001b[39m(\u001b[38;5;28mself\u001b[39m,p_name,p_age):\n\u001b[0;32m      3\u001b[0m     \u001b[38;5;28mself\u001b[39m\u001b[38;5;241m.\u001b[39mname\u001b[38;5;241m=\u001b[39mp_name\n\u001b[1;32m----> 4\u001b[0m     \u001b[38;5;28mself\u001b[39m\u001b[38;5;241m.\u001b[39mage\u001b[38;5;241m=\u001b[39mp_age\n",
      "Cell \u001b[1;32mIn[71], line 23\u001b[0m, in \u001b[0;36mPerson.age\u001b[1;34m(self, new)\u001b[0m\n\u001b[0;32m     21\u001b[0m     \u001b[38;5;28;01mraise\u001b[39;00m \u001b[38;5;167;01mTypeError\u001b[39;00m(\u001b[38;5;124m'\u001b[39m\u001b[38;5;124mwrong type of age\u001b[39m\u001b[38;5;124m'\u001b[39m)\n\u001b[0;32m     22\u001b[0m \u001b[38;5;28;01mif\u001b[39;00m new\u001b[38;5;241m<\u001b[39m\u001b[38;5;241m=\u001b[39m\u001b[38;5;241m0\u001b[39m:\n\u001b[1;32m---> 23\u001b[0m     \u001b[38;5;28;01mraise\u001b[39;00m \u001b[38;5;167;01mValueError\u001b[39;00m(\u001b[38;5;124m'\u001b[39m\u001b[38;5;124mnegative or younger age is not possible\u001b[39m\u001b[38;5;124m'\u001b[39m)\n\u001b[0;32m     24\u001b[0m \u001b[38;5;28mself\u001b[39m\u001b[38;5;241m.\u001b[39m__age\u001b[38;5;241m=\u001b[39mnew\n",
      "\u001b[1;31mValueError\u001b[0m: negative or younger age is not possible"
     ]
    }
   ],
   "source": [
    "class Person:\n",
    "    def __init__(self,p_name,p_age):\n",
    "        self.name=p_name\n",
    "        self.age=p_age\n",
    "    def printall(self):\n",
    "        print (f\"My name : {self.name}, age : {self.age}\")\n",
    "    def getName(self): #getter to get value of some \"hidden/protected attribute\"\n",
    "        return self.__name\n",
    "    def setName(self,new):\n",
    "        if type(new) is not str:\n",
    "            raise TypeError('Name of person must be string !')\n",
    "        if not new:\n",
    "            raise ValueError('Name must be nonempty !')\n",
    "        self.__name=new\n",
    "    @property #this decorator defines getter for attribute age\n",
    "    def age(self):\n",
    "        return self.__age+1\n",
    "    @age.setter\n",
    "    def age(self,new):\n",
    "        if type(new) is not int:\n",
    "            raise TypeError('wrong type of age')\n",
    "        if new<=0:\n",
    "            raise ValueError('negative or younger age is not possible')\n",
    "        self.__age=new\n",
    "    @age.deleter\n",
    "    def age(self):\n",
    "        self.__age=0\n",
    "\n",
    "bob=Person(\"Bob\",20)\n",
    "bob.printall()\n",
    "alice=Person('Alice',-12)\n",
    "alice.printall()"
   ]
  },
  {
   "cell_type": "code",
   "execution_count": 64,
   "id": "0c56400c-16d3-4c6c-ace7-04f230da137e",
   "metadata": {},
   "outputs": [],
   "source": [
    "#on class City (from monday) create property \"population\" (getter,setter)\n",
    "#and please use protected names with two underscores\n"
   ]
  },
  {
   "cell_type": "code",
   "execution_count": 80,
   "id": "398cdfa8-a1e3-4e2e-879d-c1b708dcb1d7",
   "metadata": {},
   "outputs": [
    {
     "name": "stdout",
     "output_type": "stream",
     "text": [
      "Name : Bob, age : 20\n",
      "<class '__main__.Person'> 2342551624464\n"
     ]
    }
   ],
   "source": [
    "#inheritance\n",
    "class Person(object): #not needed, its automatic class Person:\n",
    "    def __init__(self,p_name,p_age):\n",
    "        self.name=p_name\n",
    "        self.age=p_age\n",
    "    def printall(self):\n",
    "        print (f\"Name : {self.name}, age : {self.age}\")\n",
    "        \n",
    "bob=Person(\"Bob\",20)\n",
    "#alice=Person(\"Alice\",19)\n",
    "bob.printall()\n",
    "print(type(bob),id(bob))"
   ]
  },
  {
   "cell_type": "code",
   "execution_count": 81,
   "id": "832a8552-d998-4145-a2ec-14326f16c391",
   "metadata": {},
   "outputs": [
    {
     "name": "stdout",
     "output_type": "stream",
     "text": [
      "['__class__', '__delattr__', '__dict__', '__dir__', '__doc__', '__eq__', '__format__', '__ge__', '__getattribute__', '__getstate__', '__gt__', '__hash__', '__init__', '__init_subclass__', '__le__', '__lt__', '__module__', '__ne__', '__new__', '__reduce__', '__reduce_ex__', '__repr__', '__setattr__', '__sizeof__', '__str__', '__subclasshook__', '__weakref__']\n"
     ]
    }
   ],
   "source": [
    "class X:\n",
    "    pass\n",
    "print(dir(X))"
   ]
  },
  {
   "cell_type": "code",
   "execution_count": 96,
   "id": "6c42c42a-5194-4a72-bfc0-57b3355bd8d9",
   "metadata": {},
   "outputs": [
    {
     "name": "stdout",
     "output_type": "stream",
     "text": [
      "Name : Bob, age : 20\n",
      "<class '__main__.Person'> 2342549810576\n",
      "Name : Peter, age : 40\n",
      "<class '__main__.Employee'> 2342550073424\n",
      "True\n",
      "True\n",
      "False\n",
      "True\n",
      "True\n",
      "False\n",
      "True\n",
      "False\n"
     ]
    }
   ],
   "source": [
    "#inheritance\n",
    "class Person: #not needed, its automatic class Person:\n",
    "    def __init__(self,p_name,p_age):\n",
    "        self.name=p_name\n",
    "        self.age=p_age\n",
    "    def printall(self):\n",
    "        print (f\"Name : {self.name}, age : {self.age}\")\n",
    "        \n",
    "bob=Person(\"Bob\",20)\n",
    "#alice=Person(\"Alice\",19)\n",
    "bob.printall()\n",
    "print(type(bob),id(bob))\n",
    "\n",
    "class Employee(Person):\n",
    "    pass\n",
    "peter=Employee('Peter',40)\n",
    "peter.printall()\n",
    "print(type(peter),id(peter))\n",
    "print(issubclass(Employee,Person))\n",
    "print(issubclass(Employee,object))\n",
    "print(issubclass(Employee,int))\n",
    "print(isinstance(peter,Employee))\n",
    "print(isinstance(peter,Person))\n",
    "print(isinstance(bob,Employee))\n",
    "print(isinstance(bob,Person))\n",
    "print(isinstance(bob,int))\n"
   ]
  },
  {
   "cell_type": "code",
   "execution_count": 101,
   "id": "55b27271-428a-4d5a-b983-03f92180c011",
   "metadata": {},
   "outputs": [
    {
     "name": "stdout",
     "output_type": "stream",
     "text": [
      "Name : Bob, age : 20\n",
      "<class '__main__.Person'> 2342551748752\n",
      "Name : Peter, age : 40\n",
      "I'm doing cleaning windows in first floor of our school for 3 hours time\n"
     ]
    }
   ],
   "source": [
    "#inheritance\n",
    "class Person: #not needed, its automatic class Person:\n",
    "    def __init__(self,p_name,p_age):\n",
    "        self.name=p_name\n",
    "        self.age=p_age\n",
    "    def printall(self):\n",
    "        print (f\"Name : {self.name}, age : {self.age}\")\n",
    "        \n",
    "bob=Person(\"Bob\",20)\n",
    "#alice=Person(\"Alice\",19)\n",
    "bob.printall()\n",
    "print(type(bob),id(bob))\n",
    "\n",
    "class Employee(Person):\n",
    "    def work(self,what,how_long):\n",
    "        print(f\"I'm doing {what} for {how_long} time\")\n",
    "peter=Employee('Peter',40)\n",
    "peter.printall()\n",
    "peter.work('cleaning windows in first floor of our school','3 hours')\n",
    "#bob.work()\n"
   ]
  },
  {
   "cell_type": "code",
   "execution_count": 103,
   "id": "a18d30fa-939d-407d-b6ce-fdf69c72725d",
   "metadata": {},
   "outputs": [
    {
     "name": "stdout",
     "output_type": "stream",
     "text": [
      "I'm employee, my name is Peter and age 40\n",
      "I'm doing cleaning windows in first floor of our school for 3 hours time\n",
      "Name : Bob, age : 20\n"
     ]
    }
   ],
   "source": [
    "#encapsulation, inheratance, polymorphism\n",
    "#inheritance\n",
    "class Person: #not needed, its automatic class Person:\n",
    "    def __init__(self,p_name,p_age):\n",
    "        self.name=p_name\n",
    "        self.age=p_age\n",
    "    def printall(self):\n",
    "        print (f\"Name : {self.name}, age : {self.age}\")\n",
    "        \n",
    "bob=Person(\"Bob\",20)\n",
    "\n",
    "class Employee(Person):\n",
    "    def work(self,what,how_long):\n",
    "        print(f\"I'm doing {what} for {how_long} time\")\n",
    "    def printall(self):\n",
    "        print(f\"I'm employee, my name is {self.name} and age {self.age}\")\n",
    "peter=Employee('Peter',40)\n",
    "peter.printall()\n",
    "peter.work('cleaning windows in first floor of our school','3 hours')\n",
    "bob.printall()\n"
   ]
  },
  {
   "cell_type": "code",
   "execution_count": 108,
   "id": "2c321a8e-783b-42b7-9e9b-92b181bf3bcd",
   "metadata": {},
   "outputs": [
    {
     "name": "stdout",
     "output_type": "stream",
     "text": [
      "I'm employee on position maintainer, my name is Peter, age 40 and my salary is 30000 €\n",
      "I'm doing cleaning windows in first floor of our school for 3 hours time\n",
      "Name : Bob, age : 20\n"
     ]
    }
   ],
   "source": [
    "#encapsulation, inheratance, polymorphism\n",
    "#inheritance\n",
    "class Person: #not needed, its automatic class Person:\n",
    "    def __init__(self,p_name,p_age):\n",
    "        self.name=p_name\n",
    "        self.age=p_age\n",
    "    def printall(self):\n",
    "        print (f\"Name : {self.name}, age : {self.age}\")\n",
    "        \n",
    "bob=Person(\"Bob\",20)\n",
    "\n",
    "class Employee(Person):\n",
    "    def __init__(self,p_name,p_age,p_job,p_salary):\n",
    "        self.name=p_name\n",
    "        self.age=p_age\n",
    "        self.job=p_job\n",
    "        self.salary=p_salary\n",
    "    def work(self,what,how_long):\n",
    "        print(f\"I'm doing {what} for {how_long} time\")\n",
    "    def printall(self):\n",
    "        print(f\"I'm employee on position {self.job}, my name is {self.name}, age {self.age} and my salary is {self.salary} \\N{euro sign}\")\n",
    "peter=Employee('Peter',40,'maintainer', 30_000)\n",
    "peter.printall()\n",
    "peter.work('cleaning windows in first floor of our school','3 hours')\n",
    "bob.printall()\n"
   ]
  },
  {
   "cell_type": "code",
   "execution_count": null,
   "id": "edd6a206-0955-44b6-9404-f8ac3aa1ce4c",
   "metadata": {},
   "outputs": [],
   "source": []
  },
  {
   "cell_type": "code",
   "execution_count": 112,
   "id": "dad31ae2-632a-4595-bac9-f6c220df3ad8",
   "metadata": {},
   "outputs": [
    {
     "name": "stdout",
     "output_type": "stream",
     "text": [
      "I'm employee on position maintainer, my name is Peter, age 40 and my salary is 30000 €\n",
      "I'm doing cleaning windows in first floor of our school for 3 hours time\n",
      "Name : Bob, age : 20\n"
     ]
    }
   ],
   "source": [
    "#encapsulation, inheratance, polymorphism\n",
    "#inheritance\n",
    "class Person: #not needed, its automatic class Person:\n",
    "    def __init__(self,p_name,p_age):\n",
    "        self.name=p_name\n",
    "        self.age=p_age\n",
    "    def printall(self):\n",
    "        print (f\"Name : {self.name}, age : {self.age}\")\n",
    "        \n",
    "bob=Person(\"Bob\",20)\n",
    "\n",
    "class Employee(Person):\n",
    "    def __init__(self,p_name,p_age,p_job,p_salary):\n",
    "        super().__init__(p_name,p_age)\n",
    "        self.job=p_job\n",
    "        self.salary=p_salary\n",
    "    def work(self,what,how_long):\n",
    "        print(f\"I'm doing {what} for {how_long} time\")\n",
    "    def printall(self):\n",
    "        print(f\"I'm employee on position {self.job}, my name is {self.name}, age {self.age} and my salary is {self.salary} \\N{euro sign}\")\n",
    "peter=Employee('Peter',40,'maintainer', 30_000)\n",
    "peter.printall()\n",
    "peter.work('cleaning windows in first floor of our school','3 hours')\n",
    "bob.printall()\n"
   ]
  },
  {
   "cell_type": "code",
   "execution_count": 116,
   "id": "5e81cbc9-fef9-4c1b-a4fd-53f6519a0515",
   "metadata": {},
   "outputs": [
    {
     "name": "stdout",
     "output_type": "stream",
     "text": [
      "Name : Bob, age : 20\n",
      "['_Person__age', '_Person__name', '__class__', '__delattr__', '__dict__', '__dir__', '__doc__', '__eq__', '__format__', '__ge__', '__getattribute__', '__getstate__', '__gt__', '__hash__', '__init__', '__init_subclass__', '__le__', '__lt__', '__module__', '__ne__', '__new__', '__reduce__', '__reduce_ex__', '__repr__', '__setattr__', '__sizeof__', '__str__', '__subclasshook__', '__weakref__', 'job', 'printall', 'salary', 'work']\n"
     ]
    },
    {
     "ename": "AttributeError",
     "evalue": "'Employee' object has no attribute '_Employee__name'",
     "output_type": "error",
     "traceback": [
      "\u001b[1;31m---------------------------------------------------------------------------\u001b[0m",
      "\u001b[1;31mAttributeError\u001b[0m                            Traceback (most recent call last)",
      "Cell \u001b[1;32mIn[116], line 23\u001b[0m\n\u001b[0;32m     21\u001b[0m peter\u001b[38;5;241m=\u001b[39mEmployee(\u001b[38;5;124m'\u001b[39m\u001b[38;5;124mPeter\u001b[39m\u001b[38;5;124m'\u001b[39m,\u001b[38;5;241m40\u001b[39m,\u001b[38;5;124m'\u001b[39m\u001b[38;5;124mmaintainer\u001b[39m\u001b[38;5;124m'\u001b[39m, \u001b[38;5;241m30_000\u001b[39m)\n\u001b[0;32m     22\u001b[0m \u001b[38;5;28mprint\u001b[39m(\u001b[38;5;28mdir\u001b[39m(peter))\n\u001b[1;32m---> 23\u001b[0m peter\u001b[38;5;241m.\u001b[39mprintall()\n\u001b[0;32m     24\u001b[0m peter\u001b[38;5;241m.\u001b[39mwork(\u001b[38;5;124m'\u001b[39m\u001b[38;5;124mcleaning windows in first floor of our school\u001b[39m\u001b[38;5;124m'\u001b[39m,\u001b[38;5;124m'\u001b[39m\u001b[38;5;124m3 hours\u001b[39m\u001b[38;5;124m'\u001b[39m)\n\u001b[0;32m     25\u001b[0m bob\u001b[38;5;241m.\u001b[39mprintall()\n",
      "Cell \u001b[1;32mIn[116], line 20\u001b[0m, in \u001b[0;36mEmployee.printall\u001b[1;34m(self)\u001b[0m\n\u001b[0;32m     19\u001b[0m \u001b[38;5;28;01mdef\u001b[39;00m \u001b[38;5;21mprintall\u001b[39m(\u001b[38;5;28mself\u001b[39m):\n\u001b[1;32m---> 20\u001b[0m     \u001b[38;5;28mprint\u001b[39m(\u001b[38;5;124mf\u001b[39m\u001b[38;5;124m\"\u001b[39m\u001b[38;5;124mI\u001b[39m\u001b[38;5;124m'\u001b[39m\u001b[38;5;124mm employee on position \u001b[39m\u001b[38;5;132;01m{\u001b[39;00m\u001b[38;5;28mself\u001b[39m\u001b[38;5;241m.\u001b[39mjob\u001b[38;5;132;01m}\u001b[39;00m\u001b[38;5;124m, my name is \u001b[39m\u001b[38;5;132;01m{\u001b[39;00m\u001b[38;5;28mself\u001b[39m\u001b[38;5;241m.\u001b[39m__name\u001b[38;5;132;01m}\u001b[39;00m\u001b[38;5;124m, age \u001b[39m\u001b[38;5;132;01m{\u001b[39;00m\u001b[38;5;28mself\u001b[39m\u001b[38;5;241m.\u001b[39m__age\u001b[38;5;132;01m}\u001b[39;00m\u001b[38;5;124m and my salary is \u001b[39m\u001b[38;5;132;01m{\u001b[39;00m\u001b[38;5;28mself\u001b[39m\u001b[38;5;241m.\u001b[39msalary\u001b[38;5;132;01m}\u001b[39;00m\u001b[38;5;124m \u001b[39m\u001b[38;5;130;01m\\N{euro sign}\u001b[39;00m\u001b[38;5;124m\"\u001b[39m)\n",
      "\u001b[1;31mAttributeError\u001b[0m: 'Employee' object has no attribute '_Employee__name'"
     ]
    }
   ],
   "source": [
    "#encapsulation, inheratance, polymorphism\n",
    "#inheritance\n",
    "class Person: #not needed, its automatic class Person:\n",
    "    def __init__(self,p_name,p_age):\n",
    "        self.__name=p_name\n",
    "        self.__age=p_age\n",
    "    def printall(self):\n",
    "        print (f\"Name : {self.__name}, age : {self.__age}\")\n",
    "        \n",
    "bob=Person(\"Bob\",20)\n",
    "bob.printall()\n",
    "class Employee(Person):\n",
    "    def __init__(self,p_name,p_age,p_job,p_salary):\n",
    "        super().__init__(p_name,p_age)\n",
    "        self.job=p_job\n",
    "        self.salary=p_salary\n",
    "    def work(self,what,how_long):\n",
    "        print(f\"I'm doing {what} for {how_long} time\")\n",
    "    def printall(self):\n",
    "        print(f\"I'm employee on position {self.job}, my name is {self.__name}, age {self.__age} and my salary is {self.salary} \\N{euro sign}\")\n",
    "peter=Employee('Peter',40,'maintainer', 30_000)\n",
    "print(dir(peter))\n",
    "peter.printall()\n",
    "peter.work('cleaning windows in first floor of our school','3 hours')\n",
    "bob.printall()\n"
   ]
  },
  {
   "cell_type": "code",
   "execution_count": 119,
   "id": "c965722d-feb9-4f40-9a1e-0537fc277a6e",
   "metadata": {},
   "outputs": [
    {
     "name": "stdout",
     "output_type": "stream",
     "text": [
      "Name : Bob, age : 20\n",
      "['_Person__age', '_Person__name', '__class__', '__delattr__', '__dict__', '__dir__', '__doc__', '__eq__', '__format__', '__ge__', '__getattribute__', '__getstate__', '__gt__', '__hash__', '__init__', '__init_subclass__', '__le__', '__lt__', '__module__', '__ne__', '__new__', '__reduce__', '__reduce_ex__', '__repr__', '__setattr__', '__sizeof__', '__str__', '__subclasshook__', '__weakref__', 'age', 'job', 'name', 'printall', 'salary', 'work']\n",
      "I'm employee on position maintainer, my name is Peter, age 40 and my salary is 30000 €\n",
      "I'm doing cleaning windows in first floor of our school for 3 hours time\n",
      "['_Person__age', '_Person__name', '__class__', '__delattr__', '__dict__', '__dir__', '__doc__', '__eq__', '__format__', '__ge__', '__getattribute__', '__getstate__', '__gt__', '__hash__', '__init__', '__init_subclass__', '__le__', '__lt__', '__module__', '__ne__', '__new__', '__reduce__', '__reduce_ex__', '__repr__', '__setattr__', '__sizeof__', '__str__', '__subclasshook__', '__weakref__', 'age', 'job', 'name', 'printall', 'salary', 'work']\n"
     ]
    }
   ],
   "source": [
    "#encapsulation, inheratance, polymorphism\n",
    "#inheritance\n",
    "class Person: #not needed, its automatic class Person:\n",
    "    def __init__(self,p_name,p_age):\n",
    "        self.name=p_name\n",
    "        self.age=p_age\n",
    "    def printall(self):\n",
    "        print (f\"Name : {self.__name}, age : {self.__age}\")\n",
    "    @property\n",
    "    def name(self):\n",
    "        return self.__name\n",
    "    @name.setter\n",
    "    def name(self,new):\n",
    "        self.__name=new.capitalize()\n",
    "    @property\n",
    "    def age(self):\n",
    "        return self.__age\n",
    "    @age.setter\n",
    "    def age(self,new):\n",
    "        self.__age=int(new)\n",
    "        \n",
    "        \n",
    "bob=Person(\"Bob\",20)\n",
    "bob.printall()\n",
    "class Employee(Person):\n",
    "    def __init__(self,p_name,p_age,p_job,p_salary):\n",
    "        super().__init__(p_name,p_age)\n",
    "        self.job=p_job\n",
    "        self.salary=p_salary\n",
    "    def work(self,what,how_long):\n",
    "        print(f\"I'm doing {what} for {how_long} time\")\n",
    "    def printall(self):\n",
    "        print(f\"I'm employee on position {self.job}, my name is {self.name}, age {self.age} and my salary is {self.salary} \\N{euro sign}\")\n",
    "peter=Employee('Peter',40,'maintainer', 30_000)\n",
    "print(dir(peter))\n",
    "peter.printall()\n",
    "peter.work('cleaning windows in first floor of our school','3 hours')\n",
    "print(dir(peter))"
   ]
  },
  {
   "cell_type": "code",
   "execution_count": 120,
   "id": "953a07ec-2b00-48fa-87d0-0541b0ee6ffe",
   "metadata": {},
   "outputs": [
    {
     "name": "stdout",
     "output_type": "stream",
     "text": [
      "Name : Bob, age : 20\n",
      "['_Employee__job', '_Employee__salary', '_Person__age', '_Person__name', '__class__', '__delattr__', '__dict__', '__dir__', '__doc__', '__eq__', '__format__', '__ge__', '__getattribute__', '__getstate__', '__gt__', '__hash__', '__init__', '__init_subclass__', '__le__', '__lt__', '__module__', '__ne__', '__new__', '__reduce__', '__reduce_ex__', '__repr__', '__setattr__', '__sizeof__', '__str__', '__subclasshook__', '__weakref__', 'age', 'name', 'printall', 'work']\n",
      "I'm employee on position maintainer, my name is Peter, age 40 and my salary is 30000 €\n",
      "I'm doing cleaning windows in first floor of our school for 3 hours time\n",
      "['_Employee__job', '_Employee__salary', '_Person__age', '_Person__name', '__class__', '__delattr__', '__dict__', '__dir__', '__doc__', '__eq__', '__format__', '__ge__', '__getattribute__', '__getstate__', '__gt__', '__hash__', '__init__', '__init_subclass__', '__le__', '__lt__', '__module__', '__ne__', '__new__', '__reduce__', '__reduce_ex__', '__repr__', '__setattr__', '__sizeof__', '__str__', '__subclasshook__', '__weakref__', 'age', 'name', 'printall', 'work']\n"
     ]
    }
   ],
   "source": [
    "#encapsulation, inheratance, polymorphism\n",
    "#inheritance\n",
    "class Person: #not needed, its automatic class Person:\n",
    "    def __init__(self,p_name,p_age):\n",
    "        self.name=p_name\n",
    "        self.age=p_age\n",
    "    def printall(self):\n",
    "        print (f\"Name : {self.__name}, age : {self.__age}\")\n",
    "    @property\n",
    "    def name(self):\n",
    "        return self.__name\n",
    "    @name.setter\n",
    "    def name(self,new):\n",
    "        self.__name=new.capitalize()\n",
    "    @property\n",
    "    def age(self):\n",
    "        return self.__age\n",
    "    @age.setter\n",
    "    def age(self,new):\n",
    "        self.__age=int(new)\n",
    "        \n",
    "        \n",
    "bob=Person(\"Bob\",20)\n",
    "bob.printall()\n",
    "class Employee(Person):\n",
    "    def __init__(self,p_name,p_age,p_job,p_salary):\n",
    "        super().__init__(p_name,p_age)\n",
    "        self.__job=p_job\n",
    "        self.__salary=p_salary\n",
    "    def work(self,what,how_long):\n",
    "        print(f\"I'm doing {what} for {how_long} time\")\n",
    "    def printall(self):\n",
    "        print(f\"I'm employee on position {self.__job}, my name is {self.name}, age {self.age} and my salary is {self.__salary} \\N{euro sign}\")\n",
    "peter=Employee('Peter',40,'maintainer', 30_000)\n",
    "print(dir(peter))\n",
    "peter.printall()\n",
    "peter.work('cleaning windows in first floor of our school','3 hours')\n",
    "print(dir(peter))"
   ]
  },
  {
   "cell_type": "code",
   "execution_count": 122,
   "id": "ee874714-bcb8-4df6-8459-04b75d4f7d02",
   "metadata": {},
   "outputs": [
    {
     "name": "stdout",
     "output_type": "stream",
     "text": [
      "Name : Bob, age : 20\n",
      "['_Employee__job', '_Employee__salary', '_Person__age', '_Person__name', '__class__', '__delattr__', '__dict__', '__dir__', '__doc__', '__eq__', '__format__', '__ge__', '__getattribute__', '__getstate__', '__gt__', '__hash__', '__init__', '__init_subclass__', '__le__', '__lt__', '__module__', '__ne__', '__new__', '__reduce__', '__reduce_ex__', '__repr__', '__setattr__', '__sizeof__', '__str__', '__subclasshook__', '__weakref__', 'age', 'job', 'name', 'printall', 'salary', 'work']\n",
      "I'm employee on position maintainer, my name is Peter, age 40 and my salary is 30000 €\n",
      "I'm doing cleaning windows in first floor of our school for 3 hours time\n",
      "['_Employee__job', '_Employee__salary', '_Person__age', '_Person__name', '__class__', '__delattr__', '__dict__', '__dir__', '__doc__', '__eq__', '__format__', '__ge__', '__getattribute__', '__getstate__', '__gt__', '__hash__', '__init__', '__init_subclass__', '__le__', '__lt__', '__module__', '__ne__', '__new__', '__reduce__', '__reduce_ex__', '__repr__', '__setattr__', '__sizeof__', '__str__', '__subclasshook__', '__weakref__', 'age', 'job', 'name', 'printall', 'salary', 'work']\n"
     ]
    }
   ],
   "source": [
    "#encapsulation, inheratance, polymorphism\n",
    "#inheritance\n",
    "class Person: #not needed, its automatic class Person:\n",
    "    def __init__(self,p_name,p_age):\n",
    "        self.name=p_name\n",
    "        self.age=p_age\n",
    "    def printall(self):\n",
    "        print (f\"Name : {self.__name}, age : {self.__age}\")\n",
    "    @property\n",
    "    def name(self):\n",
    "        return self.__name\n",
    "    @name.setter\n",
    "    def name(self,new):\n",
    "        self.__name=new.capitalize()\n",
    "    @property\n",
    "    def age(self):\n",
    "        return self.__age\n",
    "    @age.setter\n",
    "    def age(self,new):\n",
    "        self.__age=int(new)\n",
    "        \n",
    "        \n",
    "bob=Person(\"Bob\",20)\n",
    "bob.printall()\n",
    "\n",
    "class Employee(Person):\n",
    "    def __init__(self,p_name,p_age,p_job,p_salary):\n",
    "        super().__init__(p_name,p_age)\n",
    "        self.job=p_job\n",
    "        self.salary=p_salary\n",
    "    @property\n",
    "    def job(self):\n",
    "        return self.__job\n",
    "    @job.setter\n",
    "    def job(self,new):\n",
    "        self.__job=new\n",
    "    @property\n",
    "    def salary(self):\n",
    "        return self.__salary\n",
    "    @salary.setter\n",
    "    def salary(self,new):\n",
    "        self.__salary=new\n",
    "        \n",
    "    def work(self,what,how_long):\n",
    "        print(f\"I'm doing {what} for {how_long} time\")\n",
    "    def printall(self):\n",
    "        print(f\"I'm employee on position {self.job}, my name is {self.name}, age {self.age} and my salary is {self.salary} \\N{euro sign}\")\n",
    "peter=Employee('Peter',40,'maintainer', 30_000)\n",
    "print(dir(peter))\n",
    "peter.printall()\n",
    "peter.work('cleaning windows in first floor of our school','3 hours')\n",
    "print(dir(peter))"
   ]
  },
  {
   "cell_type": "code",
   "execution_count": 122,
   "id": "a04ded12-eee9-4393-9375-c83d053696c5",
   "metadata": {},
   "outputs": [
    {
     "name": "stdout",
     "output_type": "stream",
     "text": [
      "Name : Bob, age : 20\n",
      "['_Employee__job', '_Employee__salary', '_Person__age', '_Person__name', '__class__', '__delattr__', '__dict__', '__dir__', '__doc__', '__eq__', '__format__', '__ge__', '__getattribute__', '__getstate__', '__gt__', '__hash__', '__init__', '__init_subclass__', '__le__', '__lt__', '__module__', '__ne__', '__new__', '__reduce__', '__reduce_ex__', '__repr__', '__setattr__', '__sizeof__', '__str__', '__subclasshook__', '__weakref__', 'age', 'job', 'name', 'printall', 'salary', 'work']\n",
      "I'm employee on position maintainer, my name is Peter, age 40 and my salary is 30000 €\n",
      "I'm doing cleaning windows in first floor of our school for 3 hours time\n",
      "['_Employee__job', '_Employee__salary', '_Person__age', '_Person__name', '__class__', '__delattr__', '__dict__', '__dir__', '__doc__', '__eq__', '__format__', '__ge__', '__getattribute__', '__getstate__', '__gt__', '__hash__', '__init__', '__init_subclass__', '__le__', '__lt__', '__module__', '__ne__', '__new__', '__reduce__', '__reduce_ex__', '__repr__', '__setattr__', '__sizeof__', '__str__', '__subclasshook__', '__weakref__', 'age', 'job', 'name', 'printall', 'salary', 'work']\n"
     ]
    }
   ],
   "source": [
    "#encapsulation, inheratance, polymorphism\n",
    "#inheritance\n",
    "class Person: #not needed, its automatic class Person:\n",
    "    def __init__(self,p_name,p_age):\n",
    "        self.name=p_name\n",
    "        self.age=p_age\n",
    "    def printall(self):\n",
    "        print (f\"Name : {self.__name}, age : {self.__age}\")\n",
    "    @property\n",
    "    def name(self):\n",
    "        return self.__name\n",
    "    @name.setter\n",
    "    def name(self,new):\n",
    "        self.__name=new.capitalize()\n",
    "    @property\n",
    "    def age(self):\n",
    "        return self.__age\n",
    "    @age.setter\n",
    "    def age(self,new):\n",
    "        self.__age=int(new)\n",
    "        \n",
    "        \n",
    "bob=Person(\"Bob\",20)\n",
    "bob.printall()\n",
    "\n",
    "class Employee(Person):\n",
    "    def __init__(self,p_name,p_age,p_job,p_salary):\n",
    "        super().__init__(p_name,p_age)\n",
    "        self.job=p_job\n",
    "        self.salary=p_salary\n",
    "    @property\n",
    "    def job(self):\n",
    "        return self.__job\n",
    "    @job.setter\n",
    "    def job(self,new):\n",
    "        self.__job=new\n",
    "    @property\n",
    "    def salary(self):\n",
    "        return self.__salary\n",
    "    @salary.setter\n",
    "    def salary(self,new):\n",
    "        self.__salary=new\n",
    "        \n",
    "    def work(self,what,how_long):\n",
    "        print(f\"I'm doing {what} for {how_long} time\")\n",
    "    def printall(self):\n",
    "        print(f\"I'm employee on position {self.job}, my name is {self.name}, age {self.age} and my salary is {self.salary} \\N{euro sign}\")\n",
    "peter=Employee('Peter',40,'maintainer', 30_000)\n",
    "print(dir(peter))\n",
    "peter.printall()\n",
    "peter.work('cleaning windows in first floor of our school','3 hours')\n",
    "print(dir(peter))"
   ]
  },
  {
   "cell_type": "code",
   "execution_count": 131,
   "id": "0c37c60d-df3f-4bd9-a974-4992ed01b35d",
   "metadata": {},
   "outputs": [
    {
     "name": "stdout",
     "output_type": "stream",
     "text": [
      "123\n",
      "67\n"
     ]
    }
   ],
   "source": [
    "class A:\n",
    "    def __init__(self,p):\n",
    "        self.age=p\n",
    "    def print(self):\n",
    "        print(self.age)\n",
    "a=A(123)\n",
    "a.print()\n",
    "class B(A):\n",
    "    def __init__(self,p,k):\n",
    "        super().__init__(p)\n",
    "        self.age=k\n",
    "b=B(45,67)\n",
    "b.print() #should print 45 but prints 67, due to conflict with attribute name age in parent class and subclass"
   ]
  },
  {
   "cell_type": "code",
   "execution_count": 129,
   "id": "5db967d0-023f-49a5-9c5f-5298a9950469",
   "metadata": {},
   "outputs": [
    {
     "name": "stdout",
     "output_type": "stream",
     "text": [
      "123\n",
      "45\n",
      "['_A__age', '_B__age', '__class__', '__delattr__', '__dict__', '__dir__', '__doc__', '__eq__', '__format__', '__ge__', '__getattribute__', '__getstate__', '__gt__', '__hash__', '__init__', '__init_subclass__', '__le__', '__lt__', '__module__', '__ne__', '__new__', '__reduce__', '__reduce_ex__', '__repr__', '__setattr__', '__sizeof__', '__str__', '__subclasshook__', '__weakref__', 'print']\n"
     ]
    }
   ],
   "source": [
    "class A:\n",
    "    def __init__(self,p):\n",
    "        self.__age=p\n",
    "    def print(self):\n",
    "        print(self.__age)\n",
    "a=A(123)\n",
    "a.print()\n",
    "class B(A):\n",
    "    def __init__(self,p,k):\n",
    "        super().__init__(p)\n",
    "        self.__age=k\n",
    "b=B(45,67)\n",
    "b.print()\n",
    "print(dir(b))"
   ]
  },
  {
   "cell_type": "code",
   "execution_count": 136,
   "id": "f48ae4d2-667e-4ae2-802e-c74d2dd9f634",
   "metadata": {},
   "outputs": [
    {
     "name": "stdout",
     "output_type": "stream",
     "text": [
      "Name : Bob, age : 20\n",
      "['_Employee__job', '_Employee__salary', '_Person__age', '_Person__name', '__class__', '__delattr__', '__dict__', '__dir__', '__doc__', '__eq__', '__format__', '__ge__', '__getattribute__', '__getstate__', '__gt__', '__hash__', '__init__', '__init_subclass__', '__le__', '__lt__', '__module__', '__ne__', '__new__', '__reduce__', '__reduce_ex__', '__repr__', '__setattr__', '__sizeof__', '__str__', '__subclasshook__', '__weakref__', 'age', 'job', 'name', 'printall', 'salary', 'work']\n",
      "I'm employee on position maintainer, my name is Peter, age 40 and my salary is 30000 €\n",
      "I'm doing cleaning windows in first floor of our school for 3 hours time\n",
      "I'm studying math for 1 hour\n",
      "Name : Eve, age : 13\n",
      "I'm student of elementary school\n"
     ]
    }
   ],
   "source": [
    "#encapsulation, inheratance, polymorphism\n",
    "#inheritance\n",
    "class Person: #not needed, its automatic class Person:\n",
    "    def __init__(self,p_name,p_age):\n",
    "        self.name=p_name\n",
    "        self.age=p_age\n",
    "    def printall(self):\n",
    "        print (f\"Name : {self.__name}, age : {self.__age}\")\n",
    "    @property\n",
    "    def name(self):\n",
    "        return self.__name\n",
    "    @name.setter\n",
    "    def name(self,new):\n",
    "        self.__name=new.capitalize()\n",
    "    @property\n",
    "    def age(self):\n",
    "        return self.__age\n",
    "    @age.setter\n",
    "    def age(self,new):\n",
    "        self.__age=int(new)\n",
    "        \n",
    "        \n",
    "bob=Person(\"Bob\",20)\n",
    "bob.printall()\n",
    "\n",
    "class Employee(Person):\n",
    "    def __init__(self,p_name,p_age,p_job,p_salary):\n",
    "        super().__init__(p_name,p_age)\n",
    "        self.job=p_job\n",
    "        self.salary=p_salary\n",
    "    @property\n",
    "    def job(self):\n",
    "        return self.__job\n",
    "    @job.setter\n",
    "    def job(self,new):\n",
    "        self.__job=new\n",
    "    @property\n",
    "    def salary(self):\n",
    "        return self.__salary\n",
    "    @salary.setter\n",
    "    def salary(self,new):\n",
    "        self.__salary=new       \n",
    "    def work(self,what,how_long):\n",
    "        print(f\"I'm doing {what} for {how_long} time\")\n",
    "    def printall(self):\n",
    "        print(f\"I'm employee on position {self.job}, my name is {self.name}, age {self.age} and my salary is {self.salary} \\N{euro sign}\")\n",
    "        \n",
    "class Student(Person):\n",
    "    def __init__(self,p_name,p_age,p_level):\n",
    "        super().__init__(p_name,p_age)\n",
    "        self.level=p_level\n",
    "    @property\n",
    "    def level(self):\n",
    "        return self.__level\n",
    "    @level.setter\n",
    "    def level(self,new):\n",
    "        self.__level=new\n",
    "    def study(self,subject,how_long='1 hour'):\n",
    "        print(f\"I'm studying {subject} for {how_long}\")\n",
    "    def printall(self):\n",
    "        super().printall()\n",
    "        print(f\"I'm student of {self.level}\")\n",
    "        \n",
    "\n",
    "peter=Employee('Peter',40,'maintainer', 30_000)\n",
    "print(dir(peter))\n",
    "peter.printall()\n",
    "peter.work('cleaning windows in first floor of our school','3 hours')\n",
    "#print(dir(peter))\n",
    "eve=Student('Eve',13,'elementary school')\n",
    "eve.study('math')\n",
    "eve.printall()"
   ]
  },
  {
   "cell_type": "code",
   "execution_count": 138,
   "id": "08a8b7b0-4c14-43e1-b80a-9e3cc835b2ce",
   "metadata": {},
   "outputs": [
    {
     "name": "stdout",
     "output_type": "stream",
     "text": [
      "call of a in class A\n",
      "call of b in class B\n",
      "call of c in class C\n",
      "call of x in class A\n"
     ]
    }
   ],
   "source": [
    "#multiple inheritance\n",
    "class A:\n",
    "    def a(self):\n",
    "        print('call of a in class A')\n",
    "    def x(self):\n",
    "        print('call of x in class A')\n",
    "class B(A):\n",
    "    def b(self):\n",
    "        print('call of b in class B')\n",
    "#    def x(self):\n",
    "#        print('call of x in class B')\n",
    "class C(A):\n",
    "    def c(self):\n",
    "        print('call of c in class C')\n",
    "#    def x(self):\n",
    "#        print('call of x in class C')\n",
    "class D(B,C):\n",
    "    pass\n",
    "#    def x(self):\n",
    "#        print('call of x in class C')\n",
    "    \n",
    "d=D()\n",
    "d.a()\n",
    "d.b()\n",
    "d.c()\n",
    "d.x()"
   ]
  },
  {
   "cell_type": "code",
   "execution_count": 147,
   "id": "b5c33e88-1f5b-414c-97bb-95ab19707537",
   "metadata": {},
   "outputs": [
    {
     "name": "stdout",
     "output_type": "stream",
     "text": [
      "call of a in class A\n",
      "call of b in class B\n",
      "call of c in class C\n",
      "call of x in class B\n",
      "(<class '__main__.D'>, <class '__main__.B'>, <class '__main__.C'>, <class '__main__.A'>, <class 'object'>)\n",
      "['D', 'B', 'C', 'A', 'object']\n"
     ]
    }
   ],
   "source": [
    "#multiple inheritance\n",
    "class A:\n",
    "    def a(self):\n",
    "        print('call of a in class A')\n",
    "    def x(self):\n",
    "        print('call of x in class A')\n",
    "class B(A):\n",
    "    def b(self):\n",
    "        print('call of b in class B')\n",
    "    def x(self):\n",
    "        print('call of x in class B')\n",
    "class C(A):\n",
    "    def c(self):\n",
    "        print('call of c in class C')\n",
    "    def x(self):\n",
    "        print('call of x in class C')\n",
    "class D(B,C):\n",
    "    pass\n",
    "    #def x(self):\n",
    "    #    print('call of x in class D')\n",
    "    \n",
    "d=D()\n",
    "d.a()\n",
    "d.b()\n",
    "d.c()\n",
    "d.x()\n",
    "print(D.__mro__)\n",
    "print([x.__name__ for x in D.__mro__])"
   ]
  },
  {
   "cell_type": "code",
   "execution_count": 148,
   "id": "8ad14c8f-ea88-4769-8fa3-ab8455c447cd",
   "metadata": {},
   "outputs": [
    {
     "ename": "TypeError",
     "evalue": "unsupported operand type(s) for +: 'int' and 'str'",
     "output_type": "error",
     "traceback": [
      "\u001b[1;31m---------------------------------------------------------------------------\u001b[0m",
      "\u001b[1;31mTypeError\u001b[0m                                 Traceback (most recent call last)",
      "Cell \u001b[1;32mIn[148], line 4\u001b[0m\n\u001b[0;32m      2\u001b[0m i\u001b[38;5;241m=\u001b[39m\u001b[38;5;241m123\u001b[39m\n\u001b[0;32m      3\u001b[0m s\u001b[38;5;241m=\u001b[39m\u001b[38;5;124m'\u001b[39m\u001b[38;5;124m10\u001b[39m\u001b[38;5;124m'\u001b[39m\n\u001b[1;32m----> 4\u001b[0m \u001b[38;5;28mprint\u001b[39m(i\u001b[38;5;241m+\u001b[39ms)\n",
      "\u001b[1;31mTypeError\u001b[0m: unsupported operand type(s) for +: 'int' and 'str'"
     ]
    }
   ],
   "source": [
    "#inheritance from builtin types\n",
    "i=123\n",
    "s='10'\n",
    "print(i+s)"
   ]
  },
  {
   "cell_type": "code",
   "execution_count": 155,
   "id": "1d02d226-e231-4bca-a507-9ca34a9cabee",
   "metadata": {},
   "outputs": [
    {
     "name": "stdout",
     "output_type": "stream",
     "text": [
      "133\n",
      "157\n",
      "122 <class '__main__.MyInt'>\n"
     ]
    },
    {
     "ename": "TypeError",
     "evalue": "unsupported operand type(s) for +: 'int' and 'list'",
     "output_type": "error",
     "traceback": [
      "\u001b[1;31m---------------------------------------------------------------------------\u001b[0m",
      "\u001b[1;31mTypeError\u001b[0m                                 Traceback (most recent call last)",
      "Cell \u001b[1;32mIn[155], line 15\u001b[0m\n\u001b[0;32m     13\u001b[0m \u001b[38;5;28mprint\u001b[39m(x,\u001b[38;5;28mtype\u001b[39m(x))\n\u001b[0;32m     14\u001b[0m \u001b[38;5;66;03m#print(66+[5,6,7])\u001b[39;00m\n\u001b[1;32m---> 15\u001b[0m \u001b[38;5;28mprint\u001b[39m(MyInt(\u001b[38;5;241m66\u001b[39m)\u001b[38;5;241m+\u001b[39m[\u001b[38;5;241m5\u001b[39m,\u001b[38;5;241m6\u001b[39m,\u001b[38;5;241m7\u001b[39m])\n",
      "Cell \u001b[1;32mIn[155], line 7\u001b[0m, in \u001b[0;36mMyInt.__add__\u001b[1;34m(self, other)\u001b[0m\n\u001b[0;32m      5\u001b[0m \u001b[38;5;28;01mif\u001b[39;00m \u001b[38;5;28mtype\u001b[39m(other) \u001b[38;5;129;01mis\u001b[39;00m MyInt:\n\u001b[0;32m      6\u001b[0m     \u001b[38;5;28;01mreturn\u001b[39;00m MyInt(\u001b[38;5;28mint\u001b[39m(\u001b[38;5;28mself\u001b[39m) \u001b[38;5;241m+\u001b[39m \u001b[38;5;28mint\u001b[39m(other))\n\u001b[1;32m----> 7\u001b[0m \u001b[38;5;28;01mreturn\u001b[39;00m \u001b[38;5;28mint\u001b[39m(\u001b[38;5;28mself\u001b[39m)\u001b[38;5;241m+\u001b[39mother\n",
      "\u001b[1;31mTypeError\u001b[0m: unsupported operand type(s) for +: 'int' and 'list'"
     ]
    }
   ],
   "source": [
    "class MyInt(int):\n",
    "    def __add__(self,other): #self is left operand, other is right operand of plus(+)\n",
    "        if type(other) is str:\n",
    "            return int(self) + int(other)\n",
    "        if type(other) is MyInt:\n",
    "            return MyInt(int(self) + int(other))\n",
    "        return int(self)+other\n",
    "i=MyInt(123)\n",
    "s='10'\n",
    "print(i+s)\n",
    "print(MyInt(90)+67)\n",
    "x=MyInt(34)+MyInt(88)\n",
    "print(x,type(x))\n",
    "#print(66+[5,6,7])\n",
    "print(MyInt(66)+[5,6,7])"
   ]
  },
  {
   "cell_type": "code",
   "execution_count": 160,
   "id": "f556d1b0-e027-4b60-b7b7-736fc5c68905",
   "metadata": {},
   "outputs": [
    {
     "name": "stdout",
     "output_type": "stream",
     "text": [
      "4\n",
      "5\n",
      "7\n",
      "2\n",
      "\n",
      "g\n",
      "o\n",
      "p\n",
      "a\n",
      "s\n",
      "\n"
     ]
    },
    {
     "ename": "TypeError",
     "evalue": "'int' object is not iterable",
     "output_type": "error",
     "traceback": [
      "\u001b[1;31m---------------------------------------------------------------------------\u001b[0m",
      "\u001b[1;31mTypeError\u001b[0m                                 Traceback (most recent call last)",
      "Cell \u001b[1;32mIn[160], line 7\u001b[0m\n\u001b[0;32m      5\u001b[0m     \u001b[38;5;28mprint\u001b[39m(character)\n\u001b[0;32m      6\u001b[0m \u001b[38;5;28mprint\u001b[39m()\n\u001b[1;32m----> 7\u001b[0m \u001b[38;5;28;01mfor\u001b[39;00m number \u001b[38;5;129;01min\u001b[39;00m \u001b[38;5;241m123\u001b[39m:\n\u001b[0;32m      8\u001b[0m     \u001b[38;5;28mprint\u001b[39m(number)\n",
      "\u001b[1;31mTypeError\u001b[0m: 'int' object is not iterable"
     ]
    }
   ],
   "source": [
    "for number in [4,5,7,2]: #list is iterable\n",
    "    print(number)\n",
    "print()\n",
    "for character in 'gopas': #str is also iterable\n",
    "    print(character)\n",
    "print()\n",
    "for number in 123:\n",
    "    print(number)"
   ]
  },
  {
   "cell_type": "code",
   "execution_count": 164,
   "id": "2ec4cabd-4899-4508-9018-9d1ecd754588",
   "metadata": {},
   "outputs": [
    {
     "name": "stdout",
     "output_type": "stream",
     "text": [
      "['__add__', '__class__', '__class_getitem__', '__contains__', '__delattr__', '__delitem__', '__dir__', '__doc__', '__eq__', '__format__', '__ge__', '__getattribute__', '__getitem__', '__getstate__', '__gt__', '__hash__', '__iadd__', '__imul__', '__init__', '__init_subclass__', '__iter__', '__le__', '__len__', '__lt__', '__mul__', '__ne__', '__new__', '__reduce__', '__reduce_ex__', '__repr__', '__reversed__', '__rmul__', '__setattr__', '__setitem__', '__sizeof__', '__str__', '__subclasshook__', 'append', 'clear', 'copy', 'count', 'extend', 'index', 'insert', 'pop', 'remove', 'reverse', 'sort']\n",
      "['__abs__', '__add__', '__and__', '__bool__', '__ceil__', '__class__', '__delattr__', '__dir__', '__divmod__', '__doc__', '__eq__', '__float__', '__floor__', '__floordiv__', '__format__', '__ge__', '__getattribute__', '__getnewargs__', '__getstate__', '__gt__', '__hash__', '__index__', '__init__', '__init_subclass__', '__int__', '__invert__', '__le__', '__lshift__', '__lt__', '__mod__', '__mul__', '__ne__', '__neg__', '__new__', '__or__', '__pos__', '__pow__', '__radd__', '__rand__', '__rdivmod__', '__reduce__', '__reduce_ex__', '__repr__', '__rfloordiv__', '__rlshift__', '__rmod__', '__rmul__', '__ror__', '__round__', '__rpow__', '__rrshift__', '__rshift__', '__rsub__', '__rtruediv__', '__rxor__', '__setattr__', '__sizeof__', '__str__', '__sub__', '__subclasshook__', '__truediv__', '__trunc__', '__xor__', 'as_integer_ratio', 'bit_count', 'bit_length', 'conjugate', 'denominator', 'from_bytes', 'imag', 'numerator', 'real', 'to_bytes']\n"
     ]
    }
   ],
   "source": [
    "print(dir(list))\n",
    "print(dir(int))\n",
    "#print(abs([-123]))"
   ]
  },
  {
   "cell_type": "code",
   "execution_count": 168,
   "id": "a342fc02-47fc-4e00-a6ec-86b43dbe78a3",
   "metadata": {},
   "outputs": [
    {
     "name": "stdout",
     "output_type": "stream",
     "text": [
      "<list_iterator object at 0x000002216B183310> <class 'list_iterator'>\n",
      "4\n",
      "5\n",
      "7\n",
      "2\n"
     ]
    },
    {
     "ename": "StopIteration",
     "evalue": "",
     "output_type": "error",
     "traceback": [
      "\u001b[1;31m---------------------------------------------------------------------------\u001b[0m",
      "\u001b[1;31mStopIteration\u001b[0m                             Traceback (most recent call last)",
      "Cell \u001b[1;32mIn[168], line 8\u001b[0m\n\u001b[0;32m      6\u001b[0m \u001b[38;5;28mprint\u001b[39m(\u001b[38;5;28mnext\u001b[39m(i))\n\u001b[0;32m      7\u001b[0m \u001b[38;5;28mprint\u001b[39m(\u001b[38;5;28mnext\u001b[39m(i))\n\u001b[1;32m----> 8\u001b[0m \u001b[38;5;28mprint\u001b[39m(\u001b[38;5;28mnext\u001b[39m(i))\n",
      "\u001b[1;31mStopIteration\u001b[0m: "
     ]
    }
   ],
   "source": [
    "L=[4,5,7,2]\n",
    "i=iter(L)\n",
    "print(i, type(i))\n",
    "print(next(i))\n",
    "print(next(i))\n",
    "print(next(i))\n",
    "print(next(i))\n",
    "print(next(i))\n"
   ]
  },
  {
   "cell_type": "code",
   "execution_count": 169,
   "id": "6e170b01-276e-48cb-8e57-899ecd23c8e8",
   "metadata": {},
   "outputs": [
    {
     "name": "stdout",
     "output_type": "stream",
     "text": [
      "4\n",
      "5\n",
      "7\n",
      "2\n"
     ]
    }
   ],
   "source": [
    "L=[4,5,7,2]\n",
    "for x in L:\n",
    "    print(x)"
   ]
  },
  {
   "cell_type": "code",
   "execution_count": 171,
   "id": "d8b4a716-e263-44d7-bf8f-6cd6f181ac21",
   "metadata": {},
   "outputs": [
    {
     "name": "stdout",
     "output_type": "stream",
     "text": [
      "4\n",
      "5\n",
      "7\n",
      "2\n"
     ]
    }
   ],
   "source": [
    "L=[4,5,7,2]\n",
    "________i=iter(L)\n",
    "while True:\n",
    "    try:\n",
    "        x=next(________i)\n",
    "    except StopIteration:\n",
    "        break\n",
    "    #code from block of for loop\n",
    "    print(x)"
   ]
  },
  {
   "cell_type": "code",
   "execution_count": 174,
   "id": "0c94fe00-6f51-4067-895a-b0d7f223d826",
   "metadata": {},
   "outputs": [
    {
     "name": "stdout",
     "output_type": "stream",
     "text": [
      "<str_ascii_iterator object at 0x000002216B180BB0> <class 'str_ascii_iterator'>\n",
      "B\n",
      "r\n",
      "n\n",
      "o\n"
     ]
    },
    {
     "ename": "StopIteration",
     "evalue": "",
     "output_type": "error",
     "traceback": [
      "\u001b[1;31m---------------------------------------------------------------------------\u001b[0m",
      "\u001b[1;31mStopIteration\u001b[0m                             Traceback (most recent call last)",
      "Cell \u001b[1;32mIn[174], line 8\u001b[0m\n\u001b[0;32m      6\u001b[0m \u001b[38;5;28mprint\u001b[39m(\u001b[38;5;28mnext\u001b[39m(i))\n\u001b[0;32m      7\u001b[0m \u001b[38;5;28mprint\u001b[39m(\u001b[38;5;28mnext\u001b[39m(i))\n\u001b[1;32m----> 8\u001b[0m \u001b[38;5;28mprint\u001b[39m(\u001b[38;5;28mnext\u001b[39m(i))\n",
      "\u001b[1;31mStopIteration\u001b[0m: "
     ]
    }
   ],
   "source": [
    "s='Brno'\n",
    "i=iter(s)\n",
    "print(i,type(i))\n",
    "print(next(i))\n",
    "print(next(i))\n",
    "print(next(i))\n",
    "print(next(i))\n",
    "print(next(i))\n"
   ]
  },
  {
   "cell_type": "code",
   "execution_count": 176,
   "id": "ab9aacd6-1cd4-4a4e-9fbd-9c9d72f76cca",
   "metadata": {},
   "outputs": [
    {
     "name": "stdout",
     "output_type": "stream",
     "text": [
      "1\n",
      "2\n",
      "67\n",
      "4\n",
      "9\n"
     ]
    },
    {
     "ename": "TypeError",
     "evalue": "'set' object is not subscriptable",
     "output_type": "error",
     "traceback": [
      "\u001b[1;31m---------------------------------------------------------------------------\u001b[0m",
      "\u001b[1;31mTypeError\u001b[0m                                 Traceback (most recent call last)",
      "Cell \u001b[1;32mIn[176], line 4\u001b[0m\n\u001b[0;32m      2\u001b[0m \u001b[38;5;28;01mfor\u001b[39;00m x \u001b[38;5;129;01min\u001b[39;00m s:\n\u001b[0;32m      3\u001b[0m     \u001b[38;5;28mprint\u001b[39m(x)\n\u001b[1;32m----> 4\u001b[0m \u001b[38;5;28mprint\u001b[39m(s[\u001b[38;5;241m0\u001b[39m])\n",
      "\u001b[1;31mTypeError\u001b[0m: 'set' object is not subscriptable"
     ]
    }
   ],
   "source": [
    "s={1,4,67,9,1,2}\n",
    "for x in s:\n",
    "    print(x)\n",
    "print(s[0])"
   ]
  },
  {
   "cell_type": "code",
   "execution_count": 181,
   "id": "21ceddc0-2e4e-48e2-9c27-711bdcec1c37",
   "metadata": {},
   "outputs": [
    {
     "name": "stdout",
     "output_type": "stream",
     "text": [
      "0 1 2 3 4 "
     ]
    }
   ],
   "source": [
    "class firstn:\n",
    "    def __init__(self, n):\n",
    "        self.n = n\n",
    "    def __iter__(self):\n",
    "        self.num = 0\n",
    "        return self\n",
    "    def __next__(self):\n",
    "        if self.num < self.n:\n",
    "            cur, self.num = self.num, self.num+1\n",
    "            return cur\n",
    "        raise StopIteration()\n",
    "        \n",
    "for x in firstn(5):\n",
    "    print(x,end=' ')\n",
    "#sum_of_first_n = sum(firstn(100))"
   ]
  },
  {
   "cell_type": "code",
   "execution_count": 180,
   "id": "9614fb20-2b1c-4633-a419-b0f78b459f28",
   "metadata": {},
   "outputs": [
    {
     "name": "stdout",
     "output_type": "stream",
     "text": [
      "{'CZ': <__main__.Country object at 0x000002216B2D21D0>, 'SK': <__main__.Country object at 0x000002216AC72DD0>, 'AT': <__main__.Country object at 0x000002216B2EC2D0>, 'DE': <__main__.Country object at 0x000002216B2EC990>}\n",
      "AT: Linz, Graz\n",
      "CZ: Hradec Kralove, Ceske Budejovice, Ostrava, Brno, Praha\n",
      "DE: Berlin\n",
      "SK: Zilina, Kosice, Bratislava\n"
     ]
    }
   ],
   "source": [
    "class City:\n",
    "    def __init__(self,city_name,population):\n",
    "        self.name=city_name\n",
    "        self.pop=int(population)\n",
    "    def __lt__(self,other):\n",
    "        return self.pop<other.pop\n",
    "    def __str__(self):\n",
    "        return self.name\n",
    "\n",
    "class Country:\n",
    "    def __init__(self,c_code):\n",
    "        self.code=c_code\n",
    "        self.country_cities=[]\n",
    "    def append(self,city):\n",
    "        self.country_cities.append(city)\n",
    "    #def get_cities(self):\n",
    "    #    return self.country_cities\n",
    "    #support for iteration , implement iterable, use it in for loops\n",
    "    def __iter__(self): #instance method, self is ID of object on which was call made\n",
    "        self.__position=0\n",
    "        return self\n",
    "    def __next__(self):\n",
    "        if self.__position<len(self.country_cities):\n",
    "            current,self.__position=self.__position,self.__position+1\n",
    "            return self.country_cities[current]\n",
    "        raise StopIteration\n",
    "        \n",
    "file = open(r'c:\\users\\student\\documents\\cities1.txt','rt') #open file with data in READ TEXT mode\n",
    "cities=dict()\n",
    "for line in file:\n",
    "    code,city,population=line.strip().split(',')\n",
    "    if code not in cities:\n",
    "        cities[code]=Country(code)\n",
    "    cities[code].append(City(city,population))\n",
    "print(cities)\n",
    "for country in sorted(cities): #iterate over sorted list of keys = country codes\n",
    "    #print(country,': ',', '.join(map(lambda x:x[0],sorted(cities[country],key=lambda x:x[1]))), sep='')\n",
    "    print(country,\": \", ', '.join( [str(x) for x in sorted(cities[country]     )] ), sep='')"
   ]
  },
  {
   "cell_type": "code",
   "execution_count": 237,
   "id": "e889152f-21c7-4374-b4b1-905854dcf833",
   "metadata": {},
   "outputs": [
    {
     "name": "stdout",
     "output_type": "stream",
     "text": [
      "{'CZ': <__main__.Country object at 0x000002216AEC11D0>, 'SK': <__main__.Country object at 0x000002216B283E50>, 'AT': <__main__.Country object at 0x000002216B2EF990>, 'DE': <__main__.Country object at 0x000002216B2EC350>}\n",
      "AT: Linz, Graz\n",
      "CZ: Hradec Kralove, Ceske Budejovice, Ostrava, Brno, Praha\n",
      "DE: Berlin\n",
      "SK: Zilina, Kosice, Bratislava\n",
      "Brno, Praha, Ceske Budejovice, Ostrava, Hradec Kralove\n",
      "Brno\n"
     ]
    }
   ],
   "source": [
    "class City:\n",
    "    def __init__(self,city_name,population):\n",
    "        self.name=city_name\n",
    "        self.pop=int(population)\n",
    "    def __lt__(self,other):\n",
    "        return self.pop<other.pop\n",
    "    def __str__(self):\n",
    "        return self.name\n",
    "\n",
    "class Country:\n",
    "    def __init__(self,c_code):\n",
    "        self.code=c_code\n",
    "        self.country_cities=[]\n",
    "    def append(self,city):\n",
    "        self.country_cities.append(city)\n",
    "    #def get_cities(self):\n",
    "    #    return self.country_cities\n",
    "    #support for iteration , implement iterable, use it in for loops\n",
    "    def __iter__(self): #instance method, self is ID of object on which was call made\n",
    "        return iter(self.country_cities)\n",
    "    def __getitem__(self,key):\n",
    "        return self.country_cities[key]\n",
    "        \n",
    "file = open(r'c:\\users\\student\\documents\\cities1.txt','rt') #open file with data in READ TEXT mode\n",
    "cities=dict()\n",
    "for line in file:\n",
    "    code,city,population=line.strip().split(',')\n",
    "    if code not in cities:\n",
    "        cities[code]=Country(code)\n",
    "    cities[code].append(City(city,population))\n",
    "print(cities)\n",
    "for country in sorted(cities): #iterate over sorted list of keys = country codes\n",
    "    #print(country,': ',', '.join(map(lambda x:x[0],sorted(cities[country],key=lambda x:x[1]))), sep='')\n",
    "    print(country,\": \", ', '.join( [str(x) for x in sorted(cities[country])] ), sep='')\n",
    "print(*cities['CZ'],sep=', ')\n",
    "print(cities['CZ'][0])"
   ]
  },
  {
   "cell_type": "code",
   "execution_count": 190,
   "id": "20c70007-66e7-418f-8102-dac6dca0ae22",
   "metadata": {},
   "outputs": [
    {
     "name": "stdout",
     "output_type": "stream",
     "text": [
      "['Person_ID', '__class__', '__delattr__', '__dict__', '__dir__', '__doc__', '__eq__', '__format__', '__ge__', '__getattribute__', '__getstate__', '__gt__', '__hash__', '__init__', '__init_subclass__', '__le__', '__lt__', '__module__', '__ne__', '__new__', '__reduce__', '__reduce_ex__', '__repr__', '__setattr__', '__sizeof__', '__str__', '__subclasshook__', '__weakref__']\n",
      "{'__module__': '__main__', '__doc__': 'some simple unuseful class', 'Person_ID': 1, '__dict__': <attribute '__dict__' of 'X' objects>, '__weakref__': <attribute '__weakref__' of 'X' objects>}\n",
      "<class '__main__.X'> <class 'type'>\n"
     ]
    }
   ],
   "source": [
    "class X:\n",
    "    'some simple unuseful class'\n",
    "    Person_ID=1 #class variable, not instance, instance variables are created by __init__ by call of class\n",
    "    pass\n",
    "print(dir(X))\n",
    "print(X.__dict__)\n",
    "print(X,type(X))"
   ]
  },
  {
   "cell_type": "code",
   "execution_count": 194,
   "id": "9c4cf0ef-baae-46d6-b463-34dcc7ffc08b",
   "metadata": {},
   "outputs": [
    {
     "name": "stdout",
     "output_type": "stream",
     "text": [
      "<class '__main__.Y'> <class 'type'>\n",
      "<class 'type'> <class 'type'>\n"
     ]
    }
   ],
   "source": [
    "Y=type('Y',(),{'Person_ID':1})\n",
    "print(Y,type(Y))\n",
    "print(type(type), type(type(type(type(type)))))\n",
    "#type is metaclass, some default metaclass in Python\n",
    "#so why we talk about that?\n",
    "#we can creta (new/own/customized) metaclass\n",
    "#how? simply, inherit from class type"
   ]
  },
  {
   "cell_type": "code",
   "execution_count": 197,
   "id": "7f04dd04-b38e-4d1c-8003-7d421aff6ebb",
   "metadata": {},
   "outputs": [
    {
     "ename": "AssertionError",
     "evalue": "10 must be less than 100",
     "output_type": "error",
     "traceback": [
      "\u001b[1;31m---------------------------------------------------------------------------\u001b[0m",
      "\u001b[1;31mAssertionError\u001b[0m                            Traceback (most recent call last)",
      "Cell \u001b[1;32mIn[197], line 2\u001b[0m\n\u001b[0;32m      1\u001b[0m \u001b[38;5;28;01mif\u001b[39;00m \u001b[38;5;129;01mnot\u001b[39;00m \u001b[38;5;241m1000\u001b[39m\u001b[38;5;241m<\u001b[39m\u001b[38;5;241m100\u001b[39m:\n\u001b[1;32m----> 2\u001b[0m     \u001b[38;5;28;01mraise\u001b[39;00m \u001b[38;5;167;01mAssertionError\u001b[39;00m(\u001b[38;5;124m'\u001b[39m\u001b[38;5;124m10 must be less than 100\u001b[39m\u001b[38;5;124m'\u001b[39m)\n",
      "\u001b[1;31mAssertionError\u001b[0m: 10 must be less than 100"
     ]
    }
   ],
   "source": [
    "if not 1000<100:\n",
    "    raise AssertionError('10 must be less than 100')"
   ]
  },
  {
   "cell_type": "code",
   "execution_count": 198,
   "id": "9d98f38d-2c1f-4f3f-96b2-c7afb52dc044",
   "metadata": {},
   "outputs": [
    {
     "ename": "AssertionError",
     "evalue": "10 must be less than 100",
     "output_type": "error",
     "traceback": [
      "\u001b[1;31m---------------------------------------------------------------------------\u001b[0m",
      "\u001b[1;31mAssertionError\u001b[0m                            Traceback (most recent call last)",
      "Cell \u001b[1;32mIn[198], line 1\u001b[0m\n\u001b[1;32m----> 1\u001b[0m \u001b[38;5;28;01massert\u001b[39;00m \u001b[38;5;241m1000\u001b[39m\u001b[38;5;241m<\u001b[39m\u001b[38;5;241m100\u001b[39m,\u001b[38;5;124m'\u001b[39m\u001b[38;5;124m10 must be less than 100\u001b[39m\u001b[38;5;124m'\u001b[39m\n",
      "\u001b[1;31mAssertionError\u001b[0m: 10 must be less than 100"
     ]
    }
   ],
   "source": [
    "assert 1000<100,'10 must be less than 100'"
   ]
  },
  {
   "cell_type": "code",
   "execution_count": 201,
   "id": "68a74c67-d47d-47b7-9476-3f074c1aa9ec",
   "metadata": {},
   "outputs": [
    {
     "name": "stdout",
     "output_type": "stream",
     "text": [
      "['__abs__', '__add__', '__and__', '__bool__', '__ceil__', '__class__', '__delattr__', '__dir__', '__divmod__', '__doc__', '__eq__', '__float__', '__floor__', '__floordiv__', '__format__', '__ge__', '__getattribute__', '__getnewargs__', '__getstate__', '__gt__', '__hash__', '__index__', '__init__', '__init_subclass__', '__int__', '__invert__', '__le__', '__lshift__', '__lt__', '__mod__', '__mul__', '__ne__', '__neg__', '__new__', '__or__', '__pos__', '__pow__', '__radd__', '__rand__', '__rdivmod__', '__reduce__', '__reduce_ex__', '__repr__', '__rfloordiv__', '__rlshift__', '__rmod__', '__rmul__', '__ror__', '__round__', '__rpow__', '__rrshift__', '__rshift__', '__rsub__', '__rtruediv__', '__rxor__', '__setattr__', '__sizeof__', '__str__', '__sub__', '__subclasshook__', '__truediv__', '__trunc__', '__xor__', 'as_integer_ratio', 'bit_count', 'bit_length', 'conjugate', 'denominator', 'from_bytes', 'imag', 'numerator', 'real', 'to_bytes']\n",
      "True\n",
      "False\n"
     ]
    }
   ],
   "source": [
    "i=123\n",
    "print(dir(i))\n",
    "print(hasattr(i,'denominator'))\n",
    "print(hasattr(i,'gopas'))\n"
   ]
  },
  {
   "cell_type": "code",
   "execution_count": 205,
   "id": "d97034d5-57bd-40f6-b52e-58ccf6372fc6",
   "metadata": {},
   "outputs": [
    {
     "name": "stdout",
     "output_type": "stream",
     "text": [
      "<class '__main__.LoadableSaveable'>\n",
      "<class 'type'>\n"
     ]
    },
    {
     "ename": "AssertionError",
     "evalue": "Class BadOne must have load method",
     "output_type": "error",
     "traceback": [
      "\u001b[1;31m---------------------------------------------------------------------------\u001b[0m",
      "\u001b[1;31mAssertionError\u001b[0m                            Traceback (most recent call last)",
      "Cell \u001b[1;32mIn[205], line 16\u001b[0m\n\u001b[0;32m     14\u001b[0m \u001b[38;5;28mprint\u001b[39m(\u001b[38;5;28mtype\u001b[39m(GoodOne))\n\u001b[0;32m     15\u001b[0m \u001b[38;5;28mprint\u001b[39m(\u001b[38;5;28mtype\u001b[39m(\u001b[38;5;28mint\u001b[39m))\n\u001b[1;32m---> 16\u001b[0m \u001b[38;5;28;01mclass\u001b[39;00m \u001b[38;5;21;01mBadOne\u001b[39;00m(metaclass\u001b[38;5;241m=\u001b[39mLoadableSaveable):\n\u001b[0;32m     17\u001b[0m     \u001b[38;5;28;01mdef\u001b[39;00m \u001b[38;5;21mgopas\u001b[39m(\u001b[38;5;28mself\u001b[39m):\n\u001b[0;32m     18\u001b[0m         \u001b[38;5;28;01mpass\u001b[39;00m\n",
      "Cell \u001b[1;32mIn[205], line 4\u001b[0m, in \u001b[0;36mLoadableSaveable.__init__\u001b[1;34m(cls, name, base, dictionary, **kwds)\u001b[0m\n\u001b[0;32m      2\u001b[0m \u001b[38;5;28;01mdef\u001b[39;00m \u001b[38;5;21m__init__\u001b[39m(\u001b[38;5;28mcls\u001b[39m,name,base,dictionary,\u001b[38;5;241m*\u001b[39m\u001b[38;5;241m*\u001b[39mkwds):\n\u001b[0;32m      3\u001b[0m     \u001b[38;5;28msuper\u001b[39m()\u001b[38;5;241m.\u001b[39m\u001b[38;5;21m__init__\u001b[39m(name,base,dictionary,\u001b[38;5;241m*\u001b[39m\u001b[38;5;241m*\u001b[39mkwds)\n\u001b[1;32m----> 4\u001b[0m     \u001b[38;5;28;01massert\u001b[39;00m \u001b[38;5;28mhasattr\u001b[39m(\u001b[38;5;28mcls\u001b[39m,\u001b[38;5;124m'\u001b[39m\u001b[38;5;124mload\u001b[39m\u001b[38;5;124m'\u001b[39m) \u001b[38;5;129;01mand\u001b[39;00m \u001b[38;5;28mcallable\u001b[39m(\u001b[38;5;28mcls\u001b[39m\u001b[38;5;241m.\u001b[39mload), \u001b[38;5;124mf\u001b[39m\u001b[38;5;124m'\u001b[39m\u001b[38;5;124mClass \u001b[39m\u001b[38;5;132;01m{\u001b[39;00mname\u001b[38;5;132;01m}\u001b[39;00m\u001b[38;5;124m must have load method\u001b[39m\u001b[38;5;124m'\u001b[39m\n\u001b[0;32m      5\u001b[0m     \u001b[38;5;28;01massert\u001b[39;00m \u001b[38;5;28mhasattr\u001b[39m(\u001b[38;5;28mcls\u001b[39m,\u001b[38;5;124m'\u001b[39m\u001b[38;5;124msave\u001b[39m\u001b[38;5;124m'\u001b[39m) \u001b[38;5;129;01mand\u001b[39;00m \u001b[38;5;28mcallable\u001b[39m(\u001b[38;5;28mcls\u001b[39m\u001b[38;5;241m.\u001b[39msave), \u001b[38;5;124mf\u001b[39m\u001b[38;5;124m'\u001b[39m\u001b[38;5;124mClass \u001b[39m\u001b[38;5;132;01m{\u001b[39;00mname\u001b[38;5;132;01m}\u001b[39;00m\u001b[38;5;124m must have save method\u001b[39m\u001b[38;5;124m'\u001b[39m\n",
      "\u001b[1;31mAssertionError\u001b[0m: Class BadOne must have load method"
     ]
    }
   ],
   "source": [
    "class LoadableSaveable(type): #this is metaclass (inherits from type) and will check/comform that new class has save and load mothods\n",
    "    def __init__(cls,name,base,dictionary,**kwds):\n",
    "        super().__init__(name,base,dictionary,**kwds)\n",
    "        assert hasattr(cls,'load') and callable(cls.load), f'Class {name} must have load method'\n",
    "        assert hasattr(cls,'save') and callable(cls.save), f'Class {name} must have save method'\n",
    "\n",
    "class GoodOne(metaclass=LoadableSaveable):\n",
    "    def gopas(self):\n",
    "        pass\n",
    "    def load(self,a):\n",
    "        pass\n",
    "    def save(self):\n",
    "        ...\n",
    "print(type(GoodOne))\n",
    "print(type(int))\n",
    "class BadOne(metaclass=LoadableSaveable):\n",
    "    def gopas(self):\n",
    "        pass\n",
    "    def loadd(self,a):\n",
    "        pass\n",
    "    def save(self):\n",
    "        ...\n"
   ]
  },
  {
   "cell_type": "code",
   "execution_count": 220,
   "id": "2084a70d-fe4a-41f5-9fc8-4a9d37609ebe",
   "metadata": {},
   "outputs": [
    {
     "name": "stdout",
     "output_type": "stream",
     "text": [
      "x\n",
      "y\n",
      "<class '__main__.Brno'> <class 'abc.ABCMeta'>\n"
     ]
    }
   ],
   "source": [
    "#do we have abstract class/methods in Python?\n",
    "#NO WE DO NOT HAVE,............................. BUT !!!\n",
    "#???\n",
    "import abc\n",
    "#print(dir(abc))\n",
    "class Gopas(metaclass=abc.ABCMeta):\n",
    "    def x(self):\n",
    "        print('x')\n",
    "    @abc.abstractmethod\n",
    "    def y(self):\n",
    "        pass\n",
    "        print('y')\n",
    "        #uffff make some useful implementation\n",
    "#g=Gopas()\n",
    "class Brno(Gopas): #Brno is not abstract class\n",
    "    def y(self):\n",
    "        print('y')\n",
    "    def z(self):\n",
    "        print('z')\n",
    "b=Brno()\n",
    "b.x()\n",
    "b.y()\n",
    "print(type(b),type(Brno))"
   ]
  },
  {
   "cell_type": "code",
   "execution_count": 230,
   "id": "2366912e-b278-4ce4-ac6a-36749579df35",
   "metadata": {},
   "outputs": [
    {
     "name": "stdout",
     "output_type": "stream",
     "text": [
      "x\n",
      "<class '__main__.Person'>\n",
      "y\n",
      "<class '__main__.Person'> <class '__main__.Person'>\n",
      "y\n",
      "x\n",
      "<class '__main__.Person'> <class '__main__.Person'> <class '__main__.Person'> <class '__main__.Person'>\n",
      "2342518921344 2342518924272 2342518924272 2342518921344\n",
      "False\n",
      "True\n"
     ]
    }
   ],
   "source": [
    "class Person:\n",
    "    def x(self):\n",
    "        print('x')\n",
    "bob=Person()\n",
    "bob.x()\n",
    "print(type(bob))\n",
    "\n",
    "\n",
    "class Person:\n",
    "    def x(self):\n",
    "        print('y')\n",
    "alice=Person()\n",
    "alice.x()\n",
    "print(type(bob),type(alice))\n",
    "eve=Person()\n",
    "eve.x()\n",
    "david=type(bob)()\n",
    "david.x()\n",
    "print(type(bob),type(alice),type(eve),type(david))\n",
    "print(id(type(bob)),id(type(alice)),id(type(eve)),id(type(david)))\n",
    "print(type(bob) is type(alice))\n",
    "print(type(bob) is type(david))\n"
   ]
  }
 ],
 "metadata": {
  "kernelspec": {
   "display_name": "Python 3 (ipykernel)",
   "language": "python",
   "name": "python3"
  },
  "language_info": {
   "codemirror_mode": {
    "name": "ipython",
    "version": 3
   },
   "file_extension": ".py",
   "mimetype": "text/x-python",
   "name": "python",
   "nbconvert_exporter": "python",
   "pygments_lexer": "ipython3",
   "version": "3.11.7"
  }
 },
 "nbformat": 4,
 "nbformat_minor": 5
}
