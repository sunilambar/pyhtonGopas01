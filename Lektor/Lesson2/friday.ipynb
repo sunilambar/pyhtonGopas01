{
 "cells": [
  {
   "cell_type": "code",
   "execution_count": null,
   "id": "537be51c-b513-45de-8c3c-3529a16f7901",
   "metadata": {},
   "outputs": [],
   "source": [
    "#friday"
   ]
  },
  {
   "cell_type": "code",
   "execution_count": null,
   "id": "11d060ee-3df3-44d2-beaa-bf4fdba573d5",
   "metadata": {},
   "outputs": [],
   "source": [
    "#annotations, type hinting"
   ]
  },
  {
   "cell_type": "code",
   "execution_count": 11,
   "id": "8e2fd924-2df8-44ed-a7b9-f3e5cabdeee7",
   "metadata": {},
   "outputs": [
    {
     "name": "stdout",
     "output_type": "stream",
     "text": [
      "Adding 12 + 6\n",
      "18\n",
      "Adding 5 + 88\n",
      "93\n",
      "Adding 23 + 0\n",
      "23\n",
      "Adding hello + world\n",
      "helloworld\n",
      "{'a': <class 'int'>, 'b': <class 'int'>, 'return': <class 'int'>}\n",
      "Adding [3, 4, 67] + [5, 33]\n",
      "[3, 4, 67, 5, 33]\n",
      "Adding [3, 4, 67] + 0\n"
     ]
    },
    {
     "ename": "TypeError",
     "evalue": "can only concatenate list (not \"int\") to list",
     "output_type": "error",
     "traceback": [
      "\u001b[1;31m---------------------------------------------------------------------------\u001b[0m",
      "\u001b[1;31mTypeError\u001b[0m                                 Traceback (most recent call last)",
      "Cell \u001b[1;32mIn[11], line 13\u001b[0m\n\u001b[0;32m     11\u001b[0m \u001b[38;5;28mprint\u001b[39m(add\u001b[38;5;241m.\u001b[39m\u001b[38;5;18m__annotations__\u001b[39m)\n\u001b[0;32m     12\u001b[0m \u001b[38;5;28mprint\u001b[39m(add([\u001b[38;5;241m3\u001b[39m,\u001b[38;5;241m4\u001b[39m,\u001b[38;5;241m67\u001b[39m],[\u001b[38;5;241m5\u001b[39m,\u001b[38;5;241m33\u001b[39m]))\n\u001b[1;32m---> 13\u001b[0m \u001b[38;5;28mprint\u001b[39m(add([\u001b[38;5;241m3\u001b[39m,\u001b[38;5;241m4\u001b[39m,\u001b[38;5;241m67\u001b[39m]))\n",
      "Cell \u001b[1;32mIn[11], line 3\u001b[0m, in \u001b[0;36madd\u001b[1;34m(a, b)\u001b[0m\n\u001b[0;32m      1\u001b[0m \u001b[38;5;28;01mdef\u001b[39;00m \u001b[38;5;21madd\u001b[39m( a: \u001b[38;5;28mint\u001b[39m, b: \u001b[38;5;28mint\u001b[39m \u001b[38;5;241m=\u001b[39m \u001b[38;5;241m0\u001b[39m) \u001b[38;5;241m-\u001b[39m\u001b[38;5;241m>\u001b[39m \u001b[38;5;28mint\u001b[39m:\n\u001b[0;32m      2\u001b[0m     \u001b[38;5;28mprint\u001b[39m(\u001b[38;5;124mf\u001b[39m\u001b[38;5;124m'\u001b[39m\u001b[38;5;124mAdding \u001b[39m\u001b[38;5;132;01m{\u001b[39;00ma\u001b[38;5;132;01m}\u001b[39;00m\u001b[38;5;124m + \u001b[39m\u001b[38;5;132;01m{\u001b[39;00mb\u001b[38;5;132;01m}\u001b[39;00m\u001b[38;5;124m'\u001b[39m)\n\u001b[1;32m----> 3\u001b[0m     \u001b[38;5;28;01mreturn\u001b[39;00m a\u001b[38;5;241m+\u001b[39mb\n",
      "\u001b[1;31mTypeError\u001b[0m: can only concatenate list (not \"int\") to list"
     ]
    }
   ],
   "source": [
    "def add( a: int, b: int = 0) -> int:\n",
    "    print(f'Adding {a} + {b}')\n",
    "    return a+b\n",
    "\n",
    "print(add(12,6))\n",
    "print(add(5,88))\n",
    "print(add(23))\n",
    "\n",
    "print(add('hello','world'))\n",
    "\n",
    "print(add.__annotations__)\n",
    "print(add([3,4,67],[5,33]))\n",
    "print(add([3,4,67]))\n"
   ]
  },
  {
   "cell_type": "code",
   "execution_count": 7,
   "id": "06a324aa-a4a0-42da-97c5-0683a2a69659",
   "metadata": {},
   "outputs": [
    {
     "name": "stdout",
     "output_type": "stream",
     "text": [
      "0 1 1 2 3 5 8 "
     ]
    }
   ],
   "source": [
    "def fib(n):\n",
    "    a, b = 0, 1\n",
    "    while a < n:\n",
    "        yield a\n",
    "        a, b = b, a+b\n",
    "for x in fib(10):\n",
    "    print(x,end=' ')"
   ]
  },
  {
   "cell_type": "code",
   "execution_count": 9,
   "id": "313121a2-23f8-4c30-9204-ae5221d594e7",
   "metadata": {},
   "outputs": [],
   "source": [
    "from collections.abc import Iterator\n",
    "def fib(n: int) -> Iterator[int]:\n",
    "    a, b = 0, 1\n",
    "    while a < n:\n",
    "        yield a\n",
    "        a, b = b, a+b"
   ]
  },
  {
   "cell_type": "code",
   "execution_count": 20,
   "id": "5cf3eaea-ec68-4d31-9813-8c2e345bd799",
   "metadata": {},
   "outputs": [
    {
     "name": "stdout",
     "output_type": "stream",
     "text": [
      "30000\n"
     ]
    }
   ],
   "source": [
    "from dataclasses import dataclass\n",
    "\n",
    "@dataclass\n",
    "class InventoryItem:\n",
    "    '''Class for keeping track of an item in inventory.'''\n",
    "    name: int\n",
    "    unit_price: float\n",
    "    quantity_on_hand: int = 0\n",
    "\n",
    "    def total_cost(self) -> float:\n",
    "        return self.unit_price * self.quantity_on_hand\n",
    "notebook=InventoryItem('HP notebook',10_000,3)\n",
    "print(notebook.total_cost())"
   ]
  },
  {
   "cell_type": "code",
   "execution_count": 14,
   "id": "c72134cd-b556-4cc9-8267-fbc16b8b7eb7",
   "metadata": {},
   "outputs": [
    {
     "name": "stdout",
     "output_type": "stream",
     "text": [
      "30000\n"
     ]
    }
   ],
   "source": [
    "class InventoryItem:\n",
    "    def __init__(self,name,unit_price,quantity_on_hand=0):\n",
    "        self.name=name\n",
    "        self.unit_price = unit_price\n",
    "        self.quantity_on_hand=quantity_on_hand\n",
    "    def total_cost(self) -> float:\n",
    "        return self.unit_price * self.quantity_on_hand\n",
    "notebook=InventoryItem('HP notebook',10_000,3)\n",
    "print(notebook.total_cost())"
   ]
  },
  {
   "cell_type": "code",
   "execution_count": 23,
   "id": "d31f695e-72e8-44c0-8c94-3147edd09737",
   "metadata": {},
   "outputs": [
    {
     "name": "stdout",
     "output_type": "stream",
     "text": [
      "hello <class 'str'>\n",
      "b'world' <class 'bytes'>\n",
      "h 119\n"
     ]
    }
   ],
   "source": [
    "#bytes\n",
    "#bytearray\n",
    "\n",
    "a='hello'\n",
    "print(a,type(a))\n",
    "b=b'world'\n",
    "print(b,type(b))\n",
    "print(a[0],b[0])"
   ]
  },
  {
   "cell_type": "code",
   "execution_count": 28,
   "id": "e62d6b8e-e613-40e4-997a-ba8c43a78213",
   "metadata": {},
   "outputs": [
    {
     "name": "stdout",
     "output_type": "stream",
     "text": [
      "<_io.BufferedReader name='e:\\\\logo.png'>\n",
      "<class 'bytes'> b'\\x89PNG\\r\\n\\x1a\\n\\x00\\x00\\x00\\rIHDR\\x00\\x00\\x00@\\x00\\x00\\x00@\\x08\\x06\\x00\\x00\\x00\\xaaiq\\xde\\x00\\x00\\x00\\x06bKG'\n"
     ]
    }
   ],
   "source": [
    "f=open(r'e:\\logo.png','rb')\n",
    "print(f)\n",
    "content=f.read()\n",
    "print(type(content),content[:40])"
   ]
  },
  {
   "cell_type": "code",
   "execution_count": 29,
   "id": "ef2dfbb4-618d-41ae-a6a9-a926b08f90c7",
   "metadata": {},
   "outputs": [
    {
     "name": "stdout",
     "output_type": "stream",
     "text": [
      "<_io.TextIOWrapper name='e:\\\\logo.png' mode='rt' encoding='cp1252'>\n"
     ]
    },
    {
     "ename": "UnicodeDecodeError",
     "evalue": "'charmap' codec can't decode byte 0x8d in position 117: character maps to <undefined>",
     "output_type": "error",
     "traceback": [
      "\u001b[1;31m---------------------------------------------------------------------------\u001b[0m",
      "\u001b[1;31mUnicodeDecodeError\u001b[0m                        Traceback (most recent call last)",
      "Cell \u001b[1;32mIn[29], line 3\u001b[0m\n\u001b[0;32m      1\u001b[0m f\u001b[38;5;241m=\u001b[39m\u001b[38;5;28mopen\u001b[39m(\u001b[38;5;124mr\u001b[39m\u001b[38;5;124m'\u001b[39m\u001b[38;5;124me:\u001b[39m\u001b[38;5;124m\\\u001b[39m\u001b[38;5;124mlogo.png\u001b[39m\u001b[38;5;124m'\u001b[39m,\u001b[38;5;124m'\u001b[39m\u001b[38;5;124mrt\u001b[39m\u001b[38;5;124m'\u001b[39m)\n\u001b[0;32m      2\u001b[0m \u001b[38;5;28mprint\u001b[39m(f)\n\u001b[1;32m----> 3\u001b[0m content\u001b[38;5;241m=\u001b[39mf\u001b[38;5;241m.\u001b[39mread()\n",
      "File \u001b[1;32m~\\anaconda3\\Lib\\encodings\\cp1252.py:23\u001b[0m, in \u001b[0;36mIncrementalDecoder.decode\u001b[1;34m(self, input, final)\u001b[0m\n\u001b[0;32m     22\u001b[0m \u001b[38;5;28;01mdef\u001b[39;00m \u001b[38;5;21mdecode\u001b[39m(\u001b[38;5;28mself\u001b[39m, \u001b[38;5;28minput\u001b[39m, final\u001b[38;5;241m=\u001b[39m\u001b[38;5;28;01mFalse\u001b[39;00m):\n\u001b[1;32m---> 23\u001b[0m     \u001b[38;5;28;01mreturn\u001b[39;00m codecs\u001b[38;5;241m.\u001b[39mcharmap_decode(\u001b[38;5;28minput\u001b[39m,\u001b[38;5;28mself\u001b[39m\u001b[38;5;241m.\u001b[39merrors,decoding_table)[\u001b[38;5;241m0\u001b[39m]\n",
      "\u001b[1;31mUnicodeDecodeError\u001b[0m: 'charmap' codec can't decode byte 0x8d in position 117: character maps to <undefined>"
     ]
    }
   ],
   "source": [
    "f=open(r'e:\\logo.png','rt')\n",
    "print(f)\n",
    "content=f.read()"
   ]
  },
  {
   "cell_type": "code",
   "execution_count": 35,
   "id": "677131fb-cd3e-4502-b1ff-876feefa08e5",
   "metadata": {},
   "outputs": [
    {
     "name": "stdout",
     "output_type": "stream",
     "text": [
      "<_io.BufferedReader name='e:\\\\logo.png'>\n",
      "<class 'bytearray'> 137\n",
      "bytearray(b'\\xffPNG\\r\\n\\x1a\\n\\x00\\x00\\x00\\rIHDR\\x00\\x00\\x00@')\n",
      "['__add__', '__alloc__', '__class__', '__contains__', '__delattr__', '__delitem__', '__dir__', '__doc__', '__eq__', '__format__', '__ge__', '__getattribute__', '__getitem__', '__getstate__', '__gt__', '__hash__', '__iadd__', '__imul__', '__init__', '__init_subclass__', '__iter__', '__le__', '__len__', '__lt__', '__mod__', '__mul__', '__ne__', '__new__', '__reduce__', '__reduce_ex__', '__repr__', '__rmod__', '__rmul__', '__setattr__', '__setitem__', '__sizeof__', '__str__', '__subclasshook__', 'append', 'capitalize', 'center', 'clear', 'copy', 'count', 'decode', 'endswith', 'expandtabs', 'extend', 'find', 'fromhex', 'hex', 'index', 'insert', 'isalnum', 'isalpha', 'isascii', 'isdigit', 'islower', 'isspace', 'istitle', 'isupper', 'join', 'ljust', 'lower', 'lstrip', 'maketrans', 'partition', 'pop', 'remove', 'removeprefix', 'removesuffix', 'replace', 'reverse', 'rfind', 'rindex', 'rjust', 'rpartition', 'rsplit', 'rstrip', 'split', 'splitlines', 'startswith', 'strip', 'swapcase', 'title', 'translate', 'upper', 'zfill']\n"
     ]
    }
   ],
   "source": [
    "f=open(r'e:\\logo.png','rb')\n",
    "print(f)\n",
    "content=f.read()\n",
    "#print(type(content),content[:40])\n",
    "x=bytearray(content)\n",
    "print(type(x),x[0])\n",
    "x[0]=255\n",
    "print(x[:20])\n",
    "print(dir(bytearray))"
   ]
  },
  {
   "cell_type": "code",
   "execution_count": null,
   "id": "0a86238d-63f1-48e3-87ca-7105286e2d1d",
   "metadata": {},
   "outputs": [],
   "source": [
    "#review of builtins ..\n",
    "#expressions\n",
    "+ - * func_call(), x[1], x.y, lambda, (3+4)*2, \n",
    "list comprehension/set/dict comp\n",
    "\n",
    "print([x**2 for x in [3,4,5]])\n"
   ]
  },
  {
   "cell_type": "code",
   "execution_count": null,
   "id": "af5a9d62-5aaf-4040-8809-26d57b170fc2",
   "metadata": {},
   "outputs": [],
   "source": [
    "#compound stmts\n",
    "if, for, while, match, try, with, def, class, async def, "
   ]
  },
  {
   "cell_type": "code",
   "execution_count": null,
   "id": "67f5ebd9-93a6-49d8-b2fc-1359fc7151bb",
   "metadata": {},
   "outputs": [],
   "source": [
    "#modules\n",
    "#batteries included\n",
    "sys, os, shutil, math, , copy.deepcopy, xml, json\n",
    "# third party packages\n",
    "....???????????????? pandas, numpy, scipy, keras, requests, flask, \"database modules\" , "
   ]
  }
 ],
 "metadata": {
  "kernelspec": {
   "display_name": "Python 3 (ipykernel)",
   "language": "python",
   "name": "python3"
  },
  "language_info": {
   "codemirror_mode": {
    "name": "ipython",
    "version": 3
   },
   "file_extension": ".py",
   "mimetype": "text/x-python",
   "name": "python",
   "nbconvert_exporter": "python",
   "pygments_lexer": "ipython3",
   "version": "3.11.7"
  }
 },
 "nbformat": 4,
 "nbformat_minor": 5
}
