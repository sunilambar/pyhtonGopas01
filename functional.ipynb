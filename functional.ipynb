{
 "cells": [
  {
   "cell_type": "code",
   "execution_count": 8,
   "metadata": {},
   "outputs": [
    {
     "name": "stdout",
     "output_type": "stream",
     "text": [
      "[6, 12, 156, 46]\n"
     ]
    }
   ],
   "source": [
    "#functional programming\n",
    "n=[3,6,78,23]\n",
    "x=(map(lambda x:x*2,n))\n",
    "print(list(x))"
   ]
  },
  {
   "cell_type": "code",
   "execution_count": 22,
   "metadata": {},
   "outputs": [
    {
     "ename": "TypeError",
     "evalue": "'generator' object is not callable",
     "output_type": "error",
     "traceback": [
      "\u001b[1;31m---------------------------------------------------------------------------\u001b[0m",
      "\u001b[1;31mTypeError\u001b[0m                                 Traceback (most recent call last)",
      "Cell \u001b[1;32mIn[22], line 6\u001b[0m\n\u001b[0;32m      3\u001b[0m     \u001b[38;5;28;01myield\u001b[39;00m x\u001b[38;5;241m*\u001b[39m\u001b[38;5;241m2\u001b[39m\n\u001b[0;32m      5\u001b[0m x\u001b[38;5;241m=\u001b[39m\u001b[38;5;28mmap\u001b[39m(power2(x),n)\n\u001b[1;32m----> 6\u001b[0m \u001b[38;5;28mprint\u001b[39m(\u001b[38;5;28;43mlist\u001b[39;49m\u001b[43m(\u001b[49m\u001b[43mx\u001b[49m\u001b[43m)\u001b[49m)\n",
      "\u001b[1;31mTypeError\u001b[0m: 'generator' object is not callable"
     ]
    }
   ],
   "source": [
    "def power2(x):\n",
    "    print(f\"Called power2 with arguement  {x} \")\n",
    "    yield x*2\n",
    "\n",
    "x=map(power2(x),n)\n",
    "print(list(x))\n"
   ]
  },
  {
   "cell_type": "code",
   "execution_count": 24,
   "metadata": {},
   "outputs": [
    {
     "name": "stdout",
     "output_type": "stream",
     "text": [
      "{3: 9, 6: 36, 78: 6084, 23: 529}\n"
     ]
    }
   ],
   "source": [
    "n=[3,6,78,23]\n",
    "d={x:x**2 for x in n} #dictionary comprehension\n",
    "print(d)"
   ]
  },
  {
   "cell_type": "code",
   "execution_count": 25,
   "metadata": {},
   "outputs": [
    {
     "name": "stdout",
     "output_type": "stream",
     "text": [
      "{3: 9, 6: 36, 78: 6084, 23: 529}\n"
     ]
    }
   ],
   "source": [
    "n=[3,6,78,23]\n",
    "d={}\n",
    "for x in n:\n",
    "    d[x]=x**2\n",
    "print(d)    "
   ]
  },
  {
   "cell_type": "code",
   "execution_count": 28,
   "metadata": {},
   "outputs": [
    {
     "name": "stdout",
     "output_type": "stream",
     "text": [
      "{9, 6084, 36, 529}\n"
     ]
    }
   ],
   "source": [
    "d={3: 9, 6: 36, 78: 6084, 23: 529}\n",
    "s={x for x in d.values()}\n",
    "print(s)"
   ]
  },
  {
   "cell_type": "code",
   "execution_count": 32,
   "metadata": {},
   "outputs": [
    {
     "name": "stdout",
     "output_type": "stream",
     "text": [
      "Brno\n",
      "Brno\n"
     ]
    }
   ],
   "source": [
    "t=('CZ', 'Brno', 390_000)\n",
    "def second_element(x):\n",
    "       return x[1]   \n",
    "\n",
    "print(second_element(t))\n",
    "\n",
    "import operator\n",
    "f = operator.itemgetter(1) # 1 is index\n",
    "print(f(t))"
   ]
  },
  {
   "cell_type": "code",
   "execution_count": 35,
   "metadata": {},
   "outputs": [
    {
     "name": "stdout",
     "output_type": "stream",
     "text": [
      "160\n"
     ]
    }
   ],
   "source": [
    "data_list1=[4,5,7]\n",
    "data_list2=[4,53,76]\n",
    "data_list3=[4,7]\n",
    "import itertools\n",
    "total=0\n",
    "for value in itertools.chain(data_list1,data_list2,data_list3):\n",
    "  total+=value\n",
    "\n",
    "print(total)"
   ]
  },
  {
   "cell_type": "code",
   "execution_count": 37,
   "metadata": {},
   "outputs": [
    {
     "name": "stdout",
     "output_type": "stream",
     "text": [
      "a\n",
      "s\n",
      "s\n"
     ]
    }
   ],
   "source": [
    "s = lambda x:\"a\" if x == 1 else 's'\n",
    "print(s(1))\n",
    "print(s(2))\n",
    "print(s(0))"
   ]
  },
  {
   "cell_type": "code",
   "execution_count": null,
   "metadata": {},
   "outputs": [],
   "source": []
  }
 ],
 "metadata": {
  "kernelspec": {
   "display_name": "Python 3",
   "language": "python",
   "name": "python3"
  },
  "language_info": {
   "codemirror_mode": {
    "name": "ipython",
    "version": 3
   },
   "file_extension": ".py",
   "mimetype": "text/x-python",
   "name": "python",
   "nbconvert_exporter": "python",
   "pygments_lexer": "ipython3",
   "version": "3.12.2"
  }
 },
 "nbformat": 4,
 "nbformat_minor": 2
}
